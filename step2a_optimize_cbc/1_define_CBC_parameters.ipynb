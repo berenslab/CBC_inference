{
 "cells": [
  {
   "cell_type": "markdown",
   "metadata": {},
   "source": [
    "# Create cell parameters for the CBC models"
   ]
  },
  {
   "cell_type": "code",
   "execution_count": null,
   "metadata": {},
   "outputs": [],
   "source": [
    "import sys\n",
    "import os"
   ]
  },
  {
   "cell_type": "code",
   "execution_count": null,
   "metadata": {},
   "outputs": [],
   "source": [
    "pythoncodepath = os.path.abspath(os.path.join('..', 'pythoncode'))\n",
    "sys.path = [pythoncodepath] + sys.path\n",
    "import importhelper\n",
    "importhelper.addfolders2path(pythoncodepath)"
   ]
  },
  {
   "cell_type": "code",
   "execution_count": null,
   "metadata": {},
   "outputs": [],
   "source": [
    "import data_utils"
   ]
  },
  {
   "cell_type": "markdown",
   "metadata": {},
   "source": [
    "# General params"
   ]
  },
  {
   "cell_type": "code",
   "execution_count": null,
   "metadata": {},
   "outputs": [],
   "source": [
    "outputfolder = 'cell_params'\n",
    "data_utils.make_dir(outputfolder)"
   ]
  },
  {
   "cell_type": "markdown",
   "metadata": {},
   "source": [
    "## Cell params"
   ]
  },
  {
   "cell_type": "code",
   "execution_count": null,
   "metadata": {},
   "outputs": [],
   "source": [
    "general_cell_params_default = {\n",
    "    'n_c_bp':     2,\n",
    "    'set_dscaeg': 2,\n",
    "    \n",
    "    'syn_cc':     1,   \n",
    "    \n",
    "    'b_rrp':      7,\n",
    "    'bp_gain':    1,\n",
    "    \n",
    "    'bp_vrev':    -55,\n",
    "    'bp_vst':     -60,\n",
    "    \n",
    "    'bp_rm':      20,\n",
    "    'bp_ri':      132,\n",
    "    'bp_cm':      1.18,\n",
    "}"
   ]
  },
  {
   "cell_type": "code",
   "execution_count": null,
   "metadata": {},
   "outputs": [],
   "source": [
    "general_params_unit = {\n",
    "    'syn_cc':    1e-3,\n",
    "    \n",
    "    'bp_vrev':   1e-3,\n",
    "    'bp_vst':    1e-3,\n",
    "    \n",
    "    'bp_rm':     1e3,\n",
    "    'bp_cm':     1e-6,\n",
    "}"
   ]
  },
  {
   "cell_type": "markdown",
   "metadata": {},
   "source": [
    "## Opt params"
   ]
  },
  {
   "cell_type": "code",
   "execution_count": null,
   "metadata": {},
   "outputs": [],
   "source": [
    "general_opt_params_range = {\n",
    "    'b_rrp':      (4,  15),\n",
    "    'bp_gain':    (0.5, 3),\n",
    "    'bp_vrev':    (-90, -50),\n",
    "    'bp_rm':      (1,  100),\n",
    "    'bp_cm':      (0.9, 1.3),\n",
    "}"
   ]
  },
  {
   "cell_type": "code",
   "execution_count": null,
   "metadata": {},
   "outputs": [],
   "source": [
    "general_opt_params_default = {\n",
    "    'b_rrp':      8,\n",
    "    'bp_gain':    1,\n",
    "    \n",
    "    'bp_vrev':    -70,\n",
    "    \n",
    "    'bp_rm':      26,\n",
    "    'bp_cm':      1.18,\n",
    "}"
   ]
  },
  {
   "cell_type": "markdown",
   "metadata": {},
   "source": [
    "# CBC3a"
   ]
  },
  {
   "cell_type": "markdown",
   "metadata": {},
   "source": [
    "## Cell params"
   ]
  },
  {
   "cell_type": "markdown",
   "metadata": {},
   "source": [
    "### Default"
   ]
  },
  {
   "cell_type": "code",
   "execution_count": null,
   "metadata": {},
   "outputs": [],
   "source": [
    "cbc3a_params_default = {\n",
    "    'cd_Kv_d':    0.1,\n",
    "    'cd_Kv_pa':   0.1,\n",
    "    'cd_Kv_a':    0.1,\n",
    "    'cd_Kir':     0.1,\n",
    "    'cd_H4_d':    1,\n",
    "    'cd_H4_s':    1,\n",
    "    'cd_H4_at':   3,\n",
    "    'cd_N':       2.0,\n",
    "    'cd_L_s':     0.5,\n",
    "    'cd_L_at':    0.5,\n",
    "    'cd_T_s':     0.5,\n",
    "    'cd_T_at':    0.5,\n",
    "    'cd_P_s':     10,\n",
    "    'cd_P_at':    10,\n",
    "    'ca_PK':      1,\n",
    "    \n",
    "    'c_L_off':    0,\n",
    "    'c_L_taua':   1,\n",
    "    \n",
    "    'c_T_off':    0,\n",
    "    'c_T_taua':   1,\n",
    "    \n",
    "    'c_N_offm':   -5,\n",
    "    'c_N_offh':   0,\n",
    "    'c_N_tau':    1.2,\n",
    "    \n",
    "    'c_Kir_off':  0,\n",
    "    \n",
    "    'c_Kv_taua':  1,\n",
    "    'c_Kv_off':   0,\n",
    "    \n",
    "    'r_tauc':     5,   \n",
    "}\n",
    "\n",
    "cbc3a_params_default.update(general_cell_params_default.copy())"
   ]
  },
  {
   "cell_type": "markdown",
   "metadata": {},
   "source": [
    "### Units"
   ]
  },
  {
   "cell_type": "code",
   "execution_count": null,
   "metadata": {},
   "outputs": [],
   "source": [
    "# Define parameters units. \n",
    "cbc3a_params_unit = {\n",
    "    \n",
    "    'cd_Kv_d':   1e-3,\n",
    "    'cd_Kv_pa':  1e-3,\n",
    "    'cd_Kv_a':   1e-3,\n",
    "    'cd_Kir':    1e-3,\n",
    "    'cd_H4_d':   1e-3,\n",
    "    'cd_H4_s':   1e-3,\n",
    "    'cd_H4_at':  1e-3,\n",
    "    'cd_N':      1e-3,\n",
    "    'cd_L_s':    1e-3,\n",
    "    'cd_L_at':   1e-3,\n",
    "    'cd_T_s':    1e-3,\n",
    "    'cd_T_at':   1e-3,\n",
    "    \n",
    "    'cd_P_s':    1e-6,\n",
    "    'cd_P_at':   1e-6,\n",
    "    'ca_PK':     1e-6,\n",
    "    \n",
    "    'c_L_off':   1e-3,\n",
    "    'c_T_off':   1e-3,\n",
    "    'c_Kir_off': 1e-3,\n",
    "    'c_N_offm':  1e-3,\n",
    "    'c_N_offh':  1e-3,\n",
    "    'c_Kv_off':  1e-3,\n",
    "}\n",
    "\n",
    "cbc3a_params_unit.update(general_params_unit.copy())\n",
    "\n",
    "for param in cbc3a_params_unit:\n",
    "    assert param in cbc3a_params_default, param\n",
    "    \n",
    "for param in cbc3a_params_default:\n",
    "    if param not in cbc3a_params_unit:\n",
    "        print(param, 'has not unit')"
   ]
  },
  {
   "cell_type": "markdown",
   "metadata": {},
   "source": [
    "### Save"
   ]
  },
  {
   "cell_type": "code",
   "execution_count": null,
   "metadata": {},
   "outputs": [],
   "source": [
    "data_utils.save_var(cbc3a_params_default, os.path.join(outputfolder, 'CBC3a_cell_params_default.pkl'))\n",
    "data_utils.save_var(cbc3a_params_unit, os.path.join(outputfolder, 'CBC3a_cell_params_unit.pkl'))"
   ]
  },
  {
   "cell_type": "markdown",
   "metadata": {},
   "source": [
    "## Opt params"
   ]
  },
  {
   "cell_type": "markdown",
   "metadata": {},
   "source": [
    "### Range"
   ]
  },
  {
   "cell_type": "code",
   "execution_count": null,
   "metadata": {},
   "outputs": [],
   "source": [
    "cbc3a_opt_params_range = {\n",
    "    \n",
    "    'syn_cc':     (0.05, 1),   \n",
    "    \n",
    "    'cd_Kv_d':    (0,    2),\n",
    "    'cd_Kv_pa':   (0,    2),\n",
    "    'cd_Kv_a':    (0,    2),\n",
    "    'cd_Kir':     (0,    2),\n",
    "    'cd_H4_d':    (0,    2),\n",
    "    'cd_H4_s':    (0,    2),\n",
    "    'cd_H4_at':   (0,    2),\n",
    "    'cd_N':       (0,    100),\n",
    "    'cd_L_s':     (0.0,  3),\n",
    "    'cd_L_at':    (0.1,  3),\n",
    "    'cd_T_s':     (0.0,  3),\n",
    "    'cd_T_at':    (0.0,  3),\n",
    "    'cd_P_s':     (0.1,  100),\n",
    "    'cd_P_at':    (0.1,  100),\n",
    "    'ca_PK':      (0.1,  100),\n",
    "    \n",
    "    'c_L_off':    (-10, 10),\n",
    "    'c_L_taua':   (0.5, 2),\n",
    "    \n",
    "    'c_T_off':    (-10, 10),\n",
    "    'c_T_taua':   (0.5, 2),\n",
    "    \n",
    "    'c_N_offm':   (-5, 5),\n",
    "    'c_N_offh':   (-5, 5),\n",
    "    'c_N_tau':    (0.5, 2),\n",
    "    \n",
    "    'c_Kir_off':  (-5, 5),\n",
    "    \n",
    "    'c_Kv_off':   (-10, 10),\n",
    "    'c_Kv_taua':  (0.1, 10),\n",
    "    \n",
    "    'r_tauc':     (1,   20),\n",
    "}\n",
    "\n",
    "cbc3a_opt_params_range.update(general_opt_params_range.copy())\n",
    "\n",
    "for param in cbc3a_opt_params_range:\n",
    "    assert param in cbc3a_params_default, param\n",
    "    \n",
    "for param in cbc3a_params_default:\n",
    "    if param not in cbc3a_opt_params_range:\n",
    "        print(param.ljust(20), 'has not opt range')"
   ]
  },
  {
   "cell_type": "markdown",
   "metadata": {},
   "source": [
    "### Default"
   ]
  },
  {
   "cell_type": "code",
   "execution_count": null,
   "metadata": {},
   "outputs": [],
   "source": [
    "cbc3a_opt_params_default = {\n",
    "    'syn_cc':     0.5,   \n",
    "    \n",
    "    'cd_Kv_d':    0.4,\n",
    "    'cd_Kv_pa':   0.4,\n",
    "    'cd_Kv_a':    0.4,\n",
    "    'cd_Kir':     1,\n",
    "    'cd_H4_d':    0.2, # For CBC5 from Hellmer 2016. 70 pA @ -150 mV\n",
    "    'cd_H4_s':    0.2, # For CBC5 from Hellmer 2016. 70 pA @ -150 mV\n",
    "    'cd_H4_at':   0.2, # For CBC5 from Hellmer 2016. 70 pA @ -150 mV\n",
    "    'cd_N':       20,  # For CBC5 from Hellmer 2016. 300 pA @ -50 mV\n",
    "    'cd_L_s':     0.5,\n",
    "    'cd_L_at':    0.5,\n",
    "    'cd_T_s':     0.5,\n",
    "    'cd_T_at':    0.5,\n",
    "    'cd_P_s':     10,\n",
    "    'cd_P_at':    10,\n",
    "    'ca_PK':      20,\n",
    "    \n",
    "    'c_L_off':    0,\n",
    "    'c_L_taua':   1,\n",
    "    \n",
    "    'c_T_off':    0,\n",
    "    'c_T_taua':   1,\n",
    "    \n",
    "    'c_N_offm':   0,\n",
    "    'c_N_offh':   0,\n",
    "    'c_N_tau':    1,\n",
    "    \n",
    "    'c_Kir_off':  0,\n",
    "    \n",
    "    'c_Kv_off':   0,\n",
    "    'c_Kv_taua':  1,\n",
    "    \n",
    "    'r_tauc':     5,\n",
    "}\n",
    "\n",
    "cbc3a_opt_params_default.update(general_opt_params_default.copy())\n",
    "\n",
    "for param in cbc3a_opt_params_default:\n",
    "    assert param in cbc3a_opt_params_default, param\n",
    "    \n",
    "for param in cbc3a_opt_params_default:\n",
    "    assert param in cbc3a_opt_params_range, param\n",
    "    \n",
    "for param in cbc3a_params_default:\n",
    "    if param not in cbc3a_opt_params_default:\n",
    "        print(param.ljust(20), 'has not opt default')\n",
    "        assert param not in cbc3a_opt_params_range"
   ]
  },
  {
   "cell_type": "markdown",
   "metadata": {},
   "source": [
    "### Save"
   ]
  },
  {
   "cell_type": "code",
   "execution_count": null,
   "metadata": {},
   "outputs": [],
   "source": [
    "data_utils.save_var(cbc3a_opt_params_default, os.path.join(outputfolder, 'CBC3a_opt_params_default.pkl'))\n",
    "data_utils.save_var(cbc3a_opt_params_range, os.path.join(outputfolder, 'CBC3a_opt_params_range.pkl'))"
   ]
  },
  {
   "cell_type": "markdown",
   "metadata": {},
   "source": [
    "# CBC5o"
   ]
  },
  {
   "cell_type": "markdown",
   "metadata": {},
   "source": [
    "## Cell params"
   ]
  },
  {
   "cell_type": "markdown",
   "metadata": {},
   "source": [
    "### Default"
   ]
  },
  {
   "cell_type": "code",
   "execution_count": null,
   "metadata": {},
   "outputs": [],
   "source": [
    "# Define parameters.\n",
    "cbc5o_params_default = {\n",
    "    'cd_Kv_d':    0.1,\n",
    "    'cd_Kv_pa':   0.1,\n",
    "    'cd_Kv_a':    0.1,\n",
    "    'cd_Kir':     0.1,\n",
    "    'cd_H1_d':    1,\n",
    "    'cd_H1_s':    1,\n",
    "    'cd_H1_at':   3,\n",
    "    'cd_N':       20.0,\n",
    "    'cd_L_s':     0.5,\n",
    "    'cd_L_at':    0.5,\n",
    "    'cd_P_s':     10,\n",
    "    'cd_P_at':    10,\n",
    "    'ca_PK':      1,\n",
    "    \n",
    "    'c_L_off':    0,\n",
    "    'c_L_taua':   1,\n",
    "    \n",
    "    'c_N_offm':   -5,\n",
    "    'c_N_offh':   0,\n",
    "    'c_N_tau':    1.2,\n",
    "    \n",
    "    'c_Kir_off':  0,\n",
    "    \n",
    "    'c_Kv_taua':  1,\n",
    "    'c_Kv_off':   0,\n",
    "}\n",
    "\n",
    "cbc5o_params_default.update(general_cell_params_default.copy())"
   ]
  },
  {
   "cell_type": "markdown",
   "metadata": {},
   "source": [
    "### Units"
   ]
  },
  {
   "cell_type": "code",
   "execution_count": null,
   "metadata": {},
   "outputs": [],
   "source": [
    "# Define parameters units. \n",
    "cbc5o_params_unit = {\n",
    "    \n",
    "    'cd_Kv_d':   1e-3,\n",
    "    'cd_Kv_pa':  1e-3,\n",
    "    'cd_Kv_a':   1e-3,\n",
    "    'cd_Kir':    1e-3,\n",
    "    'cd_H1_d':   1e-3,\n",
    "    'cd_H1_s':   1e-3,\n",
    "    'cd_H1_at':  1e-3,\n",
    "    'cd_N':      1e-3,\n",
    "    'cd_L_s':    1e-3,\n",
    "    'cd_L_at':   1e-3,\n",
    "    \n",
    "    'cd_P_s':    1e-6,\n",
    "    'cd_P_at':   1e-6,\n",
    "    'ca_PK':     1e-6,\n",
    "    \n",
    "    'c_L_off':   1e-3,\n",
    "    'c_Kir_off': 1e-3,\n",
    "    'c_N_offm':  1e-3,\n",
    "    'c_N_offh':  1e-3,\n",
    "    'c_Kv_off':  1e-3,\n",
    "}\n",
    "\n",
    "cbc5o_params_unit.update(general_params_unit.copy())\n",
    "\n",
    "for param in cbc5o_params_unit:\n",
    "    assert param in cbc5o_params_default, param\n",
    "    \n",
    "for param in cbc5o_params_default:\n",
    "    if param not in cbc5o_params_unit:\n",
    "        print(param.ljust(20), 'has not unit')"
   ]
  },
  {
   "cell_type": "markdown",
   "metadata": {},
   "source": [
    "### Save"
   ]
  },
  {
   "cell_type": "code",
   "execution_count": null,
   "metadata": {},
   "outputs": [],
   "source": [
    "data_utils.save_var(cbc5o_params_default, os.path.join(outputfolder, 'CBC5o_cell_params_default.pkl'))\n",
    "data_utils.save_var(cbc5o_params_unit, os.path.join(outputfolder, 'CBC5o_cell_params_unit.pkl'))"
   ]
  },
  {
   "cell_type": "markdown",
   "metadata": {},
   "source": [
    "## Opt params"
   ]
  },
  {
   "cell_type": "markdown",
   "metadata": {},
   "source": [
    "### Range"
   ]
  },
  {
   "cell_type": "code",
   "execution_count": null,
   "metadata": {},
   "outputs": [],
   "source": [
    "cbc5o_opt_params_range = {\n",
    "    'syn_cc':     (1, 3),   \n",
    "    \n",
    "    'cd_Kv_d':    (0,    2),\n",
    "    'cd_Kv_pa':   (0,    2),\n",
    "    'cd_Kv_a':    (0,    2),\n",
    "    'cd_Kir':     (0,    2),\n",
    "    'cd_H1_d':    (0,    2),\n",
    "    'cd_H1_s':    (0,    2),\n",
    "    'cd_H1_at':   (0,    2),\n",
    "    'cd_N':       (0,    100),\n",
    "    'cd_L_s':     (0.0,  3),\n",
    "    'cd_L_at':    (0.1,  3),\n",
    "    'cd_P_s':     (0.1,  100),\n",
    "    'cd_P_at':    (0.1,  100),\n",
    "    'ca_PK':      (0.01, 100),\n",
    "\n",
    "    'ca_PK':      (0.01, 100),\n",
    "    \n",
    "    'c_L_off':    (-10, 10),\n",
    "    'c_L_taua':   (0.5, 2),\n",
    "    \n",
    "    'c_N_offm':   (-5, 5),\n",
    "    'c_N_offh':   (-5, 5),\n",
    "    'c_N_tau':    (0.5, 2),\n",
    "    \n",
    "    'c_Kir_off':  (-5, 5),\n",
    "    \n",
    "    'c_Kv_off':   (-10, 10),\n",
    "    'c_Kv_taua':  (0.1, 10),\n",
    "}\n",
    "\n",
    "cbc5o_opt_params_range.update(general_opt_params_range.copy())\n",
    "\n",
    "for param in cbc5o_opt_params_range:\n",
    "    assert param in cbc5o_params_default, param\n",
    "    \n",
    "for param in cbc5o_params_default:\n",
    "    if param not in cbc5o_opt_params_range:\n",
    "        print(param.ljust(20), 'has not opt range')"
   ]
  },
  {
   "cell_type": "markdown",
   "metadata": {},
   "source": [
    "### Default"
   ]
  },
  {
   "cell_type": "code",
   "execution_count": null,
   "metadata": {},
   "outputs": [],
   "source": [
    "cbc5o_opt_params_default = {    \n",
    "    'syn_cc':     1.5,\n",
    "    \n",
    "    'cd_Kv_d':    0.4,\n",
    "    'cd_Kv_pa':   0.4,\n",
    "    'cd_Kv_a':    0.4,\n",
    "    'cd_Kir':     1,\n",
    "    'cd_H1_d':    0.2, # Hellmer 2016. 70 pA @ -150 mV\n",
    "    'cd_H1_s':    0.2, # Hellmer 2016. 70 pA @ -150 mV\n",
    "    'cd_H1_at':   0.2, # Hellmer 2016. 70 pA @ -150 mV\n",
    "    'cd_N':       20,  # Hellmer 2016. 300 pA @ -50 mV\n",
    "    'cd_L_s':     0.5,\n",
    "    'cd_L_at':    0.5,\n",
    "    'cd_P_s':     10,\n",
    "    'cd_P_at':    10,\n",
    "    'ca_PK':      20,\n",
    "    \n",
    "    'c_L_off':    0,\n",
    "    'c_L_taua':   1,\n",
    "    \n",
    "    'c_N_offm':   0,\n",
    "    'c_N_offh':   0,\n",
    "    'c_N_tau':    1,\n",
    "    \n",
    "    'c_Kir_off':  0,\n",
    "    \n",
    "    'c_Kv_off':   0,\n",
    "    'c_Kv_taua':  1,\n",
    "}\n",
    "\n",
    "cbc5o_opt_params_default.update(general_opt_params_default.copy())\n",
    "\n",
    "for param in cbc5o_opt_params_default:\n",
    "    assert param in cbc5o_opt_params_default, param\n",
    "    \n",
    "for param in cbc5o_opt_params_default:\n",
    "    assert param in cbc5o_opt_params_range, param\n",
    "    \n",
    "for param in cbc5o_params_default:\n",
    "    if param not in cbc5o_opt_params_default:\n",
    "        print(param.ljust(20), 'has not opt default')\n",
    "        assert param not in cbc5o_opt_params_range, param"
   ]
  },
  {
   "cell_type": "markdown",
   "metadata": {},
   "source": [
    "### Save"
   ]
  },
  {
   "cell_type": "code",
   "execution_count": null,
   "metadata": {},
   "outputs": [],
   "source": [
    "data_utils.save_var(cbc5o_opt_params_default, os.path.join(outputfolder, 'CBC5o_opt_params_default.pkl'))\n",
    "data_utils.save_var(cbc5o_opt_params_range, os.path.join(outputfolder, 'CBC5o_opt_params_range.pkl'))"
   ]
  },
  {
   "cell_type": "code",
   "execution_count": null,
   "metadata": {},
   "outputs": [],
   "source": []
  },
  {
   "cell_type": "code",
   "execution_count": null,
   "metadata": {},
   "outputs": [],
   "source": []
  }
 ],
 "metadata": {
  "hide_input": false,
  "kernelspec": {
   "display_name": "Python 3",
   "language": "python",
   "name": "python3"
  },
  "language_info": {
   "codemirror_mode": {
    "name": "ipython",
    "version": 3
   },
   "file_extension": ".py",
   "mimetype": "text/x-python",
   "name": "python",
   "nbconvert_exporter": "python",
   "pygments_lexer": "ipython3",
   "version": "3.7.5"
  },
  "toc": {
   "base_numbering": 1,
   "nav_menu": {},
   "number_sections": true,
   "sideBar": true,
   "skip_h1_title": false,
   "title_cell": "Table of Contents",
   "title_sidebar": "Contents",
   "toc_cell": false,
   "toc_position": {
    "height": "calc(100% - 180px)",
    "left": "10px",
    "top": "150px",
    "width": "384px"
   },
   "toc_section_display": true,
   "toc_window_display": true
  },
  "varInspector": {
   "cols": {
    "lenName": 16,
    "lenType": 16,
    "lenVar": 40
   },
   "kernels_config": {
    "python": {
     "delete_cmd_postfix": "",
     "delete_cmd_prefix": "del ",
     "library": "var_list.py",
     "varRefreshCmd": "print(var_dic_list())"
    },
    "r": {
     "delete_cmd_postfix": ") ",
     "delete_cmd_prefix": "rm(",
     "library": "var_list.r",
     "varRefreshCmd": "cat(var_dic_list()) "
    }
   },
   "types_to_exclude": [
    "module",
    "function",
    "builtin_function_or_method",
    "instance",
    "_Feature"
   ],
   "window_display": false
  }
 },
 "nbformat": 4,
 "nbformat_minor": 4
}
