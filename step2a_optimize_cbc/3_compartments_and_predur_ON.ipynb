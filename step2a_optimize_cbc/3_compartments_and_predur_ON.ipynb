{
 "cells": [
  {
   "cell_type": "markdown",
   "metadata": {},
   "source": [
    "# Find a good number of compartments and predur"
   ]
  },
  {
   "cell_type": "code",
   "execution_count": null,
   "metadata": {},
   "outputs": [],
   "source": [
    "import importlib"
   ]
  },
  {
   "cell_type": "code",
   "execution_count": null,
   "metadata": {},
   "outputs": [],
   "source": [
    "import pandas as pd\n",
    "import numpy as np\n",
    "from matplotlib import pyplot as plt\n",
    "import os\n",
    "import sys"
   ]
  },
  {
   "cell_type": "code",
   "execution_count": null,
   "metadata": {},
   "outputs": [],
   "source": [
    "pythoncodepath = os.path.abspath(os.path.join('..', 'pythoncode'))\n",
    "sys.path = [pythoncodepath] + sys.path\n",
    "import importhelper\n",
    "importhelper.addfolders2path(pythoncodepath)"
   ]
  },
  {
   "cell_type": "code",
   "execution_count": null,
   "metadata": {},
   "outputs": [],
   "source": [
    "import data_utils"
   ]
  },
  {
   "cell_type": "code",
   "execution_count": null,
   "metadata": {},
   "outputs": [],
   "source": [
    "import compartments_and_predur_utils as utils"
   ]
  },
  {
   "cell_type": "markdown",
   "metadata": {},
   "source": [
    "# CBC5o"
   ]
  },
  {
   "cell_type": "code",
   "execution_count": null,
   "metadata": {},
   "outputs": [],
   "source": [
    "data_folder = os.path.join('..', 'step0_preprocess_iGluSnFR_data', 'data_preprocessed')\n",
    "stimulus    = pd.read_csv(os.path.join(data_folder, 'Franke2017_stimulus_time_and_amp_corrected.csv'))\n",
    "\n",
    "stimulus.plot(x='Time', figsize=(12,3));"
   ]
  },
  {
   "cell_type": "code",
   "execution_count": null,
   "metadata": {},
   "outputs": [],
   "source": [
    "params_default = data_utils.load_var(os.path.join('cell_params', 'CBC5o_cell_params_default.pkl'))\n",
    "params_unit = data_utils.load_var(os.path.join('cell_params', 'CBC5o_cell_params_unit.pkl'))"
   ]
  },
  {
   "cell_type": "code",
   "execution_count": null,
   "metadata": {},
   "outputs": [],
   "source": [
    "# These functions define the number of compartments for different regions (e.g. 1,2 = Dendrites)\n",
    "# c is the constant, it will be normalized with rm and ri such that changing these parameters does not have an\n",
    "# effect on the compartments.\n",
    "# Note that, if compartment become too small, you will also need a smaller time step or the simulation becomes unstable.\n",
    "# It might eventually crash or at least seem to be very noisy.\n",
    "\n",
    "final_cpl_dict = {\n",
    "    'cpl_1': {\"c\": 0.4,  'rm': 'bp_rm', 'ri': 'bp_ri'},\n",
    "    'cpl_2': {\"c\": 0.15, 'rm': 'bp_rm', 'ri': 'bp_ri'},\n",
    "    'cpl_3': {\"c\": 0.0,  'rm': 'bp_rm', 'ri': 'bp_ri'},\n",
    "    'cpl_4': {\"c\": 0.15, 'rm': 'bp_rm', 'ri': 'bp_ri'},\n",
    "    'cpl_5': {\"c\": 0.15, 'rm': 'bp_rm', 'ri': 'bp_ri'},\n",
    "    'cpl_6': {\"c\": 0.15, 'rm': 'bp_rm', 'ri': 'bp_ri'},\n",
    "    'cpl_7': {\"c\": 0.4,  'rm': 'bp_rm', 'ri': 'bp_ri'},\n",
    "    'cpl_8': {\"c\": 0.3,  'rm': 'bp_rm', 'ri': 'bp_ri'},\n",
    "}\n",
    "\n",
    "params_default.update(final_cpl_dict)"
   ]
  },
  {
   "cell_type": "markdown",
   "metadata": {},
   "source": [
    "## Create cell"
   ]
  },
  {
   "cell_type": "code",
   "execution_count": null,
   "metadata": {},
   "outputs": [],
   "source": [
    "import retsim_cells\n",
    "\n",
    "# Create cell.\n",
    "cell = retsim_cells.CBC(\n",
    "    bp_type = 'CBC5o',\n",
    "    predur=1.0, t_rng=(1.5,2.5),\n",
    "    params_default=params_default, params_unit=params_unit,\n",
    "    stimulus=stimulus, stim_type='Light',\n",
    "    cone_densfile       = 'dens_cone_optimized_submission2.n',\n",
    "    bp_densfile         = 'dens_CBC5o_optimize_ON.n',\n",
    "    nval_file           = 'nval_optimize_CBCs.n',\n",
    "    chanparams_file     = 'chanparams_CBC5o_optimize_ON.n',\n",
    "    expt_file_list      = ['test_ON'],\n",
    "    expt_base_file_list = ['retsim_files/expt_CBC_base.cc'],\n",
    "    retsim_path=os.path.abspath(os.path.join('..', 'neuronc', 'models', 'retsim')) + '/'\n",
    ")"
   ]
  },
  {
   "cell_type": "code",
   "execution_count": null,
   "metadata": {},
   "outputs": [],
   "source": [
    "cones_connect_to_nodes = [1077, 980, 1190]\n",
    "\n",
    "# Create c++ file.\n",
    "cell.create_retsim_expt_file(verbose=False, on2cone_nodes=cones_connect_to_nodes)\n",
    "# Compile c++ file.\n",
    "!(cd {cell.retsim_path} && make)"
   ]
  },
  {
   "cell_type": "code",
   "execution_count": null,
   "metadata": {},
   "outputs": [],
   "source": [
    "cell.init_retsim(verbose=True)"
   ]
  },
  {
   "cell_type": "code",
   "execution_count": null,
   "metadata": {},
   "outputs": [],
   "source": [
    "utils.set_and_plot_cpl(cell, final_cpl_dict)"
   ]
  },
  {
   "cell_type": "markdown",
   "metadata": {},
   "source": [
    "## Check how fast resting Vm is reached."
   ]
  },
  {
   "cell_type": "code",
   "execution_count": null,
   "metadata": {},
   "outputs": [],
   "source": [
    "utils.set_and_plot_cpl(\n",
    "    cell,\n",
    "    { \n",
    "        'cpl_1': {\"c\": 4.0, 'rm': 'bp_rm', 'ri': 'bp_ri'},\n",
    "        'cpl_2': {\"c\": 0.5, 'rm': 'bp_rm', 'ri': 'bp_ri'},\n",
    "        'cpl_3': {\"c\": 0.5, 'rm': 'bp_rm', 'ri': 'bp_ri'},\n",
    "        'cpl_4': {\"c\": 0.5, 'rm': 'bp_rm', 'ri': 'bp_ri'},\n",
    "        'cpl_5': {\"c\": 0.5, 'rm': 'bp_rm', 'ri': 'bp_ri'},\n",
    "        'cpl_6': {\"c\": 0.5, 'rm': 'bp_rm', 'ri': 'bp_ri'},\n",
    "        'cpl_7': {\"c\": 4.0, 'rm': 'bp_rm', 'ri': 'bp_ri'},\n",
    "        'cpl_8': {\"c\": 4.0, 'rm': 'bp_rm', 'ri': 'bp_ri'},\n",
    "    }\n",
    ")"
   ]
  },
  {
   "cell_type": "code",
   "execution_count": null,
   "metadata": {},
   "outputs": [],
   "source": [
    "# Set stimulus to background stimulus.\n",
    "cell.stim[0]['Stim'] *= 0\n",
    "plt.plot(cell.stim[0]['Stim'])\n",
    "plt.show()"
   ]
  },
  {
   "cell_type": "code",
   "execution_count": null,
   "metadata": {},
   "outputs": [],
   "source": [
    "cell.rec_type='heatmap_vm'\n",
    "cell.predur = 0.0\n",
    "stimdur = 10\n",
    "\n",
    "cell.update_t_rng(t_rng=(0, 0+stimdur))\n",
    "nopredur_rec_data, nopredur_rec_time, nopredur_rec_stim, tdur = utils.run_and_show_cell(cell, plot=True, verbose=True)\n",
    "print(tdur)"
   ]
  },
  {
   "cell_type": "code",
   "execution_count": null,
   "metadata": {},
   "outputs": [],
   "source": [
    "for col in nopredur_rec_data.columns:\n",
    "    if 'Vm' in col:\n",
    "        utils.plot_reaching_eq(\n",
    "            nopredur_rec_data, nopredur_rec_time,\n",
    "            nopredur_rec_stim, plt_Vm_name=col,\n",
    "            Vm_eq=nopredur_rec_data[col].iloc[-1]\n",
    "        )"
   ]
  },
  {
   "cell_type": "markdown",
   "metadata": {},
   "source": [
    "### Small predur"
   ]
  },
  {
   "cell_type": "code",
   "execution_count": null,
   "metadata": {},
   "outputs": [],
   "source": [
    "cell.rec_type='heatmap_vm'\n",
    "cell.predur = 1.0\n",
    "stimdur = 10\n",
    "\n",
    "cell.update_t_rng(t_rng=(0, 0+stimdur))\n",
    "smallpredur_rec_data, smallpredur_rec_time, smallpredur_rec_stim, tdur = utils.run_and_show_cell(cell, plot=True)\n",
    "print(tdur)"
   ]
  },
  {
   "cell_type": "code",
   "execution_count": null,
   "metadata": {},
   "outputs": [],
   "source": [
    "for col in smallpredur_rec_data.columns:\n",
    "    if 'Vm' in col:\n",
    "        utils.plot_reaching_eq(\n",
    "            smallpredur_rec_data, smallpredur_rec_time,\n",
    "            smallpredur_rec_stim, plt_Vm_name=col,\n",
    "            Vm_eq=nopredur_rec_data[col].iloc[-1]\n",
    "        )"
   ]
  },
  {
   "cell_type": "markdown",
   "metadata": {},
   "source": [
    "### Different predurs"
   ]
  },
  {
   "cell_type": "code",
   "execution_count": null,
   "metadata": {},
   "outputs": [],
   "source": [
    "predur_list = [0.1, 0.5, 1, 3, 4, 5, 6, 10]\n",
    "\n",
    "predur_tdur_list = []\n",
    "predur_rec_data_list = []\n",
    "cell.update_t_rng(t_rng=(0, 0.1))\n",
    "\n",
    "for idx, predur in enumerate(predur_list):\n",
    "    cell.predur = predur\n",
    "    rec_data, rec_time, rec_stim, tdur = utils.run_and_show_cell(cell, plot=idx==0)\n",
    "    print(predur, end='\\t')\n",
    "    \n",
    "    # Save data.\n",
    "    predur_tdur_list.append(tdur)\n",
    "    predur_rec_data_list.append(rec_data)"
   ]
  },
  {
   "cell_type": "code",
   "execution_count": null,
   "metadata": {},
   "outputs": [],
   "source": [
    "importlib.reload(utils)"
   ]
  },
  {
   "cell_type": "code",
   "execution_count": null,
   "metadata": {},
   "outputs": [],
   "source": [
    "utils.plot_params_vs_time_to_Vm_eq(\n",
    "    params=predur_list, rec_data_list=predur_rec_data_list,\n",
    "    Vm_eq=nopredur_rec_data['Vm (4)'].iloc[-1], plt_Vm_name='Vm (4)'\n",
    ")"
   ]
  },
  {
   "cell_type": "code",
   "execution_count": null,
   "metadata": {},
   "outputs": [],
   "source": [
    "utils.plot_params_vs_tdur(params=predur_list, tdur_list=predur_tdur_list)\n",
    "print(f'{predur_tdur_list[-1] / predur_list[-1]:.2f} seconds per predur seconds')"
   ]
  },
  {
   "cell_type": "markdown",
   "metadata": {},
   "source": [
    "### Different stim times"
   ]
  },
  {
   "cell_type": "code",
   "execution_count": null,
   "metadata": {},
   "outputs": [],
   "source": [
    "stimdur_list = [0.1, 0.5, 1, 3, 6]\n",
    "\n",
    "stimdur_tdur_list = []\n",
    "stimdur_rec_data_list = []\n",
    "\n",
    "cell.predur = 0.0\n",
    "\n",
    "for idx, stimdur in enumerate(stimdur_list):   \n",
    "    cell.update_t_rng(t_rng=(0, stimdur))\n",
    "    rec_data, rec_time, rec_stim, tdur = utils.run_and_show_cell(cell, plot=idx==0)\n",
    "    \n",
    "    print(stimdur, end='\\t')\n",
    "    \n",
    "    # Save data.\n",
    "    stimdur_tdur_list.append(tdur)\n",
    "    stimdur_rec_data_list.append(rec_data)"
   ]
  },
  {
   "cell_type": "code",
   "execution_count": null,
   "metadata": {},
   "outputs": [],
   "source": [
    "utils.plot_params_vs_tdur(params=stimdur_list, tdur_list=stimdur_tdur_list)\n",
    "print(f'{stimdur_tdur_list[-1] / stimdur_list[-1]:.2f} seconds per sim seconds')"
   ]
  },
  {
   "cell_type": "markdown",
   "metadata": {},
   "source": [
    "### Different compartments"
   ]
  },
  {
   "cell_type": "code",
   "execution_count": null,
   "metadata": {},
   "outputs": [],
   "source": [
    "utils.set_and_plot_cpl(cell, final_cpl_dict)"
   ]
  },
  {
   "cell_type": "code",
   "execution_count": null,
   "metadata": {},
   "outputs": [],
   "source": [
    "cell.stim[0]['Stim'] *= 0\n",
    "plt.plot(cell.stim[0]['Stim'])\n",
    "plt.show()"
   ]
  },
  {
   "cell_type": "code",
   "execution_count": null,
   "metadata": {},
   "outputs": [],
   "source": [
    "cell.rec_type = 'heatmap_vm'\n",
    "cell.predur = 6.0\n",
    "cell.predur_dt = 1e-4\n",
    "cell.sim_dt = 1e-5\n",
    "stimdur = 1.0\n",
    "\n",
    "cell.update_t_rng(t_rng=(0, 0+stimdur))\n",
    "nopredur_rec_data2, nopredur_rec_time2, nopredur_rec_stim2, tdur = utils.run_and_show_cell(cell, plot=True, verbose=True)\n",
    "print(f'min = {tdur/60}')"
   ]
  },
  {
   "cell_type": "code",
   "execution_count": null,
   "metadata": {},
   "outputs": [],
   "source": [
    "count = 0\n",
    "for col in list(nopredur_rec_data2.columns):\n",
    "    if 'Vm' in col:\n",
    "        utils.plot_reaching_eq(nopredur_rec_data2, nopredur_rec_time2, nopredur_rec_stim2, plt_Vm_name=col)\n",
    "        count += 1\n",
    "        if count > 5: break"
   ]
  },
  {
   "cell_type": "markdown",
   "metadata": {},
   "source": [
    "## Run light step"
   ]
  },
  {
   "cell_type": "code",
   "execution_count": null,
   "metadata": {},
   "outputs": [],
   "source": [
    "cell.stim[0]['Stim'][cell.stim[0]['Time']>0.05] = 0.3\n",
    "cell.stim[0]['Stim'][cell.stim[0]['Time']>0.1] = 1\n",
    "cell.stim[0]['Stim'][cell.stim[0]['Time']>0.15] = 0.0\n",
    "cell.stim[0]['Stim'][cell.stim[0]['Time']>0.2] = 0.8\n",
    "cell.stim[0]['Stim'][cell.stim[0]['Time']>0.25] = 0.5\n",
    "cell.stim[0]['Stim'][cell.stim[0]['Time']>0.3] = 0.0\n",
    "cell.stim[0]['Stim'][cell.stim[0]['Time']>0.35] = 1.0\n",
    "\n",
    "plt.plot(cell.stim[0]['Time'], cell.stim[0]['Stim'])\n",
    "plt.xlim(0, 0.4)\n",
    "plt.show()"
   ]
  },
  {
   "cell_type": "code",
   "execution_count": null,
   "metadata": {},
   "outputs": [],
   "source": [
    "utils.set_and_plot_cpl(cell, final_cpl_dict)"
   ]
  },
  {
   "cell_type": "code",
   "execution_count": null,
   "metadata": {},
   "outputs": [],
   "source": [
    "cell.rec_type='optimize'\n",
    "cell.update_t_rng((0, 0.4))\n",
    "cell.predur = 6.0\n",
    "cell.predur_dt = 1e-4\n",
    "cell.sim_dt = 1e-5"
   ]
  },
  {
   "cell_type": "code",
   "execution_count": null,
   "metadata": {},
   "outputs": [],
   "source": [
    "fc_rec_data, fc_rec_time, fc_stim, tdur = utils.run_and_show_cell(cell, plot=False)\n",
    "print(f'min = {tdur/60}')\n",
    "\n",
    "if fc_rec_data is None:\n",
    "    print('Was None!')\n",
    "    cell.run(verbose=True, plot=True)"
   ]
  },
  {
   "cell_type": "code",
   "execution_count": null,
   "metadata": {},
   "outputs": [],
   "source": [
    "MSEs = utils.compare_to_final_cpl(fc_rec_time, fc_rec_data, fc_rec_data)\n",
    "MSEs"
   ]
  },
  {
   "cell_type": "markdown",
   "metadata": {},
   "source": [
    "### Test different optimize_cpls"
   ]
  },
  {
   "cell_type": "code",
   "execution_count": null,
   "metadata": {},
   "outputs": [],
   "source": [
    "cpl2MSE = []"
   ]
  },
  {
   "cell_type": "code",
   "execution_count": null,
   "metadata": {},
   "outputs": [],
   "source": [
    "cpl2MSE.append(utils.run_and_compute_cpl_MSE(cell, {\n",
    "    'cpl_1': {\"c\": 4.0, 'rm': 'bp_rm', 'ri': 'bp_ri'},\n",
    "    'cpl_2': {\"c\": 2.0, 'rm': 'bp_rm', 'ri': 'bp_ri'},\n",
    "    'cpl_3': {\"c\": 2.0, 'rm': 'bp_rm', 'ri': 'bp_ri'},\n",
    "    'cpl_4': {\"c\": 2.0, 'rm': 'bp_rm', 'ri': 'bp_ri'},\n",
    "    'cpl_5': {\"c\": 2.0, 'rm': 'bp_rm', 'ri': 'bp_ri'},\n",
    "    'cpl_6': {\"c\": 2.0, 'rm': 'bp_rm', 'ri': 'bp_ri'},\n",
    "    'cpl_7': {\"c\": 4.0, 'rm': 'bp_rm', 'ri': 'bp_ri'},\n",
    "    'cpl_8': {\"c\": 4.0, 'rm': 'bp_rm', 'ri': 'bp_ri'},\n",
    "}, fc_rec_data))"
   ]
  },
  {
   "cell_type": "code",
   "execution_count": null,
   "metadata": {},
   "outputs": [],
   "source": [
    "cpl2MSE.append(utils.run_and_compute_cpl_MSE(cell, {\n",
    "    'cpl_1': {\"c\": 4.0, 'rm': 'bp_rm', 'ri': 'bp_ri'},\n",
    "    'cpl_2': {\"c\": 0.5, 'rm': 'bp_rm', 'ri': 'bp_ri'},\n",
    "    'cpl_3': {\"c\": 0.0, 'rm': 'bp_rm', 'ri': 'bp_ri'},\n",
    "    'cpl_4': {\"c\": 0.5, 'rm': 'bp_rm', 'ri': 'bp_ri'},\n",
    "    'cpl_5': {\"c\": 0.5, 'rm': 'bp_rm', 'ri': 'bp_ri'},\n",
    "    'cpl_6': {\"c\": 0.5, 'rm': 'bp_rm', 'ri': 'bp_ri'},\n",
    "    'cpl_7': {\"c\": 4.0, 'rm': 'bp_rm', 'ri': 'bp_ri'},\n",
    "    'cpl_8': {\"c\": 4.0, 'rm': 'bp_rm', 'ri': 'bp_ri'},\n",
    "}, fc_rec_data))"
   ]
  },
  {
   "cell_type": "code",
   "execution_count": null,
   "metadata": {},
   "outputs": [],
   "source": [
    "cpl2MSE.append(utils.run_and_compute_cpl_MSE(cell, {\n",
    "    'cpl_1': {\"c\": 3.0, 'rm': 'bp_rm', 'ri': 'bp_ri'},\n",
    "    'cpl_2': {\"c\": 0.5, 'rm': 'bp_rm', 'ri': 'bp_ri'},\n",
    "    'cpl_3': {\"c\": 0.0, 'rm': 'bp_rm', 'ri': 'bp_ri'},\n",
    "    'cpl_4': {\"c\": 0.5, 'rm': 'bp_rm', 'ri': 'bp_ri'},\n",
    "    'cpl_5': {\"c\": 0.5, 'rm': 'bp_rm', 'ri': 'bp_ri'},\n",
    "    'cpl_6': {\"c\": 0.5, 'rm': 'bp_rm', 'ri': 'bp_ri'},\n",
    "    'cpl_7': {\"c\": 3.0, 'rm': 'bp_rm', 'ri': 'bp_ri'},\n",
    "    'cpl_8': {\"c\": 3.0, 'rm': 'bp_rm', 'ri': 'bp_ri'},\n",
    "}, fc_rec_data))"
   ]
  },
  {
   "cell_type": "code",
   "execution_count": null,
   "metadata": {},
   "outputs": [],
   "source": [
    "cpl2MSE.append(utils.run_and_compute_cpl_MSE(cell, {\n",
    "    'cpl_1': {\"c\": 4.0, 'rm': 'bp_rm', 'ri': 'bp_ri'},\n",
    "    'cpl_2': {\"c\": 0.5, 'rm': 'bp_rm', 'ri': 'bp_ri'},\n",
    "    'cpl_3': {\"c\": 0.0, 'rm': 'bp_rm', 'ri': 'bp_ri'},\n",
    "    'cpl_4': {\"c\": 0.5, 'rm': 'bp_rm', 'ri': 'bp_ri'},\n",
    "    'cpl_5': {\"c\": 0.5, 'rm': 'bp_rm', 'ri': 'bp_ri'},\n",
    "    'cpl_6': {\"c\": 0.5, 'rm': 'bp_rm', 'ri': 'bp_ri'},\n",
    "    'cpl_7': {\"c\": 3.5, 'rm': 'bp_rm', 'ri': 'bp_ri'},\n",
    "    'cpl_8': {\"c\": 3.5, 'rm': 'bp_rm', 'ri': 'bp_ri'},\n",
    "}, fc_rec_data))"
   ]
  },
  {
   "cell_type": "code",
   "execution_count": null,
   "metadata": {},
   "outputs": [],
   "source": [
    "cpl2MSE.append(utils.run_and_compute_cpl_MSE(cell, {\n",
    "    'cpl_1': {\"c\": 2.0, 'rm': 'bp_rm', 'ri': 'bp_ri'},\n",
    "    'cpl_2': {\"c\": 0.4, 'rm': 'bp_rm', 'ri': 'bp_ri'},\n",
    "    'cpl_3': {\"c\": 0.0, 'rm': 'bp_rm', 'ri': 'bp_ri'},\n",
    "    'cpl_4': {\"c\": 0.3, 'rm': 'bp_rm', 'ri': 'bp_ri'},\n",
    "    'cpl_5': {\"c\": 0.3, 'rm': 'bp_rm', 'ri': 'bp_ri'},\n",
    "    'cpl_6': {\"c\": 0.3, 'rm': 'bp_rm', 'ri': 'bp_ri'},\n",
    "    'cpl_7': {\"c\": 2.5, 'rm': 'bp_rm', 'ri': 'bp_ri'},\n",
    "    'cpl_8': {\"c\": 2.5, 'rm': 'bp_rm', 'ri': 'bp_ri'},\n",
    "}, fc_rec_data))"
   ]
  },
  {
   "cell_type": "code",
   "execution_count": null,
   "metadata": {},
   "outputs": [],
   "source": [
    "cpl2MSE.append(utils.run_and_compute_cpl_MSE(cell, {\n",
    "    'cpl_1': {\"c\": 3.0, 'rm': 'bp_rm', 'ri': 'bp_ri'},\n",
    "    'cpl_2': {\"c\": 0.4, 'rm': 'bp_rm', 'ri': 'bp_ri'},\n",
    "    'cpl_3': {\"c\": 0.0, 'rm': 'bp_rm', 'ri': 'bp_ri'},\n",
    "    'cpl_4': {\"c\": 0.3, 'rm': 'bp_rm', 'ri': 'bp_ri'},\n",
    "    'cpl_5': {\"c\": 0.3, 'rm': 'bp_rm', 'ri': 'bp_ri'},\n",
    "    'cpl_6': {\"c\": 0.3, 'rm': 'bp_rm', 'ri': 'bp_ri'},\n",
    "    'cpl_7': {\"c\": 3.5, 'rm': 'bp_rm', 'ri': 'bp_ri'},\n",
    "    'cpl_8': {\"c\": 3.5, 'rm': 'bp_rm', 'ri': 'bp_ri'},\n",
    "}, fc_rec_data))"
   ]
  },
  {
   "cell_type": "code",
   "execution_count": null,
   "metadata": {},
   "outputs": [],
   "source": [
    "cpl2MSE.append(utils.run_and_compute_cpl_MSE(cell, {\n",
    "    'cpl_1': {\"c\": 3.0, 'rm': 'bp_rm', 'ri': 'bp_ri'},\n",
    "    'cpl_2': {\"c\": 0.4, 'rm': 'bp_rm', 'ri': 'bp_ri'},\n",
    "    'cpl_3': {\"c\": 0.0, 'rm': 'bp_rm', 'ri': 'bp_ri'},\n",
    "    'cpl_4': {\"c\": 0.5, 'rm': 'bp_rm', 'ri': 'bp_ri'},\n",
    "    'cpl_5': {\"c\": 0.5, 'rm': 'bp_rm', 'ri': 'bp_ri'},\n",
    "    'cpl_6': {\"c\": 0.5, 'rm': 'bp_rm', 'ri': 'bp_ri'},\n",
    "    'cpl_7': {\"c\": 2.5, 'rm': 'bp_rm', 'ri': 'bp_ri'},\n",
    "    'cpl_8': {\"c\": 2.5, 'rm': 'bp_rm', 'ri': 'bp_ri'},\n",
    "}, fc_rec_data))"
   ]
  },
  {
   "cell_type": "code",
   "execution_count": null,
   "metadata": {},
   "outputs": [],
   "source": [
    "cpl2MSE.append(utils.run_and_compute_cpl_MSE(cell, {\n",
    "    'cpl_1': {\"c\": 1.0, 'rm': 'bp_rm', 'ri': 'bp_ri'},\n",
    "    'cpl_2': {\"c\": 0.3, 'rm': 'bp_rm', 'ri': 'bp_ri'},\n",
    "    'cpl_3': {\"c\": 0.0, 'rm': 'bp_rm', 'ri': 'bp_ri'},\n",
    "    'cpl_4': {\"c\": 0.3, 'rm': 'bp_rm', 'ri': 'bp_ri'},\n",
    "    'cpl_5': {\"c\": 0.3, 'rm': 'bp_rm', 'ri': 'bp_ri'},\n",
    "    'cpl_6': {\"c\": 0.3, 'rm': 'bp_rm', 'ri': 'bp_ri'},\n",
    "    'cpl_7': {\"c\": 1.0, 'rm': 'bp_rm', 'ri': 'bp_ri'},\n",
    "    'cpl_8': {\"c\": 1.0, 'rm': 'bp_rm', 'ri': 'bp_ri'},\n",
    "}, fc_rec_data))"
   ]
  },
  {
   "cell_type": "markdown",
   "metadata": {},
   "source": [
    "### Analyze tdur vs MSE"
   ]
  },
  {
   "cell_type": "code",
   "execution_count": null,
   "metadata": {},
   "outputs": [],
   "source": [
    "utils.plot_cpl2MSE(cpl2MSE)"
   ]
  },
  {
   "cell_type": "markdown",
   "metadata": {},
   "source": [
    "# Save cpl dict for optimization."
   ]
  },
  {
   "cell_type": "code",
   "execution_count": null,
   "metadata": {},
   "outputs": [],
   "source": [
    "# Select optimization cpl, pick one that is relatively fast but with small MSE rate and small MSE Vm\n",
    "optimize_cpl_dict = {\n",
    "    'cpl_1': {\"c\": 4.0, 'rm': 'bp_rm', 'ri': 'bp_ri'},\n",
    "    'cpl_2': {\"c\": 0.5, 'rm': 'bp_rm', 'ri': 'bp_ri'},\n",
    "    'cpl_3': {\"c\": 0.0, 'rm': 'bp_rm', 'ri': 'bp_ri'},\n",
    "    'cpl_4': {\"c\": 0.5, 'rm': 'bp_rm', 'ri': 'bp_ri'},\n",
    "    'cpl_5': {\"c\": 0.5, 'rm': 'bp_rm', 'ri': 'bp_ri'},\n",
    "    'cpl_6': {\"c\": 0.5, 'rm': 'bp_rm', 'ri': 'bp_ri'},\n",
    "    'cpl_7': {\"c\": 3.5, 'rm': 'bp_rm', 'ri': 'bp_ri'},\n",
    "    'cpl_8': {\"c\": 3.5, 'rm': 'bp_rm', 'ri': 'bp_ri'},\n",
    "}\n",
    "\n",
    "utils.set_and_plot_cpl(cell, optimize_cpl_dict)"
   ]
  },
  {
   "cell_type": "code",
   "execution_count": null,
   "metadata": {},
   "outputs": [],
   "source": [
    "# Save dicts for optimization.\n",
    "data_utils.make_dir(\"cell_params\")\n",
    "data_utils.save_var(optimize_cpl_dict, os.path.join(\"cell_params\", cell.bp_type+\"_optimize_cpl_dict.pkl\"))\n",
    "data_utils.save_var(final_cpl_dict, os.path.join(\"cell_params\", cell.bp_type+\"_final_cpl_dict.pkl\"))"
   ]
  },
  {
   "cell_type": "markdown",
   "metadata": {},
   "source": [
    "# Test sim_dt for optimize cpl"
   ]
  },
  {
   "cell_type": "code",
   "execution_count": null,
   "metadata": {},
   "outputs": [],
   "source": [
    "utils.set_and_plot_cpl(cell, optimize_cpl_dict)"
   ]
  },
  {
   "cell_type": "code",
   "execution_count": null,
   "metadata": {},
   "outputs": [],
   "source": [
    "sim_dt_list = [1e-6, 2e-6, 5e-6, 1e-5, 2e-5, 5e-5]"
   ]
  },
  {
   "cell_type": "code",
   "execution_count": null,
   "metadata": {},
   "outputs": [],
   "source": [
    "cell.predur = 10\n",
    "cell.predur_dt = 1e-4\n",
    "\n",
    "cell.update_t_rng((0,0.1))\n",
    "\n",
    "sim_dt_rec_data_list = []\n",
    "sim_dt_rec_time_list = []\n",
    "sim_dt_rec_tdur_list = []\n",
    "\n",
    "for sim_dt in sim_dt_list:\n",
    "    print(sim_dt)\n",
    "    \n",
    "    cell.sim_dt = sim_dt\n",
    "    \n",
    "    sim_dt_rec_data, sim_dt_rec_time, _, tdur = utils.run_and_show_cell(cell, plot=True, verbose=True)\n",
    "    assert sim_dt_rec_data is not None\n",
    "    print(f'min = {tdur/60:.4f}')\n",
    "    \n",
    "    sim_dt_rec_data_list.append(sim_dt_rec_data)\n",
    "    sim_dt_rec_time_list.append(sim_dt_rec_time)\n",
    "    sim_dt_rec_tdur_list.append(tdur)"
   ]
  },
  {
   "cell_type": "code",
   "execution_count": null,
   "metadata": {},
   "outputs": [],
   "source": [
    "fig, axs = plt.subplots(1,2, figsize=(15,6))\n",
    "for rec_time, rec_data, sim_dt in zip(sim_dt_rec_time_list, sim_dt_rec_data_list, sim_dt_list):\n",
    "    axs[0].plot(rec_time, rec_data['rate BC'].mean(axis=1), label=sim_dt)\n",
    "    axs[1].plot(rec_time, rec_data['BC Vm Soma']*1e3, label=sim_dt)\n",
    "axs[1].set_ylabel('mV')\n",
    "plt.legend()\n",
    "plt.show()"
   ]
  },
  {
   "cell_type": "code",
   "execution_count": null,
   "metadata": {},
   "outputs": [],
   "source": [
    "fig, axs = plt.subplots(1,2, figsize=(15,6))\n",
    "for rec_time, rec_data, sim_dt in zip(sim_dt_rec_time_list, sim_dt_rec_data_list, sim_dt_list):\n",
    "    axs[0].plot(\n",
    "        rec_time[:400],\n",
    "        rec_data['rate BC'].mean(axis=1)[:400] - sim_dt_rec_data_list[0]['rate BC'].mean(axis=1)[:400],\n",
    "        label=sim_dt\n",
    "    )\n",
    "    axs[1].plot(\n",
    "        rec_time[:400],\n",
    "        (rec_data['BC Vm Soma'][:400] - sim_dt_rec_data_list[0]['BC Vm Soma'][:400])*1e3,\n",
    "        label=sim_dt\n",
    "    )\n",
    "    \n",
    "axs[0].set_ylabel('rate')\n",
    "axs[1].set_ylabel('mV')\n",
    "    \n",
    "plt.legend()\n",
    "plt.show()"
   ]
  },
  {
   "cell_type": "code",
   "execution_count": null,
   "metadata": {},
   "outputs": [],
   "source": [
    "for rec_time, rec_data, sim_dt in zip(sim_dt_rec_time_list, sim_dt_rec_data_list, sim_dt_list):\n",
    "    print(sim_dt, f\"{rec_data['rate BC'].mean(axis=1).iloc[0]:.3f}\", f\"{rec_data['BC Vm Soma'].iloc[0]:.5f}\")"
   ]
  },
  {
   "cell_type": "code",
   "execution_count": null,
   "metadata": {},
   "outputs": [],
   "source": [
    "for rec_time, rec_data, sim_dt in zip(sim_dt_rec_time_list, sim_dt_rec_data_list, sim_dt_list):\n",
    "    plt.plot(rec_data['BC Vm Soma'].iloc[:50]-rec_data['BC Vm Soma'].iloc[0],label=sim_dt)\n",
    "plt.legend()"
   ]
  },
  {
   "cell_type": "code",
   "execution_count": null,
   "metadata": {},
   "outputs": [],
   "source": [
    "for rec_time, rec_data, sim_dt in zip(sim_dt_rec_time_list, sim_dt_rec_data_list, sim_dt_list):\n",
    "    plt.plot(rec_data['rate BC'].iloc[:50,0]-rec_data['rate BC'].iloc[0,0],label=sim_dt)\n",
    "plt.legend()"
   ]
  },
  {
   "cell_type": "code",
   "execution_count": null,
   "metadata": {},
   "outputs": [],
   "source": []
  },
  {
   "cell_type": "code",
   "execution_count": null,
   "metadata": {},
   "outputs": [],
   "source": []
  }
 ],
 "metadata": {
  "hide_input": false,
  "kernelspec": {
   "display_name": "Python 3",
   "language": "python",
   "name": "python3"
  },
  "language_info": {
   "codemirror_mode": {
    "name": "ipython",
    "version": 3
   },
   "file_extension": ".py",
   "mimetype": "text/x-python",
   "name": "python",
   "nbconvert_exporter": "python",
   "pygments_lexer": "ipython3",
   "version": "3.7.5"
  },
  "toc": {
   "base_numbering": 1,
   "nav_menu": {},
   "number_sections": true,
   "sideBar": true,
   "skip_h1_title": false,
   "title_cell": "Table of Contents",
   "title_sidebar": "Contents",
   "toc_cell": false,
   "toc_position": {
    "height": "calc(100% - 180px)",
    "left": "10px",
    "top": "150px",
    "width": "384px"
   },
   "toc_section_display": true,
   "toc_window_display": true
  },
  "varInspector": {
   "cols": {
    "lenName": 16,
    "lenType": 16,
    "lenVar": 40
   },
   "kernels_config": {
    "python": {
     "delete_cmd_postfix": "",
     "delete_cmd_prefix": "del ",
     "library": "var_list.py",
     "varRefreshCmd": "print(var_dic_list())"
    },
    "r": {
     "delete_cmd_postfix": ") ",
     "delete_cmd_prefix": "rm(",
     "library": "var_list.r",
     "varRefreshCmd": "cat(var_dic_list()) "
    }
   },
   "types_to_exclude": [
    "module",
    "function",
    "builtin_function_or_method",
    "instance",
    "_Feature"
   ],
   "window_display": false
  }
 },
 "nbformat": 4,
 "nbformat_minor": 4
}
