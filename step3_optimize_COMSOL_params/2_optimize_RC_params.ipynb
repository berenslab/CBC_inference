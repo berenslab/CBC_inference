{
 "cells": [
  {
   "cell_type": "markdown",
   "metadata": {},
   "source": [
    "# Estimate RC params of retina - Inference\n",
    "\n",
    "- [Load preprocessed experimental data](#Load-preprocessed-data)\n",
    "- Estimate the electrical parameters of the retina ($\\sigma_{retina}$ and $\\epsilon_{retina}$). Inference is split in two parts.\n",
    "    - [Part 1, using logarithmic parameters](#Optimization---Part-1---Logarithmic)\n",
    "    - [Part 2, using linear parameters](#Optimization---Part-1---Logarithmic)\n",
    "- [Postprocessing, test and validate results](#Postprocessing)"
   ]
  },
  {
   "cell_type": "markdown",
   "metadata": {},
   "source": [
    "## <font color='red'> Select mode: full_inference  / load_only / test</font>\n",
    "\n",
    "- *full_inference*\n",
    "    - Runs the whole inference. $\\Rightarrow$ **COMSOL is required.**\n",
    "    - Takes a long time\n",
    "- *load_only*\n",
    "    - Will not generate new samples, but loads the data generated for the paper.\n",
    "- *test*\n",
    "    - Runs the whole inference, but with fewer samples. $\\Rightarrow$ **COMSOL is required.**\n",
    "    - Illustrates how the inference works, without spending to much CPU power and time.\n",
    "    - However, it might lead to problems, because too few samples are generated leading to bad inference.\n",
    "    - Don't use these results in subsequent steps."
   ]
  },
  {
   "cell_type": "code",
   "execution_count": null,
   "metadata": {},
   "outputs": [],
   "source": [
    "#inference_mode = 'test'\n",
    "#inference_mode = 'full_inference'\n",
    "inference_mode = 'load_only'"
   ]
  },
  {
   "cell_type": "markdown",
   "metadata": {},
   "source": [
    "# Imports"
   ]
  },
  {
   "cell_type": "code",
   "execution_count": null,
   "metadata": {},
   "outputs": [],
   "source": [
    "import importlib\n",
    "import pandas as pd\n",
    "import numpy as np\n",
    "from matplotlib import pyplot as plt"
   ]
  },
  {
   "cell_type": "code",
   "execution_count": null,
   "metadata": {},
   "outputs": [],
   "source": [
    "import os\n",
    "import sys"
   ]
  },
  {
   "cell_type": "code",
   "execution_count": null,
   "metadata": {},
   "outputs": [],
   "source": [
    "pythoncodepath = os.path.abspath(os.path.join('..', '_pythoncode'))\n",
    "sys.path = [pythoncodepath] + sys.path\n",
    "import importhelper\n",
    "importhelper.addfolders2path(pythoncodepath)"
   ]
  },
  {
   "cell_type": "code",
   "execution_count": null,
   "metadata": {},
   "outputs": [],
   "source": [
    "import data_utils"
   ]
  },
  {
   "cell_type": "markdown",
   "metadata": {},
   "source": [
    "# Load preprocessed data"
   ]
  },
  {
   "cell_type": "code",
   "execution_count": null,
   "metadata": {},
   "outputs": [],
   "source": [
    "V_amps          = data_utils.load_var('PreprocessedData/V_amps.pkl')\n",
    "EDL_phase_total = data_utils.load_var('PreprocessedData/EDL_phase_total.pkl')\n",
    "fit_sin_params  = data_utils.load_var('PreprocessedData/raw_currents_sinus_fits_params.pkl')\n",
    "absZ_est        = data_utils.load_var('PreprocessedData/absZ_est.pkl')"
   ]
  },
  {
   "cell_type": "code",
   "execution_count": null,
   "metadata": {},
   "outputs": [],
   "source": [
    "def sin_A_phi_time(A, phi, time):\n",
    "    return A*np.sin(2*np.pi*time*f0+phi/180*np.pi)"
   ]
  },
  {
   "cell_type": "code",
   "execution_count": null,
   "metadata": {},
   "outputs": [],
   "source": [
    "# Create dictionary for EDL phase.\n",
    "EDL_phase_total_dict = {}\n",
    "for f in [25, 40]:\n",
    "    EDL_phase_total_dict[f] = {}\n",
    "    for i_V, V in enumerate(V_amps[f]):\n",
    "        EDL_phase_total_dict[f][V] = EDL_phase_total[f][i_V]"
   ]
  },
  {
   "cell_type": "code",
   "execution_count": null,
   "metadata": {},
   "outputs": [],
   "source": [
    "# Choose Voltage amplitudes to use for optimization.\n",
    "V_amps_opt = {}\n",
    "V_amps_opt[25] = [300, 600]\n",
    "V_amps_opt[40] = [150, 300]"
   ]
  },
  {
   "cell_type": "code",
   "execution_count": null,
   "metadata": {},
   "outputs": [],
   "source": [
    "target = {}\n",
    "for f0 in [25, 40]:\n",
    "    target[f0] = {}\n",
    "    for iV0, V0 in enumerate(V_amps_opt[f0]):\n",
    "        time0 = np.linspace(0, 0.12, 1000)\n",
    "        current0 = sin_A_phi_time(fit_sin_params[\"w\"][f0][V0][0], fit_sin_params[\"w\"][f0][V0][1], time0)\n",
    "        target[f0][V0] = pd.DataFrame({'Time': time0, 'Current': current0})"
   ]
  },
  {
   "cell_type": "code",
   "execution_count": null,
   "metadata": {},
   "outputs": [],
   "source": [
    "# Plot targets.\n",
    "plt.figure(figsize=(12,3))\n",
    "for f0 in [25, 40]:\n",
    "    for iV0, V0 in enumerate(V_amps_opt[f0]):      \n",
    "        plt.plot(target[f0][V0]['Time']*1e3, target[f0][V0]['Current']*1e6, label=(str(f0) + ' ' + str(V0)))\n",
    "        \n",
    "plt.xlabel('Time [ms]')\n",
    "plt.ylabel('Current [uA]')\n",
    "plt.legend()\n",
    "plt.show()\n",
    "\n",
    "data_utils.save_var(target, 'PreprocessedData/target.pkl')"
   ]
  },
  {
   "cell_type": "markdown",
   "metadata": {},
   "source": [
    "# Parameter estimation"
   ]
  },
  {
   "cell_type": "code",
   "execution_count": null,
   "metadata": {},
   "outputs": [],
   "source": [
    "if inference_mode == 'load_only':\n",
    "    output_folder_step1 = 'optimize_CR_step1_submission2'\n",
    "    output_folder_step2 = 'optimize_CR_step2_submission2'\n",
    "elif inference_mode in ['test', 'full_inference']:\n",
    "    output_folder_step1 = 'optimize_CR_step1'\n",
    "    output_folder_step2 = 'optimize_CR_step2'\n",
    "else:\n",
    "    raise NotImplementedError()"
   ]
  },
  {
   "cell_type": "markdown",
   "metadata": {},
   "source": [
    "## Optimization - Part 1 - Logarithmic"
   ]
  },
  {
   "cell_type": "code",
   "execution_count": null,
   "metadata": {},
   "outputs": [],
   "source": [
    "print('Inference:', inference_mode, '--> Folder:', output_folder_step1)"
   ]
  },
  {
   "cell_type": "markdown",
   "metadata": {},
   "source": [
    "### Params\n",
    "\n",
    "Define the optimization parameters and add a unit."
   ]
  },
  {
   "cell_type": "code",
   "execution_count": null,
   "metadata": {},
   "outputs": [],
   "source": [
    "import param_funcs\n",
    "importlib.reload(param_funcs);\n",
    "\n",
    "p_default = {\n",
    "    'epsilon_retina': 1,\n",
    "    'sigma_retina':   1,\n",
    "}\n",
    "\n",
    "p_unit = {\n",
    "    'epsilon_retina': 1e6,\n",
    "    'sigma_retina':   0.1,\n",
    "}\n",
    "\n",
    "params = param_funcs.Parameters(p_default=p_default, p_use_log=list(p_default.keys()))"
   ]
  },
  {
   "cell_type": "markdown",
   "metadata": {},
   "source": [
    "### Optimizer\n",
    "\n",
    "Create the optimzer, a helper function for SNPE."
   ]
  },
  {
   "cell_type": "code",
   "execution_count": null,
   "metadata": {},
   "outputs": [],
   "source": [
    "import optimize_COMSOL_params\n",
    "importlib.reload(optimize_COMSOL_params);\n",
    "\n",
    "optim = optimize_COMSOL_params.OptimizerCOMSOLparams(\n",
    "    params = params,\n",
    "    output_folder = output_folder_step1,\n",
    "    p_unit = p_unit,\n",
    "    reset = not(inference_mode=='load_only'),\n",
    "    V_amps = V_amps_opt,\n",
    "    EDL_phase_total = EDL_phase_total_dict,\n",
    "    absZ_est = absZ_est,\n",
    "    \n",
    ")"
   ]
  },
  {
   "cell_type": "markdown",
   "metadata": {},
   "source": [
    "### Loss"
   ]
  },
  {
   "cell_type": "code",
   "execution_count": null,
   "metadata": {},
   "outputs": [],
   "source": [
    "import loss_funcs_COMSOL_params\n",
    "importlib.reload(loss_funcs_COMSOL_params);\n",
    "\n",
    "loss = loss_funcs_COMSOL_params.Loss(target=target, t_drop=0.04)\n",
    "optim.loss = loss"
   ]
  },
  {
   "cell_type": "markdown",
   "metadata": {},
   "source": [
    "### Prior\n",
    "\n",
    "Define a plot the priors."
   ]
  },
  {
   "cell_type": "code",
   "execution_count": null,
   "metadata": {},
   "outputs": [],
   "source": [
    "from delfi import distribution\n",
    "\n",
    "mean  = [optim.params.sim_param2opt_param(p_default[param], param) for param in params.p_names]\n",
    "std   = [2                                                         for param in params.p_names]\n",
    "\n",
    "prior = distribution.Gaussian(m=np.array(mean), S=np.diag(np.array(std)**2))"
   ]
  },
  {
   "cell_type": "code",
   "execution_count": null,
   "metadata": {},
   "outputs": [],
   "source": [
    "plt.figure(figsize=(12,3))\n",
    "for idx, param in enumerate(params.p_names):\n",
    "    ax = plt.subplot(1,2,idx+1)\n",
    "    plt.title(param)\n",
    "    plt.hist(np.array([list(params.opt_params2sim_params(prior.gen(1).flatten()).values()) for _ in range(1000)])[:,idx]\n",
    "             * optim.get_unit(param))\n",
    "    ax.set_yscale('log')\n",
    "    ax.set_ylim(0.5, None)"
   ]
  },
  {
   "cell_type": "markdown",
   "metadata": {},
   "source": [
    "### Inference\n",
    "\n",
    "Run the inference. If *load_only* this step is skipped."
   ]
  },
  {
   "cell_type": "code",
   "execution_count": null,
   "metadata": {},
   "outputs": [],
   "source": [
    "import os\n",
    "os.environ[\"MKL_THREADING_LAYER\"] = \"GNU\"\n",
    "\n",
    "import gpu_test\n",
    "assert gpu_test.run(verbose=False)"
   ]
  },
  {
   "cell_type": "code",
   "execution_count": null,
   "metadata": {},
   "outputs": [],
   "source": [
    "if inference_mode=='test':\n",
    "    n_samples_per_round = 20\n",
    "    max_rounds = 2\n",
    "else:\n",
    "    n_samples_per_round = 50\n",
    "    max_rounds = 2\n",
    "    \n",
    "print(n_samples_per_round, '*', max_rounds, 'samples')"
   ]
  },
  {
   "cell_type": "code",
   "execution_count": null,
   "metadata": {},
   "outputs": [],
   "source": [
    "import delfi_funcs\n",
    "importlib.reload(delfi_funcs); \n",
    "\n",
    "delfi_optim = delfi_funcs.DELFI_Optimizer(\n",
    "    optim=optim, prior=prior, n_parallel=1, gen_minibatch=1,\n",
    "    post_as_truncated_normal=False\n",
    ")\n",
    "\n",
    "if not(inference_mode=='load_only'):\n",
    "    print('Create new network')\n",
    "    delfi_optim.init_SNPE(\n",
    "        verbose               = False,\n",
    "        pseudo_obs_n          = 1,\n",
    "        prior_mixin           = 0.0,\n",
    "        kernel_bandwidth_perc = 25,\n",
    "        kernel_bandwidth_min  = 0.0,\n",
    "        use_all_trn_data      = False,\n",
    "        n_components          = 1,\n",
    "        loss_failed_sims      = loss.max_loss['total'],\n",
    "    )\n",
    "    \n",
    "    delfi_optim.nn_epochs    = 200\n",
    "    delfi_optim.nn_minibatch = 8\n",
    "    \n",
    "    delfi_optim.run_SNPE(\n",
    "        max_duration_minutes       = 60*12,\n",
    "        max_rounds                 = max_rounds,\n",
    "        n_samples_per_round        = n_samples_per_round,\n",
    "        continue_optimization      = continue_optimization,\n",
    "        load_init_tds              = load_init_tds,\n",
    "    )"
   ]
  },
  {
   "cell_type": "markdown",
   "metadata": {},
   "source": [
    "### Load data"
   ]
  },
  {
   "cell_type": "code",
   "execution_count": null,
   "metadata": {},
   "outputs": [],
   "source": [
    "# Load data.\n",
    "inf_snpes            = data_utils.load_var(delfi_optim.snpe_folder + '/inf_snpes.pkl')\n",
    "sample_distributions = data_utils.load_var(delfi_optim.snpe_folder + '/sample_distributions.pkl')\n",
    "logs                 = data_utils.load_var(delfi_optim.snpe_folder + '/logs.pkl')\n",
    "tds                  = data_utils.load_var(delfi_optim.snpe_folder + '/tds.pkl')\n",
    "pseudo_obs           = data_utils.load_var(delfi_optim.snpe_folder + '/pseudo_obs.pkl')\n",
    "kernel_bandwidths    = data_utils.load_var(delfi_optim.snpe_folder + '/kernel_bandwidths.pkl')\n",
    "n_samples            = data_utils.load_var(delfi_optim.snpe_folder + '/n_samples.pkl')\n",
    "\n",
    "# Split prior and posteriors.\n",
    "prior = sample_distributions[0]\n",
    "posteriors = sample_distributions[1:]"
   ]
  },
  {
   "cell_type": "code",
   "execution_count": null,
   "metadata": {},
   "outputs": [],
   "source": [
    "import plot_obs_and_bw\n",
    "importlib.reload(plot_obs_and_bw);\n",
    "\n",
    "plot_obs_and_bw.plot(pseudo_obs, kernel_bandwidths)\n",
    "plot_obs_and_bw.plot_logs(logs)"
   ]
  },
  {
   "cell_type": "markdown",
   "metadata": {},
   "source": [
    "### Analyse results"
   ]
  },
  {
   "cell_type": "code",
   "execution_count": null,
   "metadata": {},
   "outputs": [],
   "source": [
    "sample_files = sorted(os.listdir(delfi_optim.samples_folder))\n",
    "print('All files:')\n",
    "print(sample_files)\n",
    "assert len(sample_files) == len(tds)"
   ]
  },
  {
   "cell_type": "code",
   "execution_count": null,
   "metadata": {},
   "outputs": [],
   "source": [
    "# Load data.\n",
    "samples, n_samples, d_sort_index = delfi_optim.load_samples(\n",
    "    files=sample_files, concat_traces=True, list_traces=False,\n",
    "    return_sort_idx=True, return_n_samples=True,\n",
    "    verbose=True\n",
    ")\n",
    "\n",
    "# Get best indices.\n",
    "d_min_idx = d_sort_index[0]\n",
    "n_best_samples = 5\n",
    "\n",
    "print('\\nd_min = '+ str(samples['loss']['total'][d_min_idx]))"
   ]
  },
  {
   "cell_type": "markdown",
   "metadata": {},
   "source": [
    "## Get prior bounds for Part 2"
   ]
  },
  {
   "cell_type": "code",
   "execution_count": null,
   "metadata": {},
   "outputs": [],
   "source": [
    "eps_lb = samples['params']['epsilon_retina'][d_sort_index][0:int(d_sort_index.size*0.1)].min()\n",
    "eps_ub = samples['params']['epsilon_retina'][d_sort_index][0:int(d_sort_index.size*0.1)].max()\n",
    "eps_mu = samples['params']['epsilon_retina'][d_sort_index][0]"
   ]
  },
  {
   "cell_type": "code",
   "execution_count": null,
   "metadata": {},
   "outputs": [],
   "source": [
    "print('epsilon_retina')\n",
    "print(\"lb: {:.2f}\".format(eps_lb))\n",
    "print(\"ub: {:.2f}\".format(eps_ub))\n",
    "print(\"bst: {:.2f}\".format(eps_mu))"
   ]
  },
  {
   "cell_type": "code",
   "execution_count": null,
   "metadata": {},
   "outputs": [],
   "source": [
    "sig_lb = samples['params']['sigma_retina'][d_sort_index][0:int(d_sort_index.size*0.1)].min()\n",
    "sig_ub = samples['params']['sigma_retina'][d_sort_index][0:int(d_sort_index.size*0.1)].max()\n",
    "sig_mu = samples['params']['sigma_retina'][d_sort_index][0]"
   ]
  },
  {
   "cell_type": "code",
   "execution_count": null,
   "metadata": {},
   "outputs": [],
   "source": [
    "print('epsilon_retina')\n",
    "print(\"lb: {:.2f}\".format(sig_lb))\n",
    "print(\"ub: {:.2f}\".format(sig_ub))\n",
    "print(\"bst: {:.2f}\".format(sig_mu))"
   ]
  },
  {
   "cell_type": "code",
   "execution_count": null,
   "metadata": {},
   "outputs": [],
   "source": [
    "i = 0\n",
    "\n",
    "for iV0 in [0, 1]:\n",
    "    plt.figure(figsize=(12,4))\n",
    "    \n",
    "    plt.text(0.04, 0.5, 'eps_r = {:.4g}'.format(\n",
    "        samples['params']['epsilon_retina'][d_sort_index[i]]*p_unit['epsilon_retina']))\n",
    "    plt.text(0.04, -.5, 'sig_r = {:.4g}'.format(\n",
    "        samples['params']['sigma_retina'][d_sort_index[i]]* p_unit['sigma_retina']))\n",
    "    \n",
    "    plt.plot(samples['data'][d_sort_index[i]][0][25][V_amps_opt[25][iV0]]['Time'],\\\n",
    "             samples['data'][d_sort_index[i]][0][25][V_amps_opt[25][iV0]]['Current']*1e6, label='Fit 25')\n",
    "    \n",
    "    plt.plot(samples['data'][d_sort_index[i]][0][40][V_amps_opt[40][iV0]]['Time'],\\\n",
    "             samples['data'][d_sort_index[i]][0][40][V_amps_opt[40][iV0]]['Current']*1e6, label='Fit 40')\n",
    "    \n",
    "    \n",
    "    plt.plot(target[25][V_amps_opt[25][iV0]]['Time'],\\\n",
    "             target[25][V_amps_opt[25][iV0]]['Current']*1e6, 'k--', label='Target 25')\n",
    "    \n",
    "    plt.plot(target[40][V_amps_opt[40][iV0]]['Time'],\\\n",
    "             target[40][V_amps_opt[40][iV0]]['Current']*1e6, 'r--', label='Target 40')\n",
    "    \n",
    "    plt.axvline(loss.t_drop)\n",
    "    \n",
    "    \n",
    "    plt.legend()\n",
    "    plt.ylabel('Current [uA]')\n",
    "    plt.xlabel('Time [s]')\n",
    "    plt.show()"
   ]
  },
  {
   "cell_type": "code",
   "execution_count": null,
   "metadata": {},
   "outputs": [],
   "source": [
    "fig, axs = plt.subplots(1,2,figsize=(12,3))\n",
    "axs[0].loglog(\n",
    "    samples['params']['sigma_retina'][d_sort_index]* p_unit['sigma_retina'],\n",
    "    samples['loss']['total'][d_sort_index],\n",
    "    'k.'\n",
    ")\n",
    "\n",
    "axs[1].semilogy(\n",
    "    samples['loss']['total'][d_sort_index],\n",
    "    samples['params']['epsilon_retina'][d_sort_index]* p_unit['epsilon_retina'],\n",
    "    'k.'\n",
    ")\n",
    "\n",
    "plt.show()"
   ]
  },
  {
   "cell_type": "markdown",
   "metadata": {},
   "source": [
    "## Optimization - Part 2 - Linear"
   ]
  },
  {
   "cell_type": "markdown",
   "metadata": {},
   "source": [
    "### Params"
   ]
  },
  {
   "cell_type": "code",
   "execution_count": null,
   "metadata": {},
   "outputs": [],
   "source": [
    "import param_funcs\n",
    "importlib.reload(param_funcs);\n",
    "\n",
    "p_default = {\n",
    "    'epsilon_retina': eps_mu,\n",
    "    'sigma_retina':   sig_mu,\n",
    "}\n",
    "\n",
    "p_unit = {\n",
    "    'epsilon_retina': 1e6,\n",
    "    'sigma_retina':   0.1,\n",
    "}\n",
    "\n",
    "p_range = {\n",
    "    'epsilon_retina': (eps_lb, eps_ub),\n",
    "    'sigma_retina':   (sig_lb, sig_ub),\n",
    "}\n",
    "\n",
    "params = param_funcs.Parameters(p_default=p_default, p_range=p_range)"
   ]
  },
  {
   "cell_type": "code",
   "execution_count": null,
   "metadata": {},
   "outputs": [],
   "source": [
    "params.plot()"
   ]
  },
  {
   "cell_type": "markdown",
   "metadata": {},
   "source": [
    "### Optimizer"
   ]
  },
  {
   "cell_type": "code",
   "execution_count": null,
   "metadata": {},
   "outputs": [],
   "source": [
    "import optimize_COMSOL_params\n",
    "importlib.reload(optimize_COMSOL_params);\n",
    "\n",
    "optim = optimize_COMSOL_params.OptimizerCOMSOLparams(\n",
    "    params = params,\n",
    "    output_folder = output_folder_step2,\n",
    "    p_unit = p_unit,\n",
    "    reset = False,\n",
    "    V_amps = V_amps_opt,\n",
    "    EDL_phase_total = EDL_phase_total_dict,\n",
    "    absZ_est = absZ_est,\n",
    ")"
   ]
  },
  {
   "cell_type": "markdown",
   "metadata": {},
   "source": [
    "### Loss"
   ]
  },
  {
   "cell_type": "code",
   "execution_count": null,
   "metadata": {},
   "outputs": [],
   "source": [
    "import loss_funcs_COMSOL_params\n",
    "importlib.reload(loss_funcs_COMSOL_params);\n",
    "\n",
    "loss = loss_funcs_COMSOL_params.Loss(target=target, t_drop=0.04)\n",
    "optim.loss = loss"
   ]
  },
  {
   "cell_type": "markdown",
   "metadata": {},
   "source": [
    "### Prior"
   ]
  },
  {
   "cell_type": "code",
   "execution_count": null,
   "metadata": {},
   "outputs": [],
   "source": [
    "import TruncatedNormal\n",
    "\n",
    "lower = np.array([0 for param in params.p_names])\n",
    "upper = np.array([1 for param in params.p_names])\n",
    "\n",
    "mean  = [optim.params.sim_param2opt_param(p_default[param], param) for param in params.p_names]\n",
    "std   = [0.3                                                       for param in params.p_names]\n",
    "\n",
    "prior = TruncatedNormal.TruncatedNormal(m=np.array(mean), S=np.diag(np.array(std)**2), lower=lower, upper=upper)"
   ]
  },
  {
   "cell_type": "code",
   "execution_count": null,
   "metadata": {},
   "outputs": [],
   "source": [
    "import plot_sampling_dists\n",
    "importlib.reload(plot_sampling_dists);\n",
    "\n",
    "PP = plot_sampling_dists.SamplingDistPlotter(\n",
    "    params=params, prior=prior, posterior_list=[],\n",
    "    lbs=np.full(params.p_N, -0.5), ubs=np.full(params.p_N, 1.5),\n",
    ")\n",
    "PP.plot_sampling_dists_1D(plot_peak_lines=False, figsize=(12,8), opt_x=False)"
   ]
  },
  {
   "cell_type": "markdown",
   "metadata": {},
   "source": [
    "### Inference"
   ]
  },
  {
   "cell_type": "code",
   "execution_count": null,
   "metadata": {},
   "outputs": [],
   "source": [
    "import delfi_funcs\n",
    "importlib.reload(delfi_funcs); \n",
    "\n",
    "delfi_optim = delfi_funcs.DELFI_Optimizer(\n",
    "    optim=optim, prior=prior, n_parallel=1, gen_minibatch=1,\n",
    "    post_as_truncated_normal=False\n",
    ")\n",
    "\n",
    "if not(inference_mode=='load_only'):\n",
    "    delfi_optim.init_SNPE(\n",
    "        verbose               = False,\n",
    "        pseudo_obs_n          = 1,\n",
    "        prior_mixin           = 0.0,\n",
    "        kernel_bandwidth_perc = 25,\n",
    "        kernel_bandwidth_min  = 0.0,\n",
    "        use_all_trn_data      = False,\n",
    "        n_components          = 1,\n",
    "        loss_failed_sims      = loss.max_loss['total'],\n",
    "    )\n",
    "    \n",
    "    delfi_optim.nn_epochs    = 200\n",
    "    delfi_optim.nn_minibatch = 8\n",
    "\n",
    "    # Run.\n",
    "    delfi_optim.run_SNPE(\n",
    "        max_duration_minutes       = 60*12,\n",
    "        max_rounds                 = max_rounds,\n",
    "        n_samples_per_round        = n_samples_per_round,\n",
    "        continue_optimization      = continue_optimization,\n",
    "        load_init_tds              = load_init_tds,\n",
    "    )"
   ]
  },
  {
   "cell_type": "markdown",
   "metadata": {},
   "source": [
    "### Load data"
   ]
  },
  {
   "cell_type": "code",
   "execution_count": null,
   "metadata": {},
   "outputs": [],
   "source": [
    "inf_snpes            = data_utils.load_var(delfi_optim.snpe_folder + '/inf_snpes.pkl')\n",
    "sample_distributions = data_utils.load_var(delfi_optim.snpe_folder + '/sample_distributions.pkl')\n",
    "logs                 = data_utils.load_var(delfi_optim.snpe_folder + '/logs.pkl')\n",
    "tds                  = data_utils.load_var(delfi_optim.snpe_folder + '/tds.pkl')\n",
    "pseudo_obs           = data_utils.load_var(delfi_optim.snpe_folder + '/pseudo_obs.pkl')\n",
    "kernel_bandwidths    = data_utils.load_var(delfi_optim.snpe_folder + '/kernel_bandwidths.pkl')\n",
    "n_samples            = data_utils.load_var(delfi_optim.snpe_folder + '/n_samples.pkl')\n",
    "\n",
    "prior, posteriors = sample_distributions[0], sample_distributions[1:]"
   ]
  },
  {
   "cell_type": "code",
   "execution_count": null,
   "metadata": {},
   "outputs": [],
   "source": [
    "import plot_obs_and_bw\n",
    "importlib.reload(plot_obs_and_bw)\n",
    "\n",
    "plot_obs_and_bw.plot(pseudo_obs, kernel_bandwidths)\n",
    "plot_obs_and_bw.plot_logs(logs)"
   ]
  },
  {
   "cell_type": "markdown",
   "metadata": {},
   "source": [
    "### Analyse results"
   ]
  },
  {
   "cell_type": "code",
   "execution_count": null,
   "metadata": {},
   "outputs": [],
   "source": [
    "sample_files = sorted(os.listdir(delfi_optim.samples_folder))\n",
    "print('All files:')\n",
    "print(sample_files)\n",
    "assert len(sample_files) == len(tds)"
   ]
  },
  {
   "cell_type": "code",
   "execution_count": null,
   "metadata": {},
   "outputs": [],
   "source": [
    "# Load data.\n",
    "samples, n_samples, d_sort_index = delfi_optim.load_samples(\n",
    "    files=sample_files, concat_traces=True, list_traces=False,\n",
    "    return_sort_idx=True, return_n_samples=True,\n",
    "    verbose=True\n",
    ")\n",
    "\n",
    "# Get best indices.\n",
    "d_min_idx = d_sort_index[0]\n",
    "n_best_samples = 5\n",
    "\n",
    "print('\\nd_min = '+ str(samples['loss']['total'][d_min_idx]))"
   ]
  },
  {
   "cell_type": "code",
   "execution_count": null,
   "metadata": {},
   "outputs": [],
   "source": [
    "best_sig_r = samples['params']['sigma_retina'][d_min_idx]\n",
    "print('sigma_retina = {:.4g}'.format(best_sig_r))"
   ]
  },
  {
   "cell_type": "code",
   "execution_count": null,
   "metadata": {},
   "outputs": [],
   "source": [
    "best_eps_r = samples['params']['epsilon_retina'][d_min_idx]\n",
    "print('epsilon_retina = {:.4g}'.format(best_eps_r))"
   ]
  },
  {
   "cell_type": "markdown",
   "metadata": {},
   "source": [
    "# Postprocessing"
   ]
  },
  {
   "cell_type": "markdown",
   "metadata": {},
   "source": [
    "## Test"
   ]
  },
  {
   "cell_type": "code",
   "execution_count": null,
   "metadata": {},
   "outputs": [],
   "source": [
    "if not(inference_mode=='load_only'):\n",
    "    optim.create_inputs(sim_params={\"sigma_retina\": best_sig_r, \"epsilon_retina\": best_eps_r})\n",
    "    optim.run_COMSOL()\n",
    "    \n",
    "    rec_data = optim.read_outputs()"
   ]
  },
  {
   "cell_type": "code",
   "execution_count": null,
   "metadata": {},
   "outputs": [],
   "source": [
    "if not(inference_mode=='load_only'):\n",
    "    for iV0 in [0, 1]:\n",
    "\n",
    "        plt.figure(figsize=(12,4))\n",
    "\n",
    "        plt.plot(rec_data[25][V_amps_opt[25][iV0]]['Time'],\\\n",
    "                 rec_data[25][V_amps_opt[25][iV0]]['Current']*1e6, label='Fit 25')\n",
    "\n",
    "        plt.plot(rec_data[40][V_amps_opt[40][iV0]]['Time'],\\\n",
    "                 rec_data[40][V_amps_opt[40][iV0]]['Current']*1e6, label='Fit 40')\n",
    "\n",
    "\n",
    "        plt.plot(target[25][V_amps_opt[25][iV0]]['Time'],\\\n",
    "                 target[25][V_amps_opt[25][iV0]]['Current']*1e6, 'k--', label='Target 25')\n",
    "\n",
    "        plt.plot(target[40][V_amps_opt[40][iV0]]['Time'],\\\n",
    "                 target[40][V_amps_opt[40][iV0]]['Current']*1e6, 'r--', label='Target 40')\n",
    "\n",
    "        plt.axvline(loss.t_drop)\n",
    "\n",
    "\n",
    "        plt.legend()\n",
    "        plt.ylabel('Current [uA]')\n",
    "        plt.xlabel('Time [s]')\n",
    "        plt.show()"
   ]
  },
  {
   "cell_type": "markdown",
   "metadata": {},
   "source": [
    "## Validate"
   ]
  },
  {
   "cell_type": "markdown",
   "metadata": {},
   "source": [
    "### <font color='red'> Run COMSOL \"step4_flat_w_validate.mph\" </font>"
   ]
  },
  {
   "cell_type": "code",
   "execution_count": null,
   "metadata": {},
   "outputs": [],
   "source": [
    "if not(inference_mode=='load_only'):\n",
    "    assert len(os.listdir('COMSOL_output/')) > 0, 'Somethings wrong with the COMSOL output, did you run the COMSOL model?'"
   ]
  },
  {
   "cell_type": "code",
   "execution_count": null,
   "metadata": {},
   "outputs": [],
   "source": [
    "optim.V_amps = {25: [100, 200, 300, 400, 500, 600], 40: [50, 100, 150, 200, 250, 300]}\n",
    "\n",
    "if not(inference_mode=='load_only'):\n",
    "    rec_data = optim.read_outputs(verbose=True)\n",
    "else:\n",
    "    rec_data = data_utils.load_var('ValidationData/I_retina_validation.pkl')"
   ]
  },
  {
   "cell_type": "code",
   "execution_count": null,
   "metadata": {},
   "outputs": [],
   "source": [
    "target = {}\n",
    "for f0 in [25, 40]:\n",
    "    target[f0] = {}\n",
    "    for iV0, V0 in enumerate(optim.V_amps[f0]):\n",
    "        time0 = np.linspace(0, 0.12, 1000)\n",
    "        current0 = sin_A_phi_time(fit_sin_params[\"w\"][f0][V0][0], fit_sin_params[\"w\"][f0][V0][1], time0)\n",
    "        target[f0][V0] = pd.DataFrame({'Time': time0, 'Current': current0})"
   ]
  },
  {
   "cell_type": "code",
   "execution_count": null,
   "metadata": {},
   "outputs": [],
   "source": [
    "plt.figure(figsize=(12,6))\n",
    "for fi, f in enumerate([25, 40]):\n",
    "    plt.subplot(2, 1, fi+1)\n",
    "    for Vi, V in enumerate(optim.V_amps[f]):\n",
    "        \n",
    "        plt.plot(\n",
    "            rec_data[f][V]['Time'], rec_data[f][V]['Current']*1e6,\n",
    "            label='Fit @ '+ str(f) + ' Hz, '+ str(V) + ' mV'\n",
    "        )\n",
    "        \n",
    "        plt.plot(\n",
    "            target[f][V]['Time'], target[f][V]['Current']*1e6,\n",
    "            'k--', label=None\n",
    "        )\n",
    "        \n",
    "        plt.axvline(loss.t_drop)\n",
    "        \n",
    "        plt.legend()\n",
    "        plt.ylabel('Current [uA]')\n",
    "        plt.xlabel('Time [s]')\n",
    "plt.show()"
   ]
  },
  {
   "cell_type": "markdown",
   "metadata": {},
   "source": [
    "### Save"
   ]
  },
  {
   "cell_type": "code",
   "execution_count": null,
   "metadata": {},
   "outputs": [],
   "source": [
    "data_utils.make_dir('ValidationData')\n",
    "data_utils.save_var(rec_data, 'ValidationData/I_retina_validation.pkl')\n",
    "data_utils.save_var(target, 'ValidationData/target.pkl')"
   ]
  },
  {
   "cell_type": "code",
   "execution_count": null,
   "metadata": {},
   "outputs": [],
   "source": []
  }
 ],
 "metadata": {
  "kernelspec": {
   "display_name": "Python 3",
   "language": "python",
   "name": "python3"
  },
  "language_info": {
   "codemirror_mode": {
    "name": "ipython",
    "version": 3
   },
   "file_extension": ".py",
   "mimetype": "text/x-python",
   "name": "python",
   "nbconvert_exporter": "python",
   "pygments_lexer": "ipython3",
   "version": "3.7.5"
  },
  "toc": {
   "base_numbering": 1,
   "nav_menu": {},
   "number_sections": true,
   "sideBar": true,
   "skip_h1_title": false,
   "title_cell": "Table of Contents",
   "title_sidebar": "Contents",
   "toc_cell": false,
   "toc_position": {
    "height": "calc(100% - 180px)",
    "left": "10px",
    "top": "150px",
    "width": "384px"
   },
   "toc_section_display": true,
   "toc_window_display": true
  },
  "varInspector": {
   "cols": {
    "lenName": 16,
    "lenType": 16,
    "lenVar": 40
   },
   "kernels_config": {
    "python": {
     "delete_cmd_postfix": "",
     "delete_cmd_prefix": "del ",
     "library": "var_list.py",
     "varRefreshCmd": "print(var_dic_list())"
    },
    "r": {
     "delete_cmd_postfix": ") ",
     "delete_cmd_prefix": "rm(",
     "library": "var_list.r",
     "varRefreshCmd": "cat(var_dic_list()) "
    }
   },
   "types_to_exclude": [
    "module",
    "function",
    "builtin_function_or_method",
    "instance",
    "_Feature"
   ],
   "window_display": false
  }
 },
 "nbformat": 4,
 "nbformat_minor": 2
}
