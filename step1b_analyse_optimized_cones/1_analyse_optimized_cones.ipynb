{
 "cells": [
  {
   "cell_type": "markdown",
   "metadata": {},
   "source": [
    "# Test ion channels and create retsim files for CBC optimization"
   ]
  },
  {
   "cell_type": "code",
   "execution_count": null,
   "metadata": {},
   "outputs": [],
   "source": [
    "import importlib\n",
    "import pandas as pd\n",
    "import numpy as np\n",
    "from matplotlib import pyplot as plt\n",
    "import warnings\n",
    "\n",
    "import os\n",
    "import sys"
   ]
  },
  {
   "cell_type": "code",
   "execution_count": null,
   "metadata": {},
   "outputs": [],
   "source": [
    "pythoncodepath = os.path.abspath(os.path.join('..', '_pythoncode'))\n",
    "sys.path = [pythoncodepath] + sys.path\n",
    "import importhelper\n",
    "importhelper.addfolders2path(pythoncodepath)"
   ]
  },
  {
   "cell_type": "code",
   "execution_count": null,
   "metadata": {},
   "outputs": [],
   "source": [
    "import data_utils"
   ]
  },
  {
   "cell_type": "markdown",
   "metadata": {},
   "source": [
    "# Cell"
   ]
  },
  {
   "cell_type": "code",
   "execution_count": null,
   "metadata": {},
   "outputs": [],
   "source": [
    "stim_t_rng = (1, 32)\n",
    "predur = 5.0"
   ]
  },
  {
   "cell_type": "markdown",
   "metadata": {},
   "source": [
    "## Stimulus and target"
   ]
  },
  {
   "cell_type": "code",
   "execution_count": null,
   "metadata": {},
   "outputs": [],
   "source": [
    "# Load experimental data\n",
    "data_folder = os.path.join('..', 'ExperimentalData', 'PreprocessedData')\n",
    "target_dF_F = pd.read_csv(os.path.join(data_folder, 'ConeData_ReleaseMeanData.csv'))\n",
    "stimulus    = pd.read_csv(os.path.join(data_folder, 'ConeData_stimulus_time_and_amp_corrected.csv'))"
   ]
  },
  {
   "cell_type": "code",
   "execution_count": null,
   "metadata": {},
   "outputs": [],
   "source": [
    "fig, axs = plt.subplots(2,1,figsize=(12,4), subplot_kw=dict(xlim=stim_t_rng))\n",
    "stimulus.plot(x='Time', ax=axs[0])\n",
    "target_dF_F.plot(x='Time', ax=axs[1])\n",
    "plt.show()"
   ]
  },
  {
   "cell_type": "markdown",
   "metadata": {},
   "source": [
    "## Select optimized cells"
   ]
  },
  {
   "cell_type": "code",
   "execution_count": null,
   "metadata": {},
   "outputs": [],
   "source": [
    "# Select folder of optimized cone.\n",
    "cone_folder = os.path.join('..', 'step1a_optimize_cones')\n",
    "opt_cone_folder = os.path.join(cone_folder, 'optim_data', 'optimize_cone_submission2')\n",
    "assert os.path.isdir(opt_cone_folder)"
   ]
  },
  {
   "cell_type": "markdown",
   "metadata": {},
   "source": [
    "## Create cell"
   ]
  },
  {
   "cell_type": "code",
   "execution_count": null,
   "metadata": {},
   "outputs": [],
   "source": [
    "import retsim_cells\n",
    "importlib.reload(retsim_cells)\n",
    "\n",
    "cell = retsim_cells.Cone(\n",
    "    predur=predur, t_rng=stim_t_rng,\n",
    "    stimulus=stimulus, stim_type='Light',\n",
    "    cone_densfile       = 'dens_cone_optimize_cone.n',\n",
    "    nval_file           = 'nval_cone_optimize_cone.n',\n",
    "    chanparams_file     = 'chanparams_cone_optimize_cone.n',\n",
    "    expt_file_list      = ['plot_cone'],\n",
    "    expt_base_file_list = [os.path.join(cone_folder, 'retsim_files', 'expt_optimize_cones.cc')],\n",
    "    retsim_path=os.path.abspath(os.path.join('..', 'NeuronC', 'models', 'retsim')) + '/'\n",
    ")"
   ]
  },
  {
   "cell_type": "markdown",
   "metadata": {},
   "source": [
    "## Set parameters"
   ]
  },
  {
   "cell_type": "markdown",
   "metadata": {},
   "source": [
    "### Defaults and units"
   ]
  },
  {
   "cell_type": "code",
   "execution_count": null,
   "metadata": {},
   "outputs": [],
   "source": [
    "cell.params_default = data_utils.load_var(os.path.join(opt_cone_folder, 'cell_params_default.pkl'))\n",
    "cell.params_unit = data_utils.load_var(os.path.join(opt_cone_folder, 'cell_params_unit.pkl'))"
   ]
  },
  {
   "cell_type": "markdown",
   "metadata": {},
   "source": [
    "### Optimized parameters"
   ]
  },
  {
   "cell_type": "code",
   "execution_count": null,
   "metadata": {},
   "outputs": [],
   "source": [
    "final_model_output = data_utils.load_var(os.path.join(opt_cone_folder, 'post_data', 'final_model_output.pkl'))"
   ]
  },
  {
   "cell_type": "code",
   "execution_count": null,
   "metadata": {},
   "outputs": [],
   "source": [
    "final_model_output['params']"
   ]
  },
  {
   "cell_type": "code",
   "execution_count": null,
   "metadata": {},
   "outputs": [],
   "source": [
    "opt_params_list = [final_model_output['params']]"
   ]
  },
  {
   "cell_type": "code",
   "execution_count": null,
   "metadata": {},
   "outputs": [],
   "source": [
    "# List params not in optimized params.\n",
    "for p_name, p_value in cell.params_default.items():\n",
    "    if p_name not in opt_params_list[0].keys():\n",
    "        print(p_name, end=', ')\n",
    "print()"
   ]
  },
  {
   "cell_type": "markdown",
   "metadata": {},
   "source": [
    "### Cell loss"
   ]
  },
  {
   "cell_type": "code",
   "execution_count": null,
   "metadata": {},
   "outputs": [],
   "source": [
    "data_utils.make_dir('data')\n",
    "\n",
    "cell_loss = data_utils.load_var(os.path.join(opt_cone_folder, 'loss.pkl'))\n",
    "data_utils.save_var(cell_loss, os.path.join('data', 'cell_loss.pkl'))"
   ]
  },
  {
   "cell_type": "markdown",
   "metadata": {},
   "source": [
    "### Prepare cells"
   ]
  },
  {
   "cell_type": "code",
   "execution_count": null,
   "metadata": {},
   "outputs": [],
   "source": [
    "# Create c++ files.\n",
    "cell.create_retsim_expt_file(verbose=True)\n",
    "# Compile c++ files.\n",
    "!(cd {cell.retsim_path} && make)"
   ]
  },
  {
   "cell_type": "code",
   "execution_count": null,
   "metadata": {},
   "outputs": [],
   "source": [
    "cell.init_retsim(verbose=False, print_comps=False, update=False)"
   ]
  },
  {
   "cell_type": "markdown",
   "metadata": {},
   "source": [
    "# Get cell response with different channels removed"
   ]
  },
  {
   "cell_type": "code",
   "execution_count": null,
   "metadata": {},
   "outputs": [],
   "source": [
    "print([p_name for p_name in opt_params_list[0].keys() if 'cd' in p_name])"
   ]
  },
  {
   "cell_type": "code",
   "execution_count": null,
   "metadata": {},
   "outputs": [],
   "source": [
    "def make_params_passive(full_params):\n",
    "    new_params = full_params.copy()\n",
    "    \n",
    "    for p_name, p_value in new_params.items():\n",
    "        if ('cd_' in p_name) and (p_name not in ['cd_Ca_L', 'cd_Ca_P']):\n",
    "            new_params[p_name] = 0.0            \n",
    "    \n",
    "    return new_params"
   ]
  },
  {
   "cell_type": "code",
   "execution_count": null,
   "metadata": {},
   "outputs": [],
   "source": [
    "def remove_HCN_channels(full_params):    \n",
    "    new_params = full_params.copy()\n",
    "    \n",
    "    for p_name, p_value in new_params.items():\n",
    "        if ('cd_H' in p_name):\n",
    "            new_params[p_name] = 0.0\n",
    "    return new_params"
   ]
  },
  {
   "cell_type": "code",
   "execution_count": null,
   "metadata": {},
   "outputs": [],
   "source": [
    "def remove_Kv_channels(full_params):    \n",
    "    new_params = full_params.copy()\n",
    "    \n",
    "    for p_name, p_value in new_params.items():\n",
    "        if ('cd_Kv' in p_name):\n",
    "            new_params[p_name] = 0.0\n",
    "    return new_params"
   ]
  },
  {
   "cell_type": "code",
   "execution_count": null,
   "metadata": {},
   "outputs": [],
   "source": [
    "def remove_ClCa_channels(full_params):\n",
    "    new_params = full_params.copy()\n",
    "    \n",
    "    for p_name, p_value in new_params.items():\n",
    "        if ('cd_ClCa' in p_name):\n",
    "            new_params[p_name] = 0.0\n",
    "    return new_params"
   ]
  },
  {
   "cell_type": "code",
   "execution_count": null,
   "metadata": {},
   "outputs": [],
   "source": [
    "def get_reduced_params_list(full_params):\n",
    "    \n",
    "    full_params = full_params.copy()\n",
    "    \n",
    "    return {\n",
    "        'all': full_params,\n",
    "        'passive': make_params_passive(full_params),\n",
    "        'no_HCN': remove_HCN_channels(full_params),\n",
    "        'no_Kv': remove_Kv_channels(full_params),\n",
    "        'no_ClCa': remove_ClCa_channels(full_params),\n",
    "    }"
   ]
  },
  {
   "cell_type": "markdown",
   "metadata": {},
   "source": [
    "## Prepare cells"
   ]
  },
  {
   "cell_type": "code",
   "execution_count": null,
   "metadata": {},
   "outputs": [],
   "source": [
    "rec_type = 'test'"
   ]
  },
  {
   "cell_type": "code",
   "execution_count": null,
   "metadata": {},
   "outputs": [],
   "source": [
    "def prepare_cell(cell):\n",
    "    cell.rec_type = rec_type\n",
    "    cell.create_retsim_stim_file()"
   ]
  },
  {
   "cell_type": "code",
   "execution_count": null,
   "metadata": {},
   "outputs": [],
   "source": [
    "prepare_cell(cell)"
   ]
  },
  {
   "cell_type": "code",
   "execution_count": null,
   "metadata": {},
   "outputs": [],
   "source": [
    "_ = cell.run(plot=True)"
   ]
  },
  {
   "cell_type": "markdown",
   "metadata": {},
   "source": [
    "### Plot functions"
   ]
  },
  {
   "cell_type": "code",
   "execution_count": null,
   "metadata": {},
   "outputs": [],
   "source": [
    "def plot_Vm(rec_data_sorted, rec_time):\n",
    "    fig, axs = plt.subplots(len(rec_data_sorted),1,figsize=(12,10), sharex=True)\n",
    "    for ax, (mode, rec_data_list) in zip(axs, rec_data_sorted.items()):\n",
    "        ax.set_title(mode)\n",
    "        for rec_data in rec_data_list:\n",
    "            ax.plot(rec_time, rec_data['Vm 0'])\n",
    "    plt.tight_layout()"
   ]
  },
  {
   "cell_type": "code",
   "execution_count": null,
   "metadata": {},
   "outputs": [],
   "source": [
    "def plot_rate(rec_data_sorted, rec_time):\n",
    "    fig, axs = plt.subplots(len(rec_data_sorted),1,figsize=(12,10), sharex=True)\n",
    "    for ax, (mode, rec_data_list) in zip(axs, rec_data_sorted.items()):\n",
    "        ax.set_title(mode)\n",
    "        for rec_data in rec_data_list:\n",
    "            ax.plot(rec_time, rec_data['rate Cone'])\n",
    "    plt.tight_layout()"
   ]
  },
  {
   "cell_type": "code",
   "execution_count": null,
   "metadata": {},
   "outputs": [],
   "source": [
    "def compare_to_full_model(rec_data_sorted, rec_time):\n",
    "    fig, axs = plt.subplots(len(rec_data_sorted),4,figsize=(12,10), sharex='col', gridspec_kw=dict(width_ratios=[5,1,5,1]))\n",
    "\n",
    "    for axs_row, (mode, rec_data_list) in zip(axs, rec_data_sorted.items()):\n",
    "        axs_row[0].set_title(mode)\n",
    "        for idx, (rec_data, rec_data_all) in enumerate(zip(rec_data_list, rec_data_sorted['all'])):\n",
    "            Vm_diff = 1e3*(rec_data['Vm 0']-rec_data_all['Vm 0'])\n",
    "            rate_diff = (rec_data['rate Cone']-rec_data_all['rate Cone'])\n",
    "\n",
    "            axs_row[0].plot(rec_time, Vm_diff, lw=1)\n",
    "            axs_row[1].bar(idx, np.mean(Vm_diff)**2)\n",
    "            axs_row[2].plot(rec_time, rate_diff, lw=1)\n",
    "            axs_row[3].bar(idx, np.mean(rate_diff)**2)\n",
    "\n",
    "    for ax in np.append(axs[:,1], axs[:,3]):\n",
    "        ax.set_ylim((0, np.max([1, ax.get_ylim()[1]])))\n",
    "\n",
    "    plt.tight_layout(w_pad=0)\n",
    "    plt.show()"
   ]
  },
  {
   "cell_type": "markdown",
   "metadata": {},
   "source": [
    "### Loss functions"
   ]
  },
  {
   "cell_type": "code",
   "execution_count": null,
   "metadata": {},
   "outputs": [],
   "source": [
    "def compute_losses(loss, rec_data_sorted):\n",
    "    l_names = ['total'] + list(loss.loss_params.keys())\n",
    "    modes =rec_data_sorted.keys()\n",
    "\n",
    "    losses = {mode: {l_name: [] for l_name in l_names} for mode in modes}\n",
    "\n",
    "    for mode, rec_data_list in rec_data_sorted.items():\n",
    "        for rec_data in rec_data_list:\n",
    "            rec_data_loss = loss.calc_loss(rec_data={\n",
    "                'rate': rec_data['rate Cone'].values, 'Vm': rec_data['Vm 0'].values\n",
    "            })\n",
    "\n",
    "            for l_name in l_names:\n",
    "                losses[mode][l_name].append(rec_data_loss[l_name])\n",
    "    return losses"
   ]
  },
  {
   "cell_type": "code",
   "execution_count": null,
   "metadata": {},
   "outputs": [],
   "source": [
    "def loss2text(loss):\n",
    "    if loss < 0:\n",
    "        return '<0'\n",
    "    elif loss == 0:\n",
    "        return '0'\n",
    "    else:\n",
    "        return f\"{loss:.3f}\"\n",
    "        \n",
    "\n",
    "def plot_values(ax, idx, values):\n",
    "    ax.plot(idx, np.mean(values), marker='_', markersize=10, c='r', markeredgewidth=2)\n",
    "    ax.plot(np.full(len(values), idx), values, marker='_', markersize=5, c='orange', alpha=0.5, markeredgewidth=2)\n",
    "    ax.plot([idx, idx], [np.min(values), np.max(values)], c='k')\n",
    "\n",
    "    ax.text(idx, np.mean(values),\\\n",
    "            loss2text(np.max(values)) + '\\n' + loss2text(np.mean(values)) + '\\n' + loss2text(np.min(values)))"
   ]
  },
  {
   "cell_type": "code",
   "execution_count": null,
   "metadata": {},
   "outputs": [],
   "source": [
    "def plot_losses(losses):\n",
    "    fig, axs = plt.subplots(len(losses),2,figsize=(12,10), sharey='col')\n",
    "\n",
    "    for idx, (mode, loss_dict) in enumerate(losses.items()):\n",
    "        for ax_row, (l_name, l_values) in zip(axs, loss_dict.items()):\n",
    "            ax_row[0].set_ylabel(l_name, rotation=0, ha='right')\n",
    "            plot_values(ax=ax_row[0], idx=idx, values=l_values)\n",
    "            ax_row[0].axhline(0, color='gray')\n",
    "\n",
    "            if mode == 'all': ax_row[0].axhline(np.mean(l_values), color='red', alpha=0.3, ls='--')\n",
    "\n",
    "            add_err = np.abs(l_values) - np.abs(losses['all'][l_name])\n",
    "            plot_values(ax=ax_row[1], idx=idx, values=add_err)\n",
    "            ax_row[1].axhline(0, color='gray')\n",
    "\n",
    "    for ax in axs.flatten():       \n",
    "        ax.set_xticks(np.arange(len(losses.keys())))\n",
    "        ax.set_xticklabels(list(losses.keys()))\n",
    "\n",
    "    plt.tight_layout()"
   ]
  },
  {
   "cell_type": "code",
   "execution_count": null,
   "metadata": {},
   "outputs": [],
   "source": [
    "def get_modes_to_remove(losses):\n",
    "    remove_modes = []\n",
    "    for mode, loss_dict in losses.items():\n",
    "        if (np.max(loss_dict['total']) - np.max(losses['all']['total']) < 1e-3) or\\\n",
    "           (np.mean(loss_dict['total']) - np.mean(losses['all']['total']) < 0.0) :\n",
    "            remove_modes.append(mode)\n",
    "    print(remove_modes)\n",
    "    return remove_modes"
   ]
  },
  {
   "cell_type": "code",
   "execution_count": null,
   "metadata": {},
   "outputs": [],
   "source": [
    "def reduce_params(params_list, remove_modes):\n",
    "    redcued_params_list = []\n",
    "    for params in params_list:\n",
    "        reduced_params = params.copy()\n",
    "        \n",
    "        if 'no_ClCa' in remove_modes:\n",
    "            reduced_params = remove_ClCa_channels(reduced_params)\n",
    "        if 'no_Kv' in remove_modes:\n",
    "            reduced_params = remove_Kv_channels(reduced_params)\n",
    "        if 'no_HCN' in remove_modes:\n",
    "            reduced_params = remove_HCN_channels(reduced_params)\n",
    "\n",
    "        redcued_params_list.append(reduced_params)\n",
    "        \n",
    "    return redcued_params_list"
   ]
  },
  {
   "cell_type": "markdown",
   "metadata": {},
   "source": [
    "## Generate data"
   ]
  },
  {
   "cell_type": "code",
   "execution_count": null,
   "metadata": {},
   "outputs": [],
   "source": [
    "all_cone_params = []\n",
    "for params in opt_params_list:\n",
    "    all_cone_params.append(get_reduced_params_list(params))"
   ]
  },
  {
   "cell_type": "code",
   "execution_count": null,
   "metadata": {},
   "outputs": [],
   "source": [
    "all_cone_params_list = [params_i for params in all_cone_params for params_i in params.values()]\n",
    "len(all_cone_params_list)"
   ]
  },
  {
   "cell_type": "code",
   "execution_count": null,
   "metadata": {},
   "outputs": [],
   "source": [
    "load = False\n",
    "\n",
    "if not load:\n",
    "    cone_rec_data_list = cell.run_parallel(sim_params_list=all_cone_params_list, n_parallel=20)\n",
    "    data_utils.save_var((cone_rec_data_list, all_cone_params_list), os.path.join('data', 'cone_rec_data.pkl'))\n",
    "else:\n",
    "    cone_rec_data_list, all_cone_params_list = data_utils.load_var(os.path.join('data', 'cone_rec_data.pkl'))"
   ]
  },
  {
   "cell_type": "markdown",
   "metadata": {},
   "source": [
    "## Plot data"
   ]
  },
  {
   "cell_type": "code",
   "execution_count": null,
   "metadata": {},
   "outputs": [],
   "source": [
    "rec_time = cone_rec_data_list[0][1].copy()"
   ]
  },
  {
   "cell_type": "code",
   "execution_count": null,
   "metadata": {},
   "outputs": [],
   "source": [
    "modes = list(all_cone_params[0].keys())"
   ]
  },
  {
   "cell_type": "code",
   "execution_count": null,
   "metadata": {},
   "outputs": [],
   "source": [
    "cone_rec_data_sorted = {mode: [] for mode in modes}\n",
    "\n",
    "for i, (rec_data_i, params_i) in enumerate(zip(cone_rec_data_list, all_cone_params_list)):\n",
    "    mode = modes[i%len(modes)]\n",
    "    \n",
    "    print('### Mode: ', mode)\n",
    "    print('\\tZero channels:', end='\\t')\n",
    "    for k, v in params_i.items():\n",
    "        if 'cd_' in k and v == 0:\n",
    "            print(k, end=',')\n",
    "    \n",
    "    cone_rec_data_sorted[mode].append(rec_data_i[0])\n",
    "    print()"
   ]
  },
  {
   "cell_type": "markdown",
   "metadata": {},
   "source": [
    "### Plot traces"
   ]
  },
  {
   "cell_type": "code",
   "execution_count": null,
   "metadata": {},
   "outputs": [],
   "source": [
    "plot_Vm(rec_data_sorted=cone_rec_data_sorted, rec_time=rec_time)"
   ]
  },
  {
   "cell_type": "code",
   "execution_count": null,
   "metadata": {},
   "outputs": [],
   "source": [
    "plot_rate(rec_data_sorted=cone_rec_data_sorted, rec_time=rec_time)"
   ]
  },
  {
   "cell_type": "code",
   "execution_count": null,
   "metadata": {},
   "outputs": [],
   "source": [
    "compare_to_full_model(rec_data_sorted=cone_rec_data_sorted, rec_time=rec_time)"
   ]
  },
  {
   "cell_type": "markdown",
   "metadata": {},
   "source": [
    "### Plot loss"
   ]
  },
  {
   "cell_type": "code",
   "execution_count": null,
   "metadata": {},
   "outputs": [],
   "source": [
    "cone_losses = compute_losses(loss=cell_loss, rec_data_sorted=cone_rec_data_sorted)\n",
    "plot_losses(cone_losses)"
   ]
  },
  {
   "cell_type": "markdown",
   "metadata": {},
   "source": [
    "# Remove unessesary channels"
   ]
  },
  {
   "cell_type": "code",
   "execution_count": null,
   "metadata": {},
   "outputs": [],
   "source": [
    "cone_remove_modes = get_modes_to_remove(losses=cone_losses)\n",
    "reduced_cone_params_list = reduce_params(params_list=opt_params_list, remove_modes=cone_remove_modes)"
   ]
  },
  {
   "cell_type": "code",
   "execution_count": null,
   "metadata": {},
   "outputs": [],
   "source": [
    "load = False\n",
    "\n",
    "if not load:\n",
    "    reduced_cone_rec_data_list = cell.run_parallel(sim_params_list=reduced_cone_params_list, n_parallel=20)\n",
    "    data_utils.save_var(\n",
    "        (reduced_cone_rec_data_list, reduced_cone_params_list),\n",
    "        os.path.join('data', 'reduced_cone_rec_data_list.pkl')\n",
    "    )\n",
    "else:\n",
    "    reduced_cone_rec_data_list, redcued_cone_params_list =\\\n",
    "        data_utils.load_var(os.path.join('data', 'reduced_cone_rec_data_list.pkl'))"
   ]
  },
  {
   "cell_type": "code",
   "execution_count": null,
   "metadata": {},
   "outputs": [],
   "source": [
    "def print_loss_reduced(reduced_rec_data_list, rec_data_sorted):\n",
    "\n",
    "    for rec_data_reduced, rec_data_all in zip(reduced_rec_data_list, rec_data_sorted['all']):\n",
    "        rec_data_loss_reduced = cell_loss.calc_loss(rec_data={\n",
    "            'rate': rec_data_reduced[0]['rate Cone'].values, 'Vm': rec_data_reduced[0]['Vm 0'].values\n",
    "        })\n",
    "\n",
    "        rec_data_loss_all = cell_loss.calc_loss(rec_data={\n",
    "            'rate': rec_data_all['rate Cone'].values, 'Vm': rec_data_all['Vm 0'].values\n",
    "        })\n",
    "\n",
    "        print(f\"All params: {rec_data_loss_all['total']:.4f}\" +\n",
    "              f\" vs. reduced: {rec_data_loss_reduced['total']:.4f}\" +\n",
    "              f\" Difference {rec_data_loss_reduced['total']-rec_data_loss_all['total']:.6f}\")"
   ]
  },
  {
   "cell_type": "code",
   "execution_count": null,
   "metadata": {},
   "outputs": [],
   "source": [
    "print_loss_reduced(reduced_rec_data_list=reduced_cone_rec_data_list, rec_data_sorted=cone_rec_data_sorted)"
   ]
  },
  {
   "cell_type": "markdown",
   "metadata": {},
   "source": [
    "## Simulate CBC light stimulus"
   ]
  },
  {
   "cell_type": "code",
   "execution_count": null,
   "metadata": {},
   "outputs": [],
   "source": [
    "cbc_stimulus = pd.read_csv(os.path.join(data_folder, 'Franke2017_stimulus_time_and_amp_corrected.csv'))\n",
    "cbc_stimulus.plot(x='Time', figsize=(12,2));"
   ]
  },
  {
   "cell_type": "code",
   "execution_count": null,
   "metadata": {},
   "outputs": [],
   "source": [
    "cell.retsim_stim_file_base = 'Light_stimulus_optimize_CBCs'\n",
    "cell.set_stim(cbc_stimulus)\n",
    "cell.create_retsim_stim_file()"
   ]
  },
  {
   "cell_type": "code",
   "execution_count": null,
   "metadata": {},
   "outputs": [],
   "source": [
    "cell.rec_type = 'test'\n",
    "cbc_stim_response = cell.run_parallel(sim_params_list=reduced_cone_params_list+opt_params_list, n_parallel=4)"
   ]
  },
  {
   "cell_type": "code",
   "execution_count": null,
   "metadata": {},
   "outputs": [],
   "source": [
    "fig, axs = plt.subplots(1,2,figsize=(12,3))\n",
    "axs[0].plot(cbc_stim_response[0][0]['rate Cone'])\n",
    "axs[0].plot(cbc_stim_response[1][0]['rate Cone'])\n",
    "axs[1].set_title('Difference')\n",
    "axs[1].plot(cbc_stim_response[0][0]['rate Cone'] - cbc_stim_response[1][0]['rate Cone'])\n",
    "plt.show()"
   ]
  },
  {
   "cell_type": "markdown",
   "metadata": {},
   "source": [
    "# Save all data for figure"
   ]
  },
  {
   "cell_type": "code",
   "execution_count": null,
   "metadata": {},
   "outputs": [],
   "source": [
    "cone_rec_data_sorted['minimal'] = [rec_data[0] for rec_data in reduced_cone_rec_data_list]"
   ]
  },
  {
   "cell_type": "code",
   "execution_count": null,
   "metadata": {},
   "outputs": [],
   "source": [
    "data_utils.save_var(cone_rec_data_sorted, os.path.join('data', 'cone_data_sorted.pkl'))\n",
    "data_utils.save_var(rec_time, os.path.join('data', 'rec_time.pkl'))"
   ]
  },
  {
   "cell_type": "markdown",
   "metadata": {},
   "source": [
    "# Create retsim files for CBC optimization"
   ]
  },
  {
   "cell_type": "code",
   "execution_count": null,
   "metadata": {},
   "outputs": [],
   "source": [
    "# Select which parameters to remove. e.g. cd_ClCa for the paper cone.\n",
    "final_cone_params = final_model_output['params'].copy()\n",
    "final_cone_params['cd_ClCa'] = 0.0"
   ]
  },
  {
   "cell_type": "code",
   "execution_count": null,
   "metadata": {},
   "outputs": [],
   "source": [
    "retsim_params = cell.params_default.copy()\n",
    "retsim_params.update(final_cone_params)\n",
    "retsim_params = cell.add_units_to_params(retsim_params)\n",
    "retsim_params = cell.add_adaptive_cpl_params(retsim_params)\n",
    "cell.print_params(retsim_params)"
   ]
  },
  {
   "cell_type": "code",
   "execution_count": null,
   "metadata": {},
   "outputs": [],
   "source": [
    "rec_data = cell.run(sim_params=final_cone_params, verbose=False)"
   ]
  },
  {
   "cell_type": "markdown",
   "metadata": {},
   "source": [
    "## Save to file\n",
    "\n",
    "Save the optimized parameters to retsim files. <br>\n",
    "If you want to use them in other experiments, read user information below."
   ]
  },
  {
   "cell_type": "code",
   "execution_count": null,
   "metadata": {},
   "outputs": [],
   "source": [
    "opt_cone_retsim_folder = os.path.join(opt_cone_folder, 'retsim')"
   ]
  },
  {
   "cell_type": "code",
   "execution_count": null,
   "metadata": {},
   "outputs": [],
   "source": [
    "os.listdir(opt_cone_retsim_folder)"
   ]
  },
  {
   "cell_type": "code",
   "execution_count": null,
   "metadata": {},
   "outputs": [],
   "source": [
    "inputfiles =[\n",
    "    'chanparams_cone_optimize_cone.n',\n",
    "    'nval_cone_optimize_cone.n',\n",
    "    'dens_cone_optimize_cone.n',\n",
    "]\n",
    "\n",
    "for file in inputfiles: assert file in os.listdir(opt_cone_retsim_folder)\n",
    "\n",
    "outputfiles =[\n",
    "    'chanparams_cone_optimized.n',\n",
    "    'nval_cone_optimized.n',\n",
    "    'dens_cone_optimized.n',\n",
    "]"
   ]
  },
  {
   "cell_type": "code",
   "execution_count": null,
   "metadata": {},
   "outputs": [],
   "source": [
    "import update_retsim_param_files\n",
    "\n",
    "update_retsim_param_files.find_and_replace_in_files(\n",
    "    inputfiles=inputfiles,\n",
    "    input_folder=opt_cone_retsim_folder,\n",
    "    outputfiles=outputfiles,\n",
    "    output_folder=os.path.join(opt_cone_retsim_folder, '_optimized'),\n",
    "    params=retsim_params,\n",
    ")"
   ]
  },
  {
   "cell_type": "markdown",
   "metadata": {},
   "source": [
    "## README: How to use optimized cone for CBC experiments\n",
    "\n",
    "In order to use those file for the CBC experiments, you have to do the following manually.<br>\n",
    "However, if you have not done the full inference, e.g. if you used the test mode, just don't do anything from the following, as the files are already prepared.\n",
    "\n",
    "- Add the cone-density file to the retsim folder, and state the files name as a parameter in your CBC experiments\n",
    "- Copy the information from the chanparams-file and add it to the CBC-chanparams-file you want to use. Make sure channels that are used but have no optimized tau or off have values of 1 and 0 (i.e. defaults) resepetively\n",
    "- Copy the information from the nval-file and add it to the CBC-nval-file you want to use.\n",
    "- Make sure you don't overwrite optimization variables of the CBC files.\n",
    "- Make sure you add the information to the correct (or both) CBC types (ON=dbp1 and OFF=hbp1)\n",
    "- Use the test_cone function in your CBC notebook to test if the cones produces the output that was optimized."
   ]
  },
  {
   "cell_type": "code",
   "execution_count": null,
   "metadata": {},
   "outputs": [],
   "source": []
  }
 ],
 "metadata": {
  "hide_input": false,
  "kernelspec": {
   "display_name": "Python 3",
   "language": "python",
   "name": "python3"
  },
  "language_info": {
   "codemirror_mode": {
    "name": "ipython",
    "version": 3
   },
   "file_extension": ".py",
   "mimetype": "text/x-python",
   "name": "python",
   "nbconvert_exporter": "python",
   "pygments_lexer": "ipython3",
   "version": "3.7.5"
  },
  "toc": {
   "base_numbering": 1,
   "nav_menu": {},
   "number_sections": true,
   "sideBar": true,
   "skip_h1_title": false,
   "title_cell": "Table of Contents",
   "title_sidebar": "Contents",
   "toc_cell": false,
   "toc_position": {
    "height": "calc(100% - 180px)",
    "left": "10px",
    "top": "150px",
    "width": "383.969px"
   },
   "toc_section_display": true,
   "toc_window_display": true
  },
  "varInspector": {
   "cols": {
    "lenName": 16,
    "lenType": 16,
    "lenVar": 40
   },
   "kernels_config": {
    "python": {
     "delete_cmd_postfix": "",
     "delete_cmd_prefix": "del ",
     "library": "var_list.py",
     "varRefreshCmd": "print(var_dic_list())"
    },
    "r": {
     "delete_cmd_postfix": ") ",
     "delete_cmd_prefix": "rm(",
     "library": "var_list.r",
     "varRefreshCmd": "cat(var_dic_list()) "
    }
   },
   "types_to_exclude": [
    "module",
    "function",
    "builtin_function_or_method",
    "instance",
    "_Feature"
   ],
   "window_display": false
  }
 },
 "nbformat": 4,
 "nbformat_minor": 2
}
