{
 "cells": [
  {
   "cell_type": "markdown",
   "metadata": {},
   "source": [
    "# Imports"
   ]
  },
  {
   "cell_type": "code",
   "execution_count": null,
   "metadata": {},
   "outputs": [],
   "source": [
    "import importlib\n",
    "import pandas as pd\n",
    "import numpy as np\n",
    "\n",
    "import os\n",
    "import sys"
   ]
  },
  {
   "cell_type": "code",
   "execution_count": null,
   "metadata": {},
   "outputs": [],
   "source": [
    "pythoncodepath = os.path.abspath(os.path.join('..', '..', 'pythoncode'))\n",
    "sys.path = [pythoncodepath] + sys.path\n",
    "import importhelper\n",
    "importhelper.addfolders2path(pythoncodepath)"
   ]
  },
  {
   "cell_type": "code",
   "execution_count": null,
   "metadata": {},
   "outputs": [],
   "source": [
    "import data_utils"
   ]
  },
  {
   "cell_type": "markdown",
   "metadata": {},
   "source": [
    "# Load data"
   ]
  },
  {
   "cell_type": "code",
   "execution_count": null,
   "metadata": {},
   "outputs": [],
   "source": [
    "cone_optim_folder = os.path.join('..', '..', 'step1a_optimize_cones', 'optim_data')\n",
    "cbc_optim_folder = os.path.join('..', '..', 'step2a_optimize_cbc', 'optim_data')"
   ]
  },
  {
   "cell_type": "code",
   "execution_count": null,
   "metadata": {},
   "outputs": [],
   "source": [
    "os.listdir(cone_optim_folder)"
   ]
  },
  {
   "cell_type": "code",
   "execution_count": null,
   "metadata": {},
   "outputs": [],
   "source": [
    "sorted(os.listdir(cbc_optim_folder))"
   ]
  },
  {
   "cell_type": "code",
   "execution_count": null,
   "metadata": {},
   "outputs": [],
   "source": [
    "cell2folder = {\n",
    "    'Cone':  os.path.join(cone_optim_folder, 'optimize_cone_submission2'),\n",
    "    'OFF':  os.path.join(cbc_optim_folder, 'optimize_OFF_submission2'),\n",
    "    'ON':   os.path.join(cbc_optim_folder, 'optimize_ON_submission2'),\n",
    "}"
   ]
  },
  {
   "cell_type": "code",
   "execution_count": null,
   "metadata": {},
   "outputs": [],
   "source": [
    "final_model_outputs = {}\n",
    "\n",
    "for cell, folder in cell2folder.items():\n",
    "    final_model_outputs[cell] = data_utils.load_var(os.path.join(folder, 'post_data', 'final_model_output.pkl'))"
   ]
  },
  {
   "cell_type": "markdown",
   "metadata": {},
   "source": [
    "# Compute peak times"
   ]
  },
  {
   "cell_type": "code",
   "execution_count": null,
   "metadata": {},
   "outputs": [],
   "source": [
    "def compute_peak_delays(cell, params_dict_list, rng=(-0.3,0.3), ignore_rec_times=[]):\n",
    "    trace_list = [final_model_outputs[cell]['Target'], final_model_outputs[cell]['iGlu']]\n",
    "    time_list =  final_model_outputs[cell]['Time-Target']\n",
    "    color_list = ['r', 'g']\n",
    "    label_list = ['target', 'fit']\n",
    "\n",
    "    peak_data = plot_peaks.compare_peaks_in_traces(\n",
    "        trace_list=trace_list,\n",
    "        time_list=time_list,\n",
    "        params_dict_list=params_dict_list,\n",
    "        color_list=color_list,\n",
    "        label_list=label_list,\n",
    "        plot=True,\n",
    "        xlims=xlims,\n",
    "        mode=2,\n",
    "        rng=rng,\n",
    "        figsize=(12,4),\n",
    "        ignore_rec_times=ignore_rec_times, # Ignore noisy parts.\n",
    "    )\n",
    "        \n",
    "    return peak_data"
   ]
  },
  {
   "cell_type": "code",
   "execution_count": null,
   "metadata": {},
   "outputs": [],
   "source": [
    "import plot_peaks\n",
    "importlib.reload(plot_peaks)\n",
    "xlims = [(0,32), (1, 4), (4,6), (11, 13), (13, 15), (15, 17), (17, 19), (20, 22), (22, 25), (25, 27), (27, 31)]"
   ]
  },
  {
   "cell_type": "code",
   "execution_count": null,
   "metadata": {},
   "outputs": [],
   "source": [
    "cell_peak_data = {}"
   ]
  },
  {
   "cell_type": "markdown",
   "metadata": {},
   "source": [
    "## Cone"
   ]
  },
  {
   "cell_type": "code",
   "execution_count": null,
   "metadata": {},
   "outputs": [],
   "source": [
    "np.random.seed(13214)\n",
    "\n",
    "cell ='Cone'\n",
    "\n",
    "params_dict_list = [{'prom': 0.1}, {'prom': 0.1}]\n",
    "\n",
    "cell_peak_data[cell] = compute_peak_delays(cell, params_dict_list, ignore_rec_times=[(16, 23)])"
   ]
  },
  {
   "cell_type": "markdown",
   "metadata": {},
   "source": [
    "## OFF"
   ]
  },
  {
   "cell_type": "code",
   "execution_count": null,
   "metadata": {},
   "outputs": [],
   "source": [
    "np.random.seed(13214)\n",
    "\n",
    "cell ='OFF'\n",
    "\n",
    "params_dict_list = [{'prom': 0.2}, {'prom': 0.1}]\n",
    "\n",
    "cell_peak_data[cell] = compute_peak_delays(cell, params_dict_list, ignore_rec_times=[(16, 21)])"
   ]
  },
  {
   "cell_type": "markdown",
   "metadata": {},
   "source": [
    "## ON"
   ]
  },
  {
   "cell_type": "code",
   "execution_count": null,
   "metadata": {},
   "outputs": [],
   "source": [
    "np.random.seed(13214)\n",
    "\n",
    "cell ='ON'\n",
    "\n",
    "params_dict_list = [{'prom': 0.1}, {'prom': 0.03}] \n",
    "\n",
    "cell_peak_data[cell] = compute_peak_delays(cell, params_dict_list, ignore_rec_times=[(16, 21)])"
   ]
  },
  {
   "cell_type": "markdown",
   "metadata": {},
   "source": [
    "## Summarize"
   ]
  },
  {
   "cell_type": "code",
   "execution_count": null,
   "metadata": {},
   "outputs": [],
   "source": [
    "# Print all peaks with > 100 ms dt\n",
    "\n",
    "summarized_peak_data = {}\n",
    "\n",
    "for cell, peak_data in cell_peak_data.items():\n",
    "    summarized_peak_data[cell] = {}\n",
    "    print()\n",
    "    print(cell)\n",
    "    print(\"Num pos. peaks\", len(cell_peak_data[cell][-1]['fit']['pos']))\n",
    "    print(\"Num neg. peaks\", len(cell_peak_data[cell][-1]['fit']['neg']))\n",
    "    \n",
    "    for pn in ['pos', 'neg', 'all']:\n",
    "        summarized_peak_data[cell][pn] = {}\n",
    "        \n",
    "        for typ in ['dt', 't0', 't1', 'A0', 'A1']:\n",
    "            summarized_peak_data[cell][pn][typ] = []\n",
    "        \n",
    "        for peak_dt, peak_t0, peak_t1, peak_A0, peak_A1 in cell_peak_data[cell][-1]['fit'][pn]:\n",
    "            summarized_peak_data[cell][pn]['dt'].append(peak_dt)\n",
    "            summarized_peak_data[cell][pn]['t0'].append(peak_t0)\n",
    "            summarized_peak_data[cell][pn]['t1'].append(peak_t1)\n",
    "            summarized_peak_data[cell][pn]['A0'].append(peak_A0)\n",
    "            summarized_peak_data[cell][pn]['A1'].append(peak_A1)\n",
    "            \n",
    "            if (np.abs(peak_dt) > 0.1) and (pn == 'all'):\n",
    "                print(peak_dt)"
   ]
  },
  {
   "cell_type": "code",
   "execution_count": null,
   "metadata": {},
   "outputs": [],
   "source": [
    "data_utils.make_dir('preprocessed_data')\n",
    "data_utils.save_var(summarized_peak_data, 'preprocessed_data/summarized_peak_data.pkl')"
   ]
  },
  {
   "cell_type": "markdown",
   "metadata": {},
   "source": [
    "# Extract some data for text"
   ]
  },
  {
   "cell_type": "markdown",
   "metadata": {},
   "source": [
    "## Peak times"
   ]
  },
  {
   "cell_type": "code",
   "execution_count": null,
   "metadata": {},
   "outputs": [],
   "source": [
    "from datetime import datetime"
   ]
  },
  {
   "cell_type": "code",
   "execution_count": null,
   "metadata": {},
   "outputs": [],
   "source": [
    "lines = []\n",
    "\n",
    "lines.append('%' + str(datetime.now()) + '\\n')\n",
    "\n",
    "for cell in ['ON', 'OFF']:\n",
    "        \n",
    "    for peak_type in ['pos', 'neg', 'all']:\n",
    "        lines.append(\"\\\\newcommand\\\\delay\" + cell + peak_type + \"Mean{\" +\"{:.1f}\".format(\\\n",
    "                                             np.mean(summarized_peak_data[cell][peak_type]['dt'])*1e3) + \"}\\n\")\n",
    "        lines.append(\"\\\\newcommand\\\\delay\" + cell + peak_type + \"Median{\" + \"{:.1f}\".format(\\\n",
    "                                             np.median(summarized_peak_data[cell][peak_type]['dt'])*1e3) + \"}\\n\")\n",
    "lines"
   ]
  },
  {
   "cell_type": "code",
   "execution_count": null,
   "metadata": {},
   "outputs": [],
   "source": [
    "data_utils.make_dir('text_data')\n",
    "with open('text_data/peak_delay_measure.tex', 'w') as f:\n",
    "    f.writelines(lines)"
   ]
  },
  {
   "cell_type": "markdown",
   "metadata": {},
   "source": [
    "## Number of compartments."
   ]
  },
  {
   "cell_type": "code",
   "execution_count": null,
   "metadata": {},
   "outputs": [],
   "source": [
    "n_comps_lines = []\n",
    "\n",
    "n_comps_lines.append('%' + str(datetime.now()) + '\\n')\n",
    "\n",
    "for cell, folder in cell2folder.items():\n",
    "    if 'cbc' in folder:\n",
    "        n_cpl_dict = data_utils.load_var(os.path.join(folder, 'n_cpl_dict.pkl'))\n",
    "        for mode, n_comps in n_cpl_dict.items():\n",
    "            n_comps_lines.append(\"\\\\newcommand\\\\ncomps\" + cell + mode + \"{\" + str(n_comps) + \"}\\n\")\n",
    "\n",
    "n_comps_lines"
   ]
  },
  {
   "cell_type": "code",
   "execution_count": null,
   "metadata": {},
   "outputs": [],
   "source": [
    "with open('text_data/n_comps.tex', 'w') as f:\n",
    "    f.writelines(n_comps_lines)"
   ]
  },
  {
   "cell_type": "code",
   "execution_count": null,
   "metadata": {},
   "outputs": [],
   "source": []
  }
 ],
 "metadata": {
  "kernelspec": {
   "display_name": "Python 3",
   "language": "python",
   "name": "python3"
  },
  "language_info": {
   "codemirror_mode": {
    "name": "ipython",
    "version": 3
   },
   "file_extension": ".py",
   "mimetype": "text/x-python",
   "name": "python",
   "nbconvert_exporter": "python",
   "pygments_lexer": "ipython3",
   "version": "3.7.5"
  },
  "toc": {
   "base_numbering": 1,
   "nav_menu": {},
   "number_sections": true,
   "sideBar": true,
   "skip_h1_title": false,
   "title_cell": "Table of Contents",
   "title_sidebar": "Contents",
   "toc_cell": false,
   "toc_position": {
    "height": "calc(100% - 180px)",
    "left": "10px",
    "top": "150px",
    "width": "384px"
   },
   "toc_section_display": true,
   "toc_window_display": true
  },
  "varInspector": {
   "cols": {
    "lenName": 16,
    "lenType": 16,
    "lenVar": 40
   },
   "kernels_config": {
    "python": {
     "delete_cmd_postfix": "",
     "delete_cmd_prefix": "del ",
     "library": "var_list.py",
     "varRefreshCmd": "print(var_dic_list())"
    },
    "r": {
     "delete_cmd_postfix": ") ",
     "delete_cmd_prefix": "rm(",
     "library": "var_list.r",
     "varRefreshCmd": "cat(var_dic_list()) "
    }
   },
   "types_to_exclude": [
    "module",
    "function",
    "builtin_function_or_method",
    "instance",
    "_Feature"
   ],
   "window_display": false
  }
 },
 "nbformat": 4,
 "nbformat_minor": 2
}
