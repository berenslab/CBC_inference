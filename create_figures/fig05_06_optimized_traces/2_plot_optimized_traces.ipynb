{
 "cells": [
  {
   "cell_type": "markdown",
   "metadata": {},
   "source": [
    "# Imports"
   ]
  },
  {
   "cell_type": "code",
   "execution_count": null,
   "metadata": {},
   "outputs": [],
   "source": [
    "import pandas as pd\n",
    "import numpy as np\n",
    "import seaborn as sns \n",
    "\n",
    "from matplotlib import pyplot as plt\n",
    "from matplotlib import lines\n",
    "from matplotlib.patches import Rectangle\n",
    "\n",
    "import os\n",
    "import sys"
   ]
  },
  {
   "cell_type": "code",
   "execution_count": null,
   "metadata": {},
   "outputs": [],
   "source": [
    "pythoncodepath = os.path.abspath(os.path.join('..', '..', 'pythoncode'))\n",
    "sys.path = [pythoncodepath] + sys.path\n",
    "import importhelper\n",
    "importhelper.addfolders2path(pythoncodepath)"
   ]
  },
  {
   "cell_type": "code",
   "execution_count": null,
   "metadata": {},
   "outputs": [],
   "source": [
    "import data_utils\n",
    "import plot_utils\n",
    "\n",
    "plot_utils.set_rcParams()"
   ]
  },
  {
   "cell_type": "code",
   "execution_count": null,
   "metadata": {},
   "outputs": [],
   "source": [
    "fig_num1 = os.getcwd().split('/')[-1][3:5]\n",
    "print(fig_num1)\n",
    "\n",
    "fig_num2 = os.getcwd().split('/')[-1][6:8]\n",
    "print(fig_num2)"
   ]
  },
  {
   "cell_type": "markdown",
   "metadata": {},
   "source": [
    "# Get data"
   ]
  },
  {
   "cell_type": "code",
   "execution_count": null,
   "metadata": {},
   "outputs": [],
   "source": [
    "cone_optim_folder = os.path.join('..', '..', 'step1a_optimize_cones', 'optim_data')\n",
    "cbc_optim_folder = os.path.join('..', '..', 'step2a_optimize_cbc', 'optim_data')"
   ]
  },
  {
   "cell_type": "code",
   "execution_count": null,
   "metadata": {},
   "outputs": [],
   "source": [
    "os.listdir(cone_optim_folder)"
   ]
  },
  {
   "cell_type": "code",
   "execution_count": null,
   "metadata": {},
   "outputs": [],
   "source": [
    "sorted(os.listdir(cbc_optim_folder))"
   ]
  },
  {
   "cell_type": "code",
   "execution_count": null,
   "metadata": {},
   "outputs": [],
   "source": [
    "cell2folder = {\n",
    "    'Cone': os.path.join(cone_optim_folder, 'optimize_cone_submission2'),\n",
    "    'OFF':  os.path.join(cbc_optim_folder, 'optimize_OFF_submission2'),\n",
    "    'ON':   os.path.join(cbc_optim_folder, 'optimize_ON_submission2'),\n",
    "}"
   ]
  },
  {
   "cell_type": "code",
   "execution_count": null,
   "metadata": {},
   "outputs": [],
   "source": [
    "cell2data = {}\n",
    "for cell, folder in cell2folder.items():\n",
    "    cell2data[cell] = {}\n",
    "    \n",
    "    rec_time = data_utils.load_var(os.path.join(folder, 'post_data', 'rec_time.pkl')) \n",
    "    idxs = np.arange(0,rec_time.size,10)\n",
    "    \n",
    "    cell2data[cell]['rec_time'] = rec_time[idxs]\n",
    "    cell2data[cell]['iGlus']    = data_utils.load_var(os.path.join(folder, 'post_data', 'iGlus.pkl'))\n",
    "    cell2data[cell]['Vms']      = data_utils.load_var(os.path.join(folder, 'post_data', 'Vms.pkl'))[:,idxs]\n",
    "    cell2data[cell]['rates']    = data_utils.load_var(os.path.join(folder, 'post_data', 'rates.pkl'))[:,idxs]\n",
    "    \n",
    "    final_model_output = data_utils.load_var(os.path.join(folder, 'post_data', 'final_model_output.pkl'))\n",
    "    \n",
    "    cell2data[cell]['iGlu_best']   = final_model_output['iGlu']\n",
    "    cell2data[cell]['Vm_best']     = final_model_output['Vm'][idxs]\n",
    "    cell2data[cell]['rate_best']   = final_model_output['rate'][idxs]\n",
    "    \n",
    "    cell2data[cell]['Stim']        = final_model_output['Stimulus']\n",
    "    \n",
    "    cell2data[cell]['Target']      = final_model_output['Target']\n",
    "    cell2data[cell]['Time-Target'] = final_model_output['Time-Target']"
   ]
  },
  {
   "cell_type": "markdown",
   "metadata": {},
   "source": [
    "# Save source data"
   ]
  },
  {
   "cell_type": "code",
   "execution_count": null,
   "metadata": {},
   "outputs": [],
   "source": [
    "data_utils.make_dir('source_data/Cone')\n",
    "data_utils.make_dir('source_data/CBC')"
   ]
  },
  {
   "cell_type": "markdown",
   "metadata": {},
   "source": [
    "## Export stimuli"
   ]
  },
  {
   "cell_type": "code",
   "execution_count": null,
   "metadata": {},
   "outputs": [],
   "source": [
    "cell2data['Cone']['Stim'].to_csv(\n",
    "    'source_data/Cone/Stimulus.csv',\n",
    "    float_format=\"%.4f\", header=['Time/s', 'Normalized Stimulus'], index=False\n",
    ")\n",
    "\n",
    "pd.read_csv('source_data/Cone/Stimulus.csv').plot(x='Time/s', figsize=(8,1));"
   ]
  },
  {
   "cell_type": "code",
   "execution_count": null,
   "metadata": {},
   "outputs": [],
   "source": [
    "cell2data['ON']['Stim'].to_csv(\n",
    "    'source_data/CBC/Stimulus.csv',\n",
    "    float_format=\"%.4f\", header=['Time/s', 'Normalized Stimulus'], index=False\n",
    ")\n",
    "\n",
    "pd.read_csv('source_data/CBC/Stimulus.csv').plot(x='Time/s', figsize=(8,1));"
   ]
  },
  {
   "cell_type": "markdown",
   "metadata": {},
   "source": [
    "## iGluSnFR"
   ]
  },
  {
   "cell_type": "code",
   "execution_count": null,
   "metadata": {},
   "outputs": [],
   "source": [
    "for cell in cell2folder.keys():\n",
    "    \n",
    "    if cell == 'Cone':\n",
    "        filename= 'source_data/Cone/iGluSnFR_target_and_samples.csv'\n",
    "    else:\n",
    "        filename= 'source_data/CBC/' + cell + '_iGluSnFR_target_and_samples.csv'\n",
    "        \n",
    "    iGlu_cols = ['Sample' + str(i+1) + ': iGluSnFR' for i in range(200)]\n",
    "    \n",
    "    iGluSnFR_exdf = pd.DataFrame(columns=['Time/s', 'Target: iGluSnFR', 'Best Sample: iGluSnFR'] + iGlu_cols)\n",
    "        \n",
    "    iGluSnFR_exdf['Time/s'] = cell2data[cell]['Time-Target']\n",
    "    iGluSnFR_exdf['Target: iGluSnFR'] = cell2data[cell]['Target']\n",
    "    iGluSnFR_exdf['Best Sample: iGluSnFR'] = cell2data[cell]['iGlu_best']\n",
    "   \n",
    "    iGluSnFR_exdf[iGlu_cols] = cell2data[cell]['iGlus'].T\n",
    "    \n",
    "    iGluSnFR_exdf.to_csv(filename, float_format=\"%.4f\", index=False) "
   ]
  },
  {
   "cell_type": "code",
   "execution_count": null,
   "metadata": {},
   "outputs": [],
   "source": [
    "for cell in cell2folder.keys():\n",
    "    \n",
    "    if cell == 'Cone':\n",
    "        filename= 'source_data/Cone/iGluSnFR_target_and_samples.csv'\n",
    "    else:\n",
    "        filename= 'source_data/CBC/' + cell + '_iGluSnFR_target_and_samples.csv'\n",
    "\n",
    "    fig, ax = plt.subplots(1,1,figsize=(8,2))\n",
    "    iGluSnFR_exdf = pd.read_csv(filename)\n",
    "    iGluSnFR_exdf.plot(x='Time/s', legend=None, ax=ax, color='gray', lw=0.5)\n",
    "    ax.plot(iGluSnFR_exdf['Time/s'], iGluSnFR_exdf['Target: iGluSnFR'], lw=2)\n",
    "    ax.plot(iGluSnFR_exdf['Time/s'], iGluSnFR_exdf['Best Sample: iGluSnFR'], lw=1)"
   ]
  },
  {
   "cell_type": "markdown",
   "metadata": {},
   "source": [
    "## Rate and Vms"
   ]
  },
  {
   "cell_type": "code",
   "execution_count": null,
   "metadata": {},
   "outputs": [],
   "source": [
    "for cell in cell2folder.keys():\n",
    "    \n",
    "    if cell == 'Cone':\n",
    "        filename= 'source_data/Cone/rates_and_Vms_target_and_samples.csv'\n",
    "    else:\n",
    "        filename= 'source_data/CBC/' + cell + '_rates_and_Vms_target_and_samples.csv'\n",
    "        \n",
    "    rate_cols = ['Sample' + str(i+1) + ': Mean release rate/(ves./s)' for i in range(200)]\n",
    "    Vm_cols = ['Sample' + str(i+1) + ': Somatic membrane potential/mV' for i in range(200)]\n",
    "    \n",
    "    ratesVms_exdf = pd.DataFrame(\n",
    "        columns=['Time/s', 'Target: iGluSnFR'] +\\\n",
    "        ['Best Sample: Mean release rate/(ves./s)' + 'Best Sample: Somatic membrane potential/mV'] +\\\n",
    "        rate_cols + Vm_cols)\n",
    "        \n",
    "    ratesVms_exdf['Time/s'] = cell2data[cell]['rec_time']\n",
    "   \n",
    "    ratesVms_exdf['Best Sample: Mean release rate/(ves./s)'] = cell2data[cell]['rate_best']\n",
    "    ratesVms_exdf['Best Sample: Somatic membrane potential/mV'] = cell2data[cell]['Vm_best']*1e3\n",
    "\n",
    "    ratesVms_exdf[rate_cols] = cell2data[cell]['rates'].T\n",
    "    ratesVms_exdf[Vm_cols] = cell2data[cell]['Vms'].T*1e3\n",
    "    \n",
    "    ratesVms_exdf.to_csv(filename, float_format=\"%.4f\", index=False) "
   ]
  },
  {
   "cell_type": "code",
   "execution_count": null,
   "metadata": {},
   "outputs": [],
   "source": [
    "for cell in cell2folder.keys():\n",
    "    \n",
    "    if cell == 'Cone':\n",
    "        filename= 'source_data/Cone/rates_and_Vms_target_and_samples.csv'\n",
    "    else:\n",
    "        filename= 'source_data/CBC/' + cell + '_rates_and_Vms_target_and_samples.csv'\n",
    "\n",
    "    rate_cols = ['Sample' + str(i+1) + ': Mean release rate/(ves./s)' for i in range(200)]\n",
    "    Vm_cols = ['Sample' + str(i+1) + ': Somatic membrane potential/mV' for i in range(200)]\n",
    "        \n",
    "    fig, axs = plt.subplots(1,2,figsize=(8,2))\n",
    "    ratesVms_exdf = pd.read_csv(filename)\n",
    "    ratesVms_exdf.plot(x='Time/s', y=rate_cols, legend=None, ax=axs[0], color='gray', lw=0.5)\n",
    "    ratesVms_exdf.plot(x='Time/s', y=Vm_cols, legend=None, ax=axs[1], color='gray', lw=0.5)\n",
    "    axs[0].plot(ratesVms_exdf['Time/s'], ratesVms_exdf['Best Sample: Mean release rate/(ves./s)'], lw=1)\n",
    "    axs[1].plot(ratesVms_exdf['Time/s'], ratesVms_exdf['Best Sample: Somatic membrane potential/mV'], lw=1)"
   ]
  },
  {
   "cell_type": "markdown",
   "metadata": {},
   "source": [
    "# Plot."
   ]
  },
  {
   "cell_type": "markdown",
   "metadata": {},
   "source": [
    "## Parameters"
   ]
  },
  {
   "cell_type": "code",
   "execution_count": null,
   "metadata": {},
   "outputs": [],
   "source": [
    "target_color = 'darkorange'\n",
    "trace_color = 'C0'\n",
    "\n",
    "target_peak_color = 'saddlebrown'\n",
    "\n",
    "trace_peak_neg_color = 'c'\n",
    "trace_peak_pos_color = 'navy'"
   ]
  },
  {
   "cell_type": "markdown",
   "metadata": {},
   "source": [
    "## Plot helper functions"
   ]
  },
  {
   "cell_type": "code",
   "execution_count": null,
   "metadata": {},
   "outputs": [],
   "source": [
    "def set_ylabel(label, ax, ylab_pad=5):\n",
    "   \n",
    "    ax.set_ylabel(\n",
    "        label, rotation=90,\n",
    "        horizontalalignment='center', verticalalignment='bottom',\n",
    "        labelpad=ylab_pad\n",
    "    )"
   ]
  },
  {
   "cell_type": "code",
   "execution_count": null,
   "metadata": {},
   "outputs": [],
   "source": [
    "def plot_median_and_uncertainty(ax, time, data):\n",
    "    \n",
    "    assert np.all(np.isfinite(data))\n",
    "    \n",
    "    median = np.median(data, axis=0)\n",
    "    lb = np.percentile(data, q=10, axis=0)\n",
    "    ub = np.percentile(data, q=90, axis=0)\n",
    "        \n",
    "    ax.plot(time, median, c='k', linestyle='-', alpha=0.5, label='mean', clip_on=False, linewidth='0.5')\n",
    "    ax.fill_between(time, lb, ub, alpha=0.3, facecolor=\"k\", label='uncertainty', clip_on=False, zorder=10, lw=0)"
   ]
  },
  {
   "cell_type": "code",
   "execution_count": null,
   "metadata": {},
   "outputs": [],
   "source": [
    "def plot_rest_hist(ax, data, bins):\n",
    "    ax.hist(data, facecolor='gray', bins=bins, alpha=1, orientation='horizontal', lw=0)"
   ]
  },
  {
   "cell_type": "markdown",
   "metadata": {},
   "source": [
    "### Plot stimulus"
   ]
  },
  {
   "cell_type": "code",
   "execution_count": null,
   "metadata": {},
   "outputs": [],
   "source": [
    "stim_color = (0.8, 0.1, 0.1)\n",
    "\n",
    "def plot_stim(ax, cell, c=stim_color, alpha=1):\n",
    "    stim_df = cell2data[cell]['Stim']\n",
    "    ax.plot(stim_df['Time'], stim_df['Stim'], c=c, alpha=alpha, lw=0.8)    \n",
    "    set_ylabel(r'Light' + '\\n' + '(norm.)', ax)"
   ]
  },
  {
   "cell_type": "markdown",
   "metadata": {},
   "source": [
    "### Plot Vms"
   ]
  },
  {
   "cell_type": "code",
   "execution_count": null,
   "metadata": {},
   "outputs": [],
   "source": [
    "def plot_Vm(ax, normalize=True, n_drop=0):\n",
    "    \n",
    "    rec_time = cell2data[cell]['rec_time']\n",
    "    Vms = cell2data[cell]['Vms']*1e3\n",
    "    Vm_best = cell2data[cell]['Vm_best']*1e3\n",
    "    \n",
    "    set_ylabel(r'V$_m$' + '\\n' + '(mV)', ax)\n",
    "    \n",
    "    if normalize:\n",
    "        Vm_best = Vm_best - Vm_best[n_drop]\n",
    "        Vms = (Vms.T-Vms[:,n_drop]).T\n",
    "        \n",
    "    ax.plot(rec_time[n_drop:], Vm_best[n_drop:], c=trace_color, lw=0.8, clip_on=False)\n",
    "    plot_median_and_uncertainty(ax, rec_time[n_drop:], Vms[:,n_drop:])"
   ]
  },
  {
   "cell_type": "code",
   "execution_count": null,
   "metadata": {},
   "outputs": [],
   "source": [
    "def plot_Vm_rest(ax, cell, n_drop=0, bins=10):\n",
    "    Vms = cell2data[cell]['Vms']*1e3\n",
    "    plot_rest_hist(ax, data=Vms[:,n_drop], bins=bins)"
   ]
  },
  {
   "cell_type": "markdown",
   "metadata": {},
   "source": [
    "### Plot rates."
   ]
  },
  {
   "cell_type": "code",
   "execution_count": null,
   "metadata": {},
   "outputs": [],
   "source": [
    "def plot_rate(ax, normalize=True, n_drop=0):\n",
    "    \n",
    "    rec_time = cell2data[cell]['rec_time']\n",
    "    rates = cell2data[cell]['rates']\n",
    "    rate_best = cell2data[cell]['rate_best']\n",
    "    \n",
    "    set_ylabel(r'Rate' + '\\n' + '(ves./s)', ax)\n",
    "    \n",
    "    if normalize:\n",
    "        rate_best = rate_best - rate_best[n_drop]\n",
    "        rates = (rates.T-rates[:,n_drop]).T\n",
    "    \n",
    "    ax.plot(rec_time[n_drop:], rate_best[n_drop:], c=trace_color, lw=0.8, clip_on=False)\n",
    "    plot_median_and_uncertainty(ax, rec_time[n_drop:], rates[:,n_drop:])"
   ]
  },
  {
   "cell_type": "code",
   "execution_count": null,
   "metadata": {},
   "outputs": [],
   "source": [
    "def plot_rate_rest(ax, cell, n_drop=0, bins=10):\n",
    "    rates = cell2data[cell]['rates']\n",
    "    plot_rest_hist(ax, data=rates[:,n_drop], bins=bins)\n",
    "    ax.set_ylim(0, None)"
   ]
  },
  {
   "cell_type": "markdown",
   "metadata": {},
   "source": [
    "### Plot iGluSnFR traces"
   ]
  },
  {
   "cell_type": "code",
   "execution_count": null,
   "metadata": {},
   "outputs": [],
   "source": [
    "n_xlims_ex = 3\n",
    "xlims_ex = {}\n",
    "xlims_ex['OFF'] = [(4.6, 5.6), (11.6, 14.1), (21, 25.5)]\n",
    "xlims_ex['ON'] = [(1.6, 2.6), (11.6, 14.1), (21, 25.5)]\n",
    "xlims_ex['Cone'] = [(1.6, 2.6), (11.5, 14), (23, 28.5)]\n",
    "\n",
    "for xlims_ex_i in xlims_ex.values():\n",
    "    assert len(xlims_ex_i) == n_xlims_ex"
   ]
  },
  {
   "cell_type": "code",
   "execution_count": null,
   "metadata": {},
   "outputs": [],
   "source": [
    "def plot_iGlu(ax, cell, x_min_max=None, n_drop=0, plot_ylab=True):\n",
    "   \n",
    "    rec_time = cell2data[cell]['Time-Target']\n",
    "    iGlus = cell2data[cell]['iGlus']\n",
    "    iGlu_best = cell2data[cell]['iGlu_best']\n",
    "    target = cell2data[cell]['Target']\n",
    "\n",
    "    if plot_ylab: set_ylabel(r'iGluSnFR' + '\\n' + '(norm.)', ax)\n",
    "    \n",
    "    if x_min_max is not None:\n",
    "        idx = np.array((rec_time >= x_min_max[0]) & (rec_time <= x_min_max[1]))\n",
    "        rec_time = rec_time[idx]\n",
    "        target = target[idx]\n",
    "        iGlu_best = iGlu_best[idx]\n",
    "        iGlus = iGlus[:,idx]\n",
    "    else:\n",
    "        rec_time = rec_time[n_drop:]\n",
    "        target = target[n_drop:]\n",
    "        iGlu_best = iGlu_best[n_drop:]\n",
    "        iGlus = iGlus[:,n_drop:]\n",
    "\n",
    "    ax.plot(rec_time, target, c=target_color, alpha=1, lw=0.8)\n",
    "    ax.plot(rec_time, iGlu_best, c=trace_color, alpha=1, lw=0.8)\n",
    "    ax.plot(rec_time, target, c=target_color, alpha=0.4, lw=0.8)\n",
    "    \n",
    "    peak_iGlu_ylims = (np.min([np.min(target), np.min(iGlu_best)])-0.03,\n",
    "                       np.max([np.max(target), np.max(iGlu_best)])+0.03)\n",
    "    \n",
    "    ax.set_ylim(peak_iGlu_ylims)\n",
    "    \n",
    "    if x_min_max is None:\n",
    "        plot_median_and_uncertainty(ax, rec_time, iGlus)\n",
    "        ax.set_yticks([0,1])\n",
    "    else:\n",
    "        ax.fill_between(rec_time, target, iGlu_best, color=target_color, alpha=0.3)\n",
    "\n",
    "    return peak_iGlu_ylims"
   ]
  },
  {
   "cell_type": "code",
   "execution_count": null,
   "metadata": {},
   "outputs": [],
   "source": [
    "def plot_rectangle(ax, x_min_max, y_min_max):\n",
    "    ax.add_patch(\n",
    "        Rectangle(\n",
    "            (x_min_max[0], y_min_max[0]),\n",
    "            x_min_max[1]-x_min_max[0],\n",
    "            y_min_max[1]-y_min_max[0],\n",
    "            alpha=1, linestyle='--', clip_on=False, lw=0.8, fill=False, edgecolor='gray'\n",
    "        )\n",
    "    )"
   ]
  },
  {
   "cell_type": "markdown",
   "metadata": {},
   "source": [
    "### Plot peak histograms."
   ]
  },
  {
   "cell_type": "code",
   "execution_count": null,
   "metadata": {},
   "outputs": [],
   "source": [
    "summarized_peak_data = data_utils.load_var('preprocessed_data/summarized_peak_data.pkl')"
   ]
  },
  {
   "cell_type": "code",
   "execution_count": null,
   "metadata": {},
   "outputs": [],
   "source": [
    "def plot_peak_hists(ax, cell):\n",
    "    \n",
    "    assert np.all(np.abs(summarized_peak_data[cell]['pos']['dt']) < 170)\n",
    "    assert np.all(np.abs(summarized_peak_data[cell]['neg']['dt']) < 170)\n",
    "    \n",
    "    p1, p2, p3 = ax.hist(\n",
    "        1000*np.array(summarized_peak_data[cell]['pos']['dt']),\n",
    "        range=(-170,170), bins=20,\n",
    "        alpha=0.6, facecolor=trace_peak_pos_color,\n",
    "        edgecolor=None, density=False, linewidth=0\n",
    "    )\n",
    "    \n",
    "    n1, n2, n3 = ax.hist(\n",
    "        1000*np.array(summarized_peak_data[cell]['neg']['dt']),\n",
    "        range=(-170,170), bins=20,\n",
    "        alpha=0.6, color=trace_peak_neg_color,\n",
    "        edgecolor=None, density=False, linewidth=0\n",
    "    )\n",
    "    \n",
    "    hist_max = np.max([np.max(p1), np.max(n1)])\n",
    "    \n",
    "    ax.set_ylim(0,None)\n",
    "    ax.set_ylabel('#peaks    ', labelpad=0)\n",
    "    \n",
    "    ax.plot([1000*np.median(summarized_peak_data[cell]['all']['dt'])]*2, [0, 1.1*hist_max], c='k')\n",
    "    \n",
    "    ax.set_xlabel(r'$\\Delta t$ (ms)')\n",
    "    \n",
    "    yl = int(hist_max - (hist_max % 5))\n",
    "    \n",
    "    ticks = np.array([0, yl])\n",
    "    ax.set_yticks(ticks)\n",
    "    ax.set_yticklabels(ticks)\n",
    "    ax.spines['left'].set_bounds(0, yl)"
   ]
  },
  {
   "cell_type": "markdown",
   "metadata": {},
   "source": [
    "###### Export"
   ]
  },
  {
   "cell_type": "code",
   "execution_count": null,
   "metadata": {},
   "outputs": [],
   "source": [
    "for cell in cell2data.keys():\n",
    "    if cell == 'Cone':\n",
    "        filename= 'source_data/Cone/Peak_data.csv'\n",
    "    else:\n",
    "        filename= 'source_data/CBC/' + cell + '_Peak_data.csv'\n",
    "\n",
    "    pd.DataFrame({\n",
    "        'Target peak: Time/s': summarized_peak_data[cell]['all']['t0'],\n",
    "        'Target amplitude: iGluSnFR': summarized_peak_data[cell]['all']['A0'],\n",
    "        'Model peak: Time/s': summarized_peak_data[cell]['all']['t1'],\n",
    "        'Model amplitude: iGluSnFR': summarized_peak_data[cell]['all']['A1'],\n",
    "        'Difference: Time/ms': np.array(summarized_peak_data[cell]['all']['dt'])*1e3,\n",
    "    }, index=['Positive' if t0 in summarized_peak_data[cell]['pos']['t0'] else 'Negative'\\\n",
    "              for t0 in summarized_peak_data[cell]['all']['t0']]).to_csv(filename, float_format=\"%.4f\", index=True)"
   ]
  },
  {
   "cell_type": "code",
   "execution_count": null,
   "metadata": {},
   "outputs": [],
   "source": [
    "fig, axs_all = plt.subplots(3,2,figsize=(12,5),gridspec_kw=dict(width_ratios=[3,1]), sharex='col')\n",
    "\n",
    "for cell, axs in zip(cell2data.keys(), axs_all):\n",
    "    if cell == 'Cone':\n",
    "        filename= 'source_data/Cone/Peak_data.csv'\n",
    "    else:\n",
    "        filename= 'source_data/CBC/' + cell + '_Peak_data.csv'\n",
    "        \n",
    "    peak_exdf = pd.read_csv(filename, index_col=0)\n",
    "    \n",
    "    axs[0].plot(cell2data[cell]['Time-Target'], cell2data[cell]['Target'], c='b', alpha=0.5)\n",
    "    axs[0].plot(cell2data[cell]['Time-Target'], cell2data[cell]['iGlu_best'], c='r', alpha=0.5)\n",
    "    for idxs, marker in zip([peak_exdf.index == 'Positive', peak_exdf.index == 'Negative'], ['^', 'v']):\n",
    "        axs[0].plot(peak_exdf['Target peak: Time/s'][idxs], peak_exdf['Target amplitude: iGluSnFR'][idxs],\n",
    "                    marker, c='b', ms=5)\n",
    "        axs[0].plot(peak_exdf['Model peak: Time/s'][idxs], peak_exdf['Model amplitude: iGluSnFR'][idxs],\n",
    "                    marker, c='r', ms=5)\n",
    "    \n",
    "    for idxs, color in zip([peak_exdf.index == 'Positive', peak_exdf.index == 'Negative'], ['c', 'b']):\n",
    "        axs[1].hist(peak_exdf['Difference: Time/ms'][idxs], range=(-170, 170), bins=21, alpha=0.3)"
   ]
  },
  {
   "cell_type": "markdown",
   "metadata": {},
   "source": [
    "### Mark peaks in traces."
   ]
  },
  {
   "cell_type": "code",
   "execution_count": null,
   "metadata": {},
   "outputs": [],
   "source": [
    "def plot_peaks_func(ax, x_min_max, cell):\n",
    "    ms = 4\n",
    "    \n",
    "    for pn in ['pos', 'neg']:\n",
    "        if pn == 'pos':\n",
    "            marker = '^'\n",
    "            c0 = target_peak_color\n",
    "            c1 = trace_peak_pos_color\n",
    "        elif pn == 'neg':\n",
    "            marker = 'v'\n",
    "            c0 = target_peak_color\n",
    "            c1 = trace_peak_neg_color\n",
    "        \n",
    "        # Plot connections.\n",
    "        x0 = np.asarray(summarized_peak_data[cell][pn]['t0'])\n",
    "        y0 = np.asarray(summarized_peak_data[cell][pn]['A0'])\n",
    "        \n",
    "        x1 = np.asarray(summarized_peak_data[cell][pn]['t1'])\n",
    "        y1 = np.asarray(summarized_peak_data[cell][pn]['A1'])\n",
    "        \n",
    "        idxs = (x0 >= x_min_max[0]) & (x0 <= x_min_max[1]) & (x1 >= x_min_max[0]) & (x1 <= x_min_max[1])\n",
    "        \n",
    "        ax.plot([x0[idxs], x1[idxs]], [y0[idxs], y1[idxs]], '-', c='k', lw=0.6, zorder=120)\n",
    "        \n",
    "        ax.plot(x0[idxs], y0[idxs], marker, c=c0, markersize=ms, zorder=111, alpha=0.7, clip_on=False)\n",
    "        ax.plot(x1[idxs], y1[idxs], marker, c=c1, markersize=ms, zorder=111, alpha=0.7, clip_on=False)"
   ]
  },
  {
   "cell_type": "markdown",
   "metadata": {},
   "source": [
    "# Make figures"
   ]
  },
  {
   "cell_type": "code",
   "execution_count": null,
   "metadata": {},
   "outputs": [],
   "source": [
    "abc = 'ABCDEFGHI'"
   ]
  },
  {
   "cell_type": "code",
   "execution_count": null,
   "metadata": {},
   "outputs": [],
   "source": [
    "def plot_trace(ax, plot_type, cell, plotx=True):\n",
    "    \n",
    "    ax.set_xlim(0,32)\n",
    "    \n",
    "    if plot_type == 'Stim':\n",
    "        plot_stim(ax, cell)\n",
    "        ax.set_yticks([0,1])\n",
    "    \n",
    "    elif plot_type == 'Vms':\n",
    "        plot_Vm(ax, cell)\n",
    "        \n",
    "    elif plot_type == 'rates':\n",
    "        plot_rate(ax, cell)\n",
    "        \n",
    "    elif plot_type == 'iGlus':\n",
    "        plot_iGlu(ax, cell)\n",
    "        \n",
    "    if plotx:\n",
    "        ax.set_xlabel('Time (s)')\n",
    "        ax.spines[\"bottom\"].set_position((\"axes\", -0.1))\n",
    "    else:\n",
    "        ax.spines[\"bottom\"].set_visible(False)\n",
    "        ax.set_xticks([])"
   ]
  },
  {
   "cell_type": "code",
   "execution_count": null,
   "metadata": {},
   "outputs": [],
   "source": [
    "def plot_hist(ax, plot_type, cell):\n",
    "    \n",
    "    if plot_type == 'Vms':\n",
    "        plot_Vm_rest(ax, cell)\n",
    "        ax.set_xticks([])\n",
    "        ax.set_xticklabels([])\n",
    "        ax.spines['bottom'].set_visible(False)\n",
    "        \n",
    "    elif plot_type == 'rates':\n",
    "        plot_rate_rest(ax, cell)\n",
    "        ax.set_xticks([])\n",
    "        ax.set_xticklabels([])\n",
    "        ax.spines['bottom'].set_visible(False)\n",
    "        \n",
    "    elif plot_type == 'iGlus':\n",
    "        plot_peak_hists(ax, cell)\n",
    "        ax.set_xlabel('Time (ms)')\n",
    "        ax.spines[\"bottom\"].set_position((\"axes\", -0.1))\n",
    "        \n",
    "    else:\n",
    "        ax.axis('off')"
   ]
  },
  {
   "cell_type": "markdown",
   "metadata": {},
   "source": [
    "## Cone"
   ]
  },
  {
   "cell_type": "code",
   "execution_count": null,
   "metadata": {},
   "outputs": [],
   "source": [
    "plot_types = [('Cone', plot_type) for plot_type in ['Stim', 'Vms', 'rates', 'iGlus']]\n",
    "y_frac = 0.75\n",
    "y_gap = 0.05\n",
    "\n",
    "fig = plt.figure(figsize=(7.9, (len(plot_types)+1)*0.65))\n",
    "\n",
    "gs1 = fig.add_gridspec(4, 2, width_ratios=[5,1], height_ratios=[0.8, 0.8, 0.8, 1])\n",
    "trace_axs = [fig.add_subplot(gs1[i,0]) for i in range(4)]\n",
    "add_axs = [fig.add_subplot(gs1[i,1]) for i in range(4)]\n",
    "gs1.tight_layout(fig, rect=[0.05, 1-y_frac, 1, 1], h_pad=-0.3)\n",
    "\n",
    "gs2 = fig.add_gridspec(1, 3)\n",
    "iGlu_axs = [fig.add_subplot(gs2[0,i]) for i in range(3)]\n",
    "gs2.tight_layout(fig, rect=[0.05, -0.04, 1, 1-y_frac-y_gap], w_pad=-2, h_pad=0, pad=0)\n",
    "\n",
    "sns.despine()\n",
    "    \n",
    "fig.align_ylabels(trace_axs)\n",
    "    \n",
    "for ax, add_ax, (cell, plot_type) in zip(trace_axs, add_axs, plot_types):\n",
    "    plot_trace(ax, plot_type, cell, plotx=ax==trace_axs[-1])\n",
    "    plot_hist(add_ax, plot_type, cell)\n",
    "    \n",
    "    if plot_type == 'iGlus':\n",
    "        iGlu_main_ax = ax\n",
    "\n",
    "    if plot_type == 'rates':\n",
    "        ax.set_ylim(-50,35)\n",
    "        \n",
    "    if plot_type == 'Vms':\n",
    "        ax.set_ylim(-6,0)\n",
    "\n",
    "for ax, x_min_max in zip(iGlu_axs, xlims_ex['Cone']):\n",
    "    ax.axis('off')\n",
    "    y_min_max = plot_iGlu(ax, 'Cone', x_min_max=x_min_max, plot_ylab=False)\n",
    "    plot_rectangle(ax, x_min_max, y_min_max)\n",
    "    plot_rectangle(iGlu_main_ax, x_min_max, y_min_max)\n",
    "    plot_peaks_func(ax, x_min_max, cell)\n",
    "    \n",
    "for ax, abc_i in zip(trace_axs, abc):\n",
    "    ax.set_title(abc_i + '                ', loc='left', ha='right', va='top', fontweight=\"bold\", pad=0)\n",
    "    \n",
    "plt.savefig(f'../_figures/fig{fig_num1}_cone_traces.pdf')"
   ]
  },
  {
   "cell_type": "markdown",
   "metadata": {},
   "source": [
    "## CBC"
   ]
  },
  {
   "cell_type": "code",
   "execution_count": null,
   "metadata": {},
   "outputs": [],
   "source": [
    "plot_types = [('OFF', plot_type) for plot_type in ['Stim', 'Vms', 'rates', 'iGlus']]\n",
    "plot_types +=  [('ON', plot_type) for plot_type in ['Vms', 'rates', 'iGlus']]\n",
    "\n",
    "height_ratios = [1, 0.0, 0.8,0.8,1,2, 0.8,0.8,1,2]\n",
    "\n",
    "fig = plt.figure(figsize=(7.9, 7))\n",
    "\n",
    "gs1 = fig.add_gridspec(len(height_ratios), 2, width_ratios=[5,1], height_ratios=height_ratios)\n",
    "trace_axs = [fig.add_subplot(gs1[i,0]) for i, h in enumerate(height_ratios) if h in [0.8, 1]]\n",
    "add_axs = [fig.add_subplot(gs1[i,1]) for i, h in enumerate(height_ratios) if h in [0.8, 1]]\n",
    "\n",
    "fig.add_subplot(gs1[-1,0]).axis('off')\n",
    "gs1.tight_layout(fig, rect=[0.05, 0.0, 1, 1], h_pad=-0.1)\n",
    "\n",
    "sns.despine()\n",
    "\n",
    "iGlu_main_axs = {}\n",
    "\n",
    "for ax, add_ax, (cell, plot_type), abc_i in zip(trace_axs, add_axs, plot_types, abc):\n",
    "    plot_trace(ax, plot_type, cell, plotx=plot_type=='iGlus')\n",
    "    plot_hist(add_ax, plot_type, cell)\n",
    "    ax.set_title(abc_i + '             ', loc='left', ha='right', va='center',fontweight=\"bold\")\n",
    "\n",
    "    if plot_type == 'rates':\n",
    "        if cell == 'OFF':\n",
    "            ax.set_ylim(-5,20)\n",
    "        if cell == 'ON':\n",
    "            ax.set_ylim(-5,30)\n",
    "    \n",
    "    if plot_type == 'Vms':\n",
    "        if cell == 'OFF':\n",
    "            ax.set_ylim(-15,10)\n",
    "        if cell == 'ON':\n",
    "            ax.set_ylim(-5,10)\n",
    "    \n",
    "    if plot_type == 'iGlus':\n",
    "        ax.set_ylim(None, 1)\n",
    "        iGlu_main_axs[cell] = ax\n",
    "        \n",
    "fig.align_ylabels(trace_axs)\n",
    "        \n",
    "for cell in ['OFF', 'ON']:\n",
    "\n",
    "    gs = fig.add_gridspec(1, 3)\n",
    "    iGlu_axs = [fig.add_subplot(gs[0,i]) for i in range(3)]\n",
    "    \n",
    "    y0 = -0.02 if cell == 'ON' else 0.42\n",
    "        \n",
    "    gs.tight_layout(fig, rect=[0.05, y0, 1, y0+0.15], w_pad=-2)\n",
    "    \n",
    "    for ax, x_min_max in zip(iGlu_axs, xlims_ex[cell]):\n",
    "        ax.axis('off')\n",
    "        y_min_max = plot_iGlu(ax, cell, x_min_max=x_min_max, plot_ylab=False)\n",
    "        plot_rectangle(ax, x_min_max, y_min_max)\n",
    "        plot_rectangle(iGlu_main_axs[cell], x_min_max, y_min_max)\n",
    "        plot_peaks_func(ax, x_min_max, cell)\n",
    "\n",
    "plt.savefig(f'../_figures/fig{fig_num2}_cbc_traces.pdf')"
   ]
  },
  {
   "cell_type": "markdown",
   "metadata": {},
   "source": [
    "# Supplement figure"
   ]
  },
  {
   "cell_type": "code",
   "execution_count": null,
   "metadata": {},
   "outputs": [],
   "source": [
    "ex_data_folder = os.path.join(\"..\", \"..\", \"data_experimental\", \"data_preprocessed\")\n",
    "\n",
    "drug_traces = data_utils.load_var(os.path.join(ex_data_folder, \"drug_traces_sorted.pkl\"))\n",
    "cone_traces = data_utils.load_var(os.path.join(ex_data_folder, 'iGluSnFR_traces_Cones.pkl'))"
   ]
  },
  {
   "cell_type": "markdown",
   "metadata": {},
   "source": [
    "##### Export"
   ]
  },
  {
   "cell_type": "code",
   "execution_count": null,
   "metadata": {},
   "outputs": [],
   "source": [
    "cone_traces.to_csv(\n",
    "    'source_data/Cone/iGluSnFR_experimental_recordings.csv', float_format=\"%.6f\", index=False,\n",
    "    header=['Time/s']+list(cone_traces.columns)[1:]\n",
    ")"
   ]
  },
  {
   "cell_type": "code",
   "execution_count": null,
   "metadata": {},
   "outputs": [],
   "source": [
    "cone_traces_exdf = pd.read_csv('source_data/Cone/iGluSnFR_experimental_recordings.csv')\n",
    "cone_traces_exdf.plot(x='Time/s', y=['Cone1_mean_aligned', 'Cone2_mean_aligned']);"
   ]
  },
  {
   "cell_type": "code",
   "execution_count": null,
   "metadata": {},
   "outputs": [],
   "source": [
    "for cell, cell_type in zip(['BC3a', 'BC5o'], ['OFF', 'ON']):\n",
    "    n_traces = drug_traces['Strychnine'][cell]['traces'].shape[0]\n",
    "\n",
    "    columns = ['Time/s'] + [cell+'_Strychnine: rec'+str(i+1) for i in range(n_traces)]\n",
    "\n",
    "    cbc_traces_exdf = pd.DataFrame(columns=columns)\n",
    "\n",
    "    cbc_traces_exdf[columns[0]] = drug_traces['Strychnine'][cell]['Time']\n",
    "    cbc_traces_exdf[columns[1:]] = drug_traces['Strychnine'][cell]['traces'].T\n",
    "\n",
    "    cbc_traces_exdf.to_csv(\n",
    "        f'source_data/{cell_type}_iGluSnFR_experimental_recordings.csv',\n",
    "        float_format=\"%.6f\", index=False\n",
    "    )"
   ]
  },
  {
   "cell_type": "code",
   "execution_count": null,
   "metadata": {},
   "outputs": [],
   "source": [
    "for cell, cell_type in zip(['BC3a', 'BC5o'], ['OFF', 'ON']):\n",
    "    cone_traces_exdf = pd.read_csv(f'source_data/{cell_type}_iGluSnFR_experimental_recordings.csv')\n",
    "    cone_traces_exdf.plot(x='Time/s', figsize=(12,3), legend=False, c='k')"
   ]
  },
  {
   "cell_type": "markdown",
   "metadata": {},
   "source": [
    "## Plot data"
   ]
  },
  {
   "cell_type": "code",
   "execution_count": null,
   "metadata": {},
   "outputs": [],
   "source": [
    "def plot_single_traces(ax, time, traces, c='k'):\n",
    "    ax.plot(time, traces, lw=0.1, clip_on=False, c=c)"
   ]
  },
  {
   "cell_type": "code",
   "execution_count": null,
   "metadata": {},
   "outputs": [],
   "source": [
    "def plot_mean_and_std(ax, time, mean, std=None, c=target_color):\n",
    "    ax.plot(time, mean, c=c, lw=0.8, clip_on=False)\n",
    "    if std is not None:\n",
    "        ax.fill_between(time, mean-std, mean+std,\n",
    "                        color='dimgray', lw=0.1, alpha=0.4, clip_on=False)"
   ]
  },
  {
   "cell_type": "code",
   "execution_count": null,
   "metadata": {},
   "outputs": [],
   "source": [
    "sbnx = 1\n",
    "sbny = 6\n",
    "\n",
    "fig, axs = plt.subplots(nrows=sbny, ncols=sbnx, figsize=(5.5,5.5), sharex=True)\n",
    "\n",
    "cone1_cols = [col for col in cone_traces if 'Cone1_rec' in col]\n",
    "cone2_cols = [col for col in cone_traces if 'Cone2_rec' in col]\n",
    "\n",
    "normed_cone_traces = cone_traces[cone1_cols+cone2_cols].copy()\n",
    "nct_max = cone_traces[cone1_cols+cone2_cols].max()\n",
    "nct_min = cone_traces[cone1_cols+cone2_cols].min()\n",
    "normed_cone_traces = (normed_cone_traces-nct_min)/(nct_max-nct_min)\n",
    "\n",
    "plot_single_traces(axs[0], cone_traces['Time'], normed_cone_traces[cone1_cols], c='steelblue')\n",
    "plot_single_traces(axs[0], cone_traces['Time'], normed_cone_traces[cone2_cols], c='k')\n",
    "\n",
    "plot_mean_and_std(axs[1], cone_traces['Time'], cone_traces['Cone1_mean_aligned'], c='steelblue')\n",
    "plot_mean_and_std(axs[1], cone_traces['Time'], cone_traces['Cone2_mean_aligned'], c='k')\n",
    "plot_mean_and_std(axs[1], cone_traces['Time'], cone_traces['Cones_mean_of_means'])\n",
    "\n",
    "for saxs, cell in zip([axs[2:4], axs[4:6]], ['BC3a', 'BC5o']):\n",
    "    \n",
    "    plot_single_traces(\n",
    "        saxs[0],         \n",
    "        drug_traces['Strychnine'][cell]['Time'],\n",
    "        drug_traces['Strychnine'][cell]['traces'].T\n",
    "    )\n",
    "    \n",
    "    plot_mean_and_std(\n",
    "        saxs[1],\n",
    "        drug_traces['Strychnine'][cell]['Time'],\n",
    "        drug_traces['Strychnine'][cell]['mean'],\n",
    "        drug_traces['Strychnine'][cell]['std'],\n",
    "    )\n",
    "    \n",
    "plt.tight_layout(h_pad=1, pad=3)\n",
    "    \n",
    "axs[-1].set_xlabel('Time (s)')\n",
    "\n",
    "for ax in axs: ax.set_ylabel(r'iGluSnFR' + '\\n' + '(normalized)') \n",
    "\n",
    "for ax, a in zip(axs, \"ABCDEF\"):\n",
    "    ax.set_yticks([0,1])\n",
    "    ax.set_ylim(None, 1)\n",
    "    ax.set_title(a + '           ', fontweight='bold', ha='right', loc='left', va='top')\n",
    "    \n",
    "sns.despine()\n",
    "\n",
    "plt.savefig(f'../_figures_apx/figapx{fig_num1}_data_experimental.pdf')"
   ]
  },
  {
   "cell_type": "code",
   "execution_count": null,
   "metadata": {},
   "outputs": [],
   "source": []
  }
 ],
 "metadata": {
  "hide_input": false,
  "kernelspec": {
   "display_name": "Python 3",
   "language": "python",
   "name": "python3"
  },
  "language_info": {
   "codemirror_mode": {
    "name": "ipython",
    "version": 3
   },
   "file_extension": ".py",
   "mimetype": "text/x-python",
   "name": "python",
   "nbconvert_exporter": "python",
   "pygments_lexer": "ipython3",
   "version": "3.7.5"
  },
  "toc": {
   "base_numbering": 1,
   "nav_menu": {},
   "number_sections": true,
   "sideBar": true,
   "skip_h1_title": false,
   "title_cell": "Table of Contents",
   "title_sidebar": "Contents",
   "toc_cell": false,
   "toc_position": {
    "height": "calc(100% - 180px)",
    "left": "10px",
    "top": "150px",
    "width": "384px"
   },
   "toc_section_display": true,
   "toc_window_display": true
  },
  "varInspector": {
   "cols": {
    "lenName": 16,
    "lenType": 16,
    "lenVar": 40
   },
   "kernels_config": {
    "python": {
     "delete_cmd_postfix": "",
     "delete_cmd_prefix": "del ",
     "library": "var_list.py",
     "varRefreshCmd": "print(var_dic_list())"
    },
    "r": {
     "delete_cmd_postfix": ") ",
     "delete_cmd_prefix": "rm(",
     "library": "var_list.r",
     "varRefreshCmd": "cat(var_dic_list()) "
    }
   },
   "types_to_exclude": [
    "module",
    "function",
    "builtin_function_or_method",
    "instance",
    "_Feature"
   ],
   "window_display": false
  }
 },
 "nbformat": 4,
 "nbformat_minor": 2
}
