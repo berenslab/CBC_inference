{
 "cells": [
  {
   "cell_type": "markdown",
   "metadata": {},
   "source": [
    "# Imports"
   ]
  },
  {
   "cell_type": "code",
   "execution_count": null,
   "metadata": {},
   "outputs": [],
   "source": [
    "import importlib\n",
    "import pandas as pd\n",
    "import numpy as np\n",
    "from matplotlib import pyplot as plt\n",
    "import itertools"
   ]
  },
  {
   "cell_type": "code",
   "execution_count": null,
   "metadata": {},
   "outputs": [],
   "source": [
    "import os\n",
    "import sys"
   ]
  },
  {
   "cell_type": "code",
   "execution_count": null,
   "metadata": {},
   "outputs": [],
   "source": [
    "pythoncodepath = os.path.abspath(os.path.join('..', '..', 'pythoncode'))\n",
    "sys.path = [pythoncodepath] + sys.path\n",
    "import importhelper\n",
    "importhelper.addfolders2path(pythoncodepath)"
   ]
  },
  {
   "cell_type": "code",
   "execution_count": null,
   "metadata": {},
   "outputs": [],
   "source": [
    "import data_utils\n",
    "import plot_utils"
   ]
  },
  {
   "cell_type": "code",
   "execution_count": null,
   "metadata": {},
   "outputs": [],
   "source": [
    "plot_utils.set_rcParams()"
   ]
  },
  {
   "cell_type": "code",
   "execution_count": null,
   "metadata": {},
   "outputs": [],
   "source": [
    "fig_num = os.getcwd().split('/')[-1][3:5]\n",
    "print(fig_num)"
   ]
  },
  {
   "cell_type": "markdown",
   "metadata": {},
   "source": [
    "# Get data."
   ]
  },
  {
   "cell_type": "code",
   "execution_count": null,
   "metadata": {},
   "outputs": [],
   "source": [
    "data_folder = os.path.join('..', '..', 'step3b_thresholds')\n",
    "[filename for filename in os.listdir(data_folder) if 'bc' in filename]"
   ]
  },
  {
   "cell_type": "code",
   "execution_count": null,
   "metadata": {},
   "outputs": [],
   "source": [
    "bc_data_folder = f'{data_folder}/bc_data_submission2'\n",
    "assert os.path.isdir(bc_data_folder)\n",
    "os.listdir(bc_data_folder)"
   ]
  },
  {
   "cell_type": "code",
   "execution_count": null,
   "metadata": {},
   "outputs": [],
   "source": [
    "AxA_list = ['1x1', '2x2', '4x4', '10x10']\n",
    "j_list = data_utils.load_var(f'{bc_data_folder}/run_j_list.pkl')"
   ]
  },
  {
   "cell_type": "markdown",
   "metadata": {},
   "source": [
    "## Cell positions"
   ]
  },
  {
   "cell_type": "code",
   "execution_count": null,
   "metadata": {},
   "outputs": [],
   "source": [
    "dxdy_list = data_utils.load_var(f'{bc_data_folder}/dxdy_list.pkl')\n",
    "dist_list = list(np.sqrt(np.sum(dxdy_list**2,axis=1)))\n",
    "\n",
    "N_cells = len(dxdy_list)\n",
    "\n",
    "plt.figure(1,(3,3))\n",
    "plt.plot(dxdy_list[:,0], dxdy_list[:,1], '*')\n",
    "plt.show()"
   ]
  },
  {
   "cell_type": "markdown",
   "metadata": {},
   "source": [
    "## Current data"
   ]
  },
  {
   "cell_type": "code",
   "execution_count": null,
   "metadata": {},
   "outputs": [],
   "source": [
    "current_data = {\n",
    "    \"I\": data_utils.load_var(os.path.join(data_folder, 'data_preprocessed', 'from_raw_I.pkl')),\n",
    "    \"X\": data_utils.load_var(os.path.join(data_folder, 'data_preprocessed', 'from_raw_X.pkl')),\n",
    "}"
   ]
  },
  {
   "cell_type": "code",
   "execution_count": null,
   "metadata": {},
   "outputs": [],
   "source": [
    "cell2rrp = {\n",
    "    'ON': data_utils.load_var(f'{bc_data_folder}/ON_rrps.pkl'),\n",
    "    'OFF': data_utils.load_var(f'{bc_data_folder}/OFF_rrps.pkl'),\n",
    "}"
   ]
  },
  {
   "cell_type": "markdown",
   "metadata": {},
   "source": [
    "## Get GC data.\n",
    "\n",
    "These numbers are from the NMI, I do not have the raw data.\n",
    "For comparison look at Corna et al."
   ]
  },
  {
   "cell_type": "code",
   "execution_count": null,
   "metadata": {},
   "outputs": [],
   "source": [
    "gc_thresh = {}\n",
    "gc_thresh['1x1'] = {}\n",
    "gc_thresh['1x1']['mean'] = 0.52\n",
    "gc_thresh['1x1']['std']  = 0.2\n",
    "\n",
    "gc_thresh['2x2'] = {}\n",
    "gc_thresh['2x2']['mean'] = 0.054\n",
    "gc_thresh['2x2']['std']  = 0.020\n",
    "\n",
    "gc_thresh['4x4'] = {}\n",
    "gc_thresh['4x4']['mean'] = 0.025\n",
    "gc_thresh['4x4']['std']  = 0.020\n",
    "\n",
    "gc_thresh['10x10'] = {}\n",
    "gc_thresh['10x10']['mean'] = 0.017\n",
    "gc_thresh['10x10']['std']  = 0.011"
   ]
  },
  {
   "cell_type": "markdown",
   "metadata": {},
   "source": [
    "## Get simulated BC data"
   ]
  },
  {
   "cell_type": "code",
   "execution_count": null,
   "metadata": {},
   "outputs": [],
   "source": [
    "def plot_sim_list(sim_list):\n",
    "    \n",
    "    plot_jidxs = [0, 1, 3, 4]\n",
    "    plot_cellidxs = [0, 1, 4]\n",
    "    \n",
    "    fig, axs = plt.subplots(1,len(plot_jidxs),figsize=(10,1), sharex=True)\n",
    "    \n",
    "    for ax, jidx in zip(axs, plot_jidxs):\n",
    "        ax.set_title('j'+str(jidx))\n",
    "        for p_idx, sim_list_cell_params in enumerate(sim_list[jidx]):\n",
    "            for cellidx in plot_cellidxs:\n",
    "                rec_time = sim_list_cell_params[cellidx][1]\n",
    "                mean_rate = sim_list_cell_params[cellidx][0]['rate BC'].mean(axis=1)\n",
    "                ax.plot(rec_time, mean_rate, label='_', c='C'+str(p_idx), alpha=1-(cellidx)/len(plot_cellidxs))\n",
    "        #ax.legend(loc='upper right')\n",
    "    plt.show()"
   ]
  },
  {
   "cell_type": "code",
   "execution_count": null,
   "metadata": {},
   "outputs": [],
   "source": [
    "bc_ves_release = {cell: {AxA: {} for AxA in AxA_list} for cell in ['ON', 'OFF']}\n",
    "\n",
    "for cell, AxA in itertools.product(['ON', 'OFF'], AxA_list):\n",
    "    filename = os.path.join(bc_data_folder, f'sim_{cell}_{AxA}.pkl')\n",
    "    sim_list = data_utils.load_var(filename)\n",
    "\n",
    "    print(cell, AxA, filename)\n",
    "    print('N currents:', len(sim_list))\n",
    "    print('N cell parameters:', len(sim_list[0]))\n",
    "    print('N cells:', len(sim_list[0][0]))\n",
    "    \n",
    "    plot_sim_list(sim_list)\n",
    "\n",
    "    assert len(sim_list) == len(j_list)\n",
    "    assert np.unique([len(sim_list_i) for sim_list_i in sim_list]).size == 1\n",
    "    assert np.all([[len(sim_list_ii) == len(dxdy_list) for sim_list_ii in sim_list_i]\n",
    "                   for sim_list_i in sim_list])\n",
    "\n",
    "    n_cell_params = len(sim_list[0])\n",
    "\n",
    "    bc_ves_release[cell][AxA] = np.full((len(j_list), len(dxdy_list), n_cell_params), np.nan)\n",
    "    for ji, pi, ci in itertools.product(range(len(j_list)), range(n_cell_params), range(len(dxdy_list))):\n",
    "        rec_time = sim_list[ji][pi][ci][1]\n",
    "        mean_rate = sim_list[ji][pi][ci][0]['rate BC'].mean(axis=1)\n",
    "        total_mean_release = np.mean(mean_rate)*(rec_time[-1]-rec_time[0])\n",
    "        bc_ves_release[cell][AxA][ji, ci, pi] = total_mean_release / cell2rrp[cell][pi]\n",
    "                \n",
    "del sim_list"
   ]
  },
  {
   "cell_type": "markdown",
   "metadata": {},
   "source": [
    "# Plot"
   ]
  },
  {
   "cell_type": "code",
   "execution_count": null,
   "metadata": {},
   "outputs": [],
   "source": [
    "ABC_space = '        '"
   ]
  },
  {
   "cell_type": "markdown",
   "metadata": {},
   "source": [
    "## Plot params"
   ]
  },
  {
   "cell_type": "code",
   "execution_count": null,
   "metadata": {},
   "outputs": [],
   "source": [
    "j_plot_list = j_list.copy()\n",
    "romans = [\"i\", \"ii\", \"iii\", \"iv\"]"
   ]
  },
  {
   "cell_type": "markdown",
   "metadata": {},
   "source": [
    "### Define colormapping"
   ]
  },
  {
   "cell_type": "code",
   "execution_count": null,
   "metadata": {},
   "outputs": [],
   "source": [
    "from matplotlib import cm as plt_cm\n",
    "from matplotlib import colors as plt_colors\n",
    "\n",
    "cmap   = plt_cm.viridis\n",
    "norm   = plt_colors.Normalize(vmin=-2, vmax=N_cells, clip=False)\n",
    "mapper = plt_cm.ScalarMappable(norm=norm, cmap=cmap)"
   ]
  },
  {
   "cell_type": "code",
   "execution_count": null,
   "metadata": {},
   "outputs": [],
   "source": [
    "fig, ax = plt.subplots(1,1,figsize=(3,1))\n",
    "for i in range(N_cells):\n",
    "    ax.plot(i, 0, marker='o', ms='10', c=mapper.to_rgba(i))"
   ]
  },
  {
   "cell_type": "code",
   "execution_count": null,
   "metadata": {},
   "outputs": [],
   "source": [
    "cmap_I   = plt_cm.Reds\n",
    "norm_I   = plt_colors.Normalize(vmin=-3, vmax=len(j_plot_list), clip=False)\n",
    "mapper_I = plt_cm.ScalarMappable(norm=norm_I, cmap=cmap_I)"
   ]
  },
  {
   "cell_type": "code",
   "execution_count": null,
   "metadata": {},
   "outputs": [],
   "source": [
    "fig, ax = plt.subplots(1,1,figsize=(3,1))\n",
    "for i in range(len(j_plot_list)):\n",
    "    ax.plot(i, 0, marker='o', ms='10', c=mapper_I.to_rgba(i))"
   ]
  },
  {
   "cell_type": "markdown",
   "metadata": {},
   "source": [
    "## Plot helper functions"
   ]
  },
  {
   "cell_type": "markdown",
   "metadata": {},
   "source": [
    "### Plot setup"
   ]
  },
  {
   "cell_type": "code",
   "execution_count": null,
   "metadata": {},
   "outputs": [],
   "source": [
    "def plot_setup(ax, AxA, colidx):\n",
    "    \n",
    "    A = int(AxA[AxA.find('x')+1:])\n",
    "    \n",
    "    if AxA == '1x1':\n",
    "        el_x = np.array([0])\n",
    "    else:\n",
    "        el_x = np.arange(-70*(A-1)/2, 70*(A-1)/2+1, 70)\n",
    "    \n",
    "    xx, yy = np.meshgrid(el_x, el_x)\n",
    "    ax.plot(xx, yy, markersize=2.9, markeredgecolor=(0.8, 0, 0, 0.0), markerfacecolor=(0.8, 0, 0, 0.7),\n",
    "               marker='o', label='electrodes', zorder=30, ls='None')\n",
    "    \n",
    "    for i, (dxdy, dist) in enumerate(zip(dxdy_list, dist_list)):\n",
    "        ax.plot(\n",
    "            dxdy[0], dxdy[1], ls='None', marker='+', c=mapper.to_rgba(i),\n",
    "            label='cells' if i == 0 else None, markersize=8, markeredgewidth=1.2,\n",
    "            clip_on=False, zorder=20-i, alpha=1\n",
    "        )\n",
    "    \n",
    "    ax.set_aspect('equal')\n",
    "\n",
    "    ax.set_xlim(-500, 500)\n",
    "    ax.set_ylim(-500, 500)\n",
    "    \n",
    "    if colidx != 0:\n",
    "        ax.set_yticklabels([])\n",
    "        ax.set_yticks([])\n",
    "        ax.spines['left'].set_visible(False)\n",
    "    else:\n",
    "        ax.set_ylabel(r\"y ($\\mu$m)\")\n",
    "        ax.set_yticks((-400, 0, 400))\n",
    "        \n",
    "    ax.set_xlabel(r\"x ($\\mu$m)\")\n",
    "            \n",
    "    ax.spines['right'].set_visible(False)\n",
    "    ax.spines['top'].set_visible(False)\n",
    "    \n",
    "    ax.spines['left'].set_bounds(-400, 400)\n",
    "    ax.spines['bottom'].set_bounds(-400, 400)\n",
    "    \n",
    "    ax.set_xticks((-400, 0, 400))\n",
    "    "
   ]
  },
  {
   "cell_type": "code",
   "execution_count": null,
   "metadata": {},
   "outputs": [],
   "source": [
    "fig, axs = plt.subplots(1,4,figsize=(6.7,1.))\n",
    "\n",
    "for colidx, (ax, AxA) in enumerate(zip(axs, AxA_list)):\n",
    "    plot_setup(ax=ax, AxA=AxA, colidx=colidx)"
   ]
  },
  {
   "cell_type": "markdown",
   "metadata": {},
   "source": [
    "### Plot currents."
   ]
  },
  {
   "cell_type": "code",
   "execution_count": null,
   "metadata": {},
   "outputs": [],
   "source": [
    "currents_cols = ['I'+str(j)+ \" [A]\" for j in j_plot_list]\n",
    "\n",
    "def plot_currents(ax, AxA, colidx):\n",
    "    \n",
    "    ax.set_xlim(0,10)\n",
    "    for ci, currents_col in enumerate(currents_cols):\n",
    "        ax.plot(\n",
    "            current_data['I'][AxA]['Time [s]']*1e3, 1e6*current_data['I'][AxA][currents_col],\n",
    "            c=mapper_I.to_rgba(ci), lw=1, zorder=-ci\n",
    "        )\n",
    "    \n",
    "    ax.set_xlabel(r'Time (ms)')\n",
    "    if colidx == 0: ax.set_ylabel(r'Current ($\\mu$A)')\n",
    "    ax.spines['right'].set_visible(False)\n",
    "    ax.spines['top'].set_visible(False)\n",
    "    ax.spines['bottom'].set_bounds(0, 10)\n",
    "    \n",
    "    I_max = 1e6*np.max(np.abs(current_data['I'][AxA].iloc[:,np.asarray(j_plot_list)+1].values), axis=None)\n",
    "    tickmax = (I_max - I_max % 5)\n",
    "    ax.set_yticks([-tickmax, 0, tickmax])\n",
    "    \n",
    "    ax.spines['left'].set_bounds(-I_max, I_max)\n",
    "    ax.set_ylim(-I_max*1.2, I_max*1.2)\n",
    "    ax.set_xticks([0,5,10])"
   ]
  },
  {
   "cell_type": "code",
   "execution_count": null,
   "metadata": {},
   "outputs": [],
   "source": [
    "fig, axs = plt.subplots(1,4,figsize=(6.7,6.7/4))\n",
    "\n",
    "for colidx, (ax, AxA) in enumerate(zip(axs, AxA_list)):\n",
    "    plot_currents(ax=ax, AxA=AxA, colidx=colidx)"
   ]
  },
  {
   "cell_type": "markdown",
   "metadata": {},
   "source": [
    "##### Export data"
   ]
  },
  {
   "cell_type": "code",
   "execution_count": null,
   "metadata": {},
   "outputs": [],
   "source": [
    "data_utils.make_dir('source_data')"
   ]
  },
  {
   "cell_type": "code",
   "execution_count": null,
   "metadata": {},
   "outputs": [],
   "source": [
    "for AxA in AxA_list:\n",
    "    current_exdf = pd.DataFrame({'Time/ms': current_data['I'][AxA]['Time [s]'].values*1e3})\n",
    "\n",
    "    for ci, currents_col in enumerate(currents_cols):\n",
    "        current_exdf['I'+str(ci+1)+'/uA'] = current_data['I'][AxA][currents_col]*1e6\n",
    "\n",
    "    current_exdf.to_csv('source_data/Stimulation_currents_'+AxA+'.csv', float_format='%.6f', index=False)"
   ]
  },
  {
   "cell_type": "code",
   "execution_count": null,
   "metadata": {},
   "outputs": [],
   "source": [
    "fig, axs = plt.subplots(1,4,figsize=(12,3))\n",
    "for ax, AxA in zip(axs, AxA_list):\n",
    "    current_exdf = pd.read_csv('source_data/Stimulation_currents_'+AxA+'.csv')\n",
    "    current_exdf.plot(x='Time/ms', ax=ax, title=AxA)"
   ]
  },
  {
   "cell_type": "markdown",
   "metadata": {},
   "source": [
    "### Plot response"
   ]
  },
  {
   "cell_type": "code",
   "execution_count": null,
   "metadata": {},
   "outputs": [],
   "source": [
    "def plot_response(ax, AxA, colidx, cell, ABC='', isbottompanel=True):\n",
    "    \n",
    "    x_data = np.array([0.1*current_data['X'][AxA]['I' + str(j)] for j in j_plot_list])\n",
    "    idx_sort = np.argsort(x_data)\n",
    "    x_data = x_data[idx_sort]\n",
    "    \n",
    "    for ci, cell_dist in enumerate(dist_list):\n",
    "        \n",
    "        y_data = bc_ves_release[cell][AxA][:, ci, :]\n",
    "        y_data = y_data[idx_sort, :]\n",
    "        \n",
    "        ax.plot(\n",
    "            x_data, np.mean(y_data, axis=1),  ls='-', marker='+', label='_',\n",
    "            c=mapper.to_rgba(ci), zorder=-ci, alpha=0.3\n",
    "        )\n",
    "        \n",
    "        ax.errorbar(\n",
    "            x_data, np.mean(y_data, axis=1), yerr=np.std(y_data, axis=1),\n",
    "            ls='None', marker='o', label=\"{:.2g} um\".format(cell_dist),\n",
    "            c=mapper.to_rgba(ci), zorder=-ci, lw=1, markersize=4, clip_on=False,\n",
    "        )\n",
    "        \n",
    "    ax.set_ylim(0,None)\n",
    "    ax.spines['right'].set_visible(False)\n",
    "    ax.spines['top'].set_visible(False)\n",
    " \n",
    "    # plot mean gc threshold and std\n",
    "    ax.axvline(gc_thresh[AxA]['mean'], c='dimgray', linestyle='--', zorder=20)\n",
    "    ax.fill_between(\n",
    "        [gc_thresh[AxA]['mean'] - gc_thresh[AxA]['std'], gc_thresh[AxA]['mean'] + gc_thresh[AxA]['std']],\n",
    "        [0, 0], [ax.get_ylim()[1], ax.get_ylim()[1]],\n",
    "        facecolor='dimgray', alpha=0.5, zorder=-30\n",
    "    )\n",
    "    \n",
    "    if not isbottompanel:\n",
    "        ax.spines['bottom'].set_visible(False)\n",
    "        ax.set_xticks([])\n",
    "    else:\n",
    "        ax.set_xlabel(r'Charge dens. (mC/cm²)')\n",
    "        ax.spines['bottom'].set_position((\"axes\", -0.1))\n",
    "        \n",
    "    if colidx == 0:\n",
    "        ax.set_ylabel(r'Release / $v^{max}_{RRP}$')\n",
    "    else:\n",
    "        ax.set_yticks([])\n",
    "        ax.spines['left'].set_visible(False)"
   ]
  },
  {
   "cell_type": "code",
   "execution_count": null,
   "metadata": {},
   "outputs": [],
   "source": [
    "fig, axs = plt.subplots(1,4,figsize=(6.7,6.7/4))\n",
    "for colidx, (ax, AxA) in enumerate(zip(axs, AxA_list)):\n",
    "    plot_response(ax=ax, AxA=AxA, cell='OFF', colidx=colidx)\n",
    "\n",
    "fig, axs = plt.subplots(1,4,figsize=(6.7,6.7/4))\n",
    "for colidx, (ax, AxA) in enumerate(zip(axs, AxA_list)):\n",
    "    plot_response(ax=ax, AxA=AxA, cell='ON', colidx=colidx)"
   ]
  },
  {
   "cell_type": "markdown",
   "metadata": {},
   "source": [
    "##### Export data"
   ]
  },
  {
   "cell_type": "code",
   "execution_count": null,
   "metadata": {},
   "outputs": [],
   "source": [
    "columns = ['Distance/um'] + ['Release/RRP for I'+str(i+1) for i in range(len(j_plot_list))]\n",
    "index = np.tile(np.array(['Cell'+str(i+1) for i in range(n_cell_params)]), len(dist_list))\n",
    "\n",
    "for cell in ['OFF', 'ON']:\n",
    "    for AxA in AxA_list:\n",
    "        cell_data_ex = np.full((len(dist_list)*n_cell_params, 1+len(j_plot_list)), np.nan)\n",
    "        cell_data_ex[:,0] = np.repeat(np.array(dist_list), n_cell_params)\n",
    "\n",
    "        for i in range(len(j_plot_list)):\n",
    "            cell_data_ex[:,i+1] = (bc_ves_release[cell][AxA][i,:,:] * cell2rrp[cell]).flatten()\n",
    "\n",
    "        cell_data_exdf = pd.DataFrame(cell_data_ex, columns=columns, index=index)\n",
    "\n",
    "        for i in range(len(j_plot_list)):\n",
    "            for ci, cell_dist in enumerate(dist_list):\n",
    "                assert np.allclose(\n",
    "                    bc_ves_release[cell][AxA][i,ci,:] * cell2rrp[cell],\n",
    "                    cell_data_exdf['Release/RRP for I'+str(i+1)][cell_data_exdf['Distance/um'] == cell_dist].values\n",
    "                )\n",
    "\n",
    "        cell_data_exdf.to_csv('source_data/BC_response_'+cell+'_'+AxA+'.csv', float_format='%.6f')"
   ]
  },
  {
   "cell_type": "markdown",
   "metadata": {},
   "source": [
    "##### Test"
   ]
  },
  {
   "cell_type": "code",
   "execution_count": null,
   "metadata": {},
   "outputs": [],
   "source": [
    "for cell in ['OFF', 'ON']:\n",
    "    print(cell)\n",
    "    fig, axs = plt.subplots(1,4,figsize=(6.7,6.7/4), sharey=True)\n",
    "    for ax, AxA in zip(axs, AxA_list):\n",
    "        cell_data_exdf = pd.read_csv('source_data/BC_response_'+cell+'_'+AxA+'.csv')\n",
    "        cell_data_exdf.plot(x='Distance/um', marker='.', title=AxA, ax=ax, legend=False)\n",
    "        if AxA=='10x10':\n",
    "            ax.legend(bbox_to_anchor=(1,1))\n",
    "    plt.show()"
   ]
  },
  {
   "cell_type": "markdown",
   "metadata": {},
   "source": [
    "##### Export"
   ]
  },
  {
   "cell_type": "code",
   "execution_count": null,
   "metadata": {},
   "outputs": [],
   "source": [
    "pd.DataFrame(cell2rrp, index=['Cell'+str(i+1) for i in range(5)]).to_csv('source_data/RRP_sizes.csv', float_format=\"%.4f\")"
   ]
  },
  {
   "cell_type": "code",
   "execution_count": null,
   "metadata": {},
   "outputs": [],
   "source": [
    "gc_thresh[AxA]\n",
    "\n",
    "gc_tresh_df = pd.DataFrame()\n",
    "for AxA in AxA_list:\n",
    "    gc_tresh_df.loc[AxA, 'Threshold_mean/(mC/cm^2)'] = gc_thresh[AxA]['mean']\n",
    "    gc_tresh_df.loc[AxA, 'Threshold_std/(mC/cm^2)'] = gc_thresh[AxA]['std']\n",
    "    \n",
    "gc_tresh_df.to_csv('source_data/GC_thresholds.csv', float_format='%.3f')\n",
    "gc_tresh_df"
   ]
  },
  {
   "cell_type": "markdown",
   "metadata": {},
   "source": [
    "# Make figure"
   ]
  },
  {
   "cell_type": "code",
   "execution_count": null,
   "metadata": {},
   "outputs": [],
   "source": [
    "# Plot.\n",
    "fig, axs = plt.subplots(\n",
    "    ncols=len(AxA_list), nrows=4, figsize=(5.6, 5.6), squeeze=False,\n",
    "    gridspec_kw={'height_ratios': [0.85, 1.25, 0.85, 0.85]}\n",
    ")\n",
    "        \n",
    "for colidx, (ax, AxA) in enumerate(zip(axs[0,:], AxA_list)):\n",
    "    plot_currents(ax=ax, AxA=AxA, colidx=colidx)\n",
    "\n",
    "for colidx, (ax, AxA) in enumerate(zip(axs[1,:], AxA_list)):\n",
    "    plot_setup(ax=ax, AxA=AxA, colidx=colidx)\n",
    "    \n",
    "for colidx, (ax, AxA) in enumerate(zip(axs[2,:], AxA_list)):\n",
    "    plot_response(ax=ax, AxA=AxA, cell='OFF', colidx=colidx, isbottompanel=False, ABC='C')  \n",
    "    \n",
    "for colidx, (ax, AxA) in enumerate(zip(axs[3,:], AxA_list)):\n",
    "    plot_response(ax=ax, AxA=AxA, cell='ON', colidx=colidx, isbottompanel=True, ABC='D')  \n",
    "            \n",
    "fig.align_ylabels()\n",
    "\n",
    "for row_idx, row_title in enumerate('ABCD'):\n",
    "    axs[row_idx, 0].set_title(row_title + ABC_space + romans[0], loc='left', horizontalalignment='right', fontweight=\"bold\")\n",
    "    for col_idx in np.arange(1, len(AxA_list)):\n",
    "        axs[row_idx, col_idx].set_title(romans[col_idx], loc='left', horizontalalignment='right', fontweight=\"bold\")\n",
    "\n",
    "for ax, AxA in zip(axs[0,:], AxA_list):\n",
    "    ax.set_title(AxA +'\\n')\n",
    "\n",
    "plt.tight_layout(pad=1, w_pad=0, h_pad=0.3)\n",
    "    \n",
    "for ax in axs[2,:]:\n",
    "    box = np.array(ax.get_position().bounds)\n",
    "    box[1] -= 0.02\n",
    "    ax.set_position(box)\n",
    "    \n",
    "for ax in axs[0,:]:\n",
    "    box = np.array(ax.get_position().bounds)\n",
    "    box[1] += 0.02\n",
    "    box[3] -= 0.02\n",
    "    ax.set_position(box)\n",
    "\n",
    "fig.align_ylabels(axs[:,0])\n",
    "    \n",
    "plt.savefig(os.path.join('..', '_figures', f'fig{fig_num}_thresholds_ensemble.pdf'))"
   ]
  },
  {
   "cell_type": "code",
   "execution_count": null,
   "metadata": {},
   "outputs": [],
   "source": []
  },
  {
   "cell_type": "code",
   "execution_count": null,
   "metadata": {},
   "outputs": [],
   "source": []
  },
  {
   "cell_type": "code",
   "execution_count": null,
   "metadata": {},
   "outputs": [],
   "source": []
  },
  {
   "cell_type": "code",
   "execution_count": null,
   "metadata": {},
   "outputs": [],
   "source": []
  }
 ],
 "metadata": {
  "hide_input": false,
  "kernelspec": {
   "display_name": "Python 3",
   "language": "python",
   "name": "python3"
  },
  "language_info": {
   "codemirror_mode": {
    "name": "ipython",
    "version": 3
   },
   "file_extension": ".py",
   "mimetype": "text/x-python",
   "name": "python",
   "nbconvert_exporter": "python",
   "pygments_lexer": "ipython3",
   "version": "3.7.5"
  },
  "toc": {
   "base_numbering": 1,
   "nav_menu": {},
   "number_sections": true,
   "sideBar": true,
   "skip_h1_title": false,
   "title_cell": "Table of Contents",
   "title_sidebar": "Contents",
   "toc_cell": false,
   "toc_position": {
    "height": "calc(100% - 180px)",
    "left": "10px",
    "top": "150px",
    "width": "349.047px"
   },
   "toc_section_display": true,
   "toc_window_display": true
  },
  "varInspector": {
   "cols": {
    "lenName": 16,
    "lenType": 16,
    "lenVar": 40
   },
   "kernels_config": {
    "python": {
     "delete_cmd_postfix": "",
     "delete_cmd_prefix": "del ",
     "library": "var_list.py",
     "varRefreshCmd": "print(var_dic_list())"
    },
    "r": {
     "delete_cmd_postfix": ") ",
     "delete_cmd_prefix": "rm(",
     "library": "var_list.r",
     "varRefreshCmd": "cat(var_dic_list()) "
    }
   },
   "types_to_exclude": [
    "module",
    "function",
    "builtin_function_or_method",
    "instance",
    "_Feature"
   ],
   "window_display": false
  }
 },
 "nbformat": 4,
 "nbformat_minor": 2
}
