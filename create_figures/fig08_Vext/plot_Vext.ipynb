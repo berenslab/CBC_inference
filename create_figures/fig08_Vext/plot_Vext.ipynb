{
 "cells": [
  {
   "cell_type": "markdown",
   "metadata": {},
   "source": [
    "# Imports"
   ]
  },
  {
   "cell_type": "code",
   "execution_count": null,
   "metadata": {},
   "outputs": [],
   "source": [
    "import importlib\n",
    "import pandas as pd\n",
    "import numpy as np\n",
    "import seaborn as sns\n",
    "from matplotlib import pyplot as plt"
   ]
  },
  {
   "cell_type": "code",
   "execution_count": null,
   "metadata": {},
   "outputs": [],
   "source": [
    "import os\n",
    "import sys"
   ]
  },
  {
   "cell_type": "code",
   "execution_count": null,
   "metadata": {},
   "outputs": [],
   "source": [
    "pythoncodepath = os.path.abspath(os.path.join('..', '..', 'pythoncode'))\n",
    "sys.path = [pythoncodepath] + sys.path\n",
    "import importhelper\n",
    "importhelper.addfolders2path(pythoncodepath)"
   ]
  },
  {
   "cell_type": "code",
   "execution_count": null,
   "metadata": {},
   "outputs": [],
   "source": [
    "import data_utils\n",
    "import plot_utils\n",
    "plot_utils.set_rcParams()"
   ]
  },
  {
   "cell_type": "code",
   "execution_count": null,
   "metadata": {},
   "outputs": [],
   "source": [
    "fig_num = os.getcwd().split('/')[-1][3:5]\n",
    "print(fig_num)"
   ]
  },
  {
   "cell_type": "markdown",
   "metadata": {},
   "source": [
    "# Get data"
   ]
  },
  {
   "cell_type": "code",
   "execution_count": null,
   "metadata": {},
   "outputs": [],
   "source": [
    "Vs_opt = {25: [300, 600], 40: [150, 300]}\n",
    "Vs_val = {25: [100, 200, 300, 400, 500, 600], 40: [50, 100, 150, 200, 250, 300]}"
   ]
  },
  {
   "cell_type": "markdown",
   "metadata": {},
   "source": [
    "## Experimental data"
   ]
  },
  {
   "cell_type": "code",
   "execution_count": null,
   "metadata": {},
   "outputs": [],
   "source": [
    "folder = os.path.join('..', '..', 'step3_optimize_COMSOL_params')\n",
    "pp_folder = os.path.join(os.path.join(folder, 'data_preprocessed'))"
   ]
  },
  {
   "cell_type": "code",
   "execution_count": null,
   "metadata": {},
   "outputs": [],
   "source": [
    "os.listdir(pp_folder)"
   ]
  },
  {
   "cell_type": "code",
   "execution_count": null,
   "metadata": {},
   "outputs": [],
   "source": [
    "ex_currents = data_utils.load_var(os.path.join(pp_folder, 'raw_currents.pkl'))\n",
    "cur_time = data_utils.load_var(os.path.join(pp_folder, 'cur_time.pkl'))\n",
    "V_amps = data_utils.load_var(os.path.join(pp_folder, 'V_amps.pkl'))\n",
    "\n",
    "V_ames_sinus_fits_params = data_utils.load_var(\n",
    "    os.path.join(pp_folder, 'V_ames_sinus_fits_params.pkl'))\n",
    "EDL_phase_total = data_utils.load_var(\n",
    "    os.path.join(pp_folder, 'EDL_phase_total.pkl'))\n",
    "currents_fit_sin_params = data_utils.load_var(\n",
    "    os.path.join(pp_folder, 'raw_currents_sinus_fits_params.pkl'))\n",
    "absZ_est = data_utils.load_var(os.path.join(pp_folder, 'absZ_est.pkl'))\n",
    "\n",
    "RC_params = data_utils.load_var(os.path.join(pp_folder, 'RC_params.pkl'))"
   ]
  },
  {
   "cell_type": "code",
   "execution_count": null,
   "metadata": {},
   "outputs": [],
   "source": [
    "target = data_utils.load_var(os.path.join(\n",
    "    folder, 'data_validation/target.pkl'))\n",
    "I_retina_raw = data_utils.load_var(os.path.join(\n",
    "    folder, 'data_validation/I_retina_validation.pkl'))\n",
    "\n",
    "I_retina = {}\n",
    "for f, Vs in Vs_val.items():\n",
    "    I_retina[f] = {}\n",
    "    for Vidx, V in enumerate(Vs):\n",
    "        time = I_retina_raw[f][V]['Time'] - 2/f\n",
    "        current = I_retina_raw[f][V]['Current']\n",
    "        idx = np.logical_and(time >= 0, time < 1/f)\n",
    "\n",
    "        I_retina[f][V] = pd.DataFrame({\n",
    "            'Time': time[idx],\n",
    "            'Current': current[idx],\n",
    "        })"
   ]
  },
  {
   "cell_type": "markdown",
   "metadata": {},
   "source": [
    "## Get optimization data"
   ]
  },
  {
   "cell_type": "code",
   "execution_count": null,
   "metadata": {},
   "outputs": [],
   "source": [
    "os.listdir(os.path.join(folder, 'optim_data'))"
   ]
  },
  {
   "cell_type": "code",
   "execution_count": null,
   "metadata": {},
   "outputs": [],
   "source": [
    "folders_inf = {\n",
    "    1: \"optim_data/optimize_CR_step1_submission2/\",\n",
    "    2: \"optim_data/optimize_CR_step2_submission2/\",\n",
    "}"
   ]
  },
  {
   "cell_type": "code",
   "execution_count": null,
   "metadata": {},
   "outputs": [],
   "source": [
    "sample_files = {}\n",
    "for i, folder_delfi in folders_inf.items():\n",
    "    sample_files[i] = sorted(os.listdir(os.path.join(folder, folder_delfi + \"samples/\")))\n",
    "sample_files"
   ]
  },
  {
   "cell_type": "code",
   "execution_count": null,
   "metadata": {},
   "outputs": [],
   "source": [
    "samples_list = {}\n",
    "for i, folder_delfi in folders_inf.items():\n",
    "    samples_list[i] = [data_utils.load_var(os.path.join(folder, folder_delfi + 'samples/' + sample_file))\n",
    "                       for sample_file in sample_files[i]]\n",
    "    \n",
    "eps         = {}\n",
    "sig         = {}\n",
    "losses      = {}\n",
    "losses_sort = {}\n",
    "\n",
    "for i, samples_i in samples_list.items():\n",
    "\n",
    "    eps[i]         = np.concatenate([samples_ii['params']['epsilon_retina'] for samples_ii in samples_i])\n",
    "    sig[i]         = np.concatenate([samples_ii['params']['sigma_retina']   for samples_ii in samples_i])\n",
    "    losses[i]      = np.concatenate([samples_ii['loss']['total']            for samples_ii in samples_i])\n",
    "    losses_sort[i] = np.argsort(losses[i])\n",
    "    \n",
    "del samples_list"
   ]
  },
  {
   "cell_type": "code",
   "execution_count": null,
   "metadata": {},
   "outputs": [],
   "source": [
    "p_unit = {\n",
    "    'epsilon_retina': 1e6,\n",
    "    'sigma_retina':   0.1,\n",
    "}"
   ]
  },
  {
   "cell_type": "markdown",
   "metadata": {},
   "source": [
    "# Export data"
   ]
  },
  {
   "cell_type": "code",
   "execution_count": null,
   "metadata": {},
   "outputs": [],
   "source": [
    "data_utils.make_dir('source_data')"
   ]
  },
  {
   "cell_type": "code",
   "execution_count": null,
   "metadata": {},
   "outputs": [],
   "source": [
    "for f in [25, 40]:\n",
    "    currents_exdf = pd.DataFrame()\n",
    "    currents_exdf['Time (ms)'] = 1e3*cur_time[f]\n",
    "    \n",
    "    for V in Vs_val[f]:\n",
    "        currents_exdf['i_ames/uA for V0(v_stim)=' +str(V)+'mV'] = ex_currents['wo'][f][str(V) + \" mV\"]*1e6\n",
    "\n",
    "    for V in Vs_val[f]:\n",
    "        currents_exdf['i_retina/uA for V0(v_stim)=' +str(V)+'mV'] = ex_currents['w'][f][str(V) + \" mV\"]*1e6\n",
    "\n",
    "    currents_exdf.to_csv('source_data/recorded_currents_' + str(f) + 'Hz.csv', index=False, float_format=\"%.6f\")"
   ]
  },
  {
   "cell_type": "code",
   "execution_count": null,
   "metadata": {},
   "outputs": [],
   "source": [
    "for f in [25, 40]:\n",
    "    V_ames_exdf = pd.DataFrame(index=['V0(v_stim)=' +str(V)+'mV' for V in Vs_val[f]])\n",
    "    \n",
    "    V_ames_exdf['V0(v_ames)/mV'] = [V_ames_sinus_fits_params[f][V][0] for V in Vs_val[f]]\n",
    "    V_ames_exdf['phi(v_ames)/degree'] = [V_ames_sinus_fits_params[f][V][1] for V in Vs_val[f]]\n",
    "    \n",
    "    V_ames_exdf.to_csv('source_data/v_ames_' + str(f) + 'Hz.csv', index=True, float_format=\"%.4f\")"
   ]
  },
  {
   "cell_type": "code",
   "execution_count": null,
   "metadata": {},
   "outputs": [],
   "source": [
    "for f in [25, 40]:\n",
    "    currents_exdf = pd.DataFrame(index=['V0(v_stim)=' +str(V)+'mV' for V in Vs_val[f]])\n",
    "    \n",
    "    currents_exdf['I0(i_ames)/uA'] = [currents_fit_sin_params['wo'][f][V][0]*1e6 for V in Vs_val[f]]\n",
    "    currents_exdf['phi(i_ames)/degree'] = [currents_fit_sin_params['wo'][f][V][1] for V in Vs_val[f]]\n",
    "    \n",
    "    currents_exdf['I0(i_retina)/uA'] = [currents_fit_sin_params['w'][f][V][0]*1e6 for V in Vs_val[f]]\n",
    "    currents_exdf['phi(i_retina)/degree'] = [currents_fit_sin_params['w'][f][V][1] for V in Vs_val[f]]\n",
    "    \n",
    "    filename = 'source_data/fits_to_recorded_currents_' + str(f) + 'Hz.csv'\n",
    "    currents_exdf.to_csv(filename, index=True, float_format=\"%.4f\")"
   ]
  },
  {
   "cell_type": "code",
   "execution_count": null,
   "metadata": {},
   "outputs": [],
   "source": [
    "for f in [25, 40]:\n",
    "    RC_params_exdf = pd.DataFrame(index=['V0(v_stim)=' +str(V)+'mV' for V in Vs_val[f]])\n",
    "    \n",
    "    RC_params_exdf['R_e/kOhm'] = [RC_params[f][V]['R']/1e3 for V in Vs_val[f]]\n",
    "    RC_params_exdf['C_e/nF'] = [RC_params[f][V]['C']*1e9 for V in Vs_val[f]]\n",
    "    \n",
    "    RC_params_exdf.to_csv('source_data/RC_params_' + str(f) + 'Hz.csv', index=True, float_format=\"%.3f\")"
   ]
  },
  {
   "cell_type": "code",
   "execution_count": null,
   "metadata": {},
   "outputs": [],
   "source": [
    "pd.DataFrame({\n",
    "    'sigma_retina/(S/m)': np.concatenate([sig[1], sig[2]]) * p_unit['sigma_retina'], \n",
    "    'epsilon_retina': np.concatenate([eps[1], eps[2]]) * p_unit['epsilon_retina'],\n",
    "    'discrepancy': np.concatenate([losses[1], losses[2]]),\n",
    "}, index=[\"1_Log_Round1\"]*50+[\"2_Log_Round2\"]*50+[\"3_Lin_Round1\"]*50+[\"4_Lin_Round2\"]*50,\n",
    ").to_csv('source_data/Samples_ElectricalParams.csv', float_format=\"%.6f\")"
   ]
  },
  {
   "cell_type": "code",
   "execution_count": null,
   "metadata": {},
   "outputs": [],
   "source": [
    "for f in [25, 40]:\n",
    "    currents_sim_exdf = {}\n",
    "\n",
    "    for V in Vs_val[f]:\n",
    "        currents_sim_exdf['Time (ms) for V0(v_stim)=' +str(V)+'mV'] =\\\n",
    "            pd.Series(1e3*I_retina[f][V]['Time'].values)\n",
    "        currents_sim_exdf['i_retina/uA for V0(v_stim)=' +str(V)+'mV'] =\\\n",
    "            pd.Series(1e6*I_retina[f][V]['Current'].values)\n",
    "\n",
    "    currents_sim_exdf = pd.DataFrame(currents_sim_exdf)\n",
    "        \n",
    "    currents_sim_exdf.to_csv('source_data/simulated_i_retina_' + str(f) + 'Hz.csv',\n",
    "                             index=False, float_format=\"%.6f\")"
   ]
  },
  {
   "cell_type": "markdown",
   "metadata": {},
   "source": [
    "# Plotting function"
   ]
  },
  {
   "cell_type": "code",
   "execution_count": null,
   "metadata": {},
   "outputs": [],
   "source": [
    "from PIL import Image\n",
    "\n",
    "c1 = Image.open('circuits/circuit1.png')\n",
    "c2 = Image.open('circuits/circuit2.png')\n",
    "c3 = Image.open('circuits/circuit3.png')\n",
    "\n",
    "fig, axs = plt.subplots(1,3,figsize=(12,4))\n",
    "for ax, c in zip(axs, [c1, c2, c3]):\n",
    "    ax.imshow(c)\n",
    "    ax.axis('off')"
   ]
  },
  {
   "cell_type": "markdown",
   "metadata": {},
   "source": [
    "## Plot circuits."
   ]
  },
  {
   "cell_type": "code",
   "execution_count": null,
   "metadata": {},
   "outputs": [],
   "source": [
    "def plot_circuit(ax, c, im_d=10):\n",
    "    ax.imshow(c, origin='lower')\n",
    "    ax.axis('off')\n",
    "    ax.set_xlim((-im_d, c.size[0]+im_d))\n",
    "    ax.set_ylim((c.size[1]+im_d, -im_d))\n",
    "    \n",
    "    if c == c1:\n",
    "        ax.text(c.size[0]*0.21, c.size[1]*0.32, r'$v_{ames}$', va='center', ha='right')  \n",
    "        ax.text(c.size[0]*0.33, c.size[1]*0.77, r'$i_{ames}$', va='center', ha='right')\n",
    "        \n",
    "        ax.text(c.size[0]*(0.47-0.08), c.size[1]*0.35, r'$\\epsilon_{ames}$', va='center', ha='left')\n",
    "        ax.text(c.size[0]*(0.83-0.08), c.size[1]*0.35, r'$\\sigma_{ames}$',  va='center', ha='right')\n",
    "    \n",
    "    elif c == c2:\n",
    "        ax.text(c.size[0]*0.35, c.size[1]*0.35, r'$R_e$', va='bottom', ha='right')\n",
    "        ax.text(c.size[0]*0.19,  c.size[1]*0.35, r'$C_e$', va='bottom', ha='right')\n",
    "        \n",
    "        ax.text(c.size[0]*0.23, c.size[1]*0.77, r'$i_{ames}$', va='bottom', ha='right')  \n",
    "        ax.text(c.size[0]*0.5, c.size[1]*0.58, r'$v_{stim}$ - $v_{ames}$', va='top', ha='left')\n",
    "    \n",
    "    elif c == c3:\n",
    "        ax.text(c.size[0]*0.31, c.size[1]*0.43, r'$R_e$', va='bottom', ha='right')\n",
    "        ax.text(c.size[0]*0.17, c.size[1]*0.43, r'$C_e$', va='bottom', ha='right')\n",
    "        \n",
    "        ax.text(c.size[0]*0.2, c.size[1]*0.83, r'$v_{stim}$', va='bottom', ha='right')  \n",
    "        ax.text(c.size[0]*0.82, c.size[1]*0.83, r'$i_{retina}$', va='bottom', ha='right')\n",
    "        \n",
    "        ax.text(c.size[0]*0.47, c.size[1]*0.65, r'$\\epsilon_{retina}$', va='center', ha='left')\n",
    "        ax.text(c.size[0]*0.83, c.size[1]*0.65, r'$\\sigma_{retina}$',  va='center', ha='right')\n",
    "        \n",
    "        ax.text(c.size[0]*0.47, c.size[1]*0.35, r'$\\epsilon_{ames}$', va='center', ha='left')\n",
    "        ax.text(c.size[0]*0.83, c.size[1]*0.35, r'$\\sigma_{ames}$',  va='center', ha='right')"
   ]
  },
  {
   "cell_type": "code",
   "execution_count": null,
   "metadata": {},
   "outputs": [],
   "source": [
    "fig, axs = plt.subplots(1,3,figsize=(8,2))\n",
    "for c, ax in zip([c1, c2, c3], axs):\n",
    "    plot_circuit(ax, c)"
   ]
  },
  {
   "cell_type": "markdown",
   "metadata": {},
   "source": [
    "## Plot traces"
   ]
  },
  {
   "cell_type": "code",
   "execution_count": null,
   "metadata": {},
   "outputs": [],
   "source": [
    "def sin(A, phi, time, f):\n",
    "    return A*np.sin(2*np.pi*time*f+phi/180*np.pi)"
   ]
  },
  {
   "cell_type": "code",
   "execution_count": null,
   "metadata": {},
   "outputs": [],
   "source": [
    "line_kw = dict(lw=0.9, alpha=1.0)"
   ]
  },
  {
   "cell_type": "code",
   "execution_count": null,
   "metadata": {},
   "outputs": [],
   "source": [
    "def make_trace_axis(axs):\n",
    "    for ax in axs:\n",
    "        ax.set_xlabel('Time (ms)', labelpad=-5)\n",
    "        \n",
    "    axs[0].set_xticks([0,40])\n",
    "    axs[1].set_xticks([0,25])"
   ]
  },
  {
   "cell_type": "code",
   "execution_count": null,
   "metadata": {},
   "outputs": [],
   "source": [
    "from matplotlib import cm\n",
    "mapper = cm.get_cmap('viridis_r', 8)\n",
    "    \n",
    "def V2color(V, f):\n",
    "    assert V in Vs_val[f]\n",
    "    return mapper(np.argmax(np.array(Vs_val[f]) == V))"
   ]
  },
  {
   "cell_type": "markdown",
   "metadata": {},
   "source": [
    "### Plot stim voltage"
   ]
  },
  {
   "cell_type": "code",
   "execution_count": null,
   "metadata": {},
   "outputs": [],
   "source": [
    "def plot_voltage(axs):\n",
    "    \n",
    "    assert axs.size == 2\n",
    "    \n",
    "    for ax in axs: ax.set_title(r\"$v_{stim}$\")\n",
    "    \n",
    "    for ax, (f, Vs) in zip(axs, Vs_opt.items()):\n",
    "        for V in Vs:\n",
    "            ax.plot(1e3*cur_time[f], sin(V, 0.0, cur_time[f], f), **line_kw, color=V2color(V, f))  \n",
    "    \n",
    "    axs[0].set_ylabel('V (mV)')\n",
    "    make_trace_axis(axs)"
   ]
  },
  {
   "cell_type": "code",
   "execution_count": null,
   "metadata": {},
   "outputs": [],
   "source": [
    "fig, axs = plt.subplots(1,2,figsize=(8,2))\n",
    "plot_voltage(axs)"
   ]
  },
  {
   "cell_type": "markdown",
   "metadata": {},
   "source": [
    "### Plot measured currents."
   ]
  },
  {
   "cell_type": "code",
   "execution_count": null,
   "metadata": {},
   "outputs": [],
   "source": [
    "def plot_measured_I(axs):\n",
    "    for ax in axs: ax.set_title(r\"$i_{ames}$\")\n",
    "    for ax, (f, Vs) in zip(axs, Vs_opt.items()):\n",
    "        for V in Vs:\n",
    "            ax.plot(1e3*cur_time[f], ex_currents['wo'][f][str(V) + \" mV\"]*1e6, **line_kw, color=V2color(V, f))\n",
    "            ax.plot(\n",
    "                1e3*cur_time[f],\n",
    "                sin(currents_fit_sin_params['wo'][f][V][0], currents_fit_sin_params['wo'][f][V][1], cur_time[f], f)*1e6,\n",
    "                'k--', alpha=0.8, lw=line_kw['lw']\n",
    "            ) \n",
    "\n",
    "    axs[0].set_ylabel(r'I ($\\mu$A)')\n",
    "    make_trace_axis(axs)"
   ]
  },
  {
   "cell_type": "code",
   "execution_count": null,
   "metadata": {},
   "outputs": [],
   "source": [
    "fig, axs = plt.subplots(1,2,figsize=(8,2))\n",
    "plot_measured_I(axs)"
   ]
  },
  {
   "cell_type": "markdown",
   "metadata": {},
   "source": [
    "### Plot V_ames"
   ]
  },
  {
   "cell_type": "code",
   "execution_count": null,
   "metadata": {},
   "outputs": [],
   "source": [
    "def plot_V_ames(axs):\n",
    "    for ax in axs: ax.set_title(r\"$v_{ames}$\")\n",
    "    for ax, (f, Vs) in zip(axs, Vs_opt.items()):\n",
    "        for V in Vs:\n",
    "            ax.plot(\n",
    "                1e3*cur_time[f],\n",
    "                sin(V_ames_sinus_fits_params[f][V][0], V_ames_sinus_fits_params[f][V][1], cur_time[f], f),\n",
    "                 **line_kw, color=V2color(V, f)\n",
    "            )\n",
    "    axs[0].set_ylabel(r'V (mV)')\n",
    "    make_trace_axis(axs)"
   ]
  },
  {
   "cell_type": "code",
   "execution_count": null,
   "metadata": {},
   "outputs": [],
   "source": [
    "fig, axs = plt.subplots(1,2,figsize=(8,2))\n",
    "plot_V_ames(axs)"
   ]
  },
  {
   "cell_type": "markdown",
   "metadata": {},
   "source": [
    "## Plot others"
   ]
  },
  {
   "cell_type": "markdown",
   "metadata": {},
   "source": [
    "### Plot RC params"
   ]
  },
  {
   "cell_type": "code",
   "execution_count": null,
   "metadata": {},
   "outputs": [],
   "source": [
    "RC_plot_info = {\n",
    "    'R': {'unit': 1e-3, 'title': r'$R_e$', 'label': r'R (k$\\Omega$)'},\n",
    "    'C': {'unit': 1e9,  'title': r'$C_e$', 'label': 'C (nF)'},\n",
    "}"
   ]
  },
  {
   "cell_type": "code",
   "execution_count": null,
   "metadata": {},
   "outputs": [],
   "source": [
    "import matplotlib.patheffects as path_effects\n",
    "\n",
    "colordata_f = {25: 'k', 40: 'dimgray'}\n",
    "\n",
    "def plot_RC_params(ax, param):\n",
    "    data = {}\n",
    "    for f in [25, 40]:\n",
    "        data[f] = [RC_params[f][V][param]*RC_plot_info[param]['unit'] for V in Vs_val[f]]\n",
    "    \n",
    "    for f, xdata in Vs_val.items():\n",
    "        ax.plot(xdata[-1], data[f][-1], marker='d',  color=V2color(Vs_val[f][-1], f), clip_on=False, markersize=6, markeredgewidth=0)\n",
    "        ax.plot(xdata[2],  data[f][2],  marker='d',  color=V2color(Vs_val[f][2], f), clip_on=False, markersize=6, markeredgewidth=0)\n",
    "        ax.plot(xdata,     data[f],     '.-', c=colordata_f[f], clip_on=False, markersize=4, lw=1.0, label=str(f)+ ' Hz')\n",
    "\n",
    "    ax.set_xlabel(r'V (mV)', labelpad=-5)\n",
    "    ax.set_title(RC_plot_info[param]['title'])\n",
    "    ax.set_ylabel(RC_plot_info[param]['label'])\n",
    "    ax.set_xticks([50, 600])"
   ]
  },
  {
   "cell_type": "code",
   "execution_count": null,
   "metadata": {},
   "outputs": [],
   "source": [
    "def plot_RC(axs):\n",
    "    plot_RC_params(axs[0], param='R')\n",
    "    plot_RC_params(axs[1], param='C')\n",
    "    axs[1].legend(loc='lower right', frameon=False, borderpad=0.0, labelspacing=0.01, handlelength=0.8,\n",
    "                  handletextpad=0.1, bbox_to_anchor=(1.1,-0.2))"
   ]
  },
  {
   "cell_type": "code",
   "execution_count": null,
   "metadata": {},
   "outputs": [],
   "source": [
    "fig, axs = plt.subplots(1,2,figsize=(3.3,1))\n",
    "plot_RC(axs)"
   ]
  },
  {
   "cell_type": "markdown",
   "metadata": {},
   "source": [
    "### Plot optimized parameters"
   ]
  },
  {
   "cell_type": "code",
   "execution_count": null,
   "metadata": {},
   "outputs": [],
   "source": [
    "opt_params_step1_kw = dict(marker='.', ls='None', markeredgewidth=0.0, c='dimgray', markersize=4, clip_on=False)\n",
    "opt_params_step2_kw = dict(marker='.', ls='None', markeredgewidth=0.0, c='k',       markersize=4, clip_on=False, zorder=50)\n",
    "opt_params_best_kw  = dict(marker='.', ls='None', markeredgewidth=0.0, c='r',       markersize=6, clip_on=False, zorder=100)"
   ]
  },
  {
   "cell_type": "code",
   "execution_count": null,
   "metadata": {},
   "outputs": [],
   "source": [
    "def plot_retina_param(ax, param):\n",
    "    ax.set(xscale='log', yscale='log')\n",
    "    \n",
    "    data = eps if 'epsilon' in param else sig\n",
    "    \n",
    "    ax.plot(data[1]*p_unit[param], losses[1], **opt_params_step1_kw, label='Log.')\n",
    "    ax.plot(data[2]*p_unit[param], losses[2], **opt_params_step2_kw, label='Lin.')\n",
    "    ax.plot(data[2][losses_sort[2][0]]*p_unit[param], losses[2][losses_sort[2][0]], **opt_params_best_kw, label='Best')"
   ]
  },
  {
   "cell_type": "code",
   "execution_count": null,
   "metadata": {},
   "outputs": [],
   "source": [
    "from matplotlib import ticker\n",
    "\n",
    "def plot_epsilon_and_sigma(axs):\n",
    "    plot_retina_param(axs[0], param='epsilon_retina')\n",
    "    axs[0].set_title(r'$\\epsilon_{retina}$')\n",
    "    axs[0].set_ylabel(r'Discrepancy')\n",
    "    axs[0].set_xlabel(r'$\\epsilon$', labelpad=-10)\n",
    "    axs[0].set_xticks([1e5, 1e7])\n",
    "    axs[0].get_xaxis().set_major_formatter(ticker.LogFormatterSciNotation())\n",
    "    axs[0].set_yticks([1e-2, 1e0])\n",
    "    axs[0].get_xaxis().set_major_formatter(ticker.LogFormatterSciNotation())\n",
    "    \n",
    "    \n",
    "    plot_retina_param(axs[1], param='sigma_retina')\n",
    "    axs[1].set_title(r'$\\sigma_{retina}$')\n",
    "    axs[1].set_xlabel(r'$\\sigma$ (S/m)', labelpad=-10)\n",
    "    axs[1].set_xticks([1e-2, 1e0])\n",
    "    axs[1].get_xaxis().set_major_formatter(ticker.LogFormatterSciNotation())\n",
    "    axs[1].set_yticks([1e-2, 1e0])\n",
    "    axs[1].get_xaxis().set_major_formatter(ticker.LogFormatterSciNotation())\n",
    "    \n",
    "    axs[1].legend(loc='lower left', frameon=False, borderpad=0, borderaxespad=0,\n",
    "                  labelspacing=0.01, handlelength=0.5, handletextpad=0.1, bbox_to_anchor=(0,-0.2))"
   ]
  },
  {
   "cell_type": "code",
   "execution_count": null,
   "metadata": {},
   "outputs": [],
   "source": [
    "fig, axs = plt.subplots(1,2,figsize=(8,2))\n",
    "plot_epsilon_and_sigma(axs)"
   ]
  },
  {
   "cell_type": "markdown",
   "metadata": {},
   "source": [
    "### Plot I retina"
   ]
  },
  {
   "cell_type": "code",
   "execution_count": null,
   "metadata": {},
   "outputs": [],
   "source": [
    "def plot_I_retina(axs):\n",
    "    for ax in axs: ax.set_title(r\"$i_{retina}$\")\n",
    "        \n",
    "    for ax, (f, Vs) in zip(axs, Vs_val.items()):\n",
    "        for Vidx, V in enumerate(Vs):\n",
    "            \n",
    "            color = V2color(V, f)\n",
    "            \n",
    "            ax.plot(1e3*I_retina[f][V]['Time'], 1e6*I_retina[f][V]['Current'],\n",
    "                    c=color, zorder=5, **line_kw, label='rec' if Vidx==5 else '_')\n",
    "\n",
    "            time = target[f][V]['Time'] - 2/f\n",
    "            current = target[f][V]['Current']\n",
    "            idx = np.logical_and(time >= 0, time < 1/f)\n",
    "            ax.plot(1e3*time[idx], 1e6*current[idx], '--', c=color, zorder=10, **line_kw, label='fit' if Vidx==5 else '_')\n",
    "\n",
    "    axs[0].legend(frameon=False, borderpad=0.0, labelspacing=0.01, borderaxespad=0.3,\n",
    "                  handletextpad=0.3, handlelength=1.2, loc='lower left', bbox_to_anchor=(0,-0.2))\n",
    "    axs[0].set_ylabel(r'I ($\\mu$A)')\n",
    "    make_trace_axis(axs)"
   ]
  },
  {
   "cell_type": "code",
   "execution_count": null,
   "metadata": {},
   "outputs": [],
   "source": [
    "fig, axs = plt.subplots(1,2,figsize=(8,2))\n",
    "plot_I_retina(axs)"
   ]
  },
  {
   "cell_type": "markdown",
   "metadata": {},
   "source": [
    "# Make figure"
   ]
  },
  {
   "cell_type": "code",
   "execution_count": null,
   "metadata": {},
   "outputs": [],
   "source": [
    "plt.rcParams['axes.titlepad'] = 0.01"
   ]
  },
  {
   "cell_type": "code",
   "execution_count": null,
   "metadata": {},
   "outputs": [],
   "source": [
    "from matplotlib import pyplot as plt\n",
    " \n",
    "fig = plt.figure(figsize=(5.6, 3.7))\n",
    " \n",
    "gs1n = 3\n",
    "gs1n_yfrac = 0.33\n",
    "gs1 = fig.add_gridspec(1, gs1n, width_ratios=[0.88,1,1], hspace=0)\n",
    "gs1axs = [fig.add_subplot(gs1[idx]) for idx in range(gs1n)]\n",
    "gs1.tight_layout(fig, rect=[None, 1-gs1n_yfrac, None, 1], w_pad=-5, h_pad=0, pad=0)\n",
    "\n",
    "gs2nx = 5\n",
    "gs2ny = 3\n",
    "gs2 = fig.add_gridspec(gs2ny, gs2nx, width_ratios=[1,1,0.01,1,1])\n",
    "gs2axs = [fig.add_subplot(gs2[idxrow, idxcol]) for idxrow in range(gs2ny) for idxcol in [0,1,3,4]]\n",
    "\n",
    "plot_utils.move_xaxis_outward(gs2axs)\n",
    "\n",
    "# Plot circuits.\n",
    "for c, ax in zip([c1, c2, c3], gs1axs):\n",
    "    plot_circuit(ax, c)\n",
    "\n",
    "# Plot traces.\n",
    "plot_voltage(np.array(gs2axs[0:2]))\n",
    "plot_measured_I(np.array(gs2axs[4:6]))\n",
    "plot_V_ames(np.array(gs2axs[8:10]))\n",
    "\n",
    "# Plot optimization data.\n",
    "plot_RC(np.array(gs2axs[2:4]))\n",
    "plot_epsilon_and_sigma(np.array(gs2axs[6:8]))\n",
    "plot_I_retina(np.array(gs2axs[10:12]))\n",
    "\n",
    "gs2.tight_layout(fig, rect=[None, 0, None, 1-gs1n_yfrac+0.05], w_pad=0.0, h_pad=0.3)\n",
    "\n",
    "sns.despine()\n",
    "\n",
    "fig.align_ylabels([gs2axs[i] for i in np.arange(0,12,4)])\n",
    "fig.align_ylabels([gs2axs[i] for i in np.arange(1,12,4)])\n",
    "fig.align_ylabels([gs2axs[i] for i in np.arange(2,12,4)])\n",
    "\n",
    "abc = 'BECFDG'\n",
    "for ii, i in enumerate(np.arange(0,12,2)):\n",
    "    gs2axs[i].set_title(abc[ii] + '          i', loc='left', ha='right', va='bottom', fontweight=\"bold\", pad=0.1)\n",
    "    gs2axs[i+1].set_title('ii', loc='left', ha='right', va='bottom', fontweight=\"bold\", pad=0.1)\n",
    "    \n",
    "x0 = gs2axs[0].get_position().bounds[0]\n",
    "xw = gs2axs[3].get_position().bounds[0] + gs2axs[3].get_position().bounds[2] - x0\n",
    "gs1title_axs = [fig.add_axes(\n",
    "    np.array([x+x0, 0.93, 0.02, 0.02])) for x in np.linspace(0,xw,4)[:3]]\n",
    "    \n",
    "for ax, title in zip(gs1title_axs, ['A          i', 'ii', 'iii']):\n",
    "    ax.axis('off')\n",
    "    ax.set_title(title, loc='left', ha='right', va='bottom', fontweight=\"bold\")\n",
    "\n",
    "plt.savefig(f'../_figures/fig{fig_num}_comsol.pdf', dpi=300)\n",
    "plt.show()"
   ]
  },
  {
   "cell_type": "markdown",
   "metadata": {},
   "source": [
    "# Export Data for text"
   ]
  },
  {
   "cell_type": "code",
   "execution_count": null,
   "metadata": {},
   "outputs": [],
   "source": [
    "for r, losses_i in losses.items():\n",
    "    print(r, losses_i.min())"
   ]
  },
  {
   "cell_type": "code",
   "execution_count": null,
   "metadata": {},
   "outputs": [],
   "source": [
    "best_sigma = sig[2][losses_sort[2][0]]*p_unit['sigma_retina']\n",
    "best_epsilon = eps[2][losses_sort[2][0]]*p_unit['epsilon_retina']"
   ]
  },
  {
   "cell_type": "code",
   "execution_count": null,
   "metadata": {},
   "outputs": [],
   "source": [
    "best_sigma"
   ]
  },
  {
   "cell_type": "code",
   "execution_count": null,
   "metadata": {},
   "outputs": [],
   "source": [
    "best_epsilon"
   ]
  },
  {
   "cell_type": "code",
   "execution_count": null,
   "metadata": {},
   "outputs": [],
   "source": [
    "from datetime import datetime\n",
    "text_output = []\n",
    "\n",
    "text_output.append('%' + str(datetime.now()) + '\\n')\n",
    "\n",
    "text_output.append(\"\\\\newcommand\\\\optimizedSIG{\" + \"{:.2g}\".format(best_sigma) + \"}\\n\")\n",
    "text_output.append(\"\\\\newcommand\\\\optimizedEPS{\" + \"{:.2g}\".format(best_epsilon) + \"}\\n\")\n",
    "\n",
    "data_utils.make_dir('text_data')\n",
    "with open('text_data/optimizedElParams.tex', 'w') as f:\n",
    "    f.writelines(text_output)"
   ]
  },
  {
   "cell_type": "code",
   "execution_count": null,
   "metadata": {},
   "outputs": [],
   "source": [
    "text_output"
   ]
  },
  {
   "cell_type": "code",
   "execution_count": null,
   "metadata": {},
   "outputs": [],
   "source": []
  },
  {
   "cell_type": "code",
   "execution_count": null,
   "metadata": {},
   "outputs": [],
   "source": []
  }
 ],
 "metadata": {
  "kernelspec": {
   "display_name": "Python 3",
   "language": "python",
   "name": "python3"
  },
  "language_info": {
   "codemirror_mode": {
    "name": "ipython",
    "version": 3
   },
   "file_extension": ".py",
   "mimetype": "text/x-python",
   "name": "python",
   "nbconvert_exporter": "python",
   "pygments_lexer": "ipython3",
   "version": "3.7.5"
  },
  "toc": {
   "base_numbering": 1,
   "nav_menu": {},
   "number_sections": true,
   "sideBar": true,
   "skip_h1_title": false,
   "title_cell": "Table of Contents",
   "title_sidebar": "Contents",
   "toc_cell": false,
   "toc_position": {
    "height": "calc(100% - 180px)",
    "left": "10px",
    "top": "150px",
    "width": "384px"
   },
   "toc_section_display": true,
   "toc_window_display": true
  },
  "varInspector": {
   "cols": {
    "lenName": 16,
    "lenType": 16,
    "lenVar": 40
   },
   "kernels_config": {
    "python": {
     "delete_cmd_postfix": "",
     "delete_cmd_prefix": "del ",
     "library": "var_list.py",
     "varRefreshCmd": "print(var_dic_list())"
    },
    "r": {
     "delete_cmd_postfix": ") ",
     "delete_cmd_prefix": "rm(",
     "library": "var_list.r",
     "varRefreshCmd": "cat(var_dic_list()) "
    }
   },
   "types_to_exclude": [
    "module",
    "function",
    "builtin_function_or_method",
    "instance",
    "_Feature"
   ],
   "window_display": false
  }
 },
 "nbformat": 4,
 "nbformat_minor": 2
}
