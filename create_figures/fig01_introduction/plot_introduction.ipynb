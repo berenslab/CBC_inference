{
 "cells": [
  {
   "cell_type": "markdown",
   "metadata": {},
   "source": [
    "# Make Introduction figure\n",
    "\n",
    "Plots both morphologies and shows the regions.\n",
    "\n",
    "Add placeholder for cable illustration."
   ]
  },
  {
   "cell_type": "markdown",
   "metadata": {},
   "source": [
    "# Imports"
   ]
  },
  {
   "cell_type": "code",
   "execution_count": null,
   "metadata": {},
   "outputs": [],
   "source": [
    "import numpy as np\n",
    "import pandas as pd \n",
    "from matplotlib import pyplot as plt\n",
    "from PIL import Image\n",
    "\n",
    "import os\n",
    "import sys"
   ]
  },
  {
   "cell_type": "code",
   "execution_count": null,
   "metadata": {},
   "outputs": [],
   "source": [
    "pythoncodepath = os.path.abspath(os.path.join('..', '..', 'pythoncode'))\n",
    "sys.path = [pythoncodepath] + sys.path\n",
    "import importhelper\n",
    "importhelper.addfolders2path(pythoncodepath)"
   ]
  },
  {
   "cell_type": "code",
   "execution_count": null,
   "metadata": {},
   "outputs": [],
   "source": [
    "import data_utils\n",
    "import plot_utils"
   ]
  },
  {
   "cell_type": "code",
   "execution_count": null,
   "metadata": {},
   "outputs": [],
   "source": [
    "plot_utils.set_rcParams()"
   ]
  },
  {
   "cell_type": "code",
   "execution_count": null,
   "metadata": {},
   "outputs": [],
   "source": [
    "fig_num = os.getcwd().split('/')[-1][3:5]\n",
    "print(fig_num)"
   ]
  },
  {
   "cell_type": "markdown",
   "metadata": {},
   "source": [
    "# Retsim color mapping"
   ]
  },
  {
   "cell_type": "code",
   "execution_count": null,
   "metadata": {},
   "outputs": [],
   "source": [
    "with open('retsim_colors.inc', 'r') as f:\n",
    "    lines = f.readlines()\n",
    "\n",
    "colors = [\n",
    "    'BlueViolet',\n",
    "    'NeonBlue',\n",
    "    'NewMidnightBlue',\n",
    "    'SummerSky',\n",
    "    'Red',\n",
    "    'Black',\n",
    "    'Gray40',\n",
    "    'MediumBlue',\n",
    "    'Navy',\n",
    "    'Orange',\n",
    "]\n",
    "\n",
    "colors2rgb = {}\n",
    "for color in colors:\n",
    "    if color == 'Gray40':\n",
    "        colors2rgb[color] = (0.4, 0.4, 0.4)\n",
    "    else:\n",
    "        for line in lines:\n",
    "            if '#declare ' + color + ' ' in line:\n",
    "                if \"rgb\" in line:\n",
    "                    if '<' in line and '>' in line:\n",
    "                        s = 'rgb <'\n",
    "                        p1 = line.find(s)+len(s)\n",
    "                        p2 = line.find(',', p1)\n",
    "                        red = line[p1:p2]\n",
    "                        \n",
    "                        s = 'rgb <' + red + ', '\n",
    "                        p1 = line.find(s)+len(s)\n",
    "                        p2 = line.find(',', p1)\n",
    "                        green = line[p1:p2]\n",
    "                        \n",
    "                        s = 'rgb <' + red + ', ' + green + ', '\n",
    "                        p1 = line.find(s)+len(s)\n",
    "                        p2 = line.find('>', p1)\n",
    "                        blue = line[p1:p2]\n",
    "                    else:\n",
    "                        s = 'rgb '\n",
    "                        p1 = line.find(s)+len(s)\n",
    "                        p2 = line.find(';', p1)\n",
    "                        red = line[p1:p2]\n",
    "                        green = line[p1:p2]\n",
    "                        blue = line[p1:p2]\n",
    "                else:\n",
    "                    red = line[line.find('red')+4:line.find('green')-1]\n",
    "                    green = line[line.find('green')+6:line.find('blue')-1]\n",
    "                    blue = line[line.find('blue')+5:line.find(';')]\n",
    "                colors2rgb[color] = (float(red), float(green), float(blue))"
   ]
  },
  {
   "cell_type": "code",
   "execution_count": null,
   "metadata": {},
   "outputs": [],
   "source": [
    "colors2rgb"
   ]
  },
  {
   "cell_type": "markdown",
   "metadata": {},
   "source": [
    "# Get EM image"
   ]
  },
  {
   "cell_type": "code",
   "execution_count": null,
   "metadata": {},
   "outputs": [],
   "source": [
    "em_cbc5_im_raw = Image.open(os.path.join('Images', 'cbp576_3D_volume.png'))\n",
    "\n",
    "def plot_EM(ax):\n",
    "        \n",
    "    em_cbc5_im = em_cbc5_im_raw.transpose(Image.FLIP_LEFT_RIGHT).transpose(Image.FLIP_TOP_BOTTOM)\n",
    "    em_cbc5_im = em_cbc5_im.convert(\"RGBA\")\n",
    "    datas = em_cbc5_im.getdata()\n",
    "    \n",
    "    newData = []\n",
    "    for item in datas:\n",
    "        if item[0] == 255 and item[1] == 255 and item[2] == 255:\n",
    "            newData.append((255, 255, 255, 0))\n",
    "        else:\n",
    "            newData.append(item)\n",
    "\n",
    "    em_cbc5_im.putdata(newData)\n",
    "    ax.imshow(em_cbc5_im, origin='lower')\n",
    "    ax.set_ylim(-20, em_cbc5_im.size[1]+380)\n",
    "    ax.axis('off')\n",
    "    \n",
    "plot_EM(ax=plt.subplot(111))"
   ]
  },
  {
   "cell_type": "markdown",
   "metadata": {},
   "source": [
    "# Plot morph images"
   ]
  },
  {
   "cell_type": "code",
   "execution_count": null,
   "metadata": {},
   "outputs": [],
   "source": [
    "def plot_morph(ax=None, cell='ON'):\n",
    "    cell_im_filename = 'CBC5.png' if cell == 'ON' else 'CBC3.png'    \n",
    "    cell_im = Image.open(os.path.join('Images', cell_im_filename))\n",
    "    \n",
    "    cell_im = cell_im.convert(\"RGBA\")\n",
    "    cell_im = cell_im.transpose(Image.FLIP_TOP_BOTTOM)\n",
    "    datas = cell_im.getdata()\n",
    "    \n",
    "    newData = []\n",
    "    for item in datas:\n",
    "        if item[0] == 255 and item[1] == 255 and item[2] == 255:\n",
    "            newData.append((255, 255, 255, 0))\n",
    "        else:\n",
    "            newData.append(item)\n",
    "\n",
    "    cell_im.putdata(newData)\n",
    "    ax.imshow(cell_im, origin='lower')\n",
    "    ax.axis('off')\n",
    "    \n",
    "    if cell == 'OFF': ax.set_ylim(-50, cell_im.size[1]-128)\n",
    "    \n",
    "plot_morph(cell='ON', ax=plt.subplot(121))\n",
    "plot_morph(cell='OFF', ax=plt.subplot(122))"
   ]
  },
  {
   "cell_type": "markdown",
   "metadata": {},
   "source": [
    "## Plot cable"
   ]
  },
  {
   "cell_type": "code",
   "execution_count": null,
   "metadata": {},
   "outputs": [],
   "source": [
    "def plot_cable(ax):\n",
    "    ax.imshow(Image.open(os.path.join('Images', 'cable.png')))\n",
    "    ax.axis('off')\n",
    "    ax.axis('equal')\n",
    "    \n",
    "plot_cable(ax=plt.subplot(111))"
   ]
  },
  {
   "cell_type": "markdown",
   "metadata": {},
   "source": [
    "# Sanity checks"
   ]
  },
  {
   "cell_type": "markdown",
   "metadata": {},
   "source": [
    "## Cone size"
   ]
  },
  {
   "cell_type": "code",
   "execution_count": null,
   "metadata": {},
   "outputs": [],
   "source": [
    "fig, axs = plt.subplots(1,2,figsize=(8,8))\n",
    "\n",
    "plot_morph(ax=axs[0],cell='ON')\n",
    "plot_morph(ax=axs[0],cell='OFF')\n",
    "\n",
    "plot_EM(ax=axs[1])\n",
    "plot_morph(ax=axs[1])"
   ]
  },
  {
   "cell_type": "markdown",
   "metadata": {},
   "source": [
    "## EM vs morph size"
   ]
  },
  {
   "cell_type": "code",
   "execution_count": null,
   "metadata": {},
   "outputs": [],
   "source": [
    "fig = plt.figure(1,(6,5))\n",
    "ax = fig.add_axes((0,0,1,1))\n",
    "plot_EM(ax=ax)\n",
    "ax = fig.add_axes((0,0,0.999,1))\n",
    "plot_morph(ax=ax)"
   ]
  },
  {
   "cell_type": "code",
   "execution_count": null,
   "metadata": {},
   "outputs": [],
   "source": [
    "def plot_legend(ax):\n",
    "    ax.set_xlim(0,1)\n",
    "    ax.set_ylim(0,1)\n",
    "    ax.patch.set_alpha(0.0)\n",
    "    ax.grid(True)\n",
    "    ax.axis('off')\n",
    "    x_pos = 0.45\n",
    "    x_len = 0.01\n",
    "\n",
    "    y_top = 0.97\n",
    "    y_bot = 0.91\n",
    "    name = 'Cones'\n",
    "    make_rect('Outer segment (OS)', name, x_pos, y_bot, x_len, y_top)\n",
    "\n",
    "    y_top = y_bot\n",
    "    y_bot = 0.86\n",
    "    name = 'Cones'\n",
    "    make_rect('Inner segment / Soma (IS/S)', name, x_pos, y_bot, x_len, y_top)\n",
    "\n",
    "    y_top = y_bot\n",
    "    y_bot = 0.77\n",
    "    name = 'Cones'\n",
    "    make_rect('Axon (A)', name, x_pos, y_bot, x_len, y_top)\n",
    "\n",
    "    y_top = y_bot\n",
    "    y_bot = 0.72\n",
    "    name = 'Cones'\n",
    "    make_rect('Axon Terminals (AT)', name, x_pos, y_bot, x_len, y_top)\n",
    "\n",
    "    plt.text(x_pos-0.015, 0.72+0.5*(0.97-0.72), 'Cones', rotation=90, ha='center', va='center')\n",
    "    plt.plot([x_pos-0.01, x_pos], [0.72, 0.72], c='k', lw=1)\n",
    "    plt.plot([x_pos-0.01, x_pos], [0.97, 0.97], c='k', lw=1)\n",
    "\n",
    "    y_top = y_bot\n",
    "    y_bot = 0.66\n",
    "    name = 'Synaptic connections'\n",
    "    make_rect(name, name, x_pos, y_bot, x_len, y_top)\n",
    "\n",
    "    y_top = y_bot\n",
    "    y_bot = 0.60\n",
    "    name = 'Distal dendrite'\n",
    "    make_rect(name + ' (DD)', name, x_pos, y_bot, x_len, y_top)\n",
    "\n",
    "    y_top = y_bot\n",
    "    y_bot = 0.5\n",
    "    name = 'Proximal dendrite'\n",
    "    make_rect(name + ' (PD)', name, x_pos, y_bot, x_len, y_top)\n",
    "\n",
    "    y_top = y_bot\n",
    "    y_bot = 0.45\n",
    "    name = 'Soma'\n",
    "    make_rect(name + ' (S)', name, x_pos, y_bot, x_len, y_top)\n",
    "\n",
    "    y_top = y_bot\n",
    "    y_bot = 0.25\n",
    "    name = 'Proximal axon'\n",
    "    make_rect(name + ' (PA)', name, x_pos, y_bot, x_len, y_top)\n",
    "\n",
    "    y_top = y_bot\n",
    "    y_bot = 0.14\n",
    "    name = 'Distal axon'\n",
    "    make_rect(name + ' (DA)', name, x_pos, y_bot, x_len, y_top)\n",
    "\n",
    "    y_top = y_bot\n",
    "    y_bot = 0.07\n",
    "    name = 'Axon terminals'\n",
    "    make_rect(name + ' (AT)', name, x_pos, y_bot, x_len, y_top)\n",
    "\n",
    "    plt.text(x_pos-0.015, 0.07+0.5*(0.66-0.07), 'Bipolar cell', rotation=90, ha='center', va='center')\n",
    "    plt.plot([x_pos-0.01, x_pos], [0.07, 0.07], c='k', lw=1)\n",
    "    plt.plot([x_pos-0.01, x_pos], [0.66, 0.66], c='k', lw=1)\n",
    "\n",
    "    y_top = y_bot\n",
    "    y_bot = 0.05\n",
    "    name = 'Synaptic connections'\n",
    "    make_rect('', name, x_pos, y_bot, x_len, y_top)\n",
    "\n",
    "    y_top = y_bot\n",
    "    y_bot = 0.02\n",
    "    name = 'Postsynaptic'\n",
    "    make_rect(name, name, x_pos, y_bot, x_len, y_top)"
   ]
  },
  {
   "cell_type": "code",
   "execution_count": null,
   "metadata": {},
   "outputs": [],
   "source": [
    "def make_rect(subname, name, x_pos, y_bot, x_len, y_top):\n",
    "    rect = patches.Rectangle((x_pos,y_bot),x_len,y_top-y_bot,linewidth=1,\n",
    "                         facecolor=colors2rgb[regions2color[name]], edgecolor='k', alpha=.6)\n",
    "    ax.add_patch(rect)    \n",
    "    ax.text(x_pos+0.15, y_bot +0.5*(y_top-y_bot), subname, va='center', ha='center')"
   ]
  },
  {
   "cell_type": "markdown",
   "metadata": {},
   "source": [
    "# Make plot"
   ]
  },
  {
   "cell_type": "code",
   "execution_count": null,
   "metadata": {},
   "outputs": [],
   "source": [
    "import matplotlib.patches as patches"
   ]
  },
  {
   "cell_type": "code",
   "execution_count": null,
   "metadata": {},
   "outputs": [],
   "source": [
    "regions2color = {\n",
    "    'Cones': 'Red',\n",
    "    'Synaptic connections': 'Gray40',\n",
    "    'Distal dendrite': 'Navy',\n",
    "    'Proximal dendrite': 'BlueViolet',\n",
    "    'Soma': 'MediumBlue',\n",
    "    'Proximal axon': 'NeonBlue',\n",
    "    'Distal axon': 'SummerSky',\n",
    "    'Axon terminals': 'NewMidnightBlue',\n",
    "    'Postsynaptic': 'Orange',\n",
    "}"
   ]
  },
  {
   "cell_type": "code",
   "execution_count": null,
   "metadata": {},
   "outputs": [],
   "source": [
    "fig = plt.figure(figsize=(5.6,4.8))\n",
    "\n",
    "y0 = 0.36\n",
    "title_ytop = 0.96-y0\n",
    "\n",
    "ax = fig.add_axes((0.01,y0,0.25,1-y0))\n",
    "plot_EM(ax=ax)\n",
    "ax = fig.add_axes((0.01,y0,.9,title_ytop))\n",
    "ax.set_title('A', fontweight='bold', ha='left', va='top', loc='left')\n",
    "ax.axis('off')\n",
    "\n",
    "morph_ON_x = 0.2\n",
    "ax = fig.add_axes((morph_ON_x,y0,0.3,1-y0))\n",
    "plot_morph(ax=ax, cell='ON')\n",
    "ax = fig.add_axes((morph_ON_x+0.03,y0,.9,title_ytop))\n",
    "ax.set_title('B i', fontweight='bold', ha='left', va='top', loc='left')\n",
    "ax.axis('off')\n",
    "\n",
    "morph_OFF_x = 0.73\n",
    "ax = fig.add_axes((morph_OFF_x,y0,0.3,1-y0))\n",
    "plot_morph(ax=ax, cell='OFF')\n",
    "ax = fig.add_axes((morph_OFF_x+0.03,y0,.95,title_ytop))\n",
    "ax.set_title('B ii', fontweight='bold', ha='left', va='top', loc='left')\n",
    "ax.axis('off')\n",
    "\n",
    "ax = fig.add_axes((0.01,y0,1,1-y0))\n",
    "plot_legend(ax)\n",
    "\n",
    "ax = fig.add_axes((0,0,1,y0*0.95))\n",
    "plot_cable(ax=ax)\n",
    "ax = fig.add_axes((0,y0-0.15,.9,0.1))\n",
    "ax.set_title('C', fontweight='bold', ha='left', va='top', loc='left')\n",
    "ax.axis('off')\n",
    "\n",
    "data_utils.make_dir('Figures')\n",
    "plt.savefig(f'../_figures/fig{fig_num}_morph2cbcpluscable.pdf', dpi=600)\n",
    "plt.savefig(os.path.join('Figures', 'morph2cbc')+'.png', dpi=100)\n",
    "plt.show()"
   ]
  },
  {
   "cell_type": "code",
   "execution_count": null,
   "metadata": {},
   "outputs": [],
   "source": [
    "# Good?\n",
    "plt.imshow(Image.open(os.path.join('Figures', 'morph2cbc')+'.png'))"
   ]
  },
  {
   "cell_type": "code",
   "execution_count": null,
   "metadata": {},
   "outputs": [],
   "source": []
  },
  {
   "cell_type": "code",
   "execution_count": null,
   "metadata": {},
   "outputs": [],
   "source": []
  }
 ],
 "metadata": {
  "hide_input": false,
  "kernelspec": {
   "display_name": "Python 3",
   "language": "python",
   "name": "python3"
  },
  "language_info": {
   "codemirror_mode": {
    "name": "ipython",
    "version": 3
   },
   "file_extension": ".py",
   "mimetype": "text/x-python",
   "name": "python",
   "nbconvert_exporter": "python",
   "pygments_lexer": "ipython3",
   "version": "3.7.5"
  },
  "toc": {
   "base_numbering": 1,
   "nav_menu": {},
   "number_sections": true,
   "sideBar": true,
   "skip_h1_title": false,
   "title_cell": "Table of Contents",
   "title_sidebar": "Contents",
   "toc_cell": false,
   "toc_position": {
    "height": "calc(100% - 180px)",
    "left": "10px",
    "top": "150px",
    "width": "384px"
   },
   "toc_section_display": true,
   "toc_window_display": true
  },
  "varInspector": {
   "cols": {
    "lenName": 16,
    "lenType": 16,
    "lenVar": 40
   },
   "kernels_config": {
    "python": {
     "delete_cmd_postfix": "",
     "delete_cmd_prefix": "del ",
     "library": "var_list.py",
     "varRefreshCmd": "print(var_dic_list())"
    },
    "r": {
     "delete_cmd_postfix": ") ",
     "delete_cmd_prefix": "rm(",
     "library": "var_list.r",
     "varRefreshCmd": "cat(var_dic_list()) "
    }
   },
   "types_to_exclude": [
    "module",
    "function",
    "builtin_function_or_method",
    "instance",
    "_Feature"
   ],
   "window_display": false
  }
 },
 "nbformat": 4,
 "nbformat_minor": 2
}
