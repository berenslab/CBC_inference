{
 "cells": [
  {
   "cell_type": "markdown",
   "metadata": {},
   "source": [
    "# Imports"
   ]
  },
  {
   "cell_type": "code",
   "execution_count": null,
   "metadata": {},
   "outputs": [],
   "source": [
    "import numpy as np\n",
    "from matplotlib import pyplot as plt\n",
    "from shutil import copyfile"
   ]
  },
  {
   "cell_type": "code",
   "execution_count": null,
   "metadata": {},
   "outputs": [],
   "source": [
    "import os\n",
    "import sys"
   ]
  },
  {
   "cell_type": "code",
   "execution_count": null,
   "metadata": {},
   "outputs": [],
   "source": [
    "pythoncodepath = os.path.abspath(os.path.join('..', '..', 'pythoncode'))\n",
    "sys.path = [pythoncodepath] + sys.path\n",
    "import importhelper\n",
    "importhelper.addfolders2path(pythoncodepath)"
   ]
  },
  {
   "cell_type": "code",
   "execution_count": null,
   "metadata": {},
   "outputs": [],
   "source": [
    "import data_utils\n",
    "import retsim_cells"
   ]
  },
  {
   "cell_type": "code",
   "execution_count": null,
   "metadata": {},
   "outputs": [],
   "source": [
    "data_utils.make_dir('Figures')"
   ]
  },
  {
   "cell_type": "code",
   "execution_count": null,
   "metadata": {},
   "outputs": [],
   "source": [
    "def create_image(cell, colormap={}, output_filename='temp.png', cone_only=False, d=1, cdia=0.5):\n",
    "    temp_filename = 'temp.png'\n",
    "    imsize= 3000\n",
    "    \n",
    "    # Render.\n",
    "    im = cell.init_retsim(\n",
    "         update=False, print_comps=False,\n",
    "        d=d, R=True, im_size=imsize, pov_image=temp_filename,\n",
    "    )\n",
    "    \n",
    "    # Plot first image.\n",
    "    plt.figure(figsize=(6,6))\n",
    "    plt.imshow(im)\n",
    "    plt.axis('off')\n",
    "    plt.show()\n",
    "    \n",
    "    # Load pov image file and modify.\n",
    "    pov_filename_in = cell.retsim_path + temp_filename[:-4] + '.pov'\n",
    "    pov_filename_out = cell.retsim_path + temp_filename[:-4] + '_new.pov'\n",
    "    \n",
    "    print('read\\t' + pov_filename_in)\n",
    "    \n",
    "    # Read.\n",
    "    with open(pov_filename_in, \"r\") as f:\n",
    "        lines = f.readlines()\n",
    "    \n",
    "    # modify width of cylinder.\n",
    "    if d==6:\n",
    "        for idx, line in enumerate(lines):\n",
    "            if 'Yellow' in line:\n",
    "                lines[idx] = line.replace(\"1 pigment\", str(cdia) + \" pigment\")\n",
    "            if '0.5 pigment {Blue}' in line:\n",
    "                lines[idx] = ''\n",
    "    \n",
    "    # modify colors.\n",
    "    for idx, line in enumerate(lines):\n",
    "        # Modify GC comp colors\n",
    "        if '0.5 pigment {Blue}' in line:\n",
    "            line = line.replace('{Blue}', '{Orange}')\n",
    "        \n",
    "        else:\n",
    "            for old_col, new_col in colormap.items():\n",
    "                old_col = '{' + old_col + '}'\n",
    "                new_col = '{' + new_col + '}'\n",
    "                if old_col in line:\n",
    "                    line = line.replace(old_col, new_col)\n",
    "                    break\n",
    "                \n",
    "        if \"nc_cone\" in line: line = line.replace(\"<0.404,0.404,1>\", \"<6*0.404,6*0.404,1>\")\n",
    "        if \"nc.pov\" in line:  line = line.replace(\"nc.pov\", \"nc_w.pov\")\n",
    "        \n",
    "        # Update.\n",
    "        lines[idx] = line\n",
    "\n",
    "    \n",
    "    print('write\\t' + pov_filename_out)\n",
    "            \n",
    "    # save.\n",
    "    with open(pov_filename_out, \"w+\") as f:\n",
    "        f.writelines(lines)\n",
    "        \n",
    "    # Render again.\n",
    "    im = cell.init_retsim(d=d, R=True, im_size=imsize, update=False, print_comps=False,\n",
    "                          pov_in_fn=pov_filename_out[:-4], pov_filename=temp_filename)\n",
    "    \n",
    "    # Plot new.\n",
    "    plt.figure(figsize=(6,6))\n",
    "    plt.imshow(im)\n",
    "    plt.axis('off')\n",
    "    plt.show()\n",
    "    \n",
    "    # Copy to this folder.\n",
    "    copyfile(cell.retsim_path+temp_filename,\n",
    "             'Figures/'+output_filename)"
   ]
  },
  {
   "cell_type": "markdown",
   "metadata": {},
   "source": [
    "# Cone"
   ]
  },
  {
   "cell_type": "code",
   "execution_count": null,
   "metadata": {},
   "outputs": [],
   "source": [
    "# Create cells.\n",
    "import importlib\n",
    "importlib.reload(retsim_cells)\n",
    "\n",
    "cone = retsim_cells.Cone(\n",
    "    cone_densfile       = 'dens_cone_optimized_submission2.n',\n",
    "    nval_file           = 'nval_cone_optimized_submission2.n',\n",
    "    chanparams_file     = 'chanparams_empty.n',\n",
    "    expt_file_list      = ['optimize_cones'],\n",
    "    expt_base_file_list = [os.path.join('..', '..', 'step1a_optimize_cones', 'retsim_files', 'expt_optimize_cones.cc')],\n",
    "    retsim_path=os.path.abspath(os.path.join('..',  '..', 'neuronc', 'models', 'retsim')) + '/'\n",
    ")"
   ]
  },
  {
   "cell_type": "code",
   "execution_count": null,
   "metadata": {},
   "outputs": [],
   "source": [
    "cone.create_retsim_expt_file(verbose=False) # Create c++ file.\n",
    "!(cd {cone.retsim_path} && make) # Compile c++ file."
   ]
  },
  {
   "cell_type": "code",
   "execution_count": null,
   "metadata": {},
   "outputs": [],
   "source": [
    "cone.init_retsim(verbose=True)"
   ]
  },
  {
   "cell_type": "code",
   "execution_count": null,
   "metadata": {},
   "outputs": [],
   "source": [
    "cone.cone_soma_z = 15\n",
    "\n",
    "colormap = {'Yellow': 'Red', 'Firebrick': 'Red', 'Green': 'Red', 'Magenta': 'Gray40', 'Red': 'MediumBlue', 'Blue': 'Red'}\n",
    "output_filename = 'Cone.png'\n",
    "create_image(cell=cone, colormap=colormap, output_filename=output_filename, d=1)\n",
    "\n",
    "colormap = {'Blue': 'Black', 'Yellow': 'Gray40'}\n",
    "output_filename = 'Cone_comps.png'\n",
    "create_image(cell=cone, colormap=colormap, output_filename=output_filename, d=6, cdia=0.2)"
   ]
  },
  {
   "cell_type": "markdown",
   "metadata": {},
   "source": [
    "# ON BC"
   ]
  },
  {
   "cell_type": "code",
   "execution_count": null,
   "metadata": {},
   "outputs": [],
   "source": [
    "ON_BC = retsim_cells.CBC(\n",
    "    bp_type = 'CBC5o',\n",
    "    expt_file_list      = ['optimize_ON'],\n",
    "    expt_base_file_list = ['../../step2a_optimize_cbc/retsim_files/expt_CBC_base.cc'],\n",
    "    retsim_path=os.path.abspath(os.path.join('..',  '..', 'neuronc', 'models', 'retsim')) + '/',\n",
    "    cone_densfile = 'dens_plot_cones_bp.n',\n",
    "    bp_densfile = 'dens_plot_bp.n',\n",
    "    merge_cones=False,\n",
    ")"
   ]
  },
  {
   "cell_type": "code",
   "execution_count": null,
   "metadata": {},
   "outputs": [],
   "source": [
    "ON_BC.set_rot(myrot=90)"
   ]
  },
  {
   "cell_type": "code",
   "execution_count": null,
   "metadata": {},
   "outputs": [],
   "source": [
    "ON_BC.init_retsim(d=2, verbose=True)"
   ]
  },
  {
   "cell_type": "code",
   "execution_count": null,
   "metadata": {},
   "outputs": [],
   "source": [
    "colormap = {\n",
    "    'Blue': 'Red',\n",
    "    'Magenta': 'Gray40',\n",
    "    'Gray60': 'BlueViolet',\n",
    "    'Firebrick': 'Navy',\n",
    "    'Aquamarine': 'MediumBlue',\n",
    "    'LightBlue': 'SummerSky',\n",
    "    'White': 'NewMidnightBlue',\n",
    "    'Yellow': 'NeonBlue'\n",
    "}\n",
    "output_filename = 'CBC5.png'\n",
    "create_image(cell=ON_BC, colormap=colormap, output_filename=output_filename, d=1)\n",
    "\n",
    "colormap = {'Blue': 'Black', 'Yellow': 'Gray40'}\n",
    "output_filename = 'CBC5_comps.png'\n",
    "create_image(cell=ON_BC, colormap=colormap, output_filename=output_filename, d=6, cdia=0.2)"
   ]
  },
  {
   "cell_type": "markdown",
   "metadata": {},
   "source": [
    "# OFF BC"
   ]
  },
  {
   "cell_type": "code",
   "execution_count": null,
   "metadata": {},
   "outputs": [],
   "source": [
    "OFF_BC = retsim_cells.CBC(\n",
    "    bp_type = 'CBC3a',\n",
    "    expt_file_list      = ['optimize_OFF'],\n",
    "    expt_base_file_list = ['../../step2a_optimize_cbc/retsim_files/expt_CBC_base.cc'],\n",
    "    retsim_path=os.path.abspath(os.path.join('..',  '..', 'neuronc', 'models', 'retsim')) + '/',\n",
    "    cone_densfile = 'dens_plot_cones_bp.n',\n",
    "    bp_densfile = 'dens_plot_bp.n',\n",
    "    merge_cones=False,\n",
    ")"
   ]
  },
  {
   "cell_type": "code",
   "execution_count": null,
   "metadata": {},
   "outputs": [],
   "source": [
    "OFF_BC.myrot = 20"
   ]
  },
  {
   "cell_type": "code",
   "execution_count": null,
   "metadata": {},
   "outputs": [],
   "source": [
    "OFF_BC.init_retsim()"
   ]
  },
  {
   "cell_type": "code",
   "execution_count": null,
   "metadata": {},
   "outputs": [],
   "source": [
    "colormap = {\n",
    "    'Blue': 'Red',\n",
    "    'Magenta': 'Gray40',\n",
    "    'Gray60': 'BlueViolet',\n",
    "    'Firebrick': 'Navy',\n",
    "    'Aquamarine': 'MediumBlue',\n",
    "    'LightBlue': 'SummerSky',\n",
    "    'White': 'NewMidnightBlue',\n",
    "    'Yellow': 'NeonBlue'\n",
    "}\n",
    "output_filename = 'CBC3.png'\n",
    "\n",
    "create_image(cell=OFF_BC, colormap=colormap, output_filename=output_filename)"
   ]
  },
  {
   "cell_type": "markdown",
   "metadata": {},
   "source": [
    "# Crop images"
   ]
  },
  {
   "cell_type": "code",
   "execution_count": null,
   "metadata": {},
   "outputs": [],
   "source": [
    "from PIL import Image\n",
    "from os import listdir\n",
    "listdir('.')\n",
    "from matplotlib import pyplot as plt"
   ]
  },
  {
   "cell_type": "code",
   "execution_count": null,
   "metadata": {},
   "outputs": [],
   "source": [
    "im = Image.open('Figures/' + 'Cone.png')\n",
    "\n",
    "xxyy = (300*3, 0*3, 700*3, 970*3)\n",
    "\n",
    "# Plot.\n",
    "plt.imshow(im)\n",
    "plt.axvline(xxyy[0])\n",
    "plt.axvline(xxyy[2])\n",
    "plt.axhline(xxyy[1])\n",
    "plt.axhline(xxyy[3])\n",
    "\n",
    "# Crop\n",
    "im = im.crop(xxyy)\n",
    "\n",
    "im.save('Figures/' + 'Cone_C.png')"
   ]
  },
  {
   "cell_type": "code",
   "execution_count": null,
   "metadata": {},
   "outputs": [],
   "source": [
    "im = Image.open('Figures/' + 'CBC5.png')\n",
    "\n",
    "xxyy = (3*270, 3*0, 3*680, 3*970)\n",
    "\n",
    "# Plot.\n",
    "plt.imshow(im)\n",
    "plt.axvline(xxyy[0])\n",
    "plt.axvline(xxyy[2])\n",
    "plt.axhline(xxyy[1])\n",
    "plt.axhline(xxyy[3])\n",
    "\n",
    "# Crop\n",
    "im = im.crop(xxyy)\n",
    "\n",
    "# Crop\n",
    "im = im.crop()\n",
    "\n",
    "im.save('Figures/' + 'CBC5_C.png')"
   ]
  },
  {
   "cell_type": "code",
   "execution_count": null,
   "metadata": {},
   "outputs": [],
   "source": [
    "im = Image.open('Figures/' + 'CBC5_comps.png')\n",
    "\n",
    "xxyy = (3*270, 3*0, 3*680, 3*970)\n",
    "\n",
    "# Plot.\n",
    "plt.imshow(im)\n",
    "plt.axvline(xxyy[0])\n",
    "plt.axvline(xxyy[2])\n",
    "plt.axhline(xxyy[1])\n",
    "plt.axhline(xxyy[3])\n",
    "\n",
    "# Crop\n",
    "im = im.crop(xxyy)\n",
    "\n",
    "im.save('Figures/' + 'CBC5_comps_C.png')"
   ]
  },
  {
   "cell_type": "code",
   "execution_count": null,
   "metadata": {},
   "outputs": [],
   "source": [
    "im = Image.open('Figures/' + 'CBC3.png')\n",
    "\n",
    "xxyy = (3*300, 3*0, 3*710, 3*970)\n",
    "\n",
    "# Plot.\n",
    "plt.imshow(im)\n",
    "plt.axvline(xxyy[0])\n",
    "plt.axvline(xxyy[2])\n",
    "plt.axhline(xxyy[1])\n",
    "plt.axhline(xxyy[3])\n",
    "\n",
    "# Crop\n",
    "im = im.crop(xxyy)\n",
    "\n",
    "im.save('Figures/' + 'CBC3_C.png')"
   ]
  },
  {
   "cell_type": "code",
   "execution_count": null,
   "metadata": {},
   "outputs": [],
   "source": [
    "im_dark = np.array(im)[:,:,0] < 100 * (np.array(im)[:,:,1] < 100) * (np.array(im)[:,:,2] < 100)\n",
    "scale_bar_width = np.sum(im_dark, axis=1).max()"
   ]
  },
  {
   "cell_type": "code",
   "execution_count": null,
   "metadata": {},
   "outputs": [],
   "source": []
  }
 ],
 "metadata": {
  "kernelspec": {
   "display_name": "Python 3",
   "language": "python",
   "name": "python3"
  },
  "language_info": {
   "codemirror_mode": {
    "name": "ipython",
    "version": 3
   },
   "file_extension": ".py",
   "mimetype": "text/x-python",
   "name": "python",
   "nbconvert_exporter": "python",
   "pygments_lexer": "ipython3",
   "version": "3.7.5"
  },
  "toc": {
   "base_numbering": 1,
   "nav_menu": {},
   "number_sections": true,
   "sideBar": true,
   "skip_h1_title": false,
   "title_cell": "Table of Contents",
   "title_sidebar": "Contents",
   "toc_cell": false,
   "toc_position": {
    "height": "calc(100% - 180px)",
    "left": "10px",
    "top": "150px",
    "width": "384px"
   },
   "toc_section_display": true,
   "toc_window_display": true
  },
  "varInspector": {
   "cols": {
    "lenName": 16,
    "lenType": 16,
    "lenVar": 40
   },
   "kernels_config": {
    "python": {
     "delete_cmd_postfix": "",
     "delete_cmd_prefix": "del ",
     "library": "var_list.py",
     "varRefreshCmd": "print(var_dic_list())"
    },
    "r": {
     "delete_cmd_postfix": ") ",
     "delete_cmd_prefix": "rm(",
     "library": "var_list.r",
     "varRefreshCmd": "cat(var_dic_list()) "
    }
   },
   "types_to_exclude": [
    "module",
    "function",
    "builtin_function_or_method",
    "instance",
    "_Feature"
   ],
   "window_display": false
  }
 },
 "nbformat": 4,
 "nbformat_minor": 2
}
