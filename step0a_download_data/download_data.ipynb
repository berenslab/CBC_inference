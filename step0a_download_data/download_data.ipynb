{
 "cells": [
  {
   "cell_type": "markdown",
   "metadata": {},
   "source": [
    "# Download and sort data used for later experiments"
   ]
  },
  {
   "cell_type": "code",
   "execution_count": null,
   "metadata": {},
   "outputs": [],
   "source": [
    "import os\n",
    "import sys"
   ]
  },
  {
   "cell_type": "code",
   "execution_count": null,
   "metadata": {},
   "outputs": [],
   "source": [
    "pythoncodepath = os.path.abspath(os.path.join('..', 'pythoncode'))\n",
    "sys.path = [pythoncodepath] + sys.path\n",
    "\n",
    "import importhelper\n",
    "importhelper.addfolders2path(pythoncodepath)\n",
    "\n",
    "import data_utils"
   ]
  },
  {
   "cell_type": "code",
   "execution_count": null,
   "metadata": {},
   "outputs": [],
   "source": [
    "data_utils.make_dir('download')"
   ]
  },
  {
   "cell_type": "code",
   "execution_count": null,
   "metadata": {},
   "outputs": [],
   "source": [
    "from shutil import copy\n",
    "\n",
    "def copyfile(filename, folder_src, folder_dst):\n",
    "    copy(f'{folder_src}/{filename}', f'{folder_dst}/{filename}')"
   ]
  },
  {
   "cell_type": "markdown",
   "metadata": {},
   "source": [
    "## Download previously available CBC data from Franke et al 2017"
   ]
  },
  {
   "cell_type": "markdown",
   "metadata": {},
   "source": [
    "- Download CBC data from Franke et al. 2017 from: https://datadryad.org/stash/dataset/doi:10.5061/dryad.rs2qp\n",
    "- Unzip data to './download':"
   ]
  },
  {
   "cell_type": "code",
   "execution_count": null,
   "metadata": {},
   "outputs": [],
   "source": [
    "folder_download_submission1 = 'download/doi_10.5061_dryad.rs2qp__v2'\n",
    "assert os.path.isdir(folder_download_submission1), 'Pleace download and unzip file.'"
   ]
  },
  {
   "cell_type": "code",
   "execution_count": null,
   "metadata": {},
   "outputs": [],
   "source": [
    "os.listdir(folder_download_submission1)"
   ]
  },
  {
   "cell_type": "code",
   "execution_count": null,
   "metadata": {},
   "outputs": [],
   "source": [
    "folder_sub1 = '../experimental_data/data_iGluSnFR/cbc_data/submission1'\n",
    "data_utils.make_dir(folder_sub1)"
   ]
  },
  {
   "cell_type": "code",
   "execution_count": null,
   "metadata": {},
   "outputs": [],
   "source": [
    "os.listdir(folder_sub1)"
   ]
  },
  {
   "cell_type": "code",
   "execution_count": null,
   "metadata": {},
   "outputs": [],
   "source": [
    "from shutil import copy"
   ]
  },
  {
   "cell_type": "code",
   "execution_count": null,
   "metadata": {},
   "outputs": [],
   "source": [
    "copyfile(filename='FrankeEtAl_BCs_2017_v1.mat',\n",
    "         folder_src=folder_download_submission1,\n",
    "         folder_dst=folder_sub1)"
   ]
  },
  {
   "cell_type": "code",
   "execution_count": null,
   "metadata": {},
   "outputs": [],
   "source": [
    "copyfile(filename='FrankeEtAl_BCs_2017_drugdata.mat',\n",
    "         folder_src=folder_download_submission1,\n",
    "         folder_dst=folder_sub1)"
   ]
  },
  {
   "cell_type": "code",
   "execution_count": null,
   "metadata": {},
   "outputs": [],
   "source": [
    "os.listdir(folder_sub1)"
   ]
  },
  {
   "cell_type": "markdown",
   "metadata": {},
   "source": [
    "**You can might now delete the rest of the downloaded data.**"
   ]
  },
  {
   "cell_type": "markdown",
   "metadata": {},
   "source": [
    "# Download data from zenodo"
   ]
  },
  {
   "cell_type": "markdown",
   "metadata": {},
   "source": [
    "- Download data from zenodo: some_link_add_please\n",
    "- Unzip data to './download':"
   ]
  },
  {
   "cell_type": "code",
   "execution_count": null,
   "metadata": {},
   "outputs": [],
   "source": [
    "zenodo_folder = 'download/zenodo'\n",
    "assert os.path.isdir(zenodo_folder), 'Pleace download and unzip file.'"
   ]
  },
  {
   "cell_type": "markdown",
   "metadata": {},
   "source": [
    "## Get additional CBC data from Franke et al 2017"
   ]
  },
  {
   "cell_type": "code",
   "execution_count": null,
   "metadata": {},
   "outputs": [],
   "source": [
    "folder_download_cbc = f'{zenodo_folder}/experimental_data/data_iGluSnFR/cbc_data'\n",
    "os.listdir(folder_download_cbc)"
   ]
  },
  {
   "cell_type": "code",
   "execution_count": null,
   "metadata": {},
   "outputs": [],
   "source": [
    "folder_sub2 = '../experimental_data/data_iGluSnFR/cbc_data/submission2'\n",
    "data_utils.make_dir(folder_sub2)\n",
    "os.listdir(folder_sub2)"
   ]
  },
  {
   "cell_type": "code",
   "execution_count": null,
   "metadata": {},
   "outputs": [],
   "source": [
    "copyfile(filename='Franke2017_additional_data.h5',\n",
    "         folder_src=folder_download_cbc,\n",
    "         folder_dst=folder_sub2)"
   ]
  },
  {
   "cell_type": "code",
   "execution_count": null,
   "metadata": {},
   "outputs": [],
   "source": [
    "folder_cbc = '../experimental_data/data_iGluSnFR/cbc_data'\n",
    "data_utils.make_dir(folder_cbc)\n",
    "os.listdir(folder_cbc)"
   ]
  },
  {
   "cell_type": "code",
   "execution_count": null,
   "metadata": {},
   "outputs": [],
   "source": [
    "copyfile(filename='Franke2017_recorded_stimulus.csv',\n",
    "         folder_src=folder_download_cbc,\n",
    "         folder_dst=folder_cbc)"
   ]
  },
  {
   "cell_type": "markdown",
   "metadata": {},
   "source": [
    "## Get cone data"
   ]
  },
  {
   "cell_type": "code",
   "execution_count": null,
   "metadata": {},
   "outputs": [],
   "source": [
    "folder_download_cone = f'{zenodo_folder}/experimental_data/data_iGluSnFR/cone_data/'\n",
    "data_utils.make_dir(folder_download_cone)\n",
    "os.listdir(folder_download_cone)"
   ]
  },
  {
   "cell_type": "code",
   "execution_count": null,
   "metadata": {},
   "outputs": [],
   "source": [
    "folder_cone = '../experimental_data/data_iGluSnFR/cone_data'\n",
    "data_utils.make_dir(folder_cone)\n",
    "os.listdir(folder_cone)"
   ]
  },
  {
   "cell_type": "code",
   "execution_count": null,
   "metadata": {},
   "outputs": [],
   "source": [
    "copyfile(filename='ConeData_ReleaseData.h5',\n",
    "         folder_src=folder_download_cone,\n",
    "         folder_dst=folder_cone)"
   ]
  },
  {
   "cell_type": "code",
   "execution_count": null,
   "metadata": {},
   "outputs": [],
   "source": [
    "copyfile(filename='ConeData_recorded_stimulus.csv',\n",
    "         folder_src=folder_download_cone,\n",
    "         folder_dst=folder_cone)"
   ]
  },
  {
   "cell_type": "markdown",
   "metadata": {},
   "source": [
    "## Electrical data"
   ]
  },
  {
   "cell_type": "code",
   "execution_count": null,
   "metadata": {},
   "outputs": [],
   "source": [
    "from shutil import copytree"
   ]
  },
  {
   "cell_type": "code",
   "execution_count": null,
   "metadata": {},
   "outputs": [],
   "source": [
    "def copydir(source, target):\n",
    "    if not os.path.isdir(target):\n",
    "        copytree(source, target)\n",
    "    else:\n",
    "        print(f'Did not copy {source}.\\nRemove target folder {target} manually and try again.')"
   ]
  },
  {
   "cell_type": "code",
   "execution_count": null,
   "metadata": {},
   "outputs": [],
   "source": [
    "copydir(source=f'{zenodo_folder}/experimental_data/data_biphasic_currents',\n",
    "        target='../experimental_data/data_biphasic_currents')"
   ]
  },
  {
   "cell_type": "code",
   "execution_count": null,
   "metadata": {},
   "outputs": [],
   "source": [
    "copydir(source=f'{zenodo_folder}/experimental_data/data_sinusoidal_currents',\n",
    "        target='../experimental_data/data_sinusoidal_currents')"
   ]
  },
  {
   "cell_type": "markdown",
   "metadata": {},
   "source": [
    "## Move precomputed data"
   ]
  },
  {
   "cell_type": "code",
   "execution_count": null,
   "metadata": {},
   "outputs": [],
   "source": [
    "sorted(os.listdir(f'{zenodo_folder}/precomputed_data'))"
   ]
  },
  {
   "cell_type": "code",
   "execution_count": null,
   "metadata": {},
   "outputs": [],
   "source": [
    "copydir(source=f'{zenodo_folder}/experimental_data/data_step1a_optimize_cones',\n",
    "        target='../step1a_optimize_cones/optim_data/optimize_cone_submission2')"
   ]
  },
  {
   "cell_type": "code",
   "execution_count": null,
   "metadata": {},
   "outputs": [],
   "source": [
    "copydir(source=f'{zenodo_folder}/experimental_data/data_step1b_analyse_optimized_cones',\n",
    "        target='../step1b_analyse_optimized_cones/data')"
   ]
  },
  {
   "cell_type": "code",
   "execution_count": null,
   "metadata": {},
   "outputs": [],
   "source": [
    "copydir(source=f'{zenodo_folder}/experimental_data/data_step2a_optimize_cbc_OFF',\n",
    "        target='../step2a_optimize_cbc/optim_data/optimize_OFF_submission2')"
   ]
  },
  {
   "cell_type": "code",
   "execution_count": null,
   "metadata": {},
   "outputs": [],
   "source": [
    "copydir(source=f'{zenodo_folder}/experimental_data/data_step2a_optimize_cbc_ON',\n",
    "        target='../step2a_optimize_cbc/optim_data/optimize_ON_submission2')"
   ]
  },
  {
   "cell_type": "code",
   "execution_count": null,
   "metadata": {},
   "outputs": [],
   "source": [
    "copydir(source=f'{zenodo_folder}/experimental_data/data_step2b_analyse_optimized_cbcs',\n",
    "        target='../step2b_analyse_optimized_cbcs/data')"
   ]
  },
  {
   "cell_type": "code",
   "execution_count": null,
   "metadata": {},
   "outputs": [],
   "source": [
    "copydir(source=f'{zenodo_folder}/experimental_data/data_step3a_optimize_electrical_params',\n",
    "        target='../step3a_optimize_electrical_params/optim_data')"
   ]
  },
  {
   "cell_type": "code",
   "execution_count": null,
   "metadata": {},
   "outputs": [],
   "source": [
    "copydir(source=f'{zenodo_folder}/experimental_data/data_step4_optimize_stimulus',\n",
    "        target='../step4_optimize_stimulus/optim_data/optimize_stimulus_submission2')"
   ]
  },
  {
   "cell_type": "code",
   "execution_count": null,
   "metadata": {},
   "outputs": [],
   "source": []
  }
 ],
 "metadata": {
  "kernelspec": {
   "display_name": "Python 3",
   "language": "python",
   "name": "python3"
  },
  "language_info": {
   "codemirror_mode": {
    "name": "ipython",
    "version": 3
   },
   "file_extension": ".py",
   "mimetype": "text/x-python",
   "name": "python",
   "nbconvert_exporter": "python",
   "pygments_lexer": "ipython3",
   "version": "3.7.5"
  },
  "toc": {
   "base_numbering": 1,
   "nav_menu": {},
   "number_sections": true,
   "sideBar": true,
   "skip_h1_title": false,
   "title_cell": "Table of Contents",
   "title_sidebar": "Contents",
   "toc_cell": false,
   "toc_position": {},
   "toc_section_display": true,
   "toc_window_display": true
  },
  "varInspector": {
   "cols": {
    "lenName": 16,
    "lenType": 16,
    "lenVar": 40
   },
   "kernels_config": {
    "python": {
     "delete_cmd_postfix": "",
     "delete_cmd_prefix": "del ",
     "library": "var_list.py",
     "varRefreshCmd": "print(var_dic_list())"
    },
    "r": {
     "delete_cmd_postfix": ") ",
     "delete_cmd_prefix": "rm(",
     "library": "var_list.r",
     "varRefreshCmd": "cat(var_dic_list()) "
    }
   },
   "types_to_exclude": [
    "module",
    "function",
    "builtin_function_or_method",
    "instance",
    "_Feature"
   ],
   "window_display": false
  }
 },
 "nbformat": 4,
 "nbformat_minor": 4
}
