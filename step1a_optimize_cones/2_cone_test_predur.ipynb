{
 "cells": [
  {
   "cell_type": "markdown",
   "metadata": {},
   "source": [
    "# Find a predur for the Cone"
   ]
  },
  {
   "cell_type": "code",
   "execution_count": null,
   "metadata": {},
   "outputs": [],
   "source": [
    "import importlib"
   ]
  },
  {
   "cell_type": "code",
   "execution_count": null,
   "metadata": {},
   "outputs": [],
   "source": [
    "import pandas as pd\n",
    "import numpy as np\n",
    "from matplotlib import pyplot as plt\n",
    "import os\n",
    "import sys\n",
    "import time"
   ]
  },
  {
   "cell_type": "code",
   "execution_count": null,
   "metadata": {},
   "outputs": [],
   "source": [
    "pythoncodepath = os.path.abspath(os.path.join('..', '_pythoncode'))\n",
    "sys.path = [pythoncodepath] + sys.path\n",
    "import importhelper\n",
    "importhelper.addfolders2path(pythoncodepath)"
   ]
  },
  {
   "cell_type": "code",
   "execution_count": null,
   "metadata": {},
   "outputs": [],
   "source": [
    "import data_utils\n",
    "import compartments_and_predur_utils as utils"
   ]
  },
  {
   "cell_type": "markdown",
   "metadata": {},
   "source": [
    "# Cone"
   ]
  },
  {
   "cell_type": "code",
   "execution_count": null,
   "metadata": {},
   "outputs": [],
   "source": [
    "params_default = data_utils.load_var(os.path.join('cell_params', 'cone_cell_params_default.pkl'))\n",
    "params_unit = data_utils.load_var(os.path.join('cell_params', 'cone_cell_params_unit.pkl'))"
   ]
  },
  {
   "cell_type": "code",
   "execution_count": null,
   "metadata": {},
   "outputs": [],
   "source": [
    "data_folder = os.path.join('..', 'ExperimentalData', 'PreprocessedData')\n",
    "stimulus    = pd.read_csv(os.path.join(data_folder, 'ConeData_stimulus_time_and_amp_corrected.csv'))\n",
    "\n",
    "stimulus.plot(x='Time', figsize=(15,2))\n",
    "plt.show()"
   ]
  },
  {
   "cell_type": "code",
   "execution_count": null,
   "metadata": {},
   "outputs": [],
   "source": [
    "import retsim_cells\n",
    "importlib.reload(retsim_cells)\n",
    "\n",
    "# Create cell.\n",
    "cell = retsim_cells.Cone(\n",
    "    predur=0.1, t_rng=(1.9,2.2),\n",
    "    params_default=params_default, params_unit=params_unit,\n",
    "    stimulus=stimulus, stim_type='Light',\n",
    "    cone_densfile       = 'dens_cone_optimize_cone.n',\n",
    "    nval_file           = 'nval_cone_optimize_cone.n',\n",
    "    chanparams_file     = 'chanparams_cone_optimize_cone.n',\n",
    "    expt_file_list      = ['optimize_cones'],\n",
    "    expt_base_file_list = [os.path.join('retsim_files', 'expt_optimize_cones.cc')],\n",
    "    retsim_path=os.path.abspath(os.path.join('..', 'NeuronC', 'models', 'retsim')) + '/'\n",
    ")"
   ]
  },
  {
   "cell_type": "code",
   "execution_count": null,
   "metadata": {},
   "outputs": [],
   "source": [
    "# Create c++ file\n",
    "cell.create_retsim_expt_file(verbose=True)\n",
    "# Compile c++ file\n",
    "!(cd {cell.retsim_path} && make)"
   ]
  },
  {
   "cell_type": "markdown",
   "metadata": {},
   "source": [
    "## Check how fast resting Vm is reached."
   ]
  },
  {
   "cell_type": "code",
   "execution_count": null,
   "metadata": {},
   "outputs": [],
   "source": [
    "cell.init_retsim(verbose=1)"
   ]
  },
  {
   "cell_type": "code",
   "execution_count": null,
   "metadata": {},
   "outputs": [],
   "source": [
    "# Set stimulus to background stimulus.\n",
    "cell.stim[0]['Stim'] *= 0\n",
    "plt.plot(cell.stim[0]['Stim'])\n",
    "plt.show()"
   ]
  },
  {
   "cell_type": "markdown",
   "metadata": {},
   "source": [
    "### No predur"
   ]
  },
  {
   "cell_type": "code",
   "execution_count": null,
   "metadata": {},
   "outputs": [],
   "source": [
    "cell.rec_type='optimize'\n",
    "cell.predur = 0.0\n",
    "stimdur = 10\n",
    "\n",
    "cell.update_t_rng(t_rng=(0, 0+stimdur))\n",
    "nopredur_rec_data, nopredur_rec_time, nopredur_rec_stim, tdur = utils.run_and_show_cell(cell, plot=True)\n",
    "print(tdur)"
   ]
  },
  {
   "cell_type": "code",
   "execution_count": null,
   "metadata": {},
   "outputs": [],
   "source": [
    "for col in nopredur_rec_data.columns:\n",
    "    if 'Vm' in col:\n",
    "        utils.plot_reaching_eq(\n",
    "            nopredur_rec_data, nopredur_rec_time,\n",
    "            nopredur_rec_stim, plt_Vm_name=col,\n",
    "            Vm_eq=nopredur_rec_data[col].iloc[-1]\n",
    "        )"
   ]
  },
  {
   "cell_type": "markdown",
   "metadata": {},
   "source": [
    "### Run with small predur."
   ]
  },
  {
   "cell_type": "code",
   "execution_count": null,
   "metadata": {},
   "outputs": [],
   "source": [
    "cell.predur = 1.0\n",
    "stimdur = 5\n",
    "\n",
    "cell.update_t_rng(t_rng=(0, 0+stimdur))\n",
    "smallpredur_rec_data, smallpredur_rec_time, smallpredur_rec_stim, tdur = utils.run_and_show_cell(cell, plot=True)\n",
    "print(tdur)"
   ]
  },
  {
   "cell_type": "code",
   "execution_count": null,
   "metadata": {},
   "outputs": [],
   "source": [
    "for col in smallpredur_rec_data.columns:\n",
    "    if 'Vm' in col:\n",
    "        utils.plot_reaching_eq(\n",
    "            smallpredur_rec_data, smallpredur_rec_time,\n",
    "            smallpredur_rec_stim, plt_Vm_name=col,\n",
    "            Vm_eq=nopredur_rec_data[col].iloc[-1]\n",
    "        )"
   ]
  },
  {
   "cell_type": "markdown",
   "metadata": {},
   "source": [
    "### Run with different predurs"
   ]
  },
  {
   "cell_type": "code",
   "execution_count": null,
   "metadata": {},
   "outputs": [],
   "source": [
    "predur_list = [0.1, 0.5, 1, 3, 4, 5, 6, 10]\n",
    "\n",
    "predur_tdur_list = []\n",
    "predur_rec_data_list = []\n",
    "cell.update_t_rng(t_rng=(0, 0+0.01))\n",
    "\n",
    "for idx, predur in enumerate(predur_list):\n",
    "    cell.predur = predur\n",
    "    rec_data, rec_time, rec_stim, tdur = utils.run_and_show_cell(cell, plot=idx==0)\n",
    "    print(predur, end='\\t')\n",
    "    \n",
    "    # Save data.\n",
    "    predur_tdur_list.append(tdur)\n",
    "    predur_rec_data_list.append(rec_data)"
   ]
  },
  {
   "cell_type": "code",
   "execution_count": null,
   "metadata": {},
   "outputs": [],
   "source": [
    "importlib.reload(utils)"
   ]
  },
  {
   "cell_type": "code",
   "execution_count": null,
   "metadata": {},
   "outputs": [],
   "source": [
    "utils.plot_params_vs_tdur(params=predur_list, tdur_list=predur_tdur_list)\n",
    "print(f'{predur_tdur_list[-1] / predur_list[-1]:.2f} seconds per predur seconds')"
   ]
  },
  {
   "cell_type": "code",
   "execution_count": null,
   "metadata": {},
   "outputs": [],
   "source": [
    "utils.plot_params_vs_time_to_Vm_eq(\n",
    "    params=predur_list, rec_data_list=predur_rec_data_list,\n",
    "    Vm_eq=nopredur_rec_data[\"Vm Soma\"].iloc[-1], plt_Vm_name=\"Vm Soma\"\n",
    ")"
   ]
  },
  {
   "cell_type": "markdown",
   "metadata": {},
   "source": [
    "### Run with different stim times"
   ]
  },
  {
   "cell_type": "code",
   "execution_count": null,
   "metadata": {},
   "outputs": [],
   "source": [
    "stimdur_list = [0.1, 0.5, 1, 3, 6]\n",
    "\n",
    "stimdur_tdur_list = []\n",
    "stimdur_rec_data_list = []\n",
    "\n",
    "cell.predur = 0.0\n",
    "\n",
    "for idx, stimdur in enumerate(stimdur_list):\n",
    "    cell.update_t_rng(t_rng=(0, stimdur))\n",
    "    rec_data, rec_time, rec_stim, tdur = utils.run_and_show_cell(cell, plot=idx==0)\n",
    "    \n",
    "    # Save data.\n",
    "    stimdur_tdur_list.append(tdur)\n",
    "    stimdur_rec_data_list.append(rec_data)"
   ]
  },
  {
   "cell_type": "code",
   "execution_count": null,
   "metadata": {},
   "outputs": [],
   "source": [
    "utils.plot_params_vs_tdur(params=stimdur_list, tdur_list=stimdur_tdur_list)\n",
    "print(f'{stimdur_tdur_list[-1] / stimdur_list[-1]:.2f} seconds per sim seconds')"
   ]
  },
  {
   "cell_type": "markdown",
   "metadata": {},
   "source": [
    "# Test sim_dt for optimize cpl"
   ]
  },
  {
   "cell_type": "code",
   "execution_count": null,
   "metadata": {},
   "outputs": [],
   "source": [
    "cell.stim[0]['Stim'][cell.stim[0]['Time']>0.05] = 0.3\n",
    "cell.stim[0]['Stim'][cell.stim[0]['Time']>0.1] = 1\n",
    "cell.stim[0]['Stim'][cell.stim[0]['Time']>0.15] = 0.5\n",
    "cell.stim[0]['Stim'][cell.stim[0]['Time']>0.2] = 0.0\n",
    "cell.stim[0]['Stim'][cell.stim[0]['Time']>0.25] = 0.5\n",
    "cell.stim[0]['Stim'][cell.stim[0]['Time']>0.3] = 0.0\n",
    "cell.stim[0]['Stim'][cell.stim[0]['Time']>0.35] = 1.0\n",
    "\n",
    "plt.plot(cell.stim[0]['Time'], cell.stim[0]['Stim'])\n",
    "plt.xlim(0, 0.4)\n",
    "plt.show()"
   ]
  },
  {
   "cell_type": "code",
   "execution_count": null,
   "metadata": {},
   "outputs": [],
   "source": [
    "cell.rec_type='optimize'\n",
    "cell.predur = 6.0\n",
    "cell.update_t_rng((0, 0.4))"
   ]
  },
  {
   "cell_type": "code",
   "execution_count": null,
   "metadata": {},
   "outputs": [],
   "source": [
    "sim_dt_list = [5e-7, 1e-6, 2e-6, 5e-6, 1e-5, 2e-5, 5e-5, 1e-4]"
   ]
  },
  {
   "cell_type": "code",
   "execution_count": null,
   "metadata": {},
   "outputs": [],
   "source": [
    "sim_dt_rec_data_list = []\n",
    "sim_dt_rec_time_list = []\n",
    "\n",
    "for sim_dt in sim_dt_list:\n",
    "    print(sim_dt)\n",
    "    \n",
    "    cell.sim_dt = sim_dt\n",
    "    \n",
    "    sim_dt_rec_data, sim_dt_rec_time, _, tdur = utils.run_and_show_cell(cell, plot=False)\n",
    "    assert sim_dt_rec_data is not None\n",
    "    print(f'min = {tdur/60}')\n",
    "    \n",
    "    sim_dt_rec_data_list.append(sim_dt_rec_data)\n",
    "    sim_dt_rec_time_list.append(sim_dt_rec_time)"
   ]
  },
  {
   "cell_type": "code",
   "execution_count": null,
   "metadata": {},
   "outputs": [],
   "source": [
    "fig, axs = plt.subplots(1,2, figsize=(15,6))\n",
    "for rec_time, rec_data, sim_dt in zip(sim_dt_rec_time_list, sim_dt_rec_data_list, sim_dt_list):\n",
    "    axs[0].plot(rec_time, rec_data['rate Cone'], label=sim_dt)\n",
    "    axs[1].plot(rec_time, rec_data['Vm Soma'], label=sim_dt)\n",
    "    \n",
    "plt.legend()\n",
    "plt.show()"
   ]
  },
  {
   "cell_type": "code",
   "execution_count": null,
   "metadata": {},
   "outputs": [],
   "source": [
    "fig, axs = plt.subplots(1,2, figsize=(15,6))\n",
    "for rec_time, rec_data, sim_dt in zip(sim_dt_rec_time_list, sim_dt_rec_data_list, sim_dt_list):\n",
    "    axs[0].plot(\n",
    "        rec_time, rec_data['rate Cone'] - sim_dt_rec_data_list[0]['rate Cone'], label=sim_dt\n",
    "    )\n",
    "    axs[1].plot(\n",
    "        rec_time, (rec_data['Vm Soma'] - sim_dt_rec_data_list[0]['Vm Soma'])*1e3,\n",
    "        label=sim_dt\n",
    "    )\n",
    "axs[1].set_ylabel('mV')\n",
    "plt.legend()\n",
    "plt.show()"
   ]
  },
  {
   "cell_type": "code",
   "execution_count": null,
   "metadata": {},
   "outputs": [],
   "source": []
  },
  {
   "cell_type": "code",
   "execution_count": null,
   "metadata": {},
   "outputs": [],
   "source": []
  }
 ],
 "metadata": {
  "hide_input": false,
  "kernelspec": {
   "display_name": "Python 3",
   "language": "python",
   "name": "python3"
  },
  "language_info": {
   "codemirror_mode": {
    "name": "ipython",
    "version": 3
   },
   "file_extension": ".py",
   "mimetype": "text/x-python",
   "name": "python",
   "nbconvert_exporter": "python",
   "pygments_lexer": "ipython3",
   "version": "3.7.5"
  },
  "toc": {
   "base_numbering": 1,
   "nav_menu": {},
   "number_sections": true,
   "sideBar": true,
   "skip_h1_title": false,
   "title_cell": "Table of Contents",
   "title_sidebar": "Contents",
   "toc_cell": false,
   "toc_position": {
    "height": "calc(100% - 180px)",
    "left": "10px",
    "top": "150px",
    "width": "384px"
   },
   "toc_section_display": true,
   "toc_window_display": true
  },
  "varInspector": {
   "cols": {
    "lenName": 16,
    "lenType": 16,
    "lenVar": 40
   },
   "kernels_config": {
    "python": {
     "delete_cmd_postfix": "",
     "delete_cmd_prefix": "del ",
     "library": "var_list.py",
     "varRefreshCmd": "print(var_dic_list())"
    },
    "r": {
     "delete_cmd_postfix": ") ",
     "delete_cmd_prefix": "rm(",
     "library": "var_list.r",
     "varRefreshCmd": "cat(var_dic_list()) "
    }
   },
   "types_to_exclude": [
    "module",
    "function",
    "builtin_function_or_method",
    "instance",
    "_Feature"
   ],
   "window_display": false
  }
 },
 "nbformat": 4,
 "nbformat_minor": 4
}
