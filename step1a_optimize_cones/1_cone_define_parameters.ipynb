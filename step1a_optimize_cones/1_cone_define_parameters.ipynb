{
 "cells": [
  {
   "cell_type": "markdown",
   "metadata": {},
   "source": [
    "# Create cell parameters for the cone model"
   ]
  },
  {
   "cell_type": "code",
   "execution_count": null,
   "metadata": {},
   "outputs": [],
   "source": [
    "import sys\n",
    "import os"
   ]
  },
  {
   "cell_type": "code",
   "execution_count": null,
   "metadata": {},
   "outputs": [],
   "source": [
    "pythoncodepath = os.path.abspath(os.path.join('..', 'pythoncode'))\n",
    "sys.path = [pythoncodepath] + sys.path\n",
    "import importhelper\n",
    "importhelper.addfolders2path(pythoncodepath)"
   ]
  },
  {
   "cell_type": "code",
   "execution_count": null,
   "metadata": {},
   "outputs": [],
   "source": [
    "import data_utils"
   ]
  },
  {
   "cell_type": "code",
   "execution_count": null,
   "metadata": {},
   "outputs": [],
   "source": [
    "outputfolder = 'cell_params'\n",
    "data_utils.make_dir(outputfolder)"
   ]
  },
  {
   "cell_type": "markdown",
   "metadata": {},
   "source": [
    "# Parameters"
   ]
  },
  {
   "cell_type": "markdown",
   "metadata": {},
   "source": [
    "## Cell params, defaults and unit"
   ]
  },
  {
   "cell_type": "code",
   "execution_count": null,
   "metadata": {},
   "outputs": [],
   "source": [
    "# Cell parameters.\n",
    "params_default = {\n",
    "    'c_vst':         -40,\n",
    "    'c_vrev':        -50,\n",
    "    \n",
    "    'c_rm':          10,\n",
    "    'c_cm':          1,\n",
    "    'c_ri':          132,\n",
    "    \n",
    "    'l_gain':        1.0,\n",
    "    \n",
    "    'cd_Kv':         1,\n",
    "    'cd_H_at':       1,\n",
    "    'cd_H_a':        1,\n",
    "    'cd_H_s':        1,\n",
    "    'cd_Ca_L':       5,\n",
    "    'cd_Ca_P':       1,\n",
    "    'ca_PK':         1,\n",
    "    'cd_ClCa':       1,\n",
    "\n",
    "    'c_L_offm':      0,\n",
    "    'c_L_taua':      1,\n",
    "    \n",
    "    'c_Kv_offm':     0,\n",
    "    'c_Kv_taua':     1,\n",
    "    \n",
    "    'c_rrp':         20,\n",
    "    'set_dscaeg':    2,\n",
    "    'cpl_axon':      {\"c\": 0.1, 'rm': 'c_rm', 'ri': 'c_ri'},\n",
    "}\n",
    "\n",
    "# Define parameters units. \n",
    "params_unit = {\n",
    "    'c_vst':         1e-3,\n",
    "    'c_vrev':        1e-3,\n",
    "    \n",
    "    'c_cm':          1e-6,\n",
    "    'c_rm':          1e3,\n",
    "   \n",
    "    'cd_Kv':         1e-3,\n",
    "    'cd_Ca_L':       1e-3,\n",
    "    'cd_ClCa':       1e-3,\n",
    "    \n",
    "    'cd_H_at':       1e-3,\n",
    "    'cd_H_a':        1e-3,\n",
    "    'cd_H_s':        1e-3,\n",
    "    \n",
    "    'cd_Ca_P':       1e-6,\n",
    "    'ca_PK':         1e-6,\n",
    "    \n",
    "    'c_L_offm':      1e-3,\n",
    "    'c_Kv_offm':     1e-3,\n",
    "}\n",
    "\n",
    "for p_name in params_unit.keys():\n",
    "    assert p_name in params_default.keys()"
   ]
  },
  {
   "cell_type": "code",
   "execution_count": null,
   "metadata": {},
   "outputs": [],
   "source": [
    "data_utils.save_var(params_default, os.path.join(outputfolder, 'cone_cell_params_default.pkl'))\n",
    "data_utils.save_var(params_unit, os.path.join(outputfolder, 'cone_cell_params_unit.pkl'))"
   ]
  },
  {
   "cell_type": "markdown",
   "metadata": {},
   "source": [
    "## Optimization params, range and mean"
   ]
  },
  {
   "cell_type": "code",
   "execution_count": null,
   "metadata": {},
   "outputs": [],
   "source": [
    "# Define parameters to optimize.\n",
    "opt_params_range = {\n",
    "    'c_vrev':        (-90, -50), # Changed.\n",
    "    'c_rm':          (1, 100),\n",
    "    'c_cm':          (0.9, 1.3),\n",
    "    'l_gain':        (0.3, 3),\n",
    "    \n",
    "    'cd_Kv':         (0.0,   3),\n",
    "    'cd_H_at':       (0.0,   10),\n",
    "    'cd_H_a':        (0.0,   10),\n",
    "    'cd_H_s':        (0.0,   10),\n",
    "    'cd_Ca_L':       (0.1,   10),\n",
    "    'cd_Ca_P':       (0.1,   100),\n",
    "    'ca_PK':         (0.01,  100),\n",
    "    'cd_ClCa':       (0.0,   10),\n",
    "\n",
    "    'c_L_offm':      (-5,   5),\n",
    "    'c_L_taua':      (0.75, 1.5),\n",
    "    \n",
    "    'c_Kv_offm':     (-10, 10),\n",
    "    'c_Kv_taua':     (0.1, 10),\n",
    "    \n",
    "    'c_rrp':         (10, 30),\n",
    "}\n",
    "\n",
    "for p_name in opt_params_range.keys():\n",
    "    assert p_name in params_default.keys()"
   ]
  },
  {
   "cell_type": "code",
   "execution_count": null,
   "metadata": {},
   "outputs": [],
   "source": [
    "opt_params_default = {\n",
    "    'c_vrev':    -70,\n",
    "    'c_rm':      5,\n",
    "    'c_cm':      1,\n",
    "    'l_gain':    1,\n",
    "    \n",
    "    'cd_Kv':     0.1,\n",
    "    'cd_H_s':    3,\n",
    "    'cd_H_a':    1,\n",
    "    'cd_H_at':   0.1,\n",
    "    'cd_Ca_L':   2,\n",
    "    'cd_Ca_P':   10,\n",
    "    'ca_PK':     5,\n",
    "    'cd_ClCa':   0.1,\n",
    "\n",
    "    'c_L_offm':  0,\n",
    "    'c_L_taua':  1,\n",
    "    \n",
    "    'c_Kv_offm': 0,\n",
    "    'c_Kv_taua': 1,\n",
    "    \n",
    "    'c_rrp':     20,\n",
    "}\n",
    "\n",
    "for p_name in opt_params_default.keys():\n",
    "    assert p_name in params_default.keys()\n",
    "    assert p_name in opt_params_default.keys()"
   ]
  },
  {
   "cell_type": "code",
   "execution_count": null,
   "metadata": {},
   "outputs": [],
   "source": [
    "data_utils.save_var(opt_params_default, os.path.join(outputfolder, 'cone_opt_params_default.pkl'))\n",
    "data_utils.save_var(opt_params_range, os.path.join(outputfolder, 'cone_opt_params_range.pkl'))"
   ]
  },
  {
   "cell_type": "code",
   "execution_count": null,
   "metadata": {},
   "outputs": [],
   "source": []
  }
 ],
 "metadata": {
  "hide_input": false,
  "kernelspec": {
   "display_name": "Python 3",
   "language": "python",
   "name": "python3"
  },
  "language_info": {
   "codemirror_mode": {
    "name": "ipython",
    "version": 3
   },
   "file_extension": ".py",
   "mimetype": "text/x-python",
   "name": "python",
   "nbconvert_exporter": "python",
   "pygments_lexer": "ipython3",
   "version": "3.7.5"
  },
  "toc": {
   "base_numbering": 1,
   "nav_menu": {},
   "number_sections": true,
   "sideBar": true,
   "skip_h1_title": false,
   "title_cell": "Table of Contents",
   "title_sidebar": "Contents",
   "toc_cell": false,
   "toc_position": {},
   "toc_section_display": true,
   "toc_window_display": true
  },
  "varInspector": {
   "cols": {
    "lenName": 16,
    "lenType": 16,
    "lenVar": 40
   },
   "kernels_config": {
    "python": {
     "delete_cmd_postfix": "",
     "delete_cmd_prefix": "del ",
     "library": "var_list.py",
     "varRefreshCmd": "print(var_dic_list())"
    },
    "r": {
     "delete_cmd_postfix": ") ",
     "delete_cmd_prefix": "rm(",
     "library": "var_list.r",
     "varRefreshCmd": "cat(var_dic_list()) "
    }
   },
   "types_to_exclude": [
    "module",
    "function",
    "builtin_function_or_method",
    "instance",
    "_Feature"
   ],
   "window_display": false
  }
 },
 "nbformat": 4,
 "nbformat_minor": 4
}
