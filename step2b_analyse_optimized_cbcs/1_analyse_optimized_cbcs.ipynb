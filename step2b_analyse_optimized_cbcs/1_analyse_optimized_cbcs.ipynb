{
 "cells": [
  {
   "cell_type": "markdown",
   "metadata": {},
   "source": [
    "# Imports"
   ]
  },
  {
   "cell_type": "code",
   "execution_count": null,
   "metadata": {},
   "outputs": [],
   "source": [
    "import importlib\n",
    "import pandas as pd\n",
    "import numpy as np\n",
    "from matplotlib import pyplot as plt\n",
    "import warnings\n",
    "\n",
    "import os\n",
    "import sys"
   ]
  },
  {
   "cell_type": "code",
   "execution_count": null,
   "metadata": {},
   "outputs": [],
   "source": [
    "pythoncodepath = os.path.abspath(os.path.join('..', 'pythoncode'))\n",
    "sys.path = [pythoncodepath] + sys.path\n",
    "import importhelper\n",
    "importhelper.addfolders2path(pythoncodepath)"
   ]
  },
  {
   "cell_type": "code",
   "execution_count": null,
   "metadata": {},
   "outputs": [],
   "source": [
    "import data_utils"
   ]
  },
  {
   "cell_type": "markdown",
   "metadata": {},
   "source": [
    "# Create Cell and stimulate"
   ]
  },
  {
   "cell_type": "code",
   "execution_count": null,
   "metadata": {},
   "outputs": [],
   "source": [
    "stim_t_rng = (1, 32)\n",
    "predur = 10"
   ]
  },
  {
   "cell_type": "code",
   "execution_count": null,
   "metadata": {},
   "outputs": [],
   "source": [
    "# Load experimental data\n",
    "data_folder = os.path.join('..', 'step0_preprocess_iGluSnFR_data', 'data_preprocessed')\n",
    "stimulus    = pd.read_csv(os.path.join(data_folder, 'Franke2017_stimulus_time_and_amp_corrected.csv'))"
   ]
  },
  {
   "cell_type": "code",
   "execution_count": null,
   "metadata": {},
   "outputs": [],
   "source": [
    "fig, ax = plt.subplots(1,1,figsize=(12,2),subplot_kw=dict(xlim=stim_t_rng))\n",
    "stimulus.plot(x='Time', ax=ax)\n",
    "plt.show()"
   ]
  },
  {
   "cell_type": "markdown",
   "metadata": {},
   "source": [
    "## Select optimized cells"
   ]
  },
  {
   "cell_type": "code",
   "execution_count": null,
   "metadata": {},
   "outputs": [],
   "source": [
    "cbc_folder = os.path.join('..', 'step2a_optimize_cbc', )\n",
    "\n",
    "cell2folder = {\n",
    "    'OFF': os.path.join(cbc_folder, 'optim_data', 'optimize_OFF_submission2'),\n",
    "    'ON': os.path.join(cbc_folder, 'optim_data', 'optimize_ON_submission2'),\n",
    "}"
   ]
  },
  {
   "cell_type": "markdown",
   "metadata": {},
   "source": [
    "## Create cells\n"
   ]
  },
  {
   "cell_type": "code",
   "execution_count": null,
   "metadata": {},
   "outputs": [],
   "source": [
    "import retsim_cells\n",
    "importlib.reload(retsim_cells)\n",
    "\n",
    "kwargs = dict(\n",
    "    stimulus=stimulus,\n",
    "    stim_type='Light',\n",
    "    t_rng=stim_t_rng,\n",
    "    expt_base_file=os.path.join(cbc_folder, 'retsim_files', 'expt_CBC_base.cc'),\n",
    "    cone_densfile='dens_cone_optimized_submission2.n',\n",
    "    nval_file='nval_optimize_CBCs.n',\n",
    "    retsim_path=os.path.abspath(os.path.join('..', 'neuronc', 'models', 'retsim')) + '/'\n",
    ")\n",
    "\n",
    "# Create cells.\n",
    "ON_cell = retsim_cells.CBC(\n",
    "    bp_type='CBC5o',\n",
    "    predur=predur,\n",
    "    expt_file='test_ON',\n",
    "    bp_densfile         = 'dens_CBC5o_optimize_ON.n',\n",
    "    chanparams_file     = 'chanparams_CBC5o_optimize_ON.n',\n",
    "    **kwargs\n",
    ")\n",
    "\n",
    "OFF_cell = retsim_cells.CBC(\n",
    "    bp_type='CBC3a',\n",
    "    predur=predur,\n",
    "    expt_file='test_OFF',\n",
    "    bp_densfile         = 'dens_CBC3a_optimize_OFF.n',\n",
    "    chanparams_file     = 'chanparams_CBC3a_optimize_OFF.n',\n",
    "    **kwargs\n",
    ")\n",
    "\n",
    "cells = [ON_cell, OFF_cell]"
   ]
  },
  {
   "cell_type": "markdown",
   "metadata": {},
   "source": [
    "## Set parameters"
   ]
  },
  {
   "cell_type": "markdown",
   "metadata": {},
   "source": [
    "### Defaults and units"
   ]
  },
  {
   "cell_type": "code",
   "execution_count": null,
   "metadata": {},
   "outputs": [],
   "source": [
    "for cell, cell_name in zip([ON_cell, OFF_cell], ['ON', 'OFF']):\n",
    "\n",
    "    cell.params_default = data_utils.load_var(os.path.join(cell2folder[cell_name], 'cell_params_default.pkl'))\n",
    "    cell.params_unit = data_utils.load_var(os.path.join(cell2folder[cell_name], 'cell_params_unit.pkl'))\n",
    "    \n",
    "    cell.params_default.update(data_utils.load_var(os.path.join(cell2folder[cell_name], 'final_cpl_dict.pkl')))"
   ]
  },
  {
   "cell_type": "markdown",
   "metadata": {},
   "source": [
    "### Optimized parameters"
   ]
  },
  {
   "cell_type": "code",
   "execution_count": null,
   "metadata": {},
   "outputs": [],
   "source": [
    "N_param_sets = 5\n",
    "\n",
    "cell2params_list = {}\n",
    "\n",
    "for cell in cells:\n",
    "    optim_folder = cell2folder['OFF' if cell.is_OFF_bp else 'ON']\n",
    "    samples = data_utils.load_var(os.path.join(optim_folder, 'post_data', 'post_model_output_list.pkl'))\n",
    "    d_sort_idxs = np.argsort([sample['loss']['total'] for sample in samples])\n",
    "    cell2params_list[cell.bp_type] = [samples[idx]['params'] for idx in d_sort_idxs[:N_param_sets]]"
   ]
  },
  {
   "cell_type": "code",
   "execution_count": null,
   "metadata": {},
   "outputs": [],
   "source": [
    "# List params not in optimized params.\n",
    "for cell in cells:\n",
    "    print(cell.bp_type, ':')\n",
    "    for p_name, p_value in cell.params_default.items():\n",
    "        if p_name not in cell2params_list[cell.bp_type][0].keys():\n",
    "            print(p_name, end=', ')\n",
    "    print()"
   ]
  },
  {
   "cell_type": "markdown",
   "metadata": {},
   "source": [
    "### Cell loss"
   ]
  },
  {
   "cell_type": "code",
   "execution_count": null,
   "metadata": {},
   "outputs": [],
   "source": [
    "data_utils.make_dir('data')\n",
    "\n",
    "cell2loss = {}\n",
    "for cell in cells:\n",
    "    optim_folder = cell2folder['OFF' if cell.is_OFF_bp else 'ON']\n",
    "    cell2loss[cell.bp_type] = data_utils.load_var(os.path.join(optim_folder, 'loss.pkl'))\n",
    "    \n",
    "data_utils.save_var(cell2loss, os.path.join('data', 'cell2loss.pkl'))"
   ]
  },
  {
   "cell_type": "markdown",
   "metadata": {},
   "source": [
    "### Prepare cells"
   ]
  },
  {
   "cell_type": "code",
   "execution_count": null,
   "metadata": {},
   "outputs": [],
   "source": [
    "# Create c++ files.\n",
    "ON_cell.create_retsim_expt_file(verbose=False, on2cone_nodes=[1077, 980, 1190])\n",
    "OFF_cell.create_retsim_expt_file(verbose=False, off2cone_nodes=[686, 1037, 828, 950, 879])\n",
    "# Compile c++ files.\n",
    "!(cd {cell.retsim_path} && make)"
   ]
  },
  {
   "cell_type": "code",
   "execution_count": null,
   "metadata": {},
   "outputs": [],
   "source": [
    "ON_cell.set_rot(mxrot=-90, myrot=0)\n",
    "ON_im = ON_cell.init_retsim(verbose=False, print_comps=True, update=True)\n",
    "\n",
    "OFF_cell.set_rot(mxrot=-90, myrot=60)\n",
    "OFF_im = OFF_cell.init_retsim(verbose=False, print_comps=True, update=True)\n",
    "\n",
    "# Plot.\n",
    "fig, axs = plt.subplots(1,2,figsize=(14, 8))\n",
    "axs[0].imshow(ON_im)\n",
    "axs[1].imshow(OFF_im)\n",
    "for ax in axs: ax.axis('off')\n",
    "plt.show()"
   ]
  },
  {
   "cell_type": "markdown",
   "metadata": {},
   "source": [
    "# Get cell response with different channels removed."
   ]
  },
  {
   "cell_type": "markdown",
   "metadata": {},
   "source": [
    "## Remove channel functions"
   ]
  },
  {
   "cell_type": "code",
   "execution_count": null,
   "metadata": {},
   "outputs": [],
   "source": [
    "def make_params_passive(full_params):\n",
    "    new_params = full_params.copy()\n",
    "    \n",
    "    for p_name, p_value in new_params.items():\n",
    "        if ('cd_' in p_name) and (p_name not in ['cd_L_at','cd_T_at','cd_P_at']):\n",
    "            new_params[p_name] = 0.0            \n",
    "    \n",
    "    return new_params"
   ]
  },
  {
   "cell_type": "code",
   "execution_count": null,
   "metadata": {},
   "outputs": [],
   "source": [
    "def remove_HCN_channels(full_params):    \n",
    "    new_params = full_params.copy()\n",
    "    \n",
    "    for p_name, p_value in new_params.items():\n",
    "        if ('cd_H' in p_name):\n",
    "            new_params[p_name] = 0.0\n",
    "    return new_params"
   ]
  },
  {
   "cell_type": "code",
   "execution_count": null,
   "metadata": {},
   "outputs": [],
   "source": [
    "def remove_Kv_channels(full_params):    \n",
    "    new_params = full_params.copy()\n",
    "    \n",
    "    for p_name, p_value in new_params.items():\n",
    "        if ('cd_Kv' in p_name):\n",
    "            new_params[p_name] = 0.0\n",
    "    return new_params"
   ]
  },
  {
   "cell_type": "code",
   "execution_count": null,
   "metadata": {},
   "outputs": [],
   "source": [
    "def remove_Kir_channels(full_params):\n",
    "    new_params = full_params.copy()\n",
    "    \n",
    "    for p_name, p_value in new_params.items():\n",
    "        if ('cd_Kir' in p_name):\n",
    "            new_params[p_name] = 0.0\n",
    "    return new_params"
   ]
  },
  {
   "cell_type": "code",
   "execution_count": null,
   "metadata": {},
   "outputs": [],
   "source": [
    "def remove_Na_channels(full_params):\n",
    "    new_params = full_params.copy()\n",
    "    \n",
    "    for p_name, p_value in new_params.items():\n",
    "        if ('cd_N' in p_name):\n",
    "            new_params[p_name] = 0.0\n",
    "    return new_params"
   ]
  },
  {
   "cell_type": "code",
   "execution_count": null,
   "metadata": {},
   "outputs": [],
   "source": [
    "def remove_somaCa_channels(full_params):\n",
    "    new_params = full_params.copy()\n",
    "    \n",
    "    for p_name, p_value in new_params.items():\n",
    "        if p_name in ['cd_L_s','cd_T_s','cd_P_s']:\n",
    "            new_params[p_name] = 0.0\n",
    "    return new_params"
   ]
  },
  {
   "cell_type": "code",
   "execution_count": null,
   "metadata": {},
   "outputs": [],
   "source": [
    "def remove_L_at_channels(full_params):\n",
    "    new_params = full_params.copy()\n",
    "    \n",
    "    for p_name, p_value in new_params.items():\n",
    "        if ('cd_L_at' in p_name):\n",
    "            new_params[p_name] = 0.0\n",
    "    return new_params"
   ]
  },
  {
   "cell_type": "code",
   "execution_count": null,
   "metadata": {},
   "outputs": [],
   "source": [
    "def remove_T_at_channels(full_params):\n",
    "    new_params = full_params.copy()\n",
    "    \n",
    "    for p_name, p_value in new_params.items():\n",
    "        if ('cd_T_at' in p_name):\n",
    "            new_params[p_name] = 0.0\n",
    "    return new_params"
   ]
  },
  {
   "cell_type": "code",
   "execution_count": null,
   "metadata": {},
   "outputs": [],
   "source": [
    "def get_mode2params_dict(full_params, isOFF=False):\n",
    "    \n",
    "    full_params = full_params.copy()\n",
    "    \n",
    "    params_dict = {\n",
    "        'all': full_params,\n",
    "        'no_HCN': remove_HCN_channels(full_params),\n",
    "        'no_Kv': remove_Kv_channels(full_params),\n",
    "        'no_Kir': remove_Kir_channels(full_params),\n",
    "        'no_Na': remove_Na_channels(full_params),\n",
    "        'no_somaCa': remove_somaCa_channels(full_params),\n",
    "        'passive': make_params_passive(full_params),\n",
    "    }\n",
    "    \n",
    "    if isOFF:\n",
    "        params_dict['no_L_at'] = remove_L_at_channels(full_params)\n",
    "        params_dict['no_T_at'] = remove_T_at_channels(full_params)\n",
    "    \n",
    "    return params_dict"
   ]
  },
  {
   "cell_type": "markdown",
   "metadata": {},
   "source": [
    "## Prepare cells"
   ]
  },
  {
   "cell_type": "code",
   "execution_count": null,
   "metadata": {},
   "outputs": [],
   "source": [
    "data_utils.make_dir('data')"
   ]
  },
  {
   "cell_type": "code",
   "execution_count": null,
   "metadata": {},
   "outputs": [],
   "source": [
    "rec_type = 'test'"
   ]
  },
  {
   "cell_type": "code",
   "execution_count": null,
   "metadata": {},
   "outputs": [],
   "source": [
    "def prepare_cell(cell):\n",
    "    cell.rec_type = rec_type\n",
    "    cell.create_retsim_stim_file()"
   ]
  },
  {
   "cell_type": "code",
   "execution_count": null,
   "metadata": {},
   "outputs": [],
   "source": [
    "for cell in cells: prepare_cell(cell)"
   ]
  },
  {
   "cell_type": "markdown",
   "metadata": {},
   "source": [
    "### Plot functions"
   ]
  },
  {
   "cell_type": "code",
   "execution_count": null,
   "metadata": {},
   "outputs": [],
   "source": [
    "def plot_Vm(rec_data_sorted, rec_time):\n",
    "    fig, axs = plt.subplots(len(rec_data_sorted),1,figsize=(12,10), sharex=True)\n",
    "    for ax, (mode, rec_data_list) in zip(axs, rec_data_sorted.items()):\n",
    "        ax.set_title(mode)\n",
    "        for rec_data in rec_data_list:\n",
    "            ax.plot(rec_time, rec_data['BC Vm Soma'])\n",
    "    plt.tight_layout()"
   ]
  },
  {
   "cell_type": "code",
   "execution_count": null,
   "metadata": {},
   "outputs": [],
   "source": [
    "def plot_rate(rec_data_sorted, rec_time):\n",
    "    fig, axs = plt.subplots(len(rec_data_sorted),1,figsize=(12,10), sharex=True)\n",
    "    for ax, (mode, rec_data_list) in zip(axs, rec_data_sorted.items()):\n",
    "        ax.set_title(mode)\n",
    "        for rec_data in rec_data_list:\n",
    "            ax.plot(rec_time, rec_data['rate BC'].mean(axis=1))\n",
    "    plt.tight_layout()"
   ]
  },
  {
   "cell_type": "code",
   "execution_count": null,
   "metadata": {},
   "outputs": [],
   "source": [
    "def compare_to_full_model(rec_data_sorted, rec_time):\n",
    "    fig, axs = plt.subplots(len(rec_data_sorted),4,figsize=(12,10), sharex='col', gridspec_kw=dict(width_ratios=[5,1,5,1]))\n",
    "\n",
    "    for axs_row, (mode, rec_data_list) in zip(axs, rec_data_sorted.items()):\n",
    "        axs_row[0].set_title(mode)\n",
    "        for idx, (rec_data, rec_data_all) in enumerate(zip(rec_data_list, rec_data_sorted['all'])):\n",
    "            Vm_diff = 1e3*(rec_data['BC Vm Soma']-rec_data_all['BC Vm Soma'])\n",
    "            rate_diff = (rec_data['rate BC'].mean(axis=1)-rec_data_all['rate BC'].mean(axis=1))\n",
    "\n",
    "            axs_row[0].plot(rec_time, Vm_diff, lw=1)\n",
    "            axs_row[1].bar(idx, np.mean(Vm_diff)**2)\n",
    "            axs_row[2].plot(rec_time, rate_diff, lw=1)\n",
    "            axs_row[3].bar(idx, np.mean(rate_diff)**2)\n",
    "\n",
    "    for ax in np.append(axs[:,1], axs[:,3]):\n",
    "        ax.set_ylim((0, np.max([1, ax.get_ylim()[1]])))\n",
    "\n",
    "    plt.tight_layout(w_pad=0)\n",
    "    plt.show()"
   ]
  },
  {
   "cell_type": "markdown",
   "metadata": {},
   "source": [
    "### Loss functions"
   ]
  },
  {
   "cell_type": "code",
   "execution_count": null,
   "metadata": {},
   "outputs": [],
   "source": [
    "def compute_losses(loss, rec_data_sorted):\n",
    "    l_names = ['total'] + list(loss.loss_params.keys())\n",
    "    modes =rec_data_sorted.keys()\n",
    "\n",
    "    losses = {mode: {l_name: [] for l_name in l_names} for mode in modes}\n",
    "\n",
    "    for mode, rec_data_list in rec_data_sorted.items():\n",
    "        for rec_data in rec_data_list:\n",
    "            rec_data_loss = loss.calc_loss(rec_data={\n",
    "                'rate': rec_data['rate BC'].mean(axis=1).values, 'Vm': rec_data['BC Vm Soma'].values\n",
    "            })\n",
    "\n",
    "            for l_name in l_names:\n",
    "                losses[mode][l_name].append(rec_data_loss[l_name])\n",
    "    return losses"
   ]
  },
  {
   "cell_type": "code",
   "execution_count": null,
   "metadata": {},
   "outputs": [],
   "source": [
    "def loss2text(loss):\n",
    "    if loss < 0:\n",
    "        return '<0'\n",
    "    elif loss == 0:\n",
    "        return '0'\n",
    "    else:\n",
    "        return f\"{loss:.3f}\"\n",
    "        \n",
    "\n",
    "def plot_values(ax, idx, values):\n",
    "    ax.plot(idx, np.mean(values), marker='_', markersize=10, c='r', markeredgewidth=2)\n",
    "    ax.plot(np.full(len(values), idx), values, marker='_', markersize=5, c='orange', alpha=0.5, markeredgewidth=2)\n",
    "    ax.plot([idx, idx], [np.min(values), np.max(values)], c='k')\n",
    "\n",
    "    ax.text(idx, np.mean(values),\\\n",
    "            loss2text(np.max(values)) + '\\n' + loss2text(np.mean(values)) + '\\n' + loss2text(np.min(values)))"
   ]
  },
  {
   "cell_type": "code",
   "execution_count": null,
   "metadata": {},
   "outputs": [],
   "source": [
    "def plot_losses(losses):\n",
    "    fig, axs = plt.subplots(len(losses),2,figsize=(12,10), sharey='col')\n",
    "\n",
    "    for idx, (mode, loss_dict) in enumerate(losses.items()):\n",
    "        for ax_row, (l_name, l_values) in zip(axs, loss_dict.items()):\n",
    "            ax_row[0].set_ylabel(l_name, rotation=0, ha='right')\n",
    "            plot_values(ax=ax_row[0], idx=idx, values=l_values)\n",
    "            ax_row[0].axhline(0, color='gray')\n",
    "\n",
    "            if mode == 'all': ax_row[0].axhline(np.mean(l_values), color='red', alpha=0.3, ls='--')\n",
    "\n",
    "            add_err = np.abs(l_values) - np.abs(losses['all'][l_name])\n",
    "            plot_values(ax=ax_row[1], idx=idx, values=add_err)\n",
    "            ax_row[1].axhline(0, color='gray')\n",
    "\n",
    "    for ax in axs.flatten():       \n",
    "        ax.set_xticks(np.arange(len(losses.keys())))\n",
    "        ax.set_xticklabels(list(losses.keys()))\n",
    "\n",
    "    plt.tight_layout()"
   ]
  },
  {
   "cell_type": "code",
   "execution_count": null,
   "metadata": {},
   "outputs": [],
   "source": [
    "def get_modes_to_remove(losses):\n",
    "    remove_modes = []\n",
    "    for mode, loss_dict in losses.items():\n",
    "        if (np.max(loss_dict['total']) - np.max(losses['all']['total']) < 1e-3) or\\\n",
    "           (np.mean(loss_dict['total']) - np.mean(losses['all']['total']) < 0.0) :\n",
    "            remove_modes.append(mode)\n",
    "    print(remove_modes)\n",
    "    return remove_modes"
   ]
  },
  {
   "cell_type": "markdown",
   "metadata": {},
   "source": [
    "## OFF cell"
   ]
  },
  {
   "cell_type": "markdown",
   "metadata": {},
   "source": [
    "### Generate data"
   ]
  },
  {
   "cell_type": "code",
   "execution_count": null,
   "metadata": {},
   "outputs": [],
   "source": [
    "all_OFF_params = []\n",
    "for params in cell2params_list[OFF_cell.bp_type]:\n",
    "    all_OFF_params.append(get_mode2params_dict(params, isOFF=True))\n",
    "len(all_OFF_params)"
   ]
  },
  {
   "cell_type": "code",
   "execution_count": null,
   "metadata": {},
   "outputs": [],
   "source": [
    "modes = list(all_OFF_params[0].keys())\n",
    "modes"
   ]
  },
  {
   "cell_type": "code",
   "execution_count": null,
   "metadata": {},
   "outputs": [],
   "source": [
    "all_OFF_params_list = [params[mode] for params in all_OFF_params for mode in modes]\n",
    "len(all_OFF_params_list)"
   ]
  },
  {
   "cell_type": "code",
   "execution_count": null,
   "metadata": {},
   "outputs": [],
   "source": [
    "OFF_cell.timeout = 250000"
   ]
  },
  {
   "cell_type": "code",
   "execution_count": null,
   "metadata": {},
   "outputs": [],
   "source": [
    "load = True\n",
    "\n",
    "if not load:\n",
    "    OFF_cell_rec_data_list = OFF_cell.run_parallel(sim_params_list=all_OFF_params_list, n_parallel=25)\n",
    "    data_utils.save_var((OFF_cell_rec_data_list, all_OFF_params_list), os.path.join('data', 'OFF_cell_rec_data.pkl'))\n",
    "else:\n",
    "    OFF_cell_rec_data_list, all_OFF_params_list = data_utils.load_var(os.path.join('data', 'OFF_cell_rec_data.pkl'))"
   ]
  },
  {
   "cell_type": "markdown",
   "metadata": {},
   "source": [
    "### Plot data"
   ]
  },
  {
   "cell_type": "code",
   "execution_count": null,
   "metadata": {},
   "outputs": [],
   "source": [
    "rec_time = OFF_cell_rec_data_list[0][1].copy()"
   ]
  },
  {
   "cell_type": "code",
   "execution_count": null,
   "metadata": {},
   "outputs": [],
   "source": [
    "OFF_rec_data_sorted = {mode: [] for mode in modes}\n",
    "\n",
    "for i, (rec_data_i, params_i) in enumerate(zip(OFF_cell_rec_data_list, all_OFF_params_list)):\n",
    "    mode = modes[i%len(modes)]\n",
    "    \n",
    "    print('### Mode: ', mode)\n",
    "    print('\\tZero channels:', end='\\t')\n",
    "    for k, v in params_i.items():\n",
    "        if 'cd_' in k and v == 0:\n",
    "            print(k, end=',')\n",
    "    \n",
    "    OFF_rec_data_sorted[mode].append(rec_data_i[0])\n",
    "    print()"
   ]
  },
  {
   "cell_type": "code",
   "execution_count": null,
   "metadata": {},
   "outputs": [],
   "source": [
    "plot_Vm(rec_data_sorted=OFF_rec_data_sorted, rec_time=rec_time)"
   ]
  },
  {
   "cell_type": "code",
   "execution_count": null,
   "metadata": {},
   "outputs": [],
   "source": [
    "plot_rate(rec_data_sorted=OFF_rec_data_sorted, rec_time=rec_time)"
   ]
  },
  {
   "cell_type": "code",
   "execution_count": null,
   "metadata": {},
   "outputs": [],
   "source": [
    "compare_to_full_model(rec_data_sorted=OFF_rec_data_sorted, rec_time=rec_time)"
   ]
  },
  {
   "cell_type": "markdown",
   "metadata": {},
   "source": [
    "### Show loss"
   ]
  },
  {
   "cell_type": "code",
   "execution_count": null,
   "metadata": {},
   "outputs": [],
   "source": [
    "OFF_losses = compute_losses(loss=cell2loss[OFF_cell.bp_type], rec_data_sorted=OFF_rec_data_sorted)\n",
    "plot_losses(OFF_losses)"
   ]
  },
  {
   "cell_type": "code",
   "execution_count": null,
   "metadata": {},
   "outputs": [],
   "source": [
    "OFF_remove_modes = get_modes_to_remove(losses=OFF_losses)"
   ]
  },
  {
   "cell_type": "markdown",
   "metadata": {},
   "source": [
    "## ON cell"
   ]
  },
  {
   "cell_type": "markdown",
   "metadata": {},
   "source": [
    "### Generate data"
   ]
  },
  {
   "cell_type": "code",
   "execution_count": null,
   "metadata": {},
   "outputs": [],
   "source": [
    "all_ON_params = []\n",
    "for params in cell2params_list[ON_cell.bp_type]:\n",
    "    all_ON_params.append(get_mode2params_dict(params, isOFF=False))"
   ]
  },
  {
   "cell_type": "code",
   "execution_count": null,
   "metadata": {},
   "outputs": [],
   "source": [
    "all_ON_params_list = [params_i for params in all_ON_params for params_i in params.values()]\n",
    "len(all_ON_params_list)"
   ]
  },
  {
   "cell_type": "code",
   "execution_count": null,
   "metadata": {},
   "outputs": [],
   "source": [
    "modes = list(all_ON_params[0].keys())"
   ]
  },
  {
   "cell_type": "code",
   "execution_count": null,
   "metadata": {},
   "outputs": [],
   "source": [
    "load = True\n",
    "\n",
    "if not load:\n",
    "    ON_cell_rec_data_list = ON_cell.run_parallel(sim_params_list=all_ON_params_list, n_parallel=20)\n",
    "    data_utils.save_var((ON_cell_rec_data_list, all_ON_params_list), os.path.join('data', 'ON_cell_rec_data.pkl'))\n",
    "else:\n",
    "    ON_cell_rec_data_list, all_ON_params_list = data_utils.load_var(os.path.join('data', 'ON_cell_rec_data.pkl'))"
   ]
  },
  {
   "cell_type": "code",
   "execution_count": null,
   "metadata": {},
   "outputs": [],
   "source": [
    "rec_time = ON_cell_rec_data_list[0][1].copy() + 1"
   ]
  },
  {
   "cell_type": "code",
   "execution_count": null,
   "metadata": {},
   "outputs": [],
   "source": [
    "ON_rec_data_sorted = {mode: [] for mode in modes}\n",
    "\n",
    "for i, (rec_data_i, params_i) in enumerate(zip(ON_cell_rec_data_list, all_ON_params_list)):\n",
    "    mode = modes[i%len(modes)]\n",
    "    \n",
    "    print('Mode: ', mode.ljust(12), ' Zero:', end='\\t')\n",
    "    for k, v in params_i.items():\n",
    "        if 'cd_' in k and v == 0:\n",
    "            print(k, end=',')\n",
    "    \n",
    "    ON_rec_data_sorted[mode].append(rec_data_i[0])\n",
    "    print()"
   ]
  },
  {
   "cell_type": "markdown",
   "metadata": {},
   "source": [
    "### Plot data."
   ]
  },
  {
   "cell_type": "code",
   "execution_count": null,
   "metadata": {},
   "outputs": [],
   "source": [
    "plot_Vm(rec_data_sorted=ON_rec_data_sorted, rec_time=rec_time)"
   ]
  },
  {
   "cell_type": "code",
   "execution_count": null,
   "metadata": {},
   "outputs": [],
   "source": [
    "plot_rate(rec_data_sorted=ON_rec_data_sorted, rec_time=rec_time)"
   ]
  },
  {
   "cell_type": "code",
   "execution_count": null,
   "metadata": {},
   "outputs": [],
   "source": [
    "compare_to_full_model(rec_data_sorted=ON_rec_data_sorted, rec_time=rec_time)"
   ]
  },
  {
   "cell_type": "markdown",
   "metadata": {},
   "source": [
    "### Show loss"
   ]
  },
  {
   "cell_type": "code",
   "execution_count": null,
   "metadata": {},
   "outputs": [],
   "source": [
    "ON_losses = compute_losses(loss=cell2loss[ON_cell.bp_type], rec_data_sorted=ON_rec_data_sorted)\n",
    "plot_losses(ON_losses)"
   ]
  },
  {
   "cell_type": "code",
   "execution_count": null,
   "metadata": {},
   "outputs": [],
   "source": [
    "ON_remove_modes = get_modes_to_remove(losses=ON_losses)"
   ]
  },
  {
   "cell_type": "markdown",
   "metadata": {},
   "source": [
    "# Simulate reduced cells"
   ]
  },
  {
   "cell_type": "code",
   "execution_count": null,
   "metadata": {},
   "outputs": [],
   "source": [
    "def get_rm_multiple_channels_params_list(params_list, remove_modes):\n",
    "    redcued_params_list = []\n",
    "    for params in params_list:\n",
    "        reduced_params = params.copy()\n",
    "        \n",
    "        if 'no_Na' in remove_modes:\n",
    "            reduced_params = remove_Na_channels(reduced_params)\n",
    "        if 'no_somaCa' in remove_modes:\n",
    "            reduced_params = remove_somaCa_channels(reduced_params)\n",
    "        if 'no_Kv' in remove_modes:\n",
    "            reduced_params = remove_Kv_channels(reduced_params)\n",
    "        if 'no_HCN' in remove_modes:\n",
    "            reduced_params = remove_HCN_channels(reduced_params)\n",
    "        if 'no_Kir' in remove_modes:\n",
    "            reduced_params = remove_Kir_channels(reduced_params)\n",
    "        if 'no_L_at' in remove_modes:\n",
    "            reduced_params = remove_L_at_channels(reduced_params)\n",
    "        if 'no_T_at' in remove_modes:\n",
    "            reduced_params = remove_T_at_channels(reduced_params)\n",
    "\n",
    "        redcued_params_list.append(reduced_params)\n",
    "        \n",
    "    return redcued_params_list"
   ]
  },
  {
   "cell_type": "code",
   "execution_count": null,
   "metadata": {},
   "outputs": [],
   "source": [
    "reduced_OFF_params_list =\\\n",
    "    get_rm_multiple_channels_params_list(params_list=cell2params_list[OFF_cell.bp_type], remove_modes=OFF_remove_modes)\n",
    "reduced_ON_params_list =\\\n",
    "    get_rm_multiple_channels_params_list(params_list=cell2params_list[ON_cell.bp_type], remove_modes=ON_remove_modes)"
   ]
  },
  {
   "cell_type": "code",
   "execution_count": null,
   "metadata": {},
   "outputs": [],
   "source": [
    "for params1, params2 in zip(reduced_ON_params_list, reduced_OFF_params_list):\n",
    "    assert params1 != params2"
   ]
  },
  {
   "cell_type": "code",
   "execution_count": null,
   "metadata": {},
   "outputs": [],
   "source": [
    "load = True\n",
    "\n",
    "if not load:\n",
    "    OFF_reduced_rec_data_list = OFF_cell.run_parallel(sim_params_list=reduced_OFF_params_list, n_parallel=20)\n",
    "    data_utils.save_var((OFF_reduced_rec_data_list, reduced_OFF_params_list),\n",
    "                        os.path.join('data', 'OFF_reduced_rec_data_list.pkl'))\n",
    "else:\n",
    "    OFF_reduced_rec_data_list, redcued_OFF_params_list =\\\n",
    "        data_utils.load_var(os.path.join('data', 'OFF_reduced_rec_data_list.pkl'))"
   ]
  },
  {
   "cell_type": "code",
   "execution_count": null,
   "metadata": {},
   "outputs": [],
   "source": [
    "load = True\n",
    "\n",
    "if not load:\n",
    "    ON_reduced_rec_data_list = ON_cell.run_parallel(sim_params_list=reduced_ON_params_list, n_parallel=20)\n",
    "    data_utils.save_var((ON_reduced_rec_data_list, reduced_ON_params_list),\n",
    "                        os.path.join('data', 'ON_reduced_rec_data_list.pkl'))\n",
    "else:\n",
    "    ON_reduced_rec_data_list, redcued_ON_params_list =\\\n",
    "        data_utils.load_var(os.path.join('data', 'ON_reduced_rec_data_list.pkl'))"
   ]
  },
  {
   "cell_type": "code",
   "execution_count": null,
   "metadata": {},
   "outputs": [],
   "source": [
    "def print_loss_reduced(reduced_rec_data_list, rec_data_sorted, cell):\n",
    "\n",
    "    for rec_data_reduced, rec_data_all in zip(reduced_rec_data_list, rec_data_sorted['all']):\n",
    "        rec_data_loss_reduced = cell2loss[cell.bp_type].calc_loss(rec_data={\n",
    "            'rate': rec_data_reduced[0]['rate BC'].mean(axis=1).values, 'Vm': rec_data_reduced[0]['BC Vm Soma'].values\n",
    "        })\n",
    "\n",
    "        rec_data_loss_all = cell2loss[cell.bp_type].calc_loss(rec_data={\n",
    "            'rate': rec_data_all['rate BC'].mean(axis=1).values, 'Vm': rec_data_all['BC Vm Soma'].values\n",
    "        })\n",
    "\n",
    "        print(f\"All params: {rec_data_loss_all['total']:.4f}\" +\n",
    "              f\" vs. reduced: {rec_data_loss_reduced['total']:.4f}\" +\n",
    "              f\" Difference {rec_data_loss_reduced['total']-rec_data_loss_all['total']:.6f}\")"
   ]
  },
  {
   "cell_type": "code",
   "execution_count": null,
   "metadata": {},
   "outputs": [],
   "source": [
    "print_loss_reduced(reduced_rec_data_list=ON_reduced_rec_data_list, rec_data_sorted=ON_rec_data_sorted, cell=ON_cell)"
   ]
  },
  {
   "cell_type": "code",
   "execution_count": null,
   "metadata": {},
   "outputs": [],
   "source": [
    "print_loss_reduced(reduced_rec_data_list=OFF_reduced_rec_data_list, rec_data_sorted=OFF_rec_data_sorted, cell=OFF_cell)"
   ]
  },
  {
   "cell_type": "markdown",
   "metadata": {},
   "source": [
    "# Save all data for figure"
   ]
  },
  {
   "cell_type": "code",
   "execution_count": null,
   "metadata": {},
   "outputs": [],
   "source": [
    "ON_rec_data_sorted['minimal'] = [rec_data[0] for rec_data in ON_reduced_rec_data_list]\n",
    "OFF_rec_data_sorted['minimal'] = [rec_data[0] for rec_data in OFF_reduced_rec_data_list]"
   ]
  },
  {
   "cell_type": "code",
   "execution_count": null,
   "metadata": {},
   "outputs": [],
   "source": [
    "data_utils.save_var(ON_rec_data_sorted, os.path.join('data', 'ON_data_sorted.pkl'))\n",
    "data_utils.save_var(OFF_rec_data_sorted, os.path.join('data', 'OFF_data_sorted.pkl'))\n",
    "\n",
    "data_utils.save_var(rec_time, os.path.join('data', 'rec_time.pkl'))"
   ]
  },
  {
   "cell_type": "code",
   "execution_count": null,
   "metadata": {},
   "outputs": [],
   "source": []
  }
 ],
 "metadata": {
  "hide_input": false,
  "kernelspec": {
   "display_name": "Python 3",
   "language": "python",
   "name": "python3"
  },
  "language_info": {
   "codemirror_mode": {
    "name": "ipython",
    "version": 3
   },
   "file_extension": ".py",
   "mimetype": "text/x-python",
   "name": "python",
   "nbconvert_exporter": "python",
   "pygments_lexer": "ipython3",
   "version": "3.7.5"
  },
  "toc": {
   "base_numbering": 1,
   "nav_menu": {},
   "number_sections": true,
   "sideBar": true,
   "skip_h1_title": false,
   "title_cell": "Table of Contents",
   "title_sidebar": "Contents",
   "toc_cell": false,
   "toc_position": {
    "height": "calc(100% - 180px)",
    "left": "10px",
    "top": "150px",
    "width": "383.969px"
   },
   "toc_section_display": true,
   "toc_window_display": true
  },
  "varInspector": {
   "cols": {
    "lenName": 16,
    "lenType": 16,
    "lenVar": 40
   },
   "kernels_config": {
    "python": {
     "delete_cmd_postfix": "",
     "delete_cmd_prefix": "del ",
     "library": "var_list.py",
     "varRefreshCmd": "print(var_dic_list())"
    },
    "r": {
     "delete_cmd_postfix": ") ",
     "delete_cmd_prefix": "rm(",
     "library": "var_list.r",
     "varRefreshCmd": "cat(var_dic_list()) "
    }
   },
   "types_to_exclude": [
    "module",
    "function",
    "builtin_function_or_method",
    "instance",
    "_Feature"
   ],
   "window_display": false
  }
 },
 "nbformat": 4,
 "nbformat_minor": 2
}
