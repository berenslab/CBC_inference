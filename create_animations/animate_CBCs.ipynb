{
 "cells": [
  {
   "cell_type": "markdown",
   "metadata": {},
   "source": [
    "# Create animations of the CBCs\n",
    "\n",
    "Create a video of the [OFF](#OFF) and [ON](#ON) CBC.\n",
    "\n",
    "Note that this script is not optimized for speed and it creates multiple GB of data."
   ]
  },
  {
   "cell_type": "markdown",
   "metadata": {},
   "source": [
    "# Imports"
   ]
  },
  {
   "cell_type": "code",
   "execution_count": null,
   "metadata": {},
   "outputs": [],
   "source": [
    "import importlib"
   ]
  },
  {
   "cell_type": "code",
   "execution_count": null,
   "metadata": {},
   "outputs": [],
   "source": [
    "import pandas as pd\n",
    "import numpy as np\n",
    "from matplotlib import pyplot as plt\n",
    "import os\n",
    "import sys"
   ]
  },
  {
   "cell_type": "code",
   "execution_count": null,
   "metadata": {},
   "outputs": [],
   "source": [
    "pythoncodepath = os.path.abspath(os.path.join('..', 'pythoncode'))\n",
    "sys.path = [pythoncodepath] + sys.path\n",
    "import importhelper\n",
    "importhelper.addfolders2path(pythoncodepath)"
   ]
  },
  {
   "cell_type": "code",
   "execution_count": null,
   "metadata": {},
   "outputs": [],
   "source": [
    "import data_utils\n",
    "import plot_utils\n",
    "\n",
    "plot_utils.set_rcParams()"
   ]
  },
  {
   "cell_type": "markdown",
   "metadata": {},
   "source": [
    "# Helper functions"
   ]
  },
  {
   "cell_type": "code",
   "execution_count": null,
   "metadata": {},
   "outputs": [],
   "source": [
    "def merge_rec_data(df1, df2):\n",
    "\n",
    "    df1 = df1.copy()\n",
    "    df2 = df2.copy()\n",
    "    \n",
    "    for col in set(df1.columns).intersection(set(df2.columns)):\n",
    "        assert df1[col].astype(float).equals(df2[col].astype(float)), 'Overlap must be equal: ' + col\n",
    "        \n",
    "    return df1.combine_first(df2)"
   ]
  },
  {
   "cell_type": "markdown",
   "metadata": {},
   "source": [
    "# Load target and stimulus"
   ]
  },
  {
   "cell_type": "code",
   "execution_count": null,
   "metadata": {},
   "outputs": [],
   "source": [
    "cbc_optim_folder = os.path.join('..', 'step2a_optimize_cbc', 'optim_data')"
   ]
  },
  {
   "cell_type": "code",
   "execution_count": null,
   "metadata": {},
   "outputs": [],
   "source": [
    "sorted(os.listdir(cbc_optim_folder))"
   ]
  },
  {
   "cell_type": "code",
   "execution_count": null,
   "metadata": {},
   "outputs": [],
   "source": [
    "cell2folder = {\n",
    "    'OFF':  os.path.join(cbc_optim_folder, 'optimize_OFF_submission2'),\n",
    "    'ON':   os.path.join(cbc_optim_folder, 'optimize_ON_submission2'),\n",
    "}"
   ]
  },
  {
   "cell_type": "code",
   "execution_count": null,
   "metadata": {},
   "outputs": [],
   "source": [
    "data_utils.make_dir('cbc_data')"
   ]
  },
  {
   "cell_type": "markdown",
   "metadata": {},
   "source": [
    "# OFF"
   ]
  },
  {
   "cell_type": "markdown",
   "metadata": {},
   "source": [
    "## Create cell"
   ]
  },
  {
   "cell_type": "code",
   "execution_count": null,
   "metadata": {},
   "outputs": [],
   "source": [
    "final_model_output = data_utils.load_var(\n",
    "    os.path.join(cell2folder['OFF'], 'post_data', 'final_model_output.pkl'))"
   ]
  },
  {
   "cell_type": "code",
   "execution_count": null,
   "metadata": {},
   "outputs": [],
   "source": [
    "stim_t_rng = final_model_output['t_rng']\n",
    "stimulus = final_model_output['Stimulus']"
   ]
  },
  {
   "cell_type": "code",
   "execution_count": null,
   "metadata": {},
   "outputs": [],
   "source": [
    "predur = 10\n",
    "\n",
    "# Load parameters.\n",
    "params_default = data_utils.load_var(os.path.join(cell2folder['OFF'], 'cell_params_default.pkl'))\n",
    "params_default.update(final_model_output['params'])\n",
    "params_default.update(data_utils.load_var(os.path.join(cell2folder['OFF'], 'final_cpl_dict.pkl')))\n",
    "\n",
    "params_unit = data_utils.load_var(os.path.join(cell2folder['OFF'], 'cell_params_unit.pkl'))"
   ]
  },
  {
   "cell_type": "code",
   "execution_count": null,
   "metadata": {},
   "outputs": [],
   "source": [
    "import retsim_cells\n",
    "importlib.reload(retsim_cells);\n",
    "\n",
    "OFF_cell = retsim_cells.CBC(\n",
    "    bp_type = 'CBC3a',\n",
    "    predur=predur, t_rng=(1.9,2.3),\n",
    "    params_default=params_default, params_unit=params_unit,\n",
    "    stimulus=stimulus, stim_type='Light',\n",
    "    cone_densfile       = 'dens_cone_optimized_submission2.n',\n",
    "    bp_densfile         = 'dens_CBC3a_optimize_OFF.n',\n",
    "    nval_file           = 'nval_optimize_CBCs.n',\n",
    "    chanparams_file     = 'chanparams_CBC3a_optimize_OFF.n',\n",
    "    expt_file_list      = ['plot_cell_OFF'],\n",
    "    expt_base_file_list = ['../step2a_optimize_cbc/retsim_files/expt_CBC_base.cc'],\n",
    "    retsim_path=os.path.abspath(os.path.join('..', 'neuronc', 'models', 'retsim')) + '/'\n",
    ")"
   ]
  },
  {
   "cell_type": "code",
   "execution_count": null,
   "metadata": {},
   "outputs": [],
   "source": [
    "# Create c++ file.\n",
    "OFF_cell.create_retsim_expt_file(verbose=False, off2cone_nodes=[686, 1037, 828, 950, 879])"
   ]
  },
  {
   "cell_type": "code",
   "execution_count": null,
   "metadata": {},
   "outputs": [],
   "source": [
    "# Compile c++ file.\n",
    "!(cd {OFF_cell.retsim_path} && make)"
   ]
  },
  {
   "cell_type": "code",
   "execution_count": null,
   "metadata": {},
   "outputs": [],
   "source": [
    "OFF_cell.init_retsim(verbose=True)"
   ]
  },
  {
   "cell_type": "markdown",
   "metadata": {},
   "source": [
    "## Tests"
   ]
  },
  {
   "cell_type": "markdown",
   "metadata": {},
   "source": [
    "### Test model"
   ]
  },
  {
   "cell_type": "code",
   "execution_count": null,
   "metadata": {},
   "outputs": [],
   "source": [
    "OFF_cell.update_t_rng((1.9, 2.1))\n",
    "OFF_cell.rec_type = 'optimize'\n",
    "_ = OFF_cell.run(plot=True, verbose=False, update_cell_rec_data=True);"
   ]
  },
  {
   "cell_type": "markdown",
   "metadata": {},
   "source": [
    "### Test cone output"
   ]
  },
  {
   "cell_type": "code",
   "execution_count": null,
   "metadata": {},
   "outputs": [],
   "source": [
    "import retsim_cell_tests\n",
    "importlib.reload(retsim_cell_tests)\n",
    "\n",
    "cone_post_data_folder = os.path.join('..', 'step1a_optimize_cones', 'optim_data',\n",
    "                                     'optimize_cone_submission2', 'post_data')\n",
    "\n",
    "retsim_cell_tests.test_cones(\n",
    "    OFF_cell, os.path.join(cone_post_data_folder, 'final_model_output.pkl'), t_rng=(1.0,2.5)\n",
    ");"
   ]
  },
  {
   "cell_type": "markdown",
   "metadata": {},
   "source": [
    "### Test CBC output"
   ]
  },
  {
   "cell_type": "code",
   "execution_count": null,
   "metadata": {},
   "outputs": [],
   "source": [
    "import retsim_cell_tests\n",
    "importlib.reload(retsim_cell_tests)\n",
    "\n",
    "retsim_cell_tests.test_CBC(\n",
    "    OFF_cell, os.path.join(os.path.join(cell2folder['OFF'], 'post_data', 'final_model_output.pkl')),\n",
    "    t_rng=(1.0,2.5)\n",
    ");"
   ]
  },
  {
   "cell_type": "markdown",
   "metadata": {},
   "source": [
    "## Run simulation"
   ]
  },
  {
   "cell_type": "code",
   "execution_count": null,
   "metadata": {},
   "outputs": [],
   "source": [
    "OFF_cell.update_t_rng(stim_t_rng)"
   ]
  },
  {
   "cell_type": "markdown",
   "metadata": {},
   "source": [
    "### Run\n",
    "\n",
    "Record rates, membrane voltage and calcium for all compartments."
   ]
  },
  {
   "cell_type": "code",
   "execution_count": null,
   "metadata": {},
   "outputs": [],
   "source": [
    "load_data = True\n",
    "\n",
    "if load_data:\n",
    "    OFF_cell.rec_data = data_utils.load_var('cbc_data/OFF_cell_rec_data.pkl')\n",
    "else:\n",
    "    OFF_cell.rec_type = 'heatmap_vm'\n",
    "    _ = OFF_cell.run(plot=True, verbose=True, update_cell_rec_data=True)\n",
    "    \n",
    "    OFF_cell.rec_type = 'heatmap_ca'\n",
    "    _ = OFF_cell.run(plot=True, verbose=True, update_cell_rec_data=True)\n",
    "    \n",
    "    OFF_cell.rec_data['heatmap_vm']['Data'] = \\\n",
    "        merge_rec_data(df1=OFF_cell.rec_data['heatmap_vm']['Data'], df2=OFF_cell.rec_data['heatmap_ca']['Data'])\n",
    "    \n",
    "    data_utils.save_var(OFF_cell.rec_data, 'cbc_data/OFF_cell_rec_data.pkl')"
   ]
  },
  {
   "cell_type": "markdown",
   "metadata": {},
   "source": [
    "### Animate"
   ]
  },
  {
   "cell_type": "code",
   "execution_count": null,
   "metadata": {},
   "outputs": [],
   "source": [
    "t_list = np.arange(0, OFF_cell.get_t_rng()[1]-OFF_cell.get_t_rng()[0], 50e-3)\n",
    "print('N:', t_list.size, '\\t dt=', np.diff(t_list)[0])"
   ]
  },
  {
   "cell_type": "code",
   "execution_count": null,
   "metadata": {},
   "outputs": [],
   "source": [
    "import plot_cell_heatmap\n",
    "importlib.reload(plot_cell_heatmap)\n",
    "\n",
    "scale_n = 10\n",
    "CP = plot_cell_heatmap.CellPlotter(cell=OFF_cell, rec_type='heatmap_vm')\n",
    "CP.compute_draw_data(scale_n=scale_n, release_rad=scale_n, inc_cone=False,\n",
    "                     inc_release=True, flipz=True)"
   ]
  },
  {
   "cell_type": "code",
   "execution_count": null,
   "metadata": {},
   "outputs": [],
   "source": [
    "Vm_rest = CP.rec_data['Vm'][OFF_cell.node2comp(0)][0]\n",
    "Vm_max_diff = np.max(np.abs(CP.rec_data['Vm'].values - Vm_rest))\n",
    "\n",
    "for plot_type in ['Vm', 'Ca', 'rate']:\n",
    "    \n",
    "    y_min = None\n",
    "    y_max = None\n",
    "    \n",
    "    if plot_type == 'Vm':\n",
    "        y_min = Vm_rest - Vm_max_diff\n",
    "        y_max = Vm_rest + Vm_max_diff\n",
    "    elif plot_type == 'rate':\n",
    "        y_min = 0\n",
    "        \n",
    "    CP.set_colormapping(\n",
    "        plot_type, data=None, symmetric=False, y_min=y_min, y_max=y_max, cmap=None\n",
    "    )"
   ]
  },
  {
   "cell_type": "code",
   "execution_count": null,
   "metadata": {},
   "outputs": [],
   "source": [
    "load_data = True\n",
    "\n",
    "if load_data:\n",
    "    heatmaps_list = data_utils.load_var('cbc_data/heatmaps_list_OFF.pkl')\n",
    "else:\n",
    "    heatmaps_list = CP.get_image_sequences(\n",
    "        plot_types_list=[['Vm'], ['Ca'], ['rate with cell']],\n",
    "        t_list=t_list, extraspace=scale_n*6,\n",
    "        nodes=None, to_array_stack=True\n",
    "    );\n",
    "    data_utils.save_var(heatmaps_list, 'cbc_data/heatmaps_list_OFF.pkl')"
   ]
  },
  {
   "cell_type": "code",
   "execution_count": null,
   "metadata": {},
   "outputs": [],
   "source": [
    "fig, ax = plt.subplots(1,1,figsize=(10,10))\n",
    "ax.imshow(heatmaps_list[0][0])"
   ]
  },
  {
   "cell_type": "code",
   "execution_count": null,
   "metadata": {},
   "outputs": [],
   "source": [
    "plot_kwargs = dict(\n",
    "    data_list=heatmaps_list,\n",
    "    colorbar_list=[CP.colormapping['Vm'], CP.colormapping['Ca'], CP.colormapping['rate']],\n",
    "    titles=['Voltage', 'Calcium', 'Release'],\n",
    "    cb_labels=['Membrane voltage (mV)', 'Calcium conc. (nM)', 'Release rate (ves./s)'],\n",
    "    trace_df=pd.DataFrame({\n",
    "        'Time': OFF_cell.rec_data['heatmap_vm']['Time'],\n",
    "        'Stim': OFF_cell.rec_data['heatmap_vm']['Stim']\n",
    "    }),\n",
    "    set_sbny=5, sbnx=4, cb_width=0.15, figsize=(6.7,3.3), abc='ABCD',\n",
    "    trace_kw=dict(color=(0.8, 0.1, 0.1)),\n",
    "    tl_dict=dict(h_pad=-1, w_pad=-2, pad=0.2)\n",
    ")"
   ]
  },
  {
   "cell_type": "markdown",
   "metadata": {},
   "source": [
    "#### Snapshot"
   ]
  },
  {
   "cell_type": "code",
   "execution_count": null,
   "metadata": {},
   "outputs": [],
   "source": [
    "plt.rcParams['figure.dpi'] = 600\n",
    "plt.rcParams[\"savefig.dpi\"] = 600\n",
    "\n",
    "fig, *_ = CP.plot_data(**plot_kwargs, data_list_idx=81)\n",
    "plt.savefig('../create_figures/_figures_apx/OFF_CBC_chirp.pdf')"
   ]
  },
  {
   "cell_type": "markdown",
   "metadata": {},
   "source": [
    "#### Video\n",
    "\n",
    "This takes several minutes."
   ]
  },
  {
   "cell_type": "code",
   "execution_count": null,
   "metadata": {},
   "outputs": [],
   "source": [
    "plt.rcParams['figure.dpi'] = 100\n",
    "plt.rcParams[\"savefig.dpi\"] = 300\n",
    "\n",
    "data_utils.make_dir('_animations')\n",
    "CP.animate(dt=np.diff(t_list)[0], filename='_animations/OFF.mp4', **plot_kwargs)"
   ]
  },
  {
   "cell_type": "markdown",
   "metadata": {},
   "source": [
    "# ON"
   ]
  },
  {
   "cell_type": "markdown",
   "metadata": {},
   "source": [
    "## Create cell"
   ]
  },
  {
   "cell_type": "code",
   "execution_count": null,
   "metadata": {},
   "outputs": [],
   "source": [
    "final_model_output = data_utils.load_var(os.path.join(cell2folder['ON'], 'post_data', 'final_model_output.pkl'))"
   ]
  },
  {
   "cell_type": "code",
   "execution_count": null,
   "metadata": {},
   "outputs": [],
   "source": [
    "stim_t_rng = final_model_output['t_rng']\n",
    "stimulus = final_model_output['Stimulus']"
   ]
  },
  {
   "cell_type": "code",
   "execution_count": null,
   "metadata": {},
   "outputs": [],
   "source": [
    "predur = 10\n",
    "\n",
    "# Load parameters.\n",
    "params_default = data_utils.load_var(os.path.join(cell2folder['ON'], 'cell_params_default.pkl'))\n",
    "params_default.update(final_model_output['params'])\n",
    "params_default.update(data_utils.load_var(os.path.join(cell2folder['ON'], 'final_cpl_dict.pkl')))\n",
    "\n",
    "params_unit = data_utils.load_var(os.path.join(cell2folder['ON'], 'cell_params_unit.pkl'))"
   ]
  },
  {
   "cell_type": "code",
   "execution_count": null,
   "metadata": {},
   "outputs": [],
   "source": [
    "import retsim_cells\n",
    "importlib.reload(retsim_cells)\n",
    "\n",
    "ON_cell = retsim_cells.CBC(\n",
    "    bp_type = 'CBC5o',\n",
    "    predur=predur, t_rng=(1.9,2.3),\n",
    "    params_default=params_default, params_unit=params_unit,\n",
    "    stimulus=stimulus, stim_type='Light',\n",
    "    cone_densfile       = 'dens_optimized_cone_submission2.n',\n",
    "    bp_densfile         = 'dens_strychnine_optimize_bc_v3.n',\n",
    "    nval_file           = 'nval_strychnine_optimize_bc_v3.n',\n",
    "    chanparams_file     = 'chanparams_strychnine_optimize_CBC5_v3.n',\n",
    "    expt_file_list      = ['plot_cell_ON'],\n",
    "    expt_base_file_list = ['../step2_optimize_cbc/retsim_files/expt_CBC_base.cc'],\n",
    ")"
   ]
  },
  {
   "cell_type": "code",
   "execution_count": null,
   "metadata": {},
   "outputs": [],
   "source": [
    "# Create c++ file.\n",
    "ON_cell.create_retsim_expt_file(verbose=False, on2cone_nodes=[1077, 980, 1190])\n",
    "# Compile c++ file.\n",
    "!(cd {ON_cell.retsim_path} && make)"
   ]
  },
  {
   "cell_type": "code",
   "execution_count": null,
   "metadata": {},
   "outputs": [],
   "source": [
    "ON_cell.init_retsim(verbose=True)"
   ]
  },
  {
   "cell_type": "markdown",
   "metadata": {},
   "source": [
    "## Tests"
   ]
  },
  {
   "cell_type": "markdown",
   "metadata": {},
   "source": [
    "### Test model"
   ]
  },
  {
   "cell_type": "code",
   "execution_count": null,
   "metadata": {},
   "outputs": [],
   "source": [
    "ON_cell.update_t_rng((1.9, 2.1))\n",
    "ON_cell.rec_type = 'optimize'\n",
    "_ = ON_cell.run(plot=True, verbose=False, update_cell_rec_data=True)"
   ]
  },
  {
   "cell_type": "markdown",
   "metadata": {},
   "source": [
    "### Test cone output"
   ]
  },
  {
   "cell_type": "code",
   "execution_count": null,
   "metadata": {},
   "outputs": [],
   "source": [
    "import retsim_cell_tests\n",
    "importlib.reload(retsim_cell_tests)\n",
    "\n",
    "cone_post_data_folder = os.path.join(\n",
    "    '..', 'step1_optimize_cones', 'optim_data', '_optimize_cone_submission2_truncated', 'post_data'\n",
    ")\n",
    "\n",
    "retsim_cell_tests.test_cones(\n",
    "    ON_cell, os.path.join(cone_post_data_folder, 'final_model_output.pkl'), t_rng=(1,2.5)\n",
    ");"
   ]
  },
  {
   "cell_type": "markdown",
   "metadata": {},
   "source": [
    "### Test CBC output"
   ]
  },
  {
   "cell_type": "code",
   "execution_count": null,
   "metadata": {},
   "outputs": [],
   "source": [
    "import retsim_cell_tests\n",
    "importlib.reload(retsim_cell_tests)\n",
    "\n",
    "retsim_cell_tests.test_CBC(\n",
    "    ON_cell, os.path.join(os.path.join(cell2folder['ON'], 'post_data', 'final_model_output.pkl')), t_rng=(1,2.5)\n",
    ");"
   ]
  },
  {
   "cell_type": "markdown",
   "metadata": {},
   "source": [
    "## Run simulation"
   ]
  },
  {
   "cell_type": "code",
   "execution_count": null,
   "metadata": {},
   "outputs": [],
   "source": [
    "ON_cell.update_t_rng(stim_t_rng)"
   ]
  },
  {
   "cell_type": "markdown",
   "metadata": {},
   "source": [
    "### Run"
   ]
  },
  {
   "cell_type": "code",
   "execution_count": null,
   "metadata": {},
   "outputs": [],
   "source": [
    "load_data = True\n",
    "\n",
    "if load_data:\n",
    "    ON_cell.rec_data = data_utils.load_var('cbc_data/ON_cell_rec_data.pkl')\n",
    "else:\n",
    "    ON_cell.rec_type = 'heatmap_vm'\n",
    "    _ = ON_cell.run(plot=True, verbose=True, update_cell_rec_data=True)\n",
    "    \n",
    "    ON_cell.rec_type = 'heatmap_ca'\n",
    "    _ = ON_cell.run(plot=True, verbose=True, update_cell_rec_data=True)\n",
    "    \n",
    "    ON_cell.rec_data['heatmap_vm']['Data'] = \\\n",
    "    merge_rec_data(df1=ON_cell.rec_data['heatmap_vm']['Data'], df2=ON_cell.rec_data['heatmap_ca']['Data'])\n",
    "    \n",
    "    data_utils.save_var(ON_cell.rec_data, 'cbc_data/ON_cell_rec_data.pkl')"
   ]
  },
  {
   "cell_type": "markdown",
   "metadata": {},
   "source": [
    "### Animate"
   ]
  },
  {
   "cell_type": "code",
   "execution_count": null,
   "metadata": {},
   "outputs": [],
   "source": [
    "t_list = np.arange(0, OFF_cell.get_t_rng()[1]-OFF_cell.get_t_rng()[0], 50e-3)\n",
    "print('N:', t_list.size, '\\t dt=', np.diff(t_list)[0])"
   ]
  },
  {
   "cell_type": "code",
   "execution_count": null,
   "metadata": {},
   "outputs": [],
   "source": [
    "import plot_cell_heatmap\n",
    "importlib.reload(plot_cell_heatmap)\n",
    "\n",
    "scale_n = 10\n",
    "CP = plot_cell_heatmap.CellPlotter(cell=ON_cell, rec_type='heatmap_vm')\n",
    "CP.compute_draw_data(scale_n=scale_n, release_rad=scale_n, inc_cone=False, inc_release=True, flipz=True)"
   ]
  },
  {
   "cell_type": "code",
   "execution_count": null,
   "metadata": {},
   "outputs": [],
   "source": [
    "Vm_rest = CP.rec_data['Vm'][OFF_cell.node2comp(0)][0]\n",
    "Vm_max_diff = np.max(np.abs(CP.rec_data['Vm'].values - Vm_rest))\n",
    "\n",
    "for plot_type in ['Vm', 'Ca', 'rate']:\n",
    "    \n",
    "    y_min = None\n",
    "    y_max = None\n",
    "    \n",
    "    if plot_type == 'Vm':\n",
    "        y_min = Vm_rest - Vm_max_diff\n",
    "        y_max = Vm_rest + Vm_max_diff\n",
    "    elif plot_type == 'rate':\n",
    "        y_min = 0\n",
    "        \n",
    "    CP.set_colormapping(\n",
    "        plot_type, data=None, symmetric=False, y_min=y_min, y_max=y_max, cmap=None\n",
    "    )"
   ]
  },
  {
   "cell_type": "code",
   "execution_count": null,
   "metadata": {},
   "outputs": [],
   "source": [
    "load_data = True\n",
    "\n",
    "if load_data:\n",
    "    heatmaps_list = data_utils.load_var('cbc_data/heatmaps_list_ON.pkl')\n",
    "else:\n",
    "    heatmaps_list = CP.get_image_sequences(\n",
    "        plot_types_list=[['Vm'], ['Ca'], ['rate with cell']],\n",
    "        t_list=t_list, extraspace=scale_n*6,\n",
    "        nodes=None, to_array_stack=True\n",
    "    );\n",
    "    data_utils.save_var(heatmaps_list, 'cbc_data/heatmaps_list_ON.pkl')"
   ]
  },
  {
   "cell_type": "code",
   "execution_count": null,
   "metadata": {},
   "outputs": [],
   "source": [
    "fig, ax = plt.subplots(1,1,figsize=(10,10))\n",
    "ax.imshow(heatmaps_list[-1][0])"
   ]
  },
  {
   "cell_type": "code",
   "execution_count": null,
   "metadata": {},
   "outputs": [],
   "source": [
    "plot_kwargs = dict(\n",
    "    data_list=heatmaps_list,\n",
    "    colorbar_list=[CP.colormapping['Vm'], CP.colormapping['Ca'], CP.colormapping['rate']],\n",
    "    titles=['Voltage', 'Calcium', 'Release'],\n",
    "    cb_labels=['Membrane voltage (mV)', 'Calcium conc. (nM)', 'Release rate (ves./s)'],\n",
    "    trace_df=pd.DataFrame({\n",
    "        'Time': OFF_cell.rec_data['heatmap_vm']['Time'],\n",
    "        'Stim': OFF_cell.rec_data['heatmap_vm']['Stim']\n",
    "    }),\n",
    "    set_sbny=5, sbnx=4, cb_width=0.15, figsize=(6.7,3.3), abc='ABCD',\n",
    "    trace_kw=dict(color=(0.8, 0.1, 0.1)),\n",
    "    tl_dict=dict(h_pad=-1, w_pad=-2, pad=0.2)\n",
    ")"
   ]
  },
  {
   "cell_type": "markdown",
   "metadata": {},
   "source": [
    "#### Snapshot"
   ]
  },
  {
   "cell_type": "code",
   "execution_count": null,
   "metadata": {},
   "outputs": [],
   "source": [
    "plt.rcParams['figure.dpi'] = 600\n",
    "plt.rcParams[\"savefig.dpi\"] = 600\n",
    "\n",
    "fig, *_ = CP.plot_data(**plot_kwargs, data_list_idx=22)\n",
    "plt.savefig('../create_figures/_figures_apx/ON_CBC_chirp.pdf')"
   ]
  },
  {
   "cell_type": "markdown",
   "metadata": {},
   "source": [
    "#### Video\n",
    "\n",
    "This takes several minutes."
   ]
  },
  {
   "cell_type": "code",
   "execution_count": null,
   "metadata": {},
   "outputs": [],
   "source": [
    "plt.rcParams['figure.dpi'] = 100\n",
    "plt.rcParams[\"savefig.dpi\"] = 300\n",
    "\n",
    "data_utils.make_dir('_animations')\n",
    "CP.animate(dt=np.diff(t_list)[0], filename='_animations/ON.mp4', **plot_kwargs)"
   ]
  },
  {
   "cell_type": "code",
   "execution_count": null,
   "metadata": {},
   "outputs": [],
   "source": []
  }
 ],
 "metadata": {
  "hide_input": false,
  "kernelspec": {
   "display_name": "Python 3",
   "language": "python",
   "name": "python3"
  },
  "language_info": {
   "codemirror_mode": {
    "name": "ipython",
    "version": 3
   },
   "file_extension": ".py",
   "mimetype": "text/x-python",
   "name": "python",
   "nbconvert_exporter": "python",
   "pygments_lexer": "ipython3",
   "version": "3.7.5"
  },
  "toc": {
   "base_numbering": 1,
   "nav_menu": {},
   "number_sections": true,
   "sideBar": true,
   "skip_h1_title": false,
   "title_cell": "Table of Contents",
   "title_sidebar": "Contents",
   "toc_cell": false,
   "toc_position": {
    "height": "calc(100% - 180px)",
    "left": "10px",
    "top": "150px",
    "width": "384px"
   },
   "toc_section_display": true,
   "toc_window_display": true
  },
  "varInspector": {
   "cols": {
    "lenName": 16,
    "lenType": 16,
    "lenVar": 40
   },
   "kernels_config": {
    "python": {
     "delete_cmd_postfix": "",
     "delete_cmd_prefix": "del ",
     "library": "var_list.py",
     "varRefreshCmd": "print(var_dic_list())"
    },
    "r": {
     "delete_cmd_postfix": ") ",
     "delete_cmd_prefix": "rm(",
     "library": "var_list.r",
     "varRefreshCmd": "cat(var_dic_list()) "
    }
   },
   "types_to_exclude": [
    "module",
    "function",
    "builtin_function_or_method",
    "instance",
    "_Feature"
   ],
   "window_display": false
  }
 },
 "nbformat": 4,
 "nbformat_minor": 4
}
