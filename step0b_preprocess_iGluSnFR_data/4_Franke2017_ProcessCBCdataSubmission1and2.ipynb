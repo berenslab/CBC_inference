{
 "cells": [
  {
   "cell_type": "markdown",
   "metadata": {},
   "source": [
    "# Read CBC data and create targets"
   ]
  },
  {
   "cell_type": "code",
   "execution_count": null,
   "metadata": {},
   "outputs": [],
   "source": [
    "import pandas as pd\n",
    "import numpy as np\n",
    "import h5py\n",
    "import scipy.io as sio\n",
    "from matplotlib import pyplot as plt"
   ]
  },
  {
   "cell_type": "code",
   "execution_count": null,
   "metadata": {},
   "outputs": [],
   "source": [
    "import sys\n",
    "import os"
   ]
  },
  {
   "cell_type": "code",
   "execution_count": null,
   "metadata": {},
   "outputs": [],
   "source": [
    "pythoncodepath = os.path.abspath(os.path.join('..', 'pythoncode'))\n",
    "sys.path = [pythoncodepath] + sys.path\n",
    "\n",
    "import importhelper\n",
    "importhelper.addfolders2path(pythoncodepath)\n",
    "\n",
    "import data_utils\n",
    "import math_utils"
   ]
  },
  {
   "cell_type": "markdown",
   "metadata": {},
   "source": [
    "# Meaning of indexes used in DataSet"
   ]
  },
  {
   "cell_type": "code",
   "execution_count": null,
   "metadata": {},
   "outputs": [],
   "source": [
    "cell_types = {\n",
    "    0: 'NO', 1: 'BC1', 2: 'BC2', 3: 'BC3a', 4: 'BC3b', 5: 'BC4',\n",
    "    6: 'BC5t', 7: 'BC5o', 8: 'BC5i', 9: 'BCX', 10: 'BC6',\n",
    "    11: 'BC7', 12: 'BC8', 13: 'BC9', 14: 'BCR'\n",
    "}"
   ]
  },
  {
   "cell_type": "code",
   "execution_count": null,
   "metadata": {},
   "outputs": [],
   "source": [
    "drug_types = {\n",
    "    0: \"no\",\n",
    "    1: 'Gbz + TPMPA',\n",
    "    2: 'Strychnine',\n",
    "    3: 'Gbz',\n",
    "    4: 'TPMPA',\n",
    "    5: 'lAP4',\n",
    "}"
   ]
  },
  {
   "cell_type": "markdown",
   "metadata": {},
   "source": [
    "# Read data submission 1"
   ]
  },
  {
   "cell_type": "markdown",
   "metadata": {},
   "source": [
    "## Load no drug data"
   ]
  },
  {
   "cell_type": "code",
   "execution_count": null,
   "metadata": {},
   "outputs": [],
   "source": [
    "sub1_no_drug_file = os.path.join(\n",
    "    '..', 'experimental_data', 'data_iGluSnFR', 'cbc_data', 'submission1', 'FrankeEtAl_BCs_2017_v1.mat')\n",
    "\n",
    "with h5py.File(sub1_no_drug_file,'r') as sub1_NoDrugsdata_raw:\n",
    "    release_time = np.array(sub1_NoDrugsdata_raw['chirp_time']).flatten()\n",
    "    sub1_no_drug_lchirp_traces = np.array(sub1_NoDrugsdata_raw['lchirp_avg'])\n",
    "    sub1_cluster_idx = np.array(sub1_NoDrugsdata_raw['cluster_idx']).flatten()\n",
    "    \n",
    "    # Replace NaNs with zeros. Both mean no cluster.\n",
    "    sub1_cluster_idx[~np.isfinite(sub1_cluster_idx)] = 0\n",
    "    \n",
    "    # Get stimulus.\n",
    "    sub1_stim = pd.DataFrame(\n",
    "        {'Time': np.array(sub1_NoDrugsdata_raw['chirp_stim_time']).flatten(),\n",
    "         'Stim': np.array(sub1_NoDrugsdata_raw['chirp_stim']).flatten()}\n",
    "    )\n",
    "    \n",
    "print('Number of traces: {}'.format(sub1_cluster_idx.size))\n",
    "print('Percentage that is clusterd: {:.1%}'.format(np.sum(sub1_cluster_idx>0) / sub1_cluster_idx.size))"
   ]
  },
  {
   "cell_type": "markdown",
   "metadata": {},
   "source": [
    "## Load drug data"
   ]
  },
  {
   "cell_type": "code",
   "execution_count": null,
   "metadata": {},
   "outputs": [],
   "source": [
    "sub1_drug_file = os.path.join(\n",
    "    '..', 'experimental_data', 'data_iGluSnFR', 'cbc_data', 'submission1', 'FrankeEtAl_BCs_2017_drugdata.mat')\n",
    "\n",
    "sub1_Drugsdata_raw = sio.loadmat(sub1_drug_file)\n",
    "\n",
    "sub1_drug_lchirp_traces = sub1_Drugsdata_raw['lchirp_drug_avg'].T\n",
    "sub1_drug_idxs = sub1_Drugsdata_raw['drug'].flatten()\n",
    "# Replace NaN with 0.\n",
    "sub1_drug_idxs[~np.isfinite(sub1_drug_idxs)] = 0\n",
    "\n",
    "del sub1_Drugsdata_raw"
   ]
  },
  {
   "cell_type": "markdown",
   "metadata": {},
   "source": [
    "# Read data submission 2"
   ]
  },
  {
   "cell_type": "code",
   "execution_count": null,
   "metadata": {},
   "outputs": [],
   "source": [
    "sub2_file = os.path.join(\n",
    "    '..', 'experimental_data', 'data_iGluSnFR', 'cbc_data',\n",
    "    'submission2', 'Franke2017_additional_data.hdf5')"
   ]
  },
  {
   "cell_type": "code",
   "execution_count": null,
   "metadata": {},
   "outputs": [],
   "source": [
    "with h5py.File(sub2_file,'r') as sub2_raw:\n",
    "    \n",
    "    sub2_cluster_idx = np.array(sub2_raw['cluster_idx'])\n",
    "    sub2_drug_idxs = np.array(sub2_raw['drug_idx'])\n",
    "    sub2_no_drug_lchirp_traces = np.array(sub2_raw['no_drug_lchirp_traces'])\n",
    "    sub2_strychnine_lchirp_traces = np.array(sub2_raw['strychnine_lchirp_traces'])"
   ]
  },
  {
   "cell_type": "markdown",
   "metadata": {},
   "source": [
    "# Merge submission 1 and 2"
   ]
  },
  {
   "cell_type": "code",
   "execution_count": null,
   "metadata": {},
   "outputs": [],
   "source": [
    "assert sub1_no_drug_lchirp_traces.shape[1] == sub2_no_drug_lchirp_traces.shape[1]\n",
    "no_drug_lchirp_traces = np.vstack([sub1_no_drug_lchirp_traces, sub2_no_drug_lchirp_traces])\n",
    "print(no_drug_lchirp_traces.shape)"
   ]
  },
  {
   "cell_type": "code",
   "execution_count": null,
   "metadata": {},
   "outputs": [],
   "source": [
    "assert sub1_drug_lchirp_traces.shape[1] == sub2_strychnine_lchirp_traces.shape[1]\n",
    "drug_lchirp_traces = np.vstack([sub1_drug_lchirp_traces, sub2_strychnine_lchirp_traces])\n",
    "print(drug_lchirp_traces.shape)"
   ]
  },
  {
   "cell_type": "code",
   "execution_count": null,
   "metadata": {},
   "outputs": [],
   "source": [
    "drug_idxs = np.concatenate([sub1_drug_idxs, sub2_drug_idxs])\n",
    "print(drug_idxs.shape)"
   ]
  },
  {
   "cell_type": "code",
   "execution_count": null,
   "metadata": {},
   "outputs": [],
   "source": [
    "cluster_idx = np.concatenate([sub1_cluster_idx, sub2_cluster_idx])\n",
    "print(cluster_idx.shape)"
   ]
  },
  {
   "cell_type": "markdown",
   "metadata": {},
   "source": [
    "# Load stimuli"
   ]
  },
  {
   "cell_type": "code",
   "execution_count": null,
   "metadata": {},
   "outputs": [],
   "source": [
    "import pandas as pd\n",
    "\n",
    "# Get recorded stimulus (noisy)\n",
    "stim_rec = pd.read_csv(os.path.join(\n",
    "    '..', 'experimental_data', 'data_iGluSnFR', 'cbc_data', 'Franke2017_recorded_stimulus.csv'))\n",
    "\n",
    "# Get corrected stimulus\n",
    "stim_corrected = pd.read_csv(os.path.join(\n",
    "    'data_preprocessed', 'Franke2017_stimulus_time_and_amp_corrected.csv'))"
   ]
  },
  {
   "cell_type": "markdown",
   "metadata": {},
   "source": [
    "# Plot cluster distribution"
   ]
  },
  {
   "cell_type": "code",
   "execution_count": null,
   "metadata": {},
   "outputs": [],
   "source": [
    "plt.figure(1,(12,3))\n",
    "ax = plt.subplot(111)\n",
    "\n",
    "plt.hist(cluster_idx, orientation='horizontal', bins=50)\n",
    "ax.set_yticks(list(cell_types.keys()))\n",
    "ax.set_yticklabels(list(cell_types.values()))\n",
    "ax.set_xlabel('Num. of traces')\n",
    "plt.tight_layout()\n",
    "plt.show()"
   ]
  },
  {
   "cell_type": "markdown",
   "metadata": {},
   "source": [
    "# Plot drug data distribution."
   ]
  },
  {
   "cell_type": "code",
   "execution_count": null,
   "metadata": {},
   "outputs": [],
   "source": [
    "plt.figure(1,(12,2))\n",
    "ax = plt.subplot(111)\n",
    "\n",
    "plt.semilogx()\n",
    "found_drug_idxs, counts = np.unique(drug_idxs, return_counts=True)\n",
    "\n",
    "for drug_idx, count in zip(found_drug_idxs, counts): \n",
    "    plt.plot([0, count], [drug_idx, drug_idx], c='k', lw=4)\n",
    "    \n",
    "ax.set_yticks(found_drug_idxs)\n",
    "ax.set_yticklabels([drug_types[found_drug_idx] for found_drug_idx in found_drug_idxs])\n",
    "plt.xlim(100, None)\n",
    "ax.set_xlabel('Num. of traces')\n",
    "\n",
    "plt.tight_layout()\n",
    "plt.show()"
   ]
  },
  {
   "cell_type": "markdown",
   "metadata": {},
   "source": [
    "# Plot release for CBC clusters"
   ]
  },
  {
   "cell_type": "code",
   "execution_count": null,
   "metadata": {},
   "outputs": [],
   "source": [
    "def plot_mean_and_std(ax, plot_t, plot_mean, plot_std):\n",
    "    ''' Plot mean and plus-minus one standard deviation.\n",
    "    '''\n",
    "    ax.plot(plot_t, plot_mean, 'k-', clip_on=False)\n",
    "    ax.fill_between(plot_t, plot_mean-plot_std, plot_mean+plot_std, color='r', alpha=0.3, clip_on=False)"
   ]
  },
  {
   "cell_type": "code",
   "execution_count": null,
   "metadata": {},
   "outputs": [],
   "source": [
    "def plot_release(release_df, title, stims=None):\n",
    "    '''Plot release data.\n",
    "    Creates a figure.\n",
    "    \n",
    "    Parameters:\n",
    "    \n",
    "    release_df : DataFrame with columns 'Time', 'mean' and 'std'\n",
    "        Release data to plot.\n",
    "        \n",
    "    title : str\n",
    "        Title of Data\n",
    "        \n",
    "    stims : DataFrame or list of DataFrames with colums 'Time' and 'Stim'\n",
    "        Stimulus or stimuli to be plotted.\n",
    "    \n",
    "    '''\n",
    "    \n",
    "    # Get data.\n",
    "    plot_t = release_df['Time']\n",
    "    plot_mean = release_df['mean']\n",
    "    plot_std = release_df['std']\n",
    "    \n",
    "    # Plot.\n",
    "    plt.figure(figsize=(15,2))\n",
    "    ax1 = plt.subplot2grid((1,5), (0,0), colspan=3)\n",
    "    ax2 = plt.subplot2grid((1,5), (0,3), colspan=1)\n",
    "    ax3 = plt.subplot2grid((1,5), (0,4), colspan=1)\n",
    "    \n",
    "    ax = ax1\n",
    "    ax.set_title(title, loc='left')\n",
    "    plot_mean_and_std(ax, plot_t, plot_mean, plot_std)\n",
    "    \n",
    "    for t01, ax in zip([(1.9, 2.2), (4.8, 5.3)], [ax2, ax3]):\n",
    "        \n",
    "        t0 = t01[0]\n",
    "        t1 = t01[1]\n",
    "    \n",
    "        idx0 = np.where(plot_t >= t0)[0][0]\n",
    "        idx1 = np.where(plot_t >= t1)[0][0]\n",
    "        \n",
    "        plot_mean_and_std(ax, plot_t[idx0:idx1], plot_mean[idx0:idx1], plot_std[idx0:idx1])\n",
    "        \n",
    "        if stims is not None:\n",
    "            stim_ax = ax.twinx()\n",
    "            if not isinstance(stims, list): stims = [stims]\n",
    "            for stim in stims:\n",
    "                idx0 = np.where(stim['Time'] >= t0)[0][0]\n",
    "                idx1 = np.where(stim['Time'] >= t1)[0][0]\n",
    "            \n",
    "                stim_ax.plot(stim['Time'][idx0:idx1], math_utils.normalize(stim['Stim'][idx0:idx1]))\n",
    "\n",
    "    plt.tight_layout()\n",
    "    plt.show()"
   ]
  },
  {
   "cell_type": "markdown",
   "metadata": {},
   "source": [
    "## Drug data"
   ]
  },
  {
   "cell_type": "code",
   "execution_count": null,
   "metadata": {},
   "outputs": [],
   "source": [
    "drug_traces_sorted = {}\n",
    "\n",
    "for drug_idx, drug_type in drug_types.items():\n",
    "    \n",
    "    drug_traces_sorted[drug_type] = {}\n",
    "    \n",
    "    for cell_idx, cell_type in cell_types.items():\n",
    "\n",
    "        idxs = (cluster_idx==cell_idx) \\\n",
    "                & (drug_idxs==drug_idx) \\\n",
    "                & (np.all(np.isfinite(drug_lchirp_traces), axis=1))\n",
    "        \n",
    "        if np.sum(idxs) > 0:\n",
    "            \n",
    "            # Get data.\n",
    "            traces = drug_lchirp_traces[idxs,:]\n",
    "            \n",
    "            drug_traces_sorted[drug_type][cell_type] = {}\n",
    "            drug_traces_sorted[drug_type][cell_type]['Time'] = release_time\n",
    "            drug_traces_sorted[drug_type][cell_type]['mean'] = np.mean(traces,0)\n",
    "            drug_traces_sorted[drug_type][cell_type]['std']  = np.std(traces,0)\n",
    "\n",
    "            # Plot.\n",
    "            plot_release(\n",
    "                release_df=pd.DataFrame(drug_traces_sorted[drug_type][cell_type]),\n",
    "                title=cell_type + ' with ' + drug_type + '; n=' + str(np.sum(idxs)),\n",
    "                stims=[stim_rec, stim_corrected]\n",
    "            )\n",
    "\n",
    "            drug_traces_sorted[drug_type][cell_type]['traces'] = traces\n",
    "            \n",
    "        else:\n",
    "            drug_traces_sorted[drug_type][cell_type] = None"
   ]
  },
  {
   "cell_type": "code",
   "execution_count": null,
   "metadata": {},
   "outputs": [],
   "source": [
    "data_utils.save_var(drug_traces_sorted, os.path.join('data_preprocessed', 'drug_traces_sorted.pkl'))"
   ]
  },
  {
   "cell_type": "markdown",
   "metadata": {},
   "source": [
    "## No drug Data"
   ]
  },
  {
   "cell_type": "code",
   "execution_count": null,
   "metadata": {},
   "outputs": [],
   "source": [
    "no_drug_traces_sorted = {}\n",
    "\n",
    "for cell_idx, cell_type in cell_types.items():\n",
    "    \n",
    "    idxs = (cluster_idx==cell_idx)\n",
    "    n = np.sum(idxs)\n",
    "    \n",
    "    traces = no_drug_lchirp_traces[idxs,:]\n",
    "    \n",
    "    # Get data.\n",
    "    no_drug_traces_sorted[cell_type] = {}\n",
    "    no_drug_traces_sorted[cell_type]['Time'] = release_time\n",
    "    no_drug_traces_sorted[cell_type]['mean'] = math_utils.normalize(np.mean(traces,0))\n",
    "    no_drug_traces_sorted[cell_type]['std']  = np.std(traces,0)\n",
    "    \n",
    "    # Plot.\n",
    "    plot_release(\n",
    "        release_df=pd.DataFrame(no_drug_traces_sorted[cell_type]),\n",
    "        title=cell_type + '; n='+str(n),\n",
    "        stims=[stim_rec, stim_corrected]\n",
    "    )\n",
    "    \n",
    "    no_drug_traces_sorted[cell_type]['traces'] = traces "
   ]
  },
  {
   "cell_type": "code",
   "execution_count": null,
   "metadata": {},
   "outputs": [],
   "source": [
    "data_utils.save_var(no_drug_traces_sorted, os.path.join('data_preprocessed', 'no_drug_traces_sorted.pkl'))"
   ]
  },
  {
   "cell_type": "markdown",
   "metadata": {},
   "source": [
    "# Save selection to files"
   ]
  },
  {
   "cell_type": "code",
   "execution_count": null,
   "metadata": {},
   "outputs": [],
   "source": [
    "save_selection = {\n",
    "    ('BC5o', 'Strychnine'),\n",
    "    ('BC3a', 'Strychnine'),\n",
    "}"
   ]
  },
  {
   "cell_type": "code",
   "execution_count": null,
   "metadata": {},
   "outputs": [],
   "source": [
    "for (cell_type, drug_type) in save_selection:\n",
    "    \n",
    "    if drug_type == 'NO':\n",
    "        data = no_drug_traces_sorted[cell_type]\n",
    "    else:\n",
    "        data = drug_traces_sorted[drug_type][cell_type]\n",
    "    \n",
    "    file_name = os.path.join('data_preprocessed', f'Franke2017_Release_{cell_type}_{drug_type}.csv')\n",
    "    print(file_name)\n",
    "    \n",
    "    # Normalize.\n",
    "    mean_release = data['mean']\n",
    "    mean_release -= np.mean(mean_release[data['Time']<=1])\n",
    "    mean_release /= mean_release.max()\n",
    "    \n",
    "    dataframe = pd.DataFrame({\n",
    "        'Time': data['Time'],\n",
    "        'mean': data['mean'],\n",
    "    })\n",
    "        \n",
    "    dataframe.to_csv(file_name, index=False)"
   ]
  },
  {
   "cell_type": "markdown",
   "metadata": {},
   "source": [
    "# Sanity check - Compare with stimulus\n",
    "\n",
    "We expect some delay in the stimulus response relative to the stimulus.\n",
    "The exact number is hard to pin down, but we know the mouse retina is relatively slow and iGluSnFR adds some delaye aswell. So it should definitely be more than 10 ms but certainly less than 100 ms."
   ]
  },
  {
   "cell_type": "code",
   "execution_count": null,
   "metadata": {},
   "outputs": [],
   "source": [
    "plt.figure(1,(12,3))\n",
    "\n",
    "plt.subplot(121)\n",
    "plt.plot(stim_corrected['Time'], stim_corrected['Stim'])\n",
    "plt.plot(no_drug_traces_sorted['BC5o']['Time'], no_drug_traces_sorted['BC5o']['mean'])\n",
    "plt.plot(drug_traces_sorted['Strychnine']['BC5o']['Time'], drug_traces_sorted['Strychnine']['BC5o']['mean'])\n",
    "plt.xlim([1.95, 2.2])\n",
    "\n",
    "plt.subplot(122)\n",
    "plt.plot(stim_corrected['Time'], stim_corrected['Stim'])\n",
    "plt.plot(no_drug_traces_sorted['BC3a']['Time'], no_drug_traces_sorted['BC3a']['mean'])\n",
    "plt.plot(drug_traces_sorted['Strychnine']['BC3a']['Time'], drug_traces_sorted['Strychnine']['BC3a']['mean'])\n",
    "plt.xlim([4.85, 5.2])"
   ]
  },
  {
   "cell_type": "code",
   "execution_count": null,
   "metadata": {},
   "outputs": [],
   "source": []
  },
  {
   "cell_type": "code",
   "execution_count": null,
   "metadata": {},
   "outputs": [],
   "source": []
  }
 ],
 "metadata": {
  "hide_input": false,
  "kernelspec": {
   "display_name": "Python 3",
   "language": "python",
   "name": "python3"
  },
  "language_info": {
   "codemirror_mode": {
    "name": "ipython",
    "version": 3
   },
   "file_extension": ".py",
   "mimetype": "text/x-python",
   "name": "python",
   "nbconvert_exporter": "python",
   "pygments_lexer": "ipython3",
   "version": "3.7.5"
  },
  "toc": {
   "base_numbering": 1,
   "nav_menu": {},
   "number_sections": true,
   "sideBar": true,
   "skip_h1_title": false,
   "title_cell": "Table of Contents",
   "title_sidebar": "Contents",
   "toc_cell": false,
   "toc_position": {},
   "toc_section_display": true,
   "toc_window_display": true
  },
  "varInspector": {
   "cols": {
    "lenName": 16,
    "lenType": 16,
    "lenVar": 40
   },
   "kernels_config": {
    "python": {
     "delete_cmd_postfix": "",
     "delete_cmd_prefix": "del ",
     "library": "var_list.py",
     "varRefreshCmd": "print(var_dic_list())"
    },
    "r": {
     "delete_cmd_postfix": ") ",
     "delete_cmd_prefix": "rm(",
     "library": "var_list.r",
     "varRefreshCmd": "cat(var_dic_list()) "
    }
   },
   "types_to_exclude": [
    "module",
    "function",
    "builtin_function_or_method",
    "instance",
    "_Feature"
   ],
   "window_display": false
  }
 },
 "nbformat": 4,
 "nbformat_minor": 2
}
