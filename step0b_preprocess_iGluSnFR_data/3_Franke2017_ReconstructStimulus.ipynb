{
 "cells": [
  {
   "cell_type": "markdown",
   "metadata": {},
   "source": [
    "# Reconstruct CBC stimulus from recordings"
   ]
  },
  {
   "cell_type": "code",
   "execution_count": null,
   "metadata": {},
   "outputs": [],
   "source": [
    "import pandas as pd\n",
    "import numpy as np\n",
    "import h5py\n",
    "from matplotlib import pyplot as plt\n",
    "\n",
    "from scipy.optimize import minimize"
   ]
  },
  {
   "cell_type": "code",
   "execution_count": null,
   "metadata": {},
   "outputs": [],
   "source": [
    "import sys\n",
    "import os"
   ]
  },
  {
   "cell_type": "code",
   "execution_count": null,
   "metadata": {},
   "outputs": [],
   "source": [
    "pythoncodepath = os.path.abspath(os.path.join('..', 'pythoncode'))\n",
    "sys.path = [pythoncodepath] + sys.path\n",
    "\n",
    "import importhelper\n",
    "importhelper.addfolders2path(pythoncodepath)\n",
    "\n",
    "import plot_peaks\n",
    "import math_utils\n",
    "import interpolation_utils"
   ]
  },
  {
   "cell_type": "markdown",
   "metadata": {},
   "source": [
    "# Load Stimulus"
   ]
  },
  {
   "cell_type": "markdown",
   "metadata": {},
   "source": [
    "## Load digital stimulus\n",
    "\n",
    "Load stimulus that was designed digitally.\n",
    "\n",
    "This stimulus is different from the stimulus that was displayed due to non-linearities and delays in the displaying process."
   ]
  },
  {
   "cell_type": "code",
   "execution_count": null,
   "metadata": {},
   "outputs": [],
   "source": [
    "# Load data.\n",
    "sub1_no_drug_file   = os.path.join(\n",
    "    '..', 'experimental_data', 'data_iGluSnFR', 'cbc_data', 'submission1', 'FrankeEtAl_BCs_2017_v1.mat')\n",
    "with h5py.File(sub1_no_drug_file, 'r') as sub1_NoDrugsdata_raw:\n",
    "\n",
    "    # Extract stimulus.\n",
    "    stimulus_digital = {}\n",
    "    stimulus_digital['Stim'] = np.array(sub1_NoDrugsdata_raw['chirp_stim']).flatten()\n",
    "    stimulus_digital['Time'] = np.array(sub1_NoDrugsdata_raw['chirp_stim_time']).flatten()\n",
    "    stimulus_digital = pd.DataFrame(stimulus_digital)"
   ]
  },
  {
   "cell_type": "code",
   "execution_count": null,
   "metadata": {},
   "outputs": [],
   "source": [
    "stimulus_digital.plot(x='Time', figsize=(15,2))\n",
    "plt.show()"
   ]
  },
  {
   "cell_type": "markdown",
   "metadata": {},
   "source": [
    "### Load recorded stimulus\n",
    "\n",
    "This is a noisy recording of the stimulus that was acutally displayed.\n",
    "\n",
    "- It's too noisy to be used for the models.\n",
    "\n",
    "- Also the decreasing intensity after ~18s is a low-pass filtering artifact."
   ]
  },
  {
   "cell_type": "code",
   "execution_count": null,
   "metadata": {},
   "outputs": [],
   "source": [
    "# Load recorded stimulus.\n",
    "stimulus_recorded = pd.read_csv(os.path.join(\n",
    "    '..', 'experimental_data', 'data_iGluSnFR', 'cbc_data', 'Franke2017_recorded_stimulus.csv'))"
   ]
  },
  {
   "cell_type": "code",
   "execution_count": null,
   "metadata": {},
   "outputs": [],
   "source": [
    "stimulus_recorded.plot(x='Time', figsize=(15,2))\n",
    "plt.show()"
   ]
  },
  {
   "cell_type": "markdown",
   "metadata": {},
   "source": [
    "# Correcting the amplitude of the stimulus"
   ]
  },
  {
   "cell_type": "code",
   "execution_count": null,
   "metadata": {},
   "outputs": [],
   "source": [
    "# Parametrized sigmoidal gamma correction to be fitted.\n",
    "def sigmoid(x, x0, k, L, b):\n",
    "    return L / (1 + np.exp(-k*(x-x0))) + b\n",
    "\n",
    "def correct_amp_sigmoid(monitor_input, sigmoid_params):\n",
    "    sigmoid_params = np.asarray(sigmoid_params)\n",
    "    assert sigmoid_params.size==4\n",
    "    \n",
    "    k  = sigmoid_params[0]\n",
    "    x0 = sigmoid_params[1]\n",
    "    L  = sigmoid_params[2]\n",
    "    b  = sigmoid_params[3]\n",
    "    \n",
    "    return sigmoid(monitor_input, x0, k, L, b)"
   ]
  },
  {
   "cell_type": "code",
   "execution_count": null,
   "metadata": {},
   "outputs": [],
   "source": [
    "test_inputs = np.arange(0,255)\n",
    "\n",
    "# Plot intesity curve.\n",
    "plt.figure(figsize=(12,3))\n",
    "plt.plot(test_inputs, math_utils.normalize(correct_amp_sigmoid(test_inputs, sigmoid_params=[0.03,190,0.9,0.01])))\n",
    "plt.xlabel('Monitor Input')\n",
    "plt.ylabel('normalized(Monitor Output)')\n",
    "plt.show()"
   ]
  },
  {
   "cell_type": "markdown",
   "metadata": {},
   "source": [
    "# Time correction\n",
    "\n",
    "Amplitude correction is easier if the time is correct. So let's find the correct timing first."
   ]
  },
  {
   "cell_type": "code",
   "execution_count": null,
   "metadata": {},
   "outputs": [],
   "source": [
    "pre_rng_dt=0.2\n",
    "post_rng_dt=0.01\n",
    "pre_rng_mean_dt=0.1"
   ]
  },
  {
   "cell_type": "code",
   "execution_count": null,
   "metadata": {},
   "outputs": [],
   "source": [
    "def plot_rng_and_find_step(rng):\n",
    "    \n",
    "    # Get indexes in range.\n",
    "    rng_idxs = (stimulus_recorded['Time'].values >= rng[0]-pre_rng_dt) &\\\n",
    "               (stimulus_recorded['Time'].values <= rng[1]+post_rng_dt)\n",
    "    \n",
    "    # Get start index of range.\n",
    "    rng_idx_start = np.argwhere(stimulus_recorded['Time'].values >= rng[0])[0][0]\n",
    "\n",
    "    # Get indexes directly before range.\n",
    "    pre_rng_idxs = (stimulus_recorded['Time'].values >= rng[0]-pre_rng_mean_dt) &\\\n",
    "                   (stimulus_recorded['Time'].values <= rng[0])\n",
    "    \n",
    "    # Compute mean and a measure for standard deviation before step range.\n",
    "    mean = stimulus_recorded['Stim'].iloc[pre_rng_idxs].mean()\n",
    "    stdm = 3*stimulus_recorded['Stim'].iloc[pre_rng_idxs].std()\n",
    "    \n",
    "    # Find step according to pre step  values.\n",
    "    step_idx = np.argwhere((np.abs(stimulus_recorded['Stim'].values-mean) > stdm) &\\\n",
    "                           (stimulus_recorded['Time'].values >= rng[0]))[0][0]\n",
    "    step_time = stimulus_recorded['Time'].values[step_idx]\n",
    "    \n",
    "    plt.figure(figsize=(15,6))\n",
    "    plt.plot(stimulus_recorded['Time'], stimulus_recorded['Stim'])\n",
    "    \n",
    "    plt.xlim(rng[0]-pre_rng_dt, rng[1]+post_rng_dt)\n",
    "    plt.axvline(rng[0], c='r')\n",
    "    plt.axvline(rng[1], c='darkred')\n",
    "    plt.axvline(rng[0]-pre_rng_mean_dt, c='b')\n",
    "    \n",
    "    plt.axhline(mean, c='k')\n",
    "    plt.axhline(mean-stdm, c='k', ls=':')\n",
    "    plt.axhline(mean+stdm, c='k', ls=':')\n",
    "    \n",
    "    plt.axvline(step_time, c='orange', ls='--')\n",
    "    \n",
    "    plt.ylim(stimulus_recorded['Stim'].iloc[rng_idxs].min()-0.01, stimulus_recorded['Stim'].iloc[rng_idxs].max()+0.01)\n",
    "    plt.show()\n",
    "    \n",
    "    return step_time"
   ]
  },
  {
   "cell_type": "markdown",
   "metadata": {},
   "source": [
    "## Find steps\n",
    "\n",
    "Align the steps of the digital stimulus with the recorded stimulus."
   ]
  },
  {
   "cell_type": "markdown",
   "metadata": {},
   "source": [
    "### 1st ON step"
   ]
  },
  {
   "cell_type": "code",
   "execution_count": null,
   "metadata": {},
   "outputs": [],
   "source": [
    "rng = (2.0, 2.01)\n",
    "t_1st_step_on = plot_rng_and_find_step(rng=rng)\n",
    "t_1st_step_on"
   ]
  },
  {
   "cell_type": "markdown",
   "metadata": {},
   "source": [
    "### 1st OFF step"
   ]
  },
  {
   "cell_type": "code",
   "execution_count": null,
   "metadata": {},
   "outputs": [],
   "source": [
    "rng = (4.935, 4.98)\n",
    "t_1st_step_off = plot_rng_and_find_step(rng=rng)\n",
    "t_1st_step_off"
   ]
  },
  {
   "cell_type": "markdown",
   "metadata": {},
   "source": [
    "### 2nd ON step"
   ]
  },
  {
   "cell_type": "code",
   "execution_count": null,
   "metadata": {},
   "outputs": [],
   "source": [
    "rng = (7.895, 7.92)\n",
    "t_2nd_step_on = plot_rng_and_find_step(rng=rng)\n",
    "t_2nd_step_on"
   ]
  },
  {
   "cell_type": "markdown",
   "metadata": {},
   "source": [
    "### 2nd OFF step"
   ]
  },
  {
   "cell_type": "code",
   "execution_count": null,
   "metadata": {},
   "outputs": [],
   "source": [
    "rng = (29.1, 29.13)\n",
    "t_2nd_step_off = plot_rng_and_find_step(rng=rng)\n",
    "t_2nd_step_off"
   ]
  },
  {
   "cell_type": "markdown",
   "metadata": {},
   "source": [
    "### Show all steps"
   ]
  },
  {
   "cell_type": "code",
   "execution_count": null,
   "metadata": {},
   "outputs": [],
   "source": [
    "plt.figure(figsize=(15,5))\n",
    "\n",
    "for i, t in enumerate([t_1st_step_on, t_1st_step_off, t_2nd_step_on, t_2nd_step_off]):\n",
    "    plt.subplot(1,4,i+1)\n",
    "    plt.plot(stimulus_recorded['Time'], stimulus_recorded['Stim'])\n",
    "    plt.axvline(t, c='r')\n",
    "    plt.xlim(t-0.1,t+0.1)\n",
    "plt.show()"
   ]
  },
  {
   "cell_type": "markdown",
   "metadata": {},
   "source": [
    "## Define time windows for both chirps"
   ]
  },
  {
   "cell_type": "code",
   "execution_count": null,
   "metadata": {},
   "outputs": [],
   "source": [
    "t_1st_chirp_on = 10 # Should be roughly aligned\n",
    "t_1st_chirp_off = 18 # Does not have to be well aligned\n",
    "\n",
    "t_2nd_chirp_on = 19 # Does not have to be well aligned\n",
    "t_2nd_chirp_off = 28 # Does not have to be well aligned\n",
    "\n",
    "t_between_chirps_on  = 17.6 # Does not have to be well aligned\n",
    "t_between_chirps_off = 19.5 # Does not have to be well aligned\n",
    "\n",
    "assert t_between_chirps_on < t_1st_chirp_off\n",
    "assert t_between_chirps_off > t_2nd_chirp_on"
   ]
  },
  {
   "cell_type": "code",
   "execution_count": null,
   "metadata": {},
   "outputs": [],
   "source": [
    "plt.figure(1,(15,3))\n",
    "ax = plt.subplot(111)\n",
    "ax.plot(\n",
    "    stimulus_digital['Time'],\n",
    "    correct_amp_sigmoid(stimulus_digital['Stim'], sigmoid_params=[0.03,190,0.9,0.01]),\n",
    "    '-', alpha=0.5, label='example'\n",
    ")\n",
    "ax.legend(loc='upper left')\n",
    "ax.set_ylim(-0.1, 1.2)\n",
    "\n",
    "for t in [\n",
    "    t_1st_step_on,\n",
    "    t_1st_step_off,\n",
    "    t_2nd_step_on,\n",
    "    t_2nd_step_off,\n",
    "]:\n",
    "    ax.axvline(t, c='r')\n",
    "\n",
    "for t in [\n",
    "    t_1st_chirp_on,\n",
    "    t_1st_chirp_off,\n",
    "    t_2nd_chirp_on,\n",
    "    t_2nd_chirp_off,\n",
    "]:\n",
    "    ax.axvline(t, c='b')\n",
    "\n",
    "ax.axvline(t_between_chirps_on, c='g')\n",
    "ax.axvline(t_between_chirps_off, c='g')\n",
    "    \n",
    "ax2 = ax.twinx()\n",
    "ax2.plot(stimulus_recorded['Time'], stimulus_recorded['Stim'], 'k--', label='recorded')\n",
    "ax2.legend(loc='upper right')\n",
    "\n",
    "plt.show()"
   ]
  },
  {
   "cell_type": "markdown",
   "metadata": {},
   "source": [
    "# Correct stimulus time"
   ]
  },
  {
   "cell_type": "code",
   "execution_count": null,
   "metadata": {},
   "outputs": [],
   "source": [
    "p_err = 2 # Exponent of error estimate. 2 --> MSE"
   ]
  },
  {
   "cell_type": "code",
   "execution_count": null,
   "metadata": {},
   "outputs": [],
   "source": [
    "# Set output time zu recorded time.\n",
    "tout = stimulus_recorded['Time'].values.copy()\n",
    "# Use digital stimulus as input.\n",
    "tin  = stimulus_digital['Time'].values.copy()"
   ]
  },
  {
   "cell_type": "code",
   "execution_count": null,
   "metadata": {},
   "outputs": [],
   "source": [
    "# Get recorded first chirp.\n",
    "tout_idx_1st_chirp = (tout >= t_1st_chirp_on) & (tout < t_1st_chirp_off)\n",
    "rec_time_1st_chirp = stimulus_recorded['Time'][tout_idx_1st_chirp].values\n",
    "rec_amp_1st_chirp  = stimulus_recorded['Stim'][tout_idx_1st_chirp].values"
   ]
  },
  {
   "cell_type": "code",
   "execution_count": null,
   "metadata": {},
   "outputs": [],
   "source": [
    "# Get digital 1st chirp, just roughly cut out, before and after it's constant.\n",
    "digital_1st_chirp_idxs = np.arange(9500,19000)\n",
    "digital_time_1st_chirp = tin[digital_1st_chirp_idxs]\n",
    "\n",
    "plt.figure(1,(15,3))\n",
    "plt.plot(stimulus_digital['Stim'])\n",
    "plt.axvline(digital_1st_chirp_idxs[0], c='r')\n",
    "plt.axvline(digital_1st_chirp_idxs[-1], c='r')\n",
    "plt.show()"
   ]
  },
  {
   "cell_type": "code",
   "execution_count": null,
   "metadata": {},
   "outputs": [],
   "source": [
    "# Function to fit first chirp.\n",
    "def loss_1st_chirp(t0_dt, digital_amp_1st_chirp, plot=False, return_array=False):\n",
    "    \n",
    "    t0 = t0_dt[0] # Time offset.\n",
    "    dt = t0_dt[1] # Time per frame.\n",
    "    \n",
    "    # Create proposal time.\n",
    "    time_proposal = t0+digital_time_1st_chirp[0]+np.arange(digital_amp_1st_chirp.size)*dt\n",
    "    # Get proposal amplitude by interpolation.\n",
    "    amp_proposal  = interpolation_utils.in_ex_polate(time_proposal, digital_amp_1st_chirp, rec_time_1st_chirp)\n",
    "    \n",
    "    # Compute loss.\n",
    "    loss = np.mean(np.abs((amp_proposal - rec_amp_1st_chirp))**p_err)\n",
    "        \n",
    "    # Either return loss or amp proposal\n",
    "    if return_array: return amp_proposal\n",
    "        \n",
    "    return loss"
   ]
  },
  {
   "cell_type": "code",
   "execution_count": null,
   "metadata": {},
   "outputs": [],
   "source": [
    "# Get recorded 2nd chirp.\n",
    "tout_idx_2nd_chirp = (tout >= t_2nd_chirp_on) & (tout < t_2nd_chirp_off)\n",
    "rec_time_2nd_chirp = stimulus_recorded['Time'][tout_idx_2nd_chirp].values\n",
    "rec_amp_2nd_chirp  = stimulus_recorded['Stim'][tout_idx_2nd_chirp].values"
   ]
  },
  {
   "cell_type": "code",
   "execution_count": null,
   "metadata": {},
   "outputs": [],
   "source": [
    "# Get digital 2nd chirp, just roughly cut out, before and after it's constant.\n",
    "digital_2nd_chirp_idxs = np.arange(19000,29000)\n",
    "digital_time_2nd_chirp = tin[digital_2nd_chirp_idxs]\n",
    "\n",
    "plt.figure(1,(15,3))\n",
    "plt.plot(stimulus_digital['Stim'])\n",
    "plt.axvline(digital_2nd_chirp_idxs[0], c='r')\n",
    "plt.axvline(digital_2nd_chirp_idxs[-1], c='r')\n",
    "plt.show()"
   ]
  },
  {
   "cell_type": "code",
   "execution_count": null,
   "metadata": {},
   "outputs": [],
   "source": [
    "# Function to fit second chirp.\n",
    "def loss_2nd_chirp(t0_dt, digital_amp_2nd_chirp, plot=False, return_array=False):\n",
    "    \n",
    "    t0 = t0_dt[0] # Time offset.\n",
    "    dt = t0_dt[1] # Time per frame.\n",
    "    \n",
    "    # Create proposal time.\n",
    "    time_proposal = t0+digital_time_2nd_chirp[0]+np.arange(digital_amp_2nd_chirp.size)*dt\n",
    "    # Get proposal amplitude by interpolation.\n",
    "    amp_proposal  = interpolation_utils.in_ex_polate(time_proposal, digital_amp_2nd_chirp, rec_time_2nd_chirp)\n",
    "    \n",
    "    # Compute loss.\n",
    "    loss = np.mean(np.abs((amp_proposal - rec_amp_2nd_chirp))**p_err)\n",
    "        \n",
    "    # Either return loss or amp proposal\n",
    "    if return_array: return amp_proposal\n",
    "        \n",
    "    return loss"
   ]
  },
  {
   "cell_type": "code",
   "execution_count": null,
   "metadata": {},
   "outputs": [],
   "source": [
    "# Find high frequncy area. It will not be used to fit the amplitudes, because it's not correct in amplitude.\n",
    "t_high_f_on = 12.5\n",
    "t_high_f_off = 17.7\n",
    "\n",
    "idxs_high_f = (tout >= t_high_f_on) & (tout <= t_high_f_off)\n",
    "\n",
    "# Plot.\n",
    "plt.figure(1,(15,3))\n",
    "plt.subplot(121)\n",
    "plt.plot(stimulus_recorded['Time'], stimulus_recorded['Stim'])\n",
    "plt.axvline(t_high_f_on, c='r')\n",
    "plt.axvline(t_high_f_off, c='r')\n",
    "\n",
    "plt.subplot(122)\n",
    "plt.plot(stimulus_recorded['Time'].values[~idxs_high_f], stimulus_recorded['Stim'].values[~idxs_high_f])\n",
    "plt.show()"
   ]
  },
  {
   "cell_type": "code",
   "execution_count": null,
   "metadata": {},
   "outputs": [],
   "source": [
    "# Corrects both time and ampltiude and returns the loss (or the fitted array).\n",
    "# Final loss will not be computed on the high frequency area.\n",
    "# High frequency range will be used to fit the timing though.\n",
    "def transform_stim(sigmoid_params, return_array=False, plot_steps=False):\n",
    "\n",
    "    sigmoid_params = np.asarray(sigmoid_params)\n",
    "    \n",
    "    yout = np.full(tout.size, np.nan)\n",
    "    yin = correct_amp_sigmoid(stimulus_digital['Stim'], sigmoid_params=sigmoid_params).values.copy()\n",
    "    \n",
    "    half_step_amp = correct_amp_sigmoid(np.array([127]), sigmoid_params=sigmoid_params)\n",
    "    full_step_amp = correct_amp_sigmoid(np.array([255]), sigmoid_params=sigmoid_params)\n",
    "    base_amp      = correct_amp_sigmoid(np.array([0]),   sigmoid_params=sigmoid_params)\n",
    "\n",
    "    # Correct steps before first chirp.\n",
    "    yout[tout < t_1st_step_on] = base_amp\n",
    "    yout[(tout >= t_1st_step_on) & (tout < t_1st_step_off)] = full_step_amp\n",
    "    yout[(tout >= t_1st_step_off) & (tout < t_2nd_step_on)] = base_amp\n",
    "    yout[(tout >= t_2nd_step_on) & (tout < t_1st_chirp_on)] = half_step_amp\n",
    "    \n",
    "    if plot_steps: plot(yout, title='Step 1')\n",
    "    \n",
    "    # Correct first chirp.\n",
    "    digital_amp_1st_chirp = yin[9500:19000]\n",
    "    best_params_1 = minimize(loss_1st_chirp, args=digital_amp_1st_chirp, x0=inital_params_1, bounds=bounds_params_1).x\n",
    "    best_fit_1st_chirp = loss_1st_chirp(best_params_1, digital_amp_1st_chirp, return_array=True)\n",
    "    yout[tout_idx_1st_chirp] = best_fit_1st_chirp\n",
    "    \n",
    "    # Make transition smooth.\n",
    "    idx0_1st_chirp = np.argwhere(tout_idx_1st_chirp)[0][0]\n",
    "    \n",
    "    idx_1st_chirp_smooth_in = np.concatenate([np.arange(idx0_1st_chirp-300, idx0_1st_chirp-200),\n",
    "                                              np.arange(idx0_1st_chirp, idx0_1st_chirp+100)])\n",
    "\n",
    "    idx_1st_chirp_smooth_out = np.arange(idx_1st_chirp_smooth_in[0], idx_1st_chirp_smooth_in[-1])\n",
    "\n",
    "    if plot_steps: plot(yout, title='Step 2', xlims=[(0,32), (tout[idx_1st_chirp_smooth_out][0],\n",
    "                                                              tout[idx_1st_chirp_smooth_out][-1])])\n",
    "    # Make transition smooth.\n",
    "    yout[idx_1st_chirp_smooth_out] = interpolation_utils.in_ex_polate(\n",
    "        x_old=tout[idx_1st_chirp_smooth_in], y_old=yout[idx_1st_chirp_smooth_in],\n",
    "        x_new=tout[idx_1st_chirp_smooth_out], kind='cubic'\n",
    "    )\n",
    "\n",
    "    if plot_steps: plot(yout, title='Step 3', xlims=[(0,32), (tout[idx_1st_chirp_smooth_out][0],\n",
    "                                                              tout[idx_1st_chirp_smooth_out][-1])])\n",
    "    \n",
    "    # Correct 2nd chirp.\n",
    "    digital_amp_2nd_chirp = yin[19000:29000]\n",
    "    best_params_2 = minimize(loss_2nd_chirp, args=digital_amp_2nd_chirp, x0=inital_params_2, bounds=bounds_params_2).x\n",
    "    best_fit_2nd_chirp = loss_2nd_chirp(best_params_2, digital_amp_2nd_chirp, return_array=True)\n",
    "    yout[tout_idx_2nd_chirp] = best_fit_2nd_chirp\n",
    "    \n",
    "    if plot_steps: plot(yout, title='Step 4')\n",
    "    \n",
    "    # Correct between chirps.\n",
    "    between_chirps_on_idxs = (tout >= t_between_chirps_on) & (tout < t_between_chirps_off)\n",
    "    yout[between_chirps_on_idxs] = half_step_amp\n",
    "    \n",
    "    if plot_steps: plot(yout, title='Step 5', xlims=[(0,32), (tout[between_chirps_on_idxs][0]-1,\n",
    "                                                              tout[between_chirps_on_idxs][-1]+1)])\n",
    "    \n",
    "    # Correct last step.\n",
    "    yout[(tout >= t_2nd_chirp_off) & (tout < t_2nd_step_off)] = half_step_amp\n",
    "    yout[tout >= t_2nd_step_off] = base_amp    \n",
    "    \n",
    "    if plot_steps: plot(yout, title='Step 6', xlims=[(0,32), (tout[tout >= t_2nd_chirp_off][0]-1,\n",
    "                                                              tout[tout >= t_2nd_chirp_off][-1])])\n",
    "    \n",
    "    # Do not include high frequency in loss.\n",
    "    loss = np.mean(np.abs((stimulus_recorded['Stim'].values[~idxs_high_f] - yout[~idxs_high_f]))**p_err)\n",
    "    \n",
    "    if return_array:\n",
    "        return loss, yout\n",
    "    \n",
    "    return loss"
   ]
  },
  {
   "cell_type": "markdown",
   "metadata": {},
   "source": [
    "## Initial parameters"
   ]
  },
  {
   "cell_type": "code",
   "execution_count": null,
   "metadata": {},
   "outputs": [],
   "source": [
    "# Compute original step step as inital value.\n",
    "dt_0 = np.mean(np.diff(stimulus_digital['Time']))\n",
    "\n",
    "# For optimization of first chirp.\n",
    "inital_params_1 = np.array([-0.1, 0.96*dt_0]) \n",
    "bounds_params_1 = [(-1,1), (0.8*dt_0,1.1*dt_0)]\n",
    "\n",
    "# For optimization of second chirp.\n",
    "inital_params_2 = np.array([-0.44, 0.96*dt_0])\n",
    "bounds_params_2 = [(-1,1), (0.8*dt_0,1.1*dt_0)]"
   ]
  },
  {
   "cell_type": "markdown",
   "metadata": {},
   "source": [
    "## Show example\n",
    "\n",
    "Run the time correction, given a specific amplitude correction."
   ]
  },
  {
   "cell_type": "code",
   "execution_count": null,
   "metadata": {},
   "outputs": [],
   "source": [
    "def plot(yout, xlims=[(0, 32)], title=None):\n",
    "    \n",
    "    # Plot.\n",
    "    plt.figure(figsize=(12,3))\n",
    "    \n",
    "    for idx, xlim in enumerate(xlims):\n",
    "        ax = plt.subplot(1,len(xlims),idx+1)\n",
    "        if title is not None: ax.set_title(title)\n",
    "        ax.set_xlim(xlim)\n",
    "        ax.plot(stimulus_recorded['Time'], stimulus_recorded['Stim'])\n",
    "        ax.plot(tout, yout, alpha=0.8)\n",
    "    \n",
    "    plt.xlabel('Time [s]')\n",
    "    plt.tight_layout()\n",
    "    plt.show()"
   ]
  },
  {
   "cell_type": "code",
   "execution_count": null,
   "metadata": {},
   "outputs": [],
   "source": [
    "yout_test_loss, yout_test = transform_stim(sigmoid_params=[0.03, 180, 0.9, 0.01], return_array=True, plot_steps=True)\n",
    "print('Loss = ', yout_test_loss)\n",
    "plot(yout_test, title='Final')"
   ]
  },
  {
   "cell_type": "code",
   "execution_count": null,
   "metadata": {},
   "outputs": [],
   "source": [
    "yout_test_loss, yout_test = transform_stim(sigmoid_params=[0.1, 150, 0.9, 0.1], return_array=True)\n",
    "print('Loss = ', yout_test_loss)\n",
    "plot(yout_test)"
   ]
  },
  {
   "cell_type": "markdown",
   "metadata": {},
   "source": [
    "# Optimize"
   ]
  },
  {
   "cell_type": "markdown",
   "metadata": {},
   "source": [
    "## Run once for testing"
   ]
  },
  {
   "cell_type": "code",
   "execution_count": null,
   "metadata": {},
   "outputs": [],
   "source": [
    "initial_sigmoid_params0 = np.array([0.03, 180, 0.9, 0.01])\n",
    "np.random.seed(1353)\n",
    "solution = minimize(transform_stim, x0=initial_sigmoid_params0, method='Nelder-Mead')"
   ]
  },
  {
   "cell_type": "code",
   "execution_count": null,
   "metadata": {},
   "outputs": [],
   "source": [
    "assert solution.success"
   ]
  },
  {
   "cell_type": "code",
   "execution_count": null,
   "metadata": {},
   "outputs": [],
   "source": [
    "best_sigmoid_params = solution.x\n",
    "best_sigmoid_params"
   ]
  },
  {
   "cell_type": "code",
   "execution_count": null,
   "metadata": {},
   "outputs": [],
   "source": [
    "loss_best, yout_best = transform_stim(sigmoid_params=best_sigmoid_params, return_array=True)\n",
    "plot(yout_best, title='Loss='+str(loss_best))\n",
    "\n",
    "assert solution.fun == loss_best"
   ]
  },
  {
   "cell_type": "markdown",
   "metadata": {},
   "source": [
    "## Optimize with random initializations"
   ]
  },
  {
   "cell_type": "code",
   "execution_count": null,
   "metadata": {},
   "outputs": [],
   "source": [
    "def draw_params():\n",
    "    return np.array([np.random.normal(0.03, 0.1),\n",
    "                     np.random.normal(180, 30),\n",
    "                     np.random.normal(0.9, 0.1),\n",
    "                     np.random.normal(0.01, 0.1)])"
   ]
  },
  {
   "cell_type": "code",
   "execution_count": null,
   "metadata": {},
   "outputs": [],
   "source": [
    "np.random.seed(1353)\n",
    "for i in range(10):\n",
    "    print(i, end='\\t')\n",
    "    \n",
    "    initial_sigmoid_params = draw_params()\n",
    "    \n",
    "    # Redraw if negativ first or third parameter.\n",
    "    while (initial_sigmoid_params[0] <= 0) or (initial_sigmoid_params[2] <= 0):\n",
    "        initial_sigmoid_params = draw_params()\n",
    "\n",
    "    solution = minimize(transform_stim, x0=initial_sigmoid_params, method='Nelder-Mead')\n",
    "    \n",
    "    if not solution.success:\n",
    "        print('Did not terminate!', end='\\t')\n",
    "        \n",
    "    print('Loss = {:.8f}'.format(solution.fun), ' Params=', solution.x)\n",
    "    if solution.fun < loss_best:\n",
    "            best_sigmoid_params = solution.x\n",
    "            loss_best = solution.fun"
   ]
  },
  {
   "cell_type": "markdown",
   "metadata": {},
   "source": [
    "## Show best solution"
   ]
  },
  {
   "cell_type": "code",
   "execution_count": null,
   "metadata": {},
   "outputs": [],
   "source": [
    "loss_best, yout_best = transform_stim(sigmoid_params=best_sigmoid_params, return_array=True, plot_steps=True)\n",
    "plot(yout_best)\n",
    "\n",
    "print(loss_best)"
   ]
  },
  {
   "cell_type": "markdown",
   "metadata": {},
   "source": [
    "### Plot details."
   ]
  },
  {
   "cell_type": "code",
   "execution_count": null,
   "metadata": {},
   "outputs": [],
   "source": [
    "xlims = [(0, 32), (1.5,2.5),(3,6), (6, 9), (9, 11), (11, 13), (15, 17), (17, 18), (18.5, 20), (23, 25), (25, 28), (28, 31)]\n",
    "\n",
    "# Plot.\n",
    "plt.figure(figsize=(12,3*len(xlims)))\n",
    "\n",
    "for idx, xlim in enumerate(xlims):\n",
    "    ax = plt.subplot(len(xlims),1,idx+1)\n",
    "    ax.set_xlim(xlim)\n",
    "    ax.plot(stimulus_recorded['Time'], stimulus_recorded['Stim'], label='recorded')\n",
    "    ax.plot(tout, yout_best, label='fit')\n",
    "    ax.legend()\n",
    "    \n",
    "    # Set limits.\n",
    "    idx1 = np.where(tout >= xlim[0])[0][0]    \n",
    "    idx2 = np.where(tout <= xlim[1])[0][-1]\n",
    "    ax.set_ylim(np.min(yout_best[idx1:idx2])-0.05, np.max(yout_best[idx1:idx2])+0.05)\n",
    "\n",
    "plt.xlabel('Time [s]')\n",
    "plt.tight_layout()\n",
    "plt.show()"
   ]
  },
  {
   "cell_type": "markdown",
   "metadata": {},
   "source": [
    "### Compare peak times"
   ]
  },
  {
   "cell_type": "code",
   "execution_count": null,
   "metadata": {},
   "outputs": [],
   "source": [
    "trace_list = [\n",
    "    yout_best,\n",
    "    stimulus_recorded['Stim'],\n",
    "]\n",
    "\n",
    "time_list = [\n",
    "    tout,\n",
    "    stimulus_recorded['Time'],\n",
    "]\n",
    "color_list = ['r', 'b']\n",
    "label_list = ['fit', 'target']\n",
    "\n",
    "params_dict_list = [\n",
    "    {'height_pos': 0.02, 'height_neg': 0.00, 'prom': 0.05},\n",
    "    {'height_pos': 0.03, 'prom': 0.08}\n",
    "] \n",
    "\n",
    "xlims = [(0, 32), (1.5,2.5),(3,6), (6, 9), (9, 11), (11, 13), (15, 17), (17, 18), (18.5, 20), (23, 25), (25, 28), (28, 31)]"
   ]
  },
  {
   "cell_type": "code",
   "execution_count": null,
   "metadata": {},
   "outputs": [],
   "source": [
    "trace_peaks = plot_peaks.compare_peaks_in_traces(\n",
    "    trace_list=trace_list,\n",
    "    time_list=time_list,\n",
    "    plot_single=False,\n",
    "    plot_hist=True,\n",
    "    plot=True,\n",
    "    params_dict_list=params_dict_list,\n",
    "    color_list=color_list,\n",
    "    label_list=label_list,\n",
    "    xlims=xlims\n",
    ")"
   ]
  },
  {
   "cell_type": "markdown",
   "metadata": {},
   "source": [
    "# Save to file"
   ]
  },
  {
   "cell_type": "code",
   "execution_count": null,
   "metadata": {},
   "outputs": [],
   "source": [
    "plt.figure(figsize=(15,6))\n",
    "ax = plt.subplot(111)\n",
    "ax.plot(tout, yout_best)\n",
    "ax.plot(stimulus_recorded['Time'], stimulus_recorded['Stim'])\n",
    "plt.show()"
   ]
  },
  {
   "cell_type": "code",
   "execution_count": null,
   "metadata": {},
   "outputs": [],
   "source": [
    "stimulus_franke2017_amp_and_time_corrected = pd.DataFrame({\n",
    "    'Time': tout,\n",
    "    'Stim': yout_best,\n",
    "})"
   ]
  },
  {
   "cell_type": "code",
   "execution_count": null,
   "metadata": {},
   "outputs": [],
   "source": [
    "# Normalize\n",
    "stimulus_franke2017_amp_and_time_corrected['Stim'] -= stimulus_franke2017_amp_and_time_corrected['Stim'].iloc[0]\n",
    "stimulus_franke2017_amp_and_time_corrected['Stim'] /= stimulus_franke2017_amp_and_time_corrected['Stim'].max()\n",
    "\n",
    "print(stimulus_franke2017_amp_and_time_corrected['Stim'][0])\n",
    "print(stimulus_franke2017_amp_and_time_corrected['Stim'].max())"
   ]
  },
  {
   "cell_type": "code",
   "execution_count": null,
   "metadata": {},
   "outputs": [],
   "source": [
    "stimulus_franke2017_amp_and_time_corrected.plot(x='Time')"
   ]
  },
  {
   "cell_type": "code",
   "execution_count": null,
   "metadata": {},
   "outputs": [],
   "source": [
    "# Save.\n",
    "stim_file = os.path.join('data_preprocessed', 'Franke2017_stimulus_time_and_amp_corrected.csv')\n",
    "stimulus_franke2017_amp_and_time_corrected.to_csv(stim_file, index=False)"
   ]
  },
  {
   "cell_type": "code",
   "execution_count": null,
   "metadata": {},
   "outputs": [],
   "source": []
  }
 ],
 "metadata": {
  "kernelspec": {
   "display_name": "Python 3",
   "language": "python",
   "name": "python3"
  },
  "language_info": {
   "codemirror_mode": {
    "name": "ipython",
    "version": 3
   },
   "file_extension": ".py",
   "mimetype": "text/x-python",
   "name": "python",
   "nbconvert_exporter": "python",
   "pygments_lexer": "ipython3",
   "version": "3.7.5"
  },
  "toc": {
   "base_numbering": 1,
   "nav_menu": {},
   "number_sections": true,
   "sideBar": true,
   "skip_h1_title": false,
   "title_cell": "Table of Contents",
   "title_sidebar": "Contents",
   "toc_cell": false,
   "toc_position": {},
   "toc_section_display": true,
   "toc_window_display": true
  },
  "varInspector": {
   "cols": {
    "lenName": 16,
    "lenType": 16,
    "lenVar": 40
   },
   "kernels_config": {
    "python": {
     "delete_cmd_postfix": "",
     "delete_cmd_prefix": "del ",
     "library": "var_list.py",
     "varRefreshCmd": "print(var_dic_list())"
    },
    "r": {
     "delete_cmd_postfix": ") ",
     "delete_cmd_prefix": "rm(",
     "library": "var_list.r",
     "varRefreshCmd": "cat(var_dic_list()) "
    }
   },
   "types_to_exclude": [
    "module",
    "function",
    "builtin_function_or_method",
    "instance",
    "_Feature"
   ],
   "window_display": false
  }
 },
 "nbformat": 4,
 "nbformat_minor": 2
}
