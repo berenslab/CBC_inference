{
 "cells": [
  {
   "cell_type": "markdown",
   "metadata": {},
   "source": [
    "# Notebook that calls COMSOL"
   ]
  },
  {
   "cell_type": "markdown",
   "metadata": {},
   "source": [
    "# Imports"
   ]
  },
  {
   "cell_type": "code",
   "execution_count": null,
   "metadata": {},
   "outputs": [],
   "source": [
    "import subprocess\n",
    "import os\n",
    "from time import sleep\n",
    "import pickle"
   ]
  },
  {
   "cell_type": "markdown",
   "metadata": {},
   "source": [
    "# Set the folder"
   ]
  },
  {
   "cell_type": "code",
   "execution_count": null,
   "metadata": {},
   "outputs": [],
   "source": [
    "folder = \"../COMSOL2python_interface/\" # Set the folder to the COMSOL interface\n",
    "assert os.path.isdir(folder), 'Set the correct path'"
   ]
  },
  {
   "cell_type": "code",
   "execution_count": null,
   "metadata": {},
   "outputs": [],
   "source": [
    "comsol_file = \"step2_flat_w_optimize.mph\"\n",
    "assert os.path.isfile(comsol_file), 'Set the correct path'"
   ]
  },
  {
   "cell_type": "markdown",
   "metadata": {},
   "source": [
    "# Helper functions."
   ]
  },
  {
   "cell_type": "code",
   "execution_count": null,
   "metadata": {},
   "outputs": [],
   "source": [
    "def save_var(x, file):\n",
    "    with open(file, 'wb') as f:\n",
    "        pickle.dump(x, f, pickle.HIGHEST_PROTOCOL)\n",
    "\n",
    "def load_var(file):\n",
    "    with open(file, 'rb') as f:\n",
    "        x = pickle.load(f)\n",
    "    return x"
   ]
  },
  {
   "cell_type": "code",
   "execution_count": null,
   "metadata": {},
   "outputs": [],
   "source": [
    "def clear(input=True, output=True):\n",
    "    if input:\n",
    "        COMSOL_inputs = [COMSOL_input for COMSOL_input in os.listdir(f\"{folder}/COMSOL_input\")]\n",
    "        for COMSOL_input in COMSOL_inputs: os.remove(f\"{folder}/COMSOL_input/\" + COMSOL_input)\n",
    "   \n",
    "    if output:\n",
    "        COMSOL_outputs = [COMSOL_output for COMSOL_output in os.listdir(f\"{folder}/COMSOL_output\")]\n",
    "        for COMSOL_output in COMSOL_outputs:\n",
    "            if COMSOL_output != 'running_instance':\n",
    "                os.remove(f\"{folder}/COMSOL_output/\" + COMSOL_output)"
   ]
  },
  {
   "cell_type": "code",
   "execution_count": null,
   "metadata": {},
   "outputs": [],
   "source": [
    "if not 'COMSOL' in subprocess.check_output(\"echo %PATH%\".split(), shell=True).decode():\n",
    "    raise Exception('COMSOL can not be called. '\n",
    "                    'Move the whole folder to a machine where COMSOL can be called from cmd.')"
   ]
  },
  {
   "cell_type": "code",
   "execution_count": null,
   "metadata": {},
   "outputs": [],
   "source": [
    "def run_as_cmd(cmd):\n",
    "    assert isinstance(cmd, str)\n",
    "    sleep(3)\n",
    "    print('# ' + cmd)\n",
    "    try:\n",
    "        subprocess.call(cmd.split(),shell=True,stderr=subprocess.STDOUT)\n",
    "    except subprocess.CalledProcessError as e:\n",
    "        raise RuntimeError(\"command '{}' return with error (code {}): {}\".format(e.cmd, e.returncode, e.output))"
   ]
  },
  {
   "cell_type": "code",
   "execution_count": null,
   "metadata": {},
   "outputs": [],
   "source": [
    "def get_command():\n",
    "    command  = \"comsolbatch -inputfile \" + comsol_file\n",
    "    command += \" -outputfile running_instances/\" + comsol_file\n",
    "    return(command)"
   ]
  },
  {
   "cell_type": "code",
   "execution_count": null,
   "metadata": {},
   "outputs": [],
   "source": [
    "def run():\n",
    "    run_as_cmd(get_command())\n",
    "    sleep(3)"
   ]
  },
  {
   "cell_type": "markdown",
   "metadata": {},
   "source": [
    "## Helper functions"
   ]
  },
  {
   "cell_type": "code",
   "execution_count": null,
   "metadata": {},
   "outputs": [],
   "source": [
    "############################################################################\n",
    "def set_output_ready():\n",
    "    with open(folder + '_ready_output', 'w') as f:\n",
    "        f.write(str(1))\n",
    "\n",
    "############################################################################\n",
    "def set_output_not_ready():\n",
    "    if os.path.isfile(folder + '_ready_output'):\n",
    "        os.remove(folder + '_ready_output')\n",
    "        \n",
    "############################################################################\n",
    "def set_input_ready():\n",
    "    with open(folder + '_ready_input', 'w') as f:\n",
    "        f.write(str(1))\n",
    "\n",
    "############################################################################\n",
    "def set_input_not_ready():\n",
    "    if os.path.isfile(folder + '_ready_input'):\n",
    "        os.remove(folder + '_ready_input')\n",
    "        \n",
    "############################################################################\n",
    "def is_input_ready():\n",
    "    if '_ready_input' in os.listdir(folder):\n",
    "        return True\n",
    "    else:\n",
    "        return False"
   ]
  },
  {
   "cell_type": "markdown",
   "metadata": {},
   "source": [
    "# Reset und synchornize"
   ]
  },
  {
   "cell_type": "code",
   "execution_count": null,
   "metadata": {},
   "outputs": [],
   "source": [
    "# Reset.\n",
    "clear(input=False, output=True)\n",
    "set_input_ready()\n",
    "\n",
    "print('Waiting for other notebook to reset ... ', end='')\n",
    "while (is_input_ready()):\n",
    "    sleep(0.3)\n",
    "    set_output_not_ready()\n",
    "    \n",
    "sleep(1)\n",
    "set_output_not_ready()\n",
    "        \n",
    "print('Ready!')"
   ]
  },
  {
   "cell_type": "markdown",
   "metadata": {},
   "source": [
    "# Compute Vext with COMSOL"
   ]
  },
  {
   "cell_type": "code",
   "execution_count": null,
   "metadata": {},
   "outputs": [],
   "source": [
    "while (True):\n",
    "    print('Waiting for input ...', end=' ')\n",
    "    while (not is_input_ready()):\n",
    "        sleep(0.3)\n",
    "    print('Computing output ... ')\n",
    "    clear(input=False, output=True)\n",
    "    set_input_not_ready()\n",
    "    run()\n",
    "    set_output_ready()\n",
    "    print('Done!')"
   ]
  },
  {
   "cell_type": "code",
   "execution_count": null,
   "metadata": {},
   "outputs": [],
   "source": []
  },
  {
   "cell_type": "code",
   "execution_count": null,
   "metadata": {},
   "outputs": [],
   "source": []
  }
 ],
 "metadata": {
  "kernelspec": {
   "display_name": "Python 3",
   "language": "python",
   "name": "python3"
  },
  "language_info": {
   "codemirror_mode": {
    "name": "ipython",
    "version": 3
   },
   "file_extension": ".py",
   "mimetype": "text/x-python",
   "name": "python",
   "nbconvert_exporter": "python",
   "pygments_lexer": "ipython3",
   "version": "3.7.5"
  },
  "toc": {
   "base_numbering": 1,
   "nav_menu": {},
   "number_sections": true,
   "sideBar": true,
   "skip_h1_title": false,
   "title_cell": "Table of Contents",
   "title_sidebar": "Contents",
   "toc_cell": false,
   "toc_position": {},
   "toc_section_display": true,
   "toc_window_display": true
  },
  "varInspector": {
   "cols": {
    "lenName": 16,
    "lenType": 16,
    "lenVar": 40
   },
   "kernels_config": {
    "python": {
     "delete_cmd_postfix": "",
     "delete_cmd_prefix": "del ",
     "library": "var_list.py",
     "varRefreshCmd": "print(var_dic_list())"
    },
    "r": {
     "delete_cmd_postfix": ") ",
     "delete_cmd_prefix": "rm(",
     "library": "var_list.r",
     "varRefreshCmd": "cat(var_dic_list()) "
    }
   },
   "types_to_exclude": [
    "module",
    "function",
    "builtin_function_or_method",
    "instance",
    "_Feature"
   ],
   "window_display": false
  }
 },
 "nbformat": 4,
 "nbformat_minor": 2
}
