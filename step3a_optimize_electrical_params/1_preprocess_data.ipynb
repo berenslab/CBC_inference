{
 "cells": [
  {
   "cell_type": "markdown",
   "metadata": {},
   "source": [
    "# Fit RC params of retina - Preprocessing"
   ]
  },
  {
   "cell_type": "markdown",
   "metadata": {},
   "source": [
    "Preprocesse the experimentally recorded currents with and without retina.\n",
    "\n",
    "Fit sinusoids to the data to make the further processing simpler.\n",
    "\n",
    "Estimate the voltage drop over the electrical double layer EDL, and prepare the parameter optimization of the eletrical properties of the retina."
   ]
  },
  {
   "cell_type": "markdown",
   "metadata": {},
   "source": [
    "# Imports"
   ]
  },
  {
   "cell_type": "code",
   "execution_count": null,
   "metadata": {},
   "outputs": [],
   "source": [
    "import pandas as pd\n",
    "import itertools\n",
    "import numpy as np\n",
    "from matplotlib import pyplot as plt\n",
    "from scipy.optimize import minimize"
   ]
  },
  {
   "cell_type": "code",
   "execution_count": null,
   "metadata": {},
   "outputs": [],
   "source": [
    "from scipy.io import loadmat"
   ]
  },
  {
   "cell_type": "code",
   "execution_count": null,
   "metadata": {},
   "outputs": [],
   "source": [
    "import os\n",
    "import sys"
   ]
  },
  {
   "cell_type": "code",
   "execution_count": null,
   "metadata": {},
   "outputs": [],
   "source": [
    "pythoncodepath = os.path.abspath(os.path.join('..', 'pythoncode'))\n",
    "sys.path = [pythoncodepath] + sys.path\n",
    "import importhelper\n",
    "importhelper.addfolders2path(pythoncodepath)"
   ]
  },
  {
   "cell_type": "code",
   "execution_count": null,
   "metadata": {},
   "outputs": [],
   "source": [
    "import data_utils"
   ]
  },
  {
   "cell_type": "markdown",
   "metadata": {},
   "source": [
    "# Helper functions"
   ]
  },
  {
   "cell_type": "code",
   "execution_count": null,
   "metadata": {},
   "outputs": [],
   "source": [
    "def sin_A_phi_time_f(A, phi, time, f):\n",
    "    return A*np.sin(2*np.pi*time*f+phi/180*np.pi)"
   ]
  },
  {
   "cell_type": "markdown",
   "metadata": {},
   "source": [
    "# Preprocess data"
   ]
  },
  {
   "cell_type": "code",
   "execution_count": null,
   "metadata": {},
   "outputs": [],
   "source": [
    "data_folder = os.path.join('..', 'experimental_data', 'data_sinusoidal_currents')"
   ]
  },
  {
   "cell_type": "code",
   "execution_count": null,
   "metadata": {},
   "outputs": [],
   "source": [
    "ws = ['w', 'wo']\n",
    "fs = [25, 40]"
   ]
  },
  {
   "cell_type": "code",
   "execution_count": null,
   "metadata": {},
   "outputs": [],
   "source": [
    "os.listdir(data_folder)"
   ]
  },
  {
   "cell_type": "code",
   "execution_count": null,
   "metadata": {},
   "outputs": [],
   "source": [
    "data_utils.make_dir('data_preprocessed')\n",
    "os.listdir('data_preprocessed')"
   ]
  },
  {
   "cell_type": "markdown",
   "metadata": {},
   "source": [
    "## Load recorded currents"
   ]
  },
  {
   "cell_type": "code",
   "execution_count": null,
   "metadata": {},
   "outputs": [],
   "source": [
    "raw_cur = {'w': {}, 'wo': {}}\n",
    "\n",
    "raw_cur['wo'][25] = loadmat(f'{data_folder}/2019-03-21p1_current_25Hz_ohne retina.mat')['data'][0][0][1]\n",
    "raw_cur['wo'][40] = loadmat(f'{data_folder}/2019-03-21p1_current_40Hz_ohne retina.mat')['data'][0][0][1]\n",
    "\n",
    "raw_cur['w'][25] = loadmat(f'{data_folder}/2019-03-21p1_current_25Hz_mit retina.mat')['data'][0][0][1]\n",
    "raw_cur['w'][40] = loadmat(f'{data_folder}/2019-03-21p1_current_40Hz_mit retina.mat')['data'][0][0][1]"
   ]
  },
  {
   "cell_type": "code",
   "execution_count": null,
   "metadata": {},
   "outputs": [],
   "source": [
    "cur_time = {}\n",
    "cur_time[25] = np.linspace(0,1/25,raw_cur['wo'][25].shape[0])\n",
    "cur_time[40] = np.linspace(0,1/40,raw_cur['wo'][40].shape[0])"
   ]
  },
  {
   "cell_type": "markdown",
   "metadata": {},
   "source": [
    "## Set and save used voltage amplitudes"
   ]
  },
  {
   "cell_type": "code",
   "execution_count": null,
   "metadata": {},
   "outputs": [],
   "source": [
    "V_amps = {}\n",
    "V_amps[25] = [30, 100, 200, 300, 400, 500, 600]\n",
    "V_amps[40] = [15, 50, 100, 150, 200, 250, 300]\n",
    "\n",
    "data_utils.save_var(V_amps, 'data_preprocessed/V_amps.pkl')"
   ]
  },
  {
   "cell_type": "markdown",
   "metadata": {},
   "source": [
    "## Table of raw currents and voltages"
   ]
  },
  {
   "cell_type": "code",
   "execution_count": null,
   "metadata": {},
   "outputs": [],
   "source": [
    "cur = {'w': {}, 'wo': {}}\n",
    "\n",
    "for w, f in itertools.product(ws, fs):\n",
    "    sort_idx = np.argsort(np.max(raw_cur[w][f], axis=0))\n",
    "\n",
    "    cur[w][f] = pd.DataFrame(np.concatenate([np.atleast_2d(cur_time[f]).T, raw_cur[w][f][:,sort_idx]], axis=1))\n",
    "    cur[w][f].columns = ['Time'] + [str(i) + ' mV' for i in V_amps[f]]"
   ]
  },
  {
   "cell_type": "code",
   "execution_count": null,
   "metadata": {},
   "outputs": [],
   "source": [
    "cur[w][40].head()"
   ]
  },
  {
   "cell_type": "code",
   "execution_count": null,
   "metadata": {},
   "outputs": [],
   "source": [
    "data_utils.save_var(cur, 'data_preprocessed/raw_currents.pkl')\n",
    "data_utils.save_var(cur_time, 'data_preprocessed/cur_time.pkl')"
   ]
  },
  {
   "cell_type": "markdown",
   "metadata": {},
   "source": [
    "## Plot raw currents"
   ]
  },
  {
   "cell_type": "code",
   "execution_count": null,
   "metadata": {},
   "outputs": [],
   "source": [
    "for w, f  in itertools.product(ws, fs):\n",
    "    plt.figure(figsize=(12,1.5))\n",
    "    plt.title(str(w) + ' ' + str(f))\n",
    "    for i_V, V in enumerate(V_amps[f]):\n",
    "        plt.plot(cur_time[f], cur[w][f][str(V) + \" mV\"]*1e6, 'r', label='current' if V == 15 or V == 30 else '')\n",
    "        plt.legend()"
   ]
  },
  {
   "cell_type": "markdown",
   "metadata": {},
   "source": [
    "## Fit sinusoids to measured currents"
   ]
  },
  {
   "cell_type": "code",
   "execution_count": null,
   "metadata": {},
   "outputs": [],
   "source": [
    "def fit_sin2raw_current(x, f, target_current):\n",
    "    A   = x[0]\n",
    "    phi = x[1] \n",
    "    return np.sum((sin_A_phi_time_f(A, phi, cur_time[f], f) - 1e6*target_current)**2)\n",
    "\n",
    "np.random.seed(13454642)\n",
    "\n",
    "# Fit.\n",
    "fit_sin_params = {w: {f: {V: None for V in V_amps[f]} for f in fs} for w in ws}\n",
    "for w, f  in itertools.product(ws, fs):\n",
    "    for V in V_amps[f]:\n",
    "        A0 = np.max(np.abs((cur[w][f][str(V) + \" mV\"])))*1e6\n",
    "        phi0 = (cur_time[f][np.where(cur[w][f][str(V) + \" mV\"] < 0)[0][0]] * f) * 180\n",
    "\n",
    "        best_fit_loss = np.inf\n",
    "        best_fit = None\n",
    "        for _ in range(10):\n",
    "            fit = minimize(\n",
    "                fit_sin2raw_current, args=(f, cur[w][f][str(V) + \" mV\"]),\n",
    "                x0=[A0*np.random.uniform(0.5, 2), phi0*np.random.uniform(0.5, 2)],\n",
    "                bounds=[(A0*0.5, A0*2), (-90, 90)]\n",
    "            )\n",
    "\n",
    "            if fit.fun < best_fit_loss:\n",
    "                best_fit_loss = fit.fun\n",
    "                best_fit = fit.x\n",
    "                \n",
    "        fit_sin_params[w][f][V] = best_fit\n",
    "        fit_sin_params[w][f][V][0] /= 1e6"
   ]
  },
  {
   "cell_type": "markdown",
   "metadata": {},
   "source": [
    "### Plot sinus fits and data"
   ]
  },
  {
   "cell_type": "code",
   "execution_count": null,
   "metadata": {},
   "outputs": [],
   "source": [
    "for w, f in itertools.product(ws, fs):\n",
    "    plt.figure(figsize=(12,1.5))\n",
    "    plt.title(str(w) + ' ' + str(f))\n",
    "    for i_V, V in enumerate(V_amps[f]):\n",
    "        plt.plot(cur_time[f], cur[w][f][str(V) + \" mV\"]*1e6,\\\n",
    "                 'r', label='current' if V == 15 or V == 30 else '')\n",
    "        plt.plot(\n",
    "            cur_time[f],\n",
    "            sin_A_phi_time_f(fit_sin_params[w][f][V][0], fit_sin_params[w][f][V][1], cur_time[f], f)*1e6,\n",
    "            'k', label='fit' if V == 15  or V == 30 else ''\n",
    "        )\n",
    "        plt.legend()"
   ]
  },
  {
   "cell_type": "code",
   "execution_count": null,
   "metadata": {},
   "outputs": [],
   "source": [
    "plt.figure(figsize=(12,3))\n",
    "plt.title('Phis from sinus fits')\n",
    "for w, f in itertools.product(ws, fs):\n",
    "    phis = np.array(list(fit_sin_params[w][f].values()))[:,1]\n",
    "    Vs = np.array(V_amps[f])/1000\n",
    "\n",
    "    plt.plot(Vs, phis, '-*', label=str(w) + ' ' + str(f))\n",
    "plt.legend()\n",
    "plt.xlabel('V')\n",
    "plt.ylabel('phase')\n",
    "plt.show()"
   ]
  },
  {
   "cell_type": "code",
   "execution_count": null,
   "metadata": {},
   "outputs": [],
   "source": [
    "plt.figure(figsize=(12,3))\n",
    "plt.title('Amplitudes from sinus fits')\n",
    "for w, f in itertools.product(ws, fs):\n",
    "    As = np.array(list(fit_sin_params[w][f].values()))[:,0] * 1e6\n",
    "    Vs = np.array(V_amps[f])/1000\n",
    "\n",
    "    plt.plot(Vs, As, '-*', label=str(w) + ' ' + str(f))\n",
    "plt.legend()\n",
    "plt.xlabel('V')\n",
    "plt.ylabel('I [uA]')\n",
    "plt.show()"
   ]
  },
  {
   "cell_type": "markdown",
   "metadata": {},
   "source": [
    "### Save to file"
   ]
  },
  {
   "cell_type": "code",
   "execution_count": null,
   "metadata": {},
   "outputs": [],
   "source": [
    "data_utils.save_var(fit_sin_params, 'data_preprocessed/raw_currents_sinus_fits_params.pkl')"
   ]
  },
  {
   "cell_type": "markdown",
   "metadata": {},
   "source": [
    "# Create COMSOL stimulation currents.\n",
    "Use fitted sinusoids instead of the measured currents."
   ]
  },
  {
   "cell_type": "markdown",
   "metadata": {},
   "source": [
    "## Create stimulus currents"
   ]
  },
  {
   "cell_type": "code",
   "execution_count": null,
   "metadata": {},
   "outputs": [],
   "source": [
    "data_utils.make_dir('data_preprocessed/COMSOL')"
   ]
  },
  {
   "cell_type": "code",
   "execution_count": null,
   "metadata": {},
   "outputs": [],
   "source": [
    "# Write currents to file.\n",
    "N = 10 # Number of repetitions.\n",
    "dt = 2e-5 # Time step.\n",
    "\n",
    "for w, f in itertools.product(ws, fs):\n",
    "    for i_V, V in enumerate(V_amps[f]):\n",
    "        if w == 'w':\n",
    "            df_name = 'ret' + str(f) + 'Hz'\n",
    "        else:\n",
    "            df_name = 'ames' + str(f) + 'Hz'\n",
    "        # Outputfile.\n",
    "        file = 'data_preprocessed/COMSOL/' + df_name + '_' + str(V) + '.txt'\n",
    "        print(\"Save to \\\"\" + file + \"\\\"\")\n",
    "\n",
    "        # Create currents.\n",
    "        time = np.arange(0,int(N/f/dt))*dt\n",
    "        current = sin_A_phi_time_f(fit_sin_params[w][f][V][0], fit_sin_params[w][f][V][1], time, f) \n",
    "\n",
    "        pd.DataFrame({'Time': time*1e3, 'Current': current*1e6}).to_csv(file, index=False, header=None)"
   ]
  },
  {
   "cell_type": "code",
   "execution_count": null,
   "metadata": {},
   "outputs": [],
   "source": [
    "# This string can be used in COMSOL to switch between different currents.\n",
    "current_str = \"\"\n",
    "for f in fs:\n",
    "    for I, V_amp in enumerate(V_amps[f]):\n",
    "        current_str += \"(I==\" + str(V_amp) +  \")*(f==\" + str(f) +  \")*I_\" + str(f) + \"_\" + str(V_amp) + \"(t) + \"\n",
    "current_str = current_str[:-3]\n",
    "print(current_str)"
   ]
  },
  {
   "cell_type": "markdown",
   "metadata": {},
   "source": [
    "## ! Manually run COMSOL"
   ]
  },
  {
   "cell_type": "code",
   "execution_count": null,
   "metadata": {},
   "outputs": [],
   "source": [
    "data_utils.make_dir('V_ames')"
   ]
  },
  {
   "cell_type": "markdown",
   "metadata": {},
   "source": [
    "- Open **step1_flat_wo_exp_currents.mph** in COMSOL. It is available in the folder **COMSOL2python_COMSOL**.\n",
    "- In \"Global Defintions\" and ensure that the paths to the currents are correct.\n",
    "- In \"Results/Export/V ele plot\", ensure that the output path is correct.\n",
    "\n",
    "Run Experiment without Retina and electrical circuit to voltage drop over ames."
   ]
  },
  {
   "cell_type": "code",
   "execution_count": null,
   "metadata": {},
   "outputs": [],
   "source": [
    "input('Confirm that COMSOL output is ready!')"
   ]
  },
  {
   "cell_type": "code",
   "execution_count": null,
   "metadata": {},
   "outputs": [],
   "source": [
    "V_ames_wo_file = 'V_ames/V_ames_wo.txt'\n",
    "assert os.path.isfile(V_ames_wo_file), 'The COMSOL export failed. Make sure the paths are correct.'"
   ]
  },
  {
   "cell_type": "markdown",
   "metadata": {},
   "source": [
    "## Load COMSOL data (voltage drop over ames)."
   ]
  },
  {
   "cell_type": "code",
   "execution_count": null,
   "metadata": {},
   "outputs": [],
   "source": [
    "comsol_dt = 1e-5\n",
    "\n",
    "# Load comsol simulation data.\n",
    "V_ames_raw = pd.read_csv(V_ames_wo_file, comment='%', header=None, delim_whitespace=True)\n",
    "\n",
    "# Split.\n",
    "start_idxs = np.append(np.where(V_ames_raw.iloc[:,0] == 0)[0], -1)\n",
    "\n",
    "# Rearange raw data.\n",
    "V_ames = {25: {}, 40: {}}\n",
    "i = 0\n",
    "for f in fs:\n",
    "    for V in V_amps[f]:\n",
    "        V_ames[f][V] = V_ames_raw.iloc[start_idxs[i]:start_idxs[i+1],:].values\n",
    "        \n",
    "        # Remove first period.\n",
    "        V_ames[f][V] = V_ames[f][V][int(1/f/comsol_dt):,:]\n",
    "        V_ames[f][V][:,0] -= V_ames[f][V][0,0]\n",
    "        \n",
    "        i += 1"
   ]
  },
  {
   "cell_type": "markdown",
   "metadata": {},
   "source": [
    "### Plot."
   ]
  },
  {
   "cell_type": "code",
   "execution_count": null,
   "metadata": {},
   "outputs": [],
   "source": [
    "plt.figure(figsize=(12,6))\n",
    "for idx_f, f in enumerate(fs):\n",
    "    ax = plt.subplot(2,2,idx_f+1)\n",
    "    plt.title(str(f) + ' Hz')\n",
    "    ax2 = ax.twinx()\n",
    "    for i_V, V in enumerate(V_amps[f]):\n",
    "        time = V_ames[f][V][:,0]\n",
    "        ax.plot(time, V_ames[f][V][:,1], c='C'+str(i_V), alpha=0.5, label='V' + str(V))\n",
    "        current = sin_A_phi_time_f(fit_sin_params[w][f][V][0], fit_sin_params[w][f][V][1], time, f) \n",
    "        ax2.plot(time, current*1e6, c='C'+str(i_V), linestyle='--', label='I' + str(V))\n",
    "    \n",
    "    plt.axvline(-fit_sin_params[w][f][V][1]/360/f+1/f,c='k')\n",
    "    plt.axvline(-fit_sin_params[w][f][V][1]/360/f+2/f,c='k')\n",
    "ax.legend()\n",
    "ax2.legend()\n",
    "    \n",
    "for idx_f, f in enumerate(fs):\n",
    "    ax = plt.subplot(2,2,idx_f+3)\n",
    "    plt.title(str(f) + ' Hz')\n",
    "    ax2 = ax.twinx()\n",
    "    for i_V, V in enumerate(V_amps[f]):\n",
    "        time = V_ames[f][V][:,0]\n",
    "        ax.plot(time, V_ames[f][V][:,1], c='C'+str(i_V), alpha=0.5)\n",
    "        current = sin_A_phi_time_f(fit_sin_params[w][f][V][0], fit_sin_params[w][f][V][1], time, f) \n",
    "        ax2.plot(time, current*1e6, c='C'+str(i_V), linestyle='--')\n",
    "        \n",
    "    ax.set_xlim((-fit_sin_params[w][f][V][1]/360/f+1/f+.9/f, -fit_sin_params[w][f][V][1]/360/f+1/f+1.1/f))\n",
    "    ax.set_ylim((-0.1, 0.1))\n",
    "\n",
    "plt.tight_layout()\n",
    "plt.show()"
   ]
  },
  {
   "cell_type": "markdown",
   "metadata": {},
   "source": [
    "### Fit sinusoids to V_ames"
   ]
  },
  {
   "cell_type": "code",
   "execution_count": null,
   "metadata": {},
   "outputs": [],
   "source": [
    "def fit_sin2V_trace(x, time, f, V_trace):\n",
    "    A   = x[0]\n",
    "    phi = x[1]\n",
    "    \n",
    "    return np.sum((sin_A_phi_time_f(A, phi, time, f) - V_trace)**2)\n",
    "\n",
    "np.random.seed(13454642)\n",
    "\n",
    "# Fit.\n",
    "fit_sin_params_V_ames = {f: {V: None for V in V_amps[f]} for f in fs}\n",
    "for f  in fs:\n",
    "    for V in V_amps[f]:\n",
    "        time    = V_ames[f][V][:,0]\n",
    "        V_trace = V_ames[f][V][:,1]\n",
    "        \n",
    "        A0 = np.max(np.abs((V_trace)))\n",
    "        phi0 = (time[np.where(V_trace < 0)[0][0]] * f) * 180\n",
    "\n",
    "        best_fit_loss = np.inf\n",
    "        best_fit = None\n",
    "        for _ in range(10):\n",
    "            fit = minimize(\n",
    "                fit_sin2V_trace, args=(time, f, V_trace),\n",
    "                x0=[A0*np.random.uniform(0.5, 2), phi0*np.random.uniform(0.5, 2)],\n",
    "                bounds=[(A0*0.5, A0*2), (-90, 90)]\n",
    "            )\n",
    "\n",
    "            if fit.fun < best_fit_loss:\n",
    "                best_fit_loss = fit.fun\n",
    "                best_fit = fit.x\n",
    "                \n",
    "        fit_sin_params_V_ames[f][V] = best_fit\n",
    "        \n",
    "        print(\"Phase difference = {:.2f} \\t <= 0?\".format(fit_sin_params_V_ames[f][V][1] - fit_sin_params['wo'][f][V][1]))"
   ]
  },
  {
   "cell_type": "code",
   "execution_count": null,
   "metadata": {},
   "outputs": [],
   "source": [
    "data_utils.save_var(fit_sin_params_V_ames, 'data_preprocessed/V_ames_sinus_fits_params.pkl')"
   ]
  },
  {
   "cell_type": "markdown",
   "metadata": {},
   "source": [
    "### Plot V_ames, raw and fits."
   ]
  },
  {
   "cell_type": "code",
   "execution_count": null,
   "metadata": {},
   "outputs": [],
   "source": [
    "for f in fs:\n",
    "    plt.figure(figsize=(12,2))\n",
    "    plt.title(str(w) + ' ' + str(f))\n",
    "    for i_V, V in enumerate(V_amps[f]):\n",
    "        time    = V_ames[f][V][:,0]\n",
    "        V_trace = V_ames[f][V][:,1]\n",
    "\n",
    "        plt.plot(time, V_trace, 'r', label='voltage' if V == 15 or V == 30 else '')\n",
    "        plt.plot(\n",
    "            time,\n",
    "            sin_A_phi_time_f(fit_sin_params_V_ames[f][V][0], fit_sin_params_V_ames[f][V][1], time, f),\n",
    "            'k', label='fit' if V == 15  or V == 30 else ''\n",
    "        )\n",
    "        plt.legend()"
   ]
  },
  {
   "cell_type": "markdown",
   "metadata": {},
   "source": [
    "## Fit sinus to V_EDL\n",
    "\n",
    "Compute V_EDL by subtracting V_ames from V_EDL"
   ]
  },
  {
   "cell_type": "markdown",
   "metadata": {},
   "source": [
    "### Compute V_EDL"
   ]
  },
  {
   "cell_type": "code",
   "execution_count": null,
   "metadata": {},
   "outputs": [],
   "source": [
    "V_EDL = {25: {}, 40: {}}\n",
    "\n",
    "# Take only last interation and repeat\n",
    "for f in fs:\n",
    "    for V in V_amps[f]:\n",
    "        time = np.arange(0,4000)*comsol_dt\n",
    "        V_ames_temp = sin_A_phi_time_f(fit_sin_params_V_ames[f][V][0], fit_sin_params_V_ames[f][V][1], time, f)\n",
    "        V_stim_temp = V*np.sin(2*np.pi*time*f)\n",
    "        \n",
    "        V_EDL[f][V] = np.concatenate([np.atleast_2d(time), np.atleast_2d(V_stim_temp - V_ames_temp)]).T"
   ]
  },
  {
   "cell_type": "markdown",
   "metadata": {},
   "source": [
    "### Plot V_EDL"
   ]
  },
  {
   "cell_type": "code",
   "execution_count": null,
   "metadata": {},
   "outputs": [],
   "source": [
    "plt.figure(figsize=(12,6))\n",
    "for idx_f, f in enumerate(fs):\n",
    "    plt.subplot(2,2,idx_f+1)\n",
    "    plt.title(\"V_EDL @ \" + str(f) + ' Hz')\n",
    "    for V in V_amps[f]:\n",
    "        plt.plot(V_EDL[f][V][:,0], V_EDL[f][V][:,1])\n",
    "\n",
    "plt.tight_layout()\n",
    "plt.show()"
   ]
  },
  {
   "cell_type": "markdown",
   "metadata": {},
   "source": [
    "### Fit sinusoids to V_EDL data"
   ]
  },
  {
   "cell_type": "code",
   "execution_count": null,
   "metadata": {},
   "outputs": [],
   "source": [
    "np.random.seed(123132)\n",
    "\n",
    "# Fit.\n",
    "fit_sin_params_V_EDL = {f: {V: None for V in V_amps[f]} for f in fs}\n",
    "for f in fs:\n",
    "    for V in V_amps[f]:\n",
    "        time    = V_EDL[f][V][:,0]\n",
    "        V_trace = V_EDL[f][V][:,1]\n",
    "        \n",
    "        A0 = np.max(np.abs((V_trace)))\n",
    "        phi0 = (time[np.where(V_trace < 0)[0][0]] * f) * 180\n",
    "\n",
    "        best_fit_loss = np.inf\n",
    "        best_fit = None\n",
    "        for _ in range(30):\n",
    "            fit = minimize(\n",
    "                fit_sin2V_trace, args=(time, f, V_trace),\n",
    "                x0=[A0*np.random.uniform(0.5, 2), phi0*np.random.uniform(0.8, 1.3)],\n",
    "                bounds=[(A0*0.5, A0*2), (-90, 90)],\n",
    "            )\n",
    "\n",
    "            if fit.fun < best_fit_loss:\n",
    "                best_fit_loss = fit.fun\n",
    "                best_fit = fit.x\n",
    "                \n",
    "        fit_sin_params_V_EDL[f][V] = best_fit"
   ]
  },
  {
   "cell_type": "code",
   "execution_count": null,
   "metadata": {},
   "outputs": [],
   "source": [
    "data_utils.save_var(fit_sin_params_V_EDL, 'data_preprocessed/V_EDL_sinus_fits_params.pkl')"
   ]
  },
  {
   "cell_type": "markdown",
   "metadata": {},
   "source": [
    "### Plot V_EDL, raw and fits."
   ]
  },
  {
   "cell_type": "code",
   "execution_count": null,
   "metadata": {},
   "outputs": [],
   "source": [
    "for f in fs:\n",
    "    plt.figure(figsize=(12,2))\n",
    "    plt.title(str(w) + ' ' + str(f))\n",
    "    for i_V, V in enumerate(V_amps[f]):\n",
    "        time    = V_EDL[f][V][:,0]\n",
    "        V_trace = V_EDL[f][V][:,1]\n",
    "\n",
    "        plt.plot(time, V_trace, 'r', label='voltage' if V == 15 or V == 30 else '')\n",
    "        plt.plot(time, sin_A_phi_time_f(fit_sin_params_V_EDL[f][V][0], fit_sin_params_V_EDL[f][V][1], time, f),\n",
    "                 'k', label='fit' if V == 15  or V == 30 else '')\n",
    "        plt.legend()"
   ]
  },
  {
   "cell_type": "markdown",
   "metadata": {},
   "source": [
    "# Compute phases of V_EDL"
   ]
  },
  {
   "cell_type": "code",
   "execution_count": null,
   "metadata": {},
   "outputs": [],
   "source": [
    "EDL_phase_add = {} \n",
    "EDL_phase_total = {}\n",
    "\n",
    "for f in fs:\n",
    "    cur_phases = -np.array(list(fit_sin_params['wo'][f].values()))[:,1]\n",
    "    V_phases   = -np.array(list(fit_sin_params_V_EDL[f].values()))[:,1]\n",
    " \n",
    "    EDL_phase_add[f] = cur_phases\n",
    "    EDL_phase_total[f] = -V_phases + cur_phases\n",
    "    \n",
    "data_utils.save_var(EDL_phase_total, 'data_preprocessed/EDL_phase_total.pkl')"
   ]
  },
  {
   "cell_type": "code",
   "execution_count": null,
   "metadata": {},
   "outputs": [],
   "source": [
    "# Plot phases.\n",
    "plt.figure(figsize=(12,3))\n",
    "plt.title('Phis from sinus fits')\n",
    "for f in fs:\n",
    "    phis = EDL_phase_total[f]\n",
    "    Vs = np.array(V_amps[f])/1000\n",
    "\n",
    "    plt.plot(Vs, phis, '-*', label=str(w) + ' ' + str(f))\n",
    "plt.legend()\n",
    "plt.xlabel('V')\n",
    "plt.ylabel('phase')\n",
    "plt.show()"
   ]
  },
  {
   "cell_type": "code",
   "execution_count": null,
   "metadata": {},
   "outputs": [],
   "source": [
    "# Plot currents vs. voltages.\n",
    "plt.figure(figsize=(12,3))\n",
    "plt.title('Amplitudes from sinus fits')\n",
    "for f in fs:\n",
    "    V_EDLs = np.array(list(fit_sin_params_V_EDL[f].values()))[:,0]\n",
    "    Is     = np.array(list(fit_sin_params['wo'][f].values()))[:,0]\n",
    "\n",
    "    plt.plot(V_EDLs, Is*1e6, '-*', label=str(f))\n",
    "plt.legend()\n",
    "plt.xlabel('V EDL [mV]')\n",
    "plt.ylabel('current [uA]')\n",
    "plt.show()"
   ]
  },
  {
   "cell_type": "markdown",
   "metadata": {},
   "source": [
    "##### Estimate |Z| from sinus fits."
   ]
  },
  {
   "cell_type": "code",
   "execution_count": null,
   "metadata": {},
   "outputs": [],
   "source": [
    "absZ_est = {}\n",
    "for f in fs:\n",
    "    absZ_est[f] = {}\n",
    "    for i_V, V in enumerate(V_amps[f]):\n",
    "        V_EDL_i = fit_sin_params_V_EDL[f][V][0] /1000\n",
    "        I_i     = fit_sin_params['wo'][f][V][0]\n",
    "    \n",
    "        absZ_est[f][V] = V_EDL_i/I_i\n",
    "        \n",
    "absZ_est"
   ]
  },
  {
   "cell_type": "code",
   "execution_count": null,
   "metadata": {},
   "outputs": [],
   "source": [
    "data_utils.save_var(absZ_est, 'data_preprocessed/absZ_est.pkl')"
   ]
  },
  {
   "cell_type": "markdown",
   "metadata": {},
   "source": [
    "# Use RC parallel circuit for electrode model"
   ]
  },
  {
   "cell_type": "code",
   "execution_count": null,
   "metadata": {},
   "outputs": [],
   "source": [
    "def _s(n):\n",
    "    return np.sin(-n*np.pi/2)\n",
    "\n",
    "def _c(n):\n",
    "    return np.cos(-n*np.pi/2)\n",
    "\n",
    "def _t(phi):\n",
    "    return 1/np.tan(phi/180*np.pi)\n",
    "\n",
    "def _w(f):\n",
    "    assert f in fs\n",
    "    return (2*np.pi*f)"
   ]
  },
  {
   "cell_type": "code",
   "execution_count": null,
   "metadata": {},
   "outputs": [],
   "source": [
    "def R_ges(R, C, f):\n",
    "    return R / (1 + (_w(f)*C*R)**2)"
   ]
  },
  {
   "cell_type": "code",
   "execution_count": null,
   "metadata": {},
   "outputs": [],
   "source": [
    "def X_ges(R, C, f):\n",
    "    return (_w(f)*C*R**2) / (1 + (_w(f)*C*R)**2)"
   ]
  },
  {
   "cell_type": "code",
   "execution_count": null,
   "metadata": {},
   "outputs": [],
   "source": [
    "def Z_ges(R, C, f):\n",
    "    return np.sqrt(R_ges(R, C, f)**2 + X_ges(R, C, f)**2)"
   ]
  },
  {
   "cell_type": "code",
   "execution_count": null,
   "metadata": {},
   "outputs": [],
   "source": [
    "def RC(phi, f):\n",
    "    return -np.tan(phi/180*np.pi)/_w(f)"
   ]
  },
  {
   "cell_type": "code",
   "execution_count": null,
   "metadata": {},
   "outputs": [],
   "source": [
    "def R_from_RC(absZ, RC, f):\n",
    "    return absZ * np.sqrt(1 + _w(f)**2 * RC**2)"
   ]
  },
  {
   "cell_type": "code",
   "execution_count": null,
   "metadata": {},
   "outputs": [],
   "source": [
    "RC_params = {}\n",
    "for i_f, f in enumerate(fs):\n",
    "    RC_params[f] = {}\n",
    "    for i_V, V in enumerate(V_amps[f]):\n",
    "        RC_params[f][V] = {}\n",
    "        RCi = RC(EDL_phase_total[f][i_V], f)\n",
    "        R = R_from_RC(absZ_est[f][V], RCi, f)\n",
    "        C = RCi / R\n",
    "        \n",
    "        RC_params[f][V]['R'] = R\n",
    "        RC_params[f][V]['C'] = C\n",
    "\n",
    "data_utils.save_var(RC_params, 'data_preprocessed/RC_params.pkl')\n",
    "RC_params"
   ]
  },
  {
   "cell_type": "code",
   "execution_count": null,
   "metadata": {},
   "outputs": [],
   "source": []
  }
 ],
 "metadata": {
  "kernelspec": {
   "display_name": "Python 3",
   "language": "python",
   "name": "python3"
  },
  "language_info": {
   "codemirror_mode": {
    "name": "ipython",
    "version": 3
   },
   "file_extension": ".py",
   "mimetype": "text/x-python",
   "name": "python",
   "nbconvert_exporter": "python",
   "pygments_lexer": "ipython3",
   "version": "3.7.5"
  },
  "toc": {
   "base_numbering": 1,
   "nav_menu": {},
   "number_sections": true,
   "sideBar": true,
   "skip_h1_title": false,
   "title_cell": "Table of Contents",
   "title_sidebar": "Contents",
   "toc_cell": false,
   "toc_position": {
    "height": "calc(100% - 180px)",
    "left": "10px",
    "top": "150px",
    "width": "349.047px"
   },
   "toc_section_display": true,
   "toc_window_display": true
  },
  "varInspector": {
   "cols": {
    "lenName": 16,
    "lenType": 16,
    "lenVar": 40
   },
   "kernels_config": {
    "python": {
     "delete_cmd_postfix": "",
     "delete_cmd_prefix": "del ",
     "library": "var_list.py",
     "varRefreshCmd": "print(var_dic_list())"
    },
    "r": {
     "delete_cmd_postfix": ") ",
     "delete_cmd_prefix": "rm(",
     "library": "var_list.r",
     "varRefreshCmd": "cat(var_dic_list()) "
    }
   },
   "types_to_exclude": [
    "module",
    "function",
    "builtin_function_or_method",
    "instance",
    "_Feature"
   ],
   "window_display": false
  }
 },
 "nbformat": 4,
 "nbformat_minor": 2
}
