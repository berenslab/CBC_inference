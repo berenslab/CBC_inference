{
 "cells": [
  {
   "cell_type": "markdown",
   "metadata": {},
   "source": [
    "# Imports"
   ]
  },
  {
   "cell_type": "code",
   "execution_count": null,
   "metadata": {},
   "outputs": [],
   "source": [
    "import importlib\n",
    "import pandas as pd\n",
    "import numpy as np\n",
    "from matplotlib import pyplot as plt\n",
    "import seaborn as sns\n",
    "\n",
    "import os\n",
    "import sys"
   ]
  },
  {
   "cell_type": "code",
   "execution_count": null,
   "metadata": {},
   "outputs": [],
   "source": [
    "pythoncodepath = os.path.abspath(os.path.join('..', '..', '_pythoncode'))\n",
    "sys.path = [pythoncodepath] + sys.path\n",
    "import importhelper\n",
    "importhelper.addfolders2path(pythoncodepath)"
   ]
  },
  {
   "cell_type": "code",
   "execution_count": null,
   "metadata": {},
   "outputs": [],
   "source": [
    "import data_utils\n",
    "import plot_utils\n",
    "plot_utils.set_rcParams()"
   ]
  },
  {
   "cell_type": "markdown",
   "metadata": {},
   "source": [
    "# Load data"
   ]
  },
  {
   "cell_type": "code",
   "execution_count": null,
   "metadata": {},
   "outputs": [],
   "source": [
    "data_folder = os.path.join('..', '..', 'step2b_analyse_optimized_cbcs', 'data')"
   ]
  },
  {
   "cell_type": "code",
   "execution_count": null,
   "metadata": {},
   "outputs": [],
   "source": [
    "sorted(os.listdir(data_folder))"
   ]
  },
  {
   "cell_type": "code",
   "execution_count": null,
   "metadata": {},
   "outputs": [],
   "source": [
    "ON_rec_data_sorted = data_utils.load_var(os.path.join(data_folder, 'ON_data_sorted.pkl'))\n",
    "OFF_rec_data_sorted = data_utils.load_var(os.path.join(data_folder, 'OFF_data_sorted.pkl'))\n",
    "rec_time = data_utils.load_var(os.path.join(data_folder, 'rec_time.pkl'))"
   ]
  },
  {
   "cell_type": "code",
   "execution_count": null,
   "metadata": {},
   "outputs": [],
   "source": [
    "cell2loss = data_utils.load_var(os.path.join(data_folder, 'cell2loss.pkl'))"
   ]
  },
  {
   "cell_type": "code",
   "execution_count": null,
   "metadata": {},
   "outputs": [],
   "source": [
    "n_traces = len(ON_rec_data_sorted['all'])"
   ]
  },
  {
   "cell_type": "markdown",
   "metadata": {},
   "source": [
    "# Plotting functions"
   ]
  },
  {
   "cell_type": "markdown",
   "metadata": {},
   "source": [
    "## Data functions"
   ]
  },
  {
   "cell_type": "code",
   "execution_count": null,
   "metadata": {},
   "outputs": [],
   "source": [
    "def extract_data(rec_data_list, rec_data_full_list, cell):\n",
    "    \n",
    "    Vms = [rec_data['BC Vm Soma'].values for rec_data in rec_data_list]\n",
    "    rates = [rec_data['rate BC'].mean(axis=1).values for rec_data in rec_data_list]\n",
    "    iGlus = [cell2loss[cell].rate2best_iGluSnFR_trace(trace=rate)[0] for rate in rates]\n",
    "    \n",
    "    full_Vms = [rec_data['BC Vm Soma'].values for rec_data in rec_data_full_list]\n",
    "    full_rates = [rec_data['rate BC'].mean(axis=1).values for rec_data in rec_data_full_list]\n",
    "    full_iGlus = [cell2loss[cell].rate2best_iGluSnFR_trace(trace=rate)[0] for rate in full_rates]\n",
    "    \n",
    "    \n",
    "    Vms_rel = [Vm - full_Vm for Vm, full_Vm in zip(Vms, full_Vms)]\n",
    "    rate_rel = [rate - full_rate for rate, full_rate in zip(rates, full_rates)]\n",
    "    iGlus_rel = [iGlu - full_iGlu for iGlu, full_iGlu in zip(iGlus, full_iGlus)]\n",
    "\n",
    "    losses = [cell2loss[cell].calc_loss({'rate': rate, 'Vm': Vm}) for rate, Vm in zip(rates, Vms)]\n",
    "    full_losses = [cell2loss[cell].calc_loss({'rate': rate, 'Vm': Vm}) for rate, Vm in zip(full_rates, full_Vms)]\n",
    "    losses_rel = [{k: loss_i[k]-full_loss_i[k] for k in loss_i.keys()} for loss_i, full_loss_i in zip(losses, full_losses)]\n",
    "    \n",
    "    return Vms, rates, iGlus, Vms_rel, rate_rel, iGlus_rel, losses, losses_rel"
   ]
  },
  {
   "cell_type": "markdown",
   "metadata": {},
   "source": [
    "## Plot functions."
   ]
  },
  {
   "cell_type": "code",
   "execution_count": null,
   "metadata": {},
   "outputs": [],
   "source": [
    "from matplotlib import cm\n",
    "trace_mapper = cm.get_cmap('viridis', n_traces+1)"
   ]
  },
  {
   "cell_type": "code",
   "execution_count": null,
   "metadata": {},
   "outputs": [],
   "source": [
    "fig, ax = plt.subplots(1,1,figsize=(3,1))\n",
    "for i in range(n_traces):\n",
    "    ax.plot(i, 0, marker='o', ms='10', c=trace_mapper(i))"
   ]
  },
  {
   "cell_type": "code",
   "execution_count": null,
   "metadata": {},
   "outputs": [],
   "source": [
    "single_trace_kw = dict(\n",
    "    ls='-',\n",
    "    lw=0.1,\n",
    "    zorder=0,\n",
    "    alpha=1,\n",
    ")\n",
    "\n",
    "mean_kw = dict(\n",
    "    ls='-',\n",
    "    lw=0.4,\n",
    "    c='r',\n",
    "    zorder=10,\n",
    "    alpha=0.6,\n",
    ")\n",
    "\n",
    "area_kw= dict(\n",
    "    color='darkgray',\n",
    "    zorder=-10,\n",
    "    lw=0.0\n",
    ")\n",
    "\n",
    "def plot_trace_mode(ax, rec_time, trace_list, pltidx=None):\n",
    "    if pltidx is None:\n",
    "        tidx = np.arange(0,rec_time.size,1)\n",
    "    else:\n",
    "        tidx = pltidx\n",
    "    for ti, trace in enumerate(trace_list):\n",
    "        ax.plot(rec_time[tidx], trace[tidx], **single_trace_kw, color=trace_mapper(ti))\n",
    "        \n",
    "    plt.tight_layout()"
   ]
  },
  {
   "cell_type": "code",
   "execution_count": null,
   "metadata": {},
   "outputs": [],
   "source": [
    "loss_lw = dict(marker='_', ls='None', markeredgewidth=1, zorder=-5, markersize=3, clip_on=False)\n",
    "loss_line_kw = dict(solid_capstyle='butt', marker='None', c='k', zorder=-10, clip_on=False, lw=0.8)\n",
    "loss_mean_kw = dict(marker='_', ls='-', alpha=0.8, zorder=0, markersize=6, c='red', clip_on=False)\n",
    "\n",
    "def plot_loss_mode(ax, losses):\n",
    "    tot_losses = np.array([loss_i['total'] for loss_i in losses])\n",
    "    for i, loss_i in enumerate(tot_losses):\n",
    "        ax.plot(0, loss_i, **loss_lw, color=trace_mapper(i))\n",
    "    ax.plot([0,0], [np.min(tot_losses), np.max(tot_losses)], **loss_line_kw)\n",
    "    ax.plot(0, np.mean(tot_losses), **loss_mean_kw)\n",
    "    \n",
    "    iGlu_losses = np.array([loss_i['iGluSnFR'] for loss_i in losses])\n",
    "    for i, loss_i in enumerate(iGlu_losses):\n",
    "        ax.plot(1, loss_i, **loss_lw, color=trace_mapper(i))\n",
    "    ax.plot([1,1], [np.min(iGlu_losses), np.max(iGlu_losses)], **loss_line_kw)\n",
    "    ax.plot(1, np.mean(iGlu_losses), **loss_mean_kw)\n",
    "    \n",
    "    ax.set_xlim(-0.3, 1.3)\n",
    "    \n",
    "    if np.all(tot_losses>0) and np.all(iGlu_losses > 0):\n",
    "        ax.set_ylim(0, np.max([np.max(tot_losses), 0.001]))\n",
    "        if np.max(np.abs(tot_losses)) <= 0.002:\n",
    "            ax.set_yticks([0, 0.001])\n",
    "    else:\n",
    "        ax.tick_params(axis='x', length=0.0)\n",
    "        absmax = np.max([np.max(np.abs(tot_losses)), 0.001])\n",
    "        ax.set_ylim(-absmax, absmax)\n",
    "        \n",
    "    ax.spines['bottom'].set_position('zero')"
   ]
  },
  {
   "cell_type": "markdown",
   "metadata": {},
   "source": [
    "## Labels"
   ]
  },
  {
   "cell_type": "code",
   "execution_count": null,
   "metadata": {},
   "outputs": [],
   "source": [
    "mode_renaming = {\n",
    "    'no_HCN': r\"w/o $HCN$\",\n",
    "    'no_Kv': r\"w/o $K_v$\",\n",
    "    'no_Kir': r\"w/o $K_{ir}$\",\n",
    "    'no_Na': r\"w/o $Na_{V}$\",\n",
    "    'no_T_at': r\"w/o $Ca_{T}\\,@\\,AT$\",\n",
    "    'no_L_at': r\"w/o $Ca_{L}\\,@\\,AT$\",\n",
    "    'no_somaCa': r\"w/o $Ca\\,@\\,S$\",\n",
    "    'passive': \"passive\",\n",
    "}"
   ]
  },
  {
   "cell_type": "code",
   "execution_count": null,
   "metadata": {},
   "outputs": [],
   "source": [
    "ylabels = [\n",
    "    r'V$_m$ (mV)',\n",
    "    r'',\n",
    "    r'iGluSnFR',\n",
    "    r'',\n",
    "]"
   ]
  },
  {
   "cell_type": "code",
   "execution_count": null,
   "metadata": {},
   "outputs": [],
   "source": [
    "cols = ['mode', 'Vm', 'dVm', 'pad', 'iGlu', 'diGlu', 'pad', 'dloss']\n",
    "\n",
    "width_ratios = []\n",
    "for col in cols:\n",
    "    if col == 'mode': wr = 1\n",
    "    elif col == 'pad': wr = 0.0\n",
    "    elif 'loss' in col: wr = 2\n",
    "    else: wr = 4\n",
    "        \n",
    "    width_ratios.append(wr)"
   ]
  },
  {
   "cell_type": "code",
   "execution_count": null,
   "metadata": {},
   "outputs": [],
   "source": [
    "col2title = {\n",
    "    'Vm': r'V$_m$',\n",
    "    'dVm': r'$\\Delta$ V$_m$',\n",
    "    'iGlu': r'iGluSnFR',\n",
    "    'diGlu': r'$\\Delta$ iGluSnFR',\n",
    "    'loss': 'Discrepancy',\n",
    "    'dloss': r'$\\Delta$ Discrepancy',\n",
    "}"
   ]
  },
  {
   "cell_type": "code",
   "execution_count": null,
   "metadata": {},
   "outputs": [],
   "source": [
    "col2ylabel = {\n",
    "    'Vm': r'V$_m$ (mV)',\n",
    "    'dVm': '',\n",
    "    'iGlu': r'iGluSnFR',\n",
    "    'diGlu': '',\n",
    "    'dloss': 'Discrepancy'\n",
    "}"
   ]
  },
  {
   "cell_type": "markdown",
   "metadata": {},
   "source": [
    "## Plot"
   ]
  },
  {
   "cell_type": "code",
   "execution_count": null,
   "metadata": {},
   "outputs": [],
   "source": [
    "plot_ON = True\n",
    "\n",
    "if plot_ON:\n",
    "    cell = 'CBC5o'\n",
    "    cell_type = 'ON'\n",
    "    rec_data_sorted = ON_rec_data_sorted\n",
    "    filename = 'ON_removed_channels_traces'\n",
    "    \n",
    "    plot_mode_order = ['no_HCN', 'no_Kv', 'no_Kir', 'no_Na', 'no_somaCa', 'passive']\n",
    "    \n",
    "else:\n",
    "    cell = 'CBC3a'\n",
    "    cell_type = 'OFF'\n",
    "    rec_data_sorted = OFF_rec_data_sorted\n",
    "    filename = 'OFF_removed_channels_traces'\n",
    "    \n",
    "    plot_mode_order = ['no_HCN', 'no_Kv', 'no_Kir', 'no_Na', 'no_somaCa', 'no_T_at', 'no_L_at', 'passive']"
   ]
  },
  {
   "cell_type": "code",
   "execution_count": null,
   "metadata": {},
   "outputs": [],
   "source": [
    "from matplotlib import ticker\n",
    "\n",
    "sbnx = len(cols)\n",
    "sbny = len(plot_mode_order)\n",
    "\n",
    "fig, axs = plt.subplots(\n",
    "    nrows=sbny, ncols=sbnx, figsize=(5.6, 0.8*sbny+0.4), sharex='col', sharey=False,\n",
    "    gridspec_kw=dict(width_ratios=width_ratios), squeeze=False,\n",
    ")\n",
    "\n",
    "sns.despine()\n",
    "\n",
    "iGlu_time = cell2loss['CBC5o'].target_time + 1\n",
    "\n",
    "for ax_row, mode in zip(axs, plot_mode_order):\n",
    "    \n",
    "    rec_data_list = rec_data_sorted[mode]\n",
    "    \n",
    "    Vms, rates, iGlus, Vms_rel, rate_rel, iGlus_rel, losses, losses_rel =\\\n",
    "        extract_data(rec_data_list=rec_data_list, rec_data_full_list=rec_data_sorted['all'], cell=cell)\n",
    "\n",
    "    if 'Vm' in cols:\n",
    "        plot_trace_mode(ax_row[np.argmax(np.asarray(cols) == 'Vm')], rec_time, [1e3*Vm for Vm in Vms],\n",
    "                        pltidx=np.arange(0,rec_time.size,10))\n",
    "    if 'dVm' in cols:\n",
    "        plot_trace_mode(ax_row[np.argmax(np.asarray(cols) == 'dVm')], rec_time, [1e3*Vm for Vm in Vms_rel],\n",
    "                        pltidx=np.arange(0,rec_time.size,10))\n",
    "    if 'iGlu' in cols:\n",
    "        plot_trace_mode(ax_row[np.argmax(np.asarray(cols) == 'iGlu')], iGlu_time, iGlus)\n",
    "        ax_row[np.argmax(np.asarray(cols) == 'iGlu')].set_yticks([0,1])\n",
    "    if 'diGlu' in cols:\n",
    "        plot_trace_mode(ax_row[np.argmax(np.asarray(cols) == 'diGlu')], iGlu_time, iGlus_rel)\n",
    "    if 'loss' in cols:\n",
    "        plot_loss_mode(ax_row[np.argmax(np.asarray(cols) == 'loss')], losses)\n",
    "    if 'dloss' in cols:\n",
    "        plot_loss_mode(ax_row[np.argmax(np.asarray(cols) == 'dloss')], losses_rel)\n",
    "    \n",
    "for ax, col in zip(axs[0,:], cols):\n",
    "    if col in col2title.keys():\n",
    "        ax.set_title(col2title[col])\n",
    "    \n",
    "for ax, col in zip(axs[-1,:], cols):\n",
    "    if col not in ['pad', 'mode', 'loss', 'dloss']:\n",
    "        ax.set_xlabel('Time (ms)')\n",
    "        ax.set_xticks([0,30])\n",
    "    elif 'loss' in col:\n",
    "        ax.set_xticks([0,1])\n",
    "        ax.set_xticklabels(['total', 'iGluSnFR'], rotation=60)\n",
    "\n",
    "for ax_col, col in zip(axs.T, cols):\n",
    "    if col in col2ylabel.keys():\n",
    "        plot_utils.set_labs(axs=ax_col, ylabs=col2ylabel[col])\n",
    "        fig.align_ylabels(ax_col)\n",
    "    \n",
    "    elif col == 'pad':\n",
    "        for ax in ax_col:\n",
    "            ax.axis('off')\n",
    "    \n",
    "    elif col == 'mode':\n",
    "        for ax, mode in zip(ax_col, plot_mode_order):\n",
    "            ax.set_xticks([])\n",
    "            ax.set_yticks([])\n",
    "            for spine in ax.spines.values(): spine.set_visible(False)\n",
    "            ax.set_ylabel(mode_renaming[mode], rotation=0, ha='right', va='center')\n",
    "\n",
    "plt.tight_layout(w_pad=-1.3, h_pad=0.3)\n",
    "            \n",
    "for ax in axs[:,[4,5]].flatten():\n",
    "    box = np.array(ax.get_position().bounds)\n",
    "    box[0] -= 0.02\n",
    "    ax.set_position(box)\n",
    "\n",
    "plt.savefig('../_figures_apx/figapx06_' + filename + '.pdf')"
   ]
  },
  {
   "cell_type": "markdown",
   "metadata": {},
   "source": [
    "# Export "
   ]
  },
  {
   "cell_type": "code",
   "execution_count": null,
   "metadata": {},
   "outputs": [],
   "source": [
    "rates_rm_ch_exdf = pd.DataFrame()\n",
    "iGlus_rm_ch_exdf = pd.DataFrame()\n",
    "\n",
    "tidx = np.arange(0,rec_time.size,10)\n",
    "rates_rm_ch_exdf['Time/s'] = rec_time[tidx]\n",
    "iGlus_rm_ch_exdf['Time/s'] = iGlu_time\n",
    "\n",
    "for mode in plot_mode_order:\n",
    "    \n",
    "    rec_data_list = rec_data_sorted[mode]\n",
    "    \n",
    "    Vms, rates, iGlus, Vms_rel, rate_rel, iGlus_rel, losses, losses_rel =\\\n",
    "        extract_data(rec_data_list=rec_data_list, rec_data_full_list=rec_data_sorted['all'], cell=cell)\n",
    "    \n",
    "    for idx in range(len(Vms)):\n",
    "        \n",
    "        rates_rm_ch_exdf['Cell' +str(idx+1)+' Release rate/(ves./s): ' + mode] = rates[idx][tidx]\n",
    "        rates_rm_ch_exdf['Cell' +str(idx+1)+' Somatic membrane potential/mV: ' + mode] = Vms[idx][tidx]*1e3\n",
    "        iGlus_rm_ch_exdf['Cell' +str(idx+1)+' iGluSnFR: '+ mode] = iGlus[idx]\n",
    "    \n",
    "for idx in range(len(Vms)):\n",
    "    rates_rm_ch_exdf['Cell' +str(idx+1)+' Release rate/(ves./s): ' + 'full model'] =\\\n",
    "        (rates[idx][tidx]-rate_rel[idx][tidx])\n",
    "    rates_rm_ch_exdf['Cell' +str(idx+1)+' Somatic membrane potential/mV: ' + 'full model'] =\\\n",
    "        (Vms[idx][tidx]-Vms_rel[idx][tidx])*1e3\n",
    "    iGlus_rm_ch_exdf['Cell' +str(idx+1)+' iGluSnFR: ' + 'full model'] = (iGlus[idx]-iGlus_rel[idx])\n",
    "    \n",
    "rates_rm_ch_exdf.to_csv('source_data/CBC/' + cell_type + '_rates_and_Vms_with_removed_ion_channels.csv')\n",
    "iGlus_rm_ch_exdf.to_csv('source_data/CBC/' + cell_type + '_iGluSnFR_with_removed_ion_channels.csv')"
   ]
  },
  {
   "cell_type": "code",
   "execution_count": null,
   "metadata": {},
   "outputs": [],
   "source": [
    "rates_rm_ch_exdf = pd.read_csv('source_data/CBC/' + cell_type + '_rates_and_Vms_with_removed_ion_channels.csv', index_col=0)\n",
    "rates_rm_ch_exdf.plot(x='Time/s', y=[col for col in rates_rm_ch_exdf.columns if 'rate' in col and 'Cell1' in col],\n",
    "                      figsize=(12,2))"
   ]
  },
  {
   "cell_type": "code",
   "execution_count": null,
   "metadata": {},
   "outputs": [],
   "source": [
    "rates_rm_ch_exdf.columns"
   ]
  },
  {
   "cell_type": "code",
   "execution_count": null,
   "metadata": {},
   "outputs": [],
   "source": [
    "rates_rm_ch_exdf.plot(x='Time/s', y=[col for col in rates_rm_ch_exdf.columns if 'mV' in col and 'Cell4' in col],\n",
    "                      figsize=(12,2))"
   ]
  },
  {
   "cell_type": "code",
   "execution_count": null,
   "metadata": {},
   "outputs": [],
   "source": [
    "iGlus_rm_ch_exdf = pd.read_csv('source_data/CBC/' + cell_type + '_iGluSnFR_with_removed_ion_channels.csv', index_col=0)\n",
    "iGlus_rm_ch_exdf.plot(x='Time/s', y=[col for col in iGlus_rm_ch_exdf.columns if 'iGluSnFR' in col and 'Cell1' in col],\n",
    "                      figsize=(12,2))"
   ]
  },
  {
   "cell_type": "code",
   "execution_count": null,
   "metadata": {},
   "outputs": [],
   "source": [
    "list(iGlus_rm_ch_exdf.columns)"
   ]
  },
  {
   "cell_type": "code",
   "execution_count": null,
   "metadata": {},
   "outputs": [],
   "source": []
  }
 ],
 "metadata": {
  "hide_input": false,
  "kernelspec": {
   "display_name": "Python 3",
   "language": "python",
   "name": "python3"
  },
  "language_info": {
   "codemirror_mode": {
    "name": "ipython",
    "version": 3
   },
   "file_extension": ".py",
   "mimetype": "text/x-python",
   "name": "python",
   "nbconvert_exporter": "python",
   "pygments_lexer": "ipython3",
   "version": "3.7.5"
  },
  "toc": {
   "base_numbering": 1,
   "nav_menu": {},
   "number_sections": true,
   "sideBar": true,
   "skip_h1_title": false,
   "title_cell": "Table of Contents",
   "title_sidebar": "Contents",
   "toc_cell": false,
   "toc_position": {
    "height": "calc(100% - 180px)",
    "left": "10px",
    "top": "150px",
    "width": "383.969px"
   },
   "toc_section_display": true,
   "toc_window_display": true
  },
  "varInspector": {
   "cols": {
    "lenName": 16,
    "lenType": 16,
    "lenVar": 40
   },
   "kernels_config": {
    "python": {
     "delete_cmd_postfix": "",
     "delete_cmd_prefix": "del ",
     "library": "var_list.py",
     "varRefreshCmd": "print(var_dic_list())"
    },
    "r": {
     "delete_cmd_postfix": ") ",
     "delete_cmd_prefix": "rm(",
     "library": "var_list.r",
     "varRefreshCmd": "cat(var_dic_list()) "
    }
   },
   "types_to_exclude": [
    "module",
    "function",
    "builtin_function_or_method",
    "instance",
    "_Feature"
   ],
   "window_display": false
  }
 },
 "nbformat": 4,
 "nbformat_minor": 2
}
