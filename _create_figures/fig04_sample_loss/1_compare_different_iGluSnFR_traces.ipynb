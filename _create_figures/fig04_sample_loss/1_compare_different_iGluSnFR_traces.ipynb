{
 "cells": [
  {
   "cell_type": "markdown",
   "metadata": {},
   "source": [
    "# Imports"
   ]
  },
  {
   "cell_type": "code",
   "execution_count": null,
   "metadata": {},
   "outputs": [],
   "source": [
    "import importlib\n",
    "import pandas as pd\n",
    "import numpy as np\n",
    "from matplotlib import pyplot as plt\n",
    "import seaborn as sns"
   ]
  },
  {
   "cell_type": "code",
   "execution_count": null,
   "metadata": {},
   "outputs": [],
   "source": [
    "import os\n",
    "import sys"
   ]
  },
  {
   "cell_type": "code",
   "execution_count": null,
   "metadata": {},
   "outputs": [],
   "source": [
    "pythoncodepath = os.path.abspath(os.path.join('..', '..', '_pythoncode'))\n",
    "sys.path = [pythoncodepath] + sys.path\n",
    "import importhelper\n",
    "importhelper.addfolders2path(pythoncodepath)"
   ]
  },
  {
   "cell_type": "code",
   "execution_count": null,
   "metadata": {},
   "outputs": [],
   "source": [
    "import data_utils\n",
    "import interpolation_utils\n",
    "import lin_trans_utils"
   ]
  },
  {
   "cell_type": "markdown",
   "metadata": {},
   "source": [
    "# Define data to be plotted."
   ]
  },
  {
   "cell_type": "markdown",
   "metadata": {},
   "source": [
    "## Get final model output"
   ]
  },
  {
   "cell_type": "code",
   "execution_count": null,
   "metadata": {},
   "outputs": [],
   "source": [
    "cbc_optim_folder = os.path.join('..', '..', 'step2a_optimize_cbc', 'optim_data')"
   ]
  },
  {
   "cell_type": "code",
   "execution_count": null,
   "metadata": {},
   "outputs": [],
   "source": [
    "sorted(os.listdir(cbc_optim_folder))"
   ]
  },
  {
   "cell_type": "code",
   "execution_count": null,
   "metadata": {},
   "outputs": [],
   "source": [
    "cell2folder = {\n",
    "    'OFF':  os.path.join(cbc_optim_folder, 'optimize_OFF_submission2'),\n",
    "    'ON':   os.path.join(cbc_optim_folder, 'optimize_ON_submission2'),\n",
    "}"
   ]
  },
  {
   "cell_type": "code",
   "execution_count": null,
   "metadata": {},
   "outputs": [],
   "source": [
    "final_model_outputs = {}\n",
    "for cell, folder in cell2folder.items():\n",
    "    final_model_outputs[cell] = data_utils.load_var(os.path.join(folder, 'post_data', 'final_model_output.pkl'))        "
   ]
  },
  {
   "cell_type": "markdown",
   "metadata": {},
   "source": [
    "## Get other iGluSnFR traces."
   ]
  },
  {
   "cell_type": "code",
   "execution_count": null,
   "metadata": {},
   "outputs": [],
   "source": [
    "experimental_data_folder = os.path.join('..', '..', 'ExperimentalData', 'PreprocessedData')"
   ]
  },
  {
   "cell_type": "code",
   "execution_count": null,
   "metadata": {},
   "outputs": [],
   "source": [
    "os.listdir(experimental_data_folder)"
   ]
  },
  {
   "cell_type": "code",
   "execution_count": null,
   "metadata": {},
   "outputs": [],
   "source": [
    "drug_traces_sorted = data_utils.load_var(os.path.join(\n",
    "    experimental_data_folder, 'drug_traces_sorted.pkl'))\n",
    "no_drug_traces_sorted = data_utils.load_var(os.path.join(\n",
    "    experimental_data_folder, 'no_drug_traces_sorted.pkl'))\n",
    "no_drug_traces_sorted.keys()"
   ]
  },
  {
   "cell_type": "markdown",
   "metadata": {},
   "source": [
    "## Summarize data"
   ]
  },
  {
   "cell_type": "code",
   "execution_count": null,
   "metadata": {},
   "outputs": [],
   "source": [
    "all_iGluSnFR_traces = {'OFF': {}, 'ON': {}}"
   ]
  },
  {
   "cell_type": "markdown",
   "metadata": {},
   "source": [
    "### CBC3a"
   ]
  },
  {
   "cell_type": "code",
   "execution_count": null,
   "metadata": {},
   "outputs": [],
   "source": [
    "all_iGluSnFR_traces['OFF']['model_output'] = pd.DataFrame({\n",
    "    'Time': final_model_outputs['OFF']['Time-Target'],\n",
    "    'mean': final_model_outputs['OFF']['iGlu'],\n",
    "})\n",
    "\n",
    "all_iGluSnFR_traces['OFF']['strychnine'] = pd.DataFrame({\n",
    "    'Time': drug_traces_sorted['Strychnine']['BC3a']['Time'],\n",
    "    'mean': drug_traces_sorted['Strychnine']['BC3a']['mean']\n",
    "})\n",
    "\n",
    "all_iGluSnFR_traces['OFF']['no_drug'] = pd.DataFrame({\n",
    "    'Time': no_drug_traces_sorted['BC3a']['Time'],\n",
    "    'mean': no_drug_traces_sorted['BC3a']['mean']\n",
    "})\n",
    "\n",
    "all_iGluSnFR_traces['OFF']['similar_strychnine'] = pd.DataFrame({\n",
    "    'Time': drug_traces_sorted['Strychnine']['BC4']['Time'],\n",
    "    'mean': drug_traces_sorted['Strychnine']['BC4']['mean']\n",
    "})"
   ]
  },
  {
   "cell_type": "code",
   "execution_count": null,
   "metadata": {},
   "outputs": [],
   "source": [
    "fig, ax = plt.subplots(1, 1, figsize=(15, 5))\n",
    "for name, trace in all_iGluSnFR_traces['OFF'].items():\n",
    "    ax.plot(trace['Time'], trace['mean']-trace['mean'].iloc[0], label=name)\n",
    "plt.legend();"
   ]
  },
  {
   "cell_type": "markdown",
   "metadata": {},
   "source": [
    "### CBC5o"
   ]
  },
  {
   "cell_type": "code",
   "execution_count": null,
   "metadata": {},
   "outputs": [],
   "source": [
    "all_iGluSnFR_traces['ON']['model_output'] = pd.DataFrame({\n",
    "    'Time': final_model_outputs['ON']['Time-Target'],\n",
    "    'mean': final_model_outputs['ON']['iGlu'],\n",
    "})\n",
    "\n",
    "all_iGluSnFR_traces['ON']['strychnine'] = pd.DataFrame({\n",
    "    'Time': drug_traces_sorted['Strychnine']['BC5o']['Time'],\n",
    "    'mean': drug_traces_sorted['Strychnine']['BC5o']['mean']\n",
    "})\n",
    "\n",
    "all_iGluSnFR_traces['ON']['no_drug'] = pd.DataFrame({\n",
    "    'Time': no_drug_traces_sorted['BC5o']['Time'],\n",
    "    'mean': no_drug_traces_sorted['BC5o']['mean']\n",
    "})\n",
    "\n",
    "all_iGluSnFR_traces['ON']['similar_strychnine'] = pd.DataFrame({\n",
    "    'Time': drug_traces_sorted['Strychnine']['BC7']['Time'],\n",
    "    'mean': drug_traces_sorted['Strychnine']['BC7']['mean']\n",
    "})"
   ]
  },
  {
   "cell_type": "code",
   "execution_count": null,
   "metadata": {},
   "outputs": [],
   "source": [
    "fig, ax = plt.subplots(1, 1, figsize=(15, 5))\n",
    "for name, trace in all_iGluSnFR_traces['ON'].items():\n",
    "    ax.plot(trace['Time'], trace['mean']-trace['mean'].iloc[0], label=name)\n",
    "plt.legend();"
   ]
  },
  {
   "cell_type": "markdown",
   "metadata": {},
   "source": [
    "## Compute loss between traces"
   ]
  },
  {
   "cell_type": "code",
   "execution_count": null,
   "metadata": {},
   "outputs": [],
   "source": [
    "def norm_target(target):\n",
    "    target = target.copy()\n",
    "    if target['Time'].iloc[0] < 1.0:\n",
    "        target['mean'] -= np.mean(target['mean'][target['Time']<=1.0])\n",
    "    target['mean'] /= target['mean'].max()\n",
    "    \n",
    "    return target"
   ]
  },
  {
   "cell_type": "code",
   "execution_count": null,
   "metadata": {},
   "outputs": [],
   "source": [
    "model_output_time = all_iGluSnFR_traces['OFF']['model_output']['Time']"
   ]
  },
  {
   "cell_type": "code",
   "execution_count": null,
   "metadata": {},
   "outputs": [],
   "source": [
    "import loss_funcs\n",
    "importlib.reload(loss_funcs);\n",
    "\n",
    "def compute_iGluSnFR_loss(trace, target, plot=False):\n",
    "    \n",
    "    target = norm_target(target)\n",
    "    \n",
    "    loss = loss_funcs.LossOptimizeCell(\n",
    "        target=target, rec_time=model_output_time, t_drop=0.5, loss_params='iGlu only'\n",
    "    )\n",
    "    \n",
    "    intpol_iGluSnFR_trace = interpolation_utils.in_ex_polate(\n",
    "      x_old=trace['Time'], y_old=trace['mean'], x_new=loss.target_time\n",
    "    )\n",
    "    \n",
    "    trans_iGluSnFR_trace, iGluSnFR_loss = lin_trans_utils.best_lin_trans(\n",
    "      trace=intpol_iGluSnFR_trace, target=loss.target, loss_fun=loss.compute_iGluSnFR_trace_loss\n",
    "    )\n",
    "    \n",
    "    _, f_norm_loss = loss.rate2best_iGluSnFR_trace(trace=np.zeros(loss.target_time.size))\n",
    "    iGluSnFR_loss /= f_norm_loss\n",
    "    \n",
    "    if plot:\n",
    "        plt.figure(1,(12,1))\n",
    "        plt.title(\"{:.3g}\".format(iGluSnFR_loss))\n",
    "        plt.plot(trace['Time'], trace['mean'], label='original')\n",
    "        plt.plot(loss.target_time, trans_iGluSnFR_trace, label='fit')\n",
    "        plt.plot(loss.target_time, loss.target, alpha=0.8, lw=1, label='target')\n",
    "        plt.legend()\n",
    "        plt.show()\n",
    "        \n",
    "    return iGluSnFR_loss"
   ]
  },
  {
   "cell_type": "code",
   "execution_count": null,
   "metadata": {},
   "outputs": [],
   "source": [
    "np.random.seed(12)\n",
    "\n",
    "all_iGluSnFR_losses = {}\n",
    "for target_cell, target_dict in all_iGluSnFR_traces.items():\n",
    "    for target_label, target in target_dict.items():\n",
    "        if target_cell + ' ' + target_label not in all_iGluSnFR_losses.keys():\n",
    "            all_iGluSnFR_losses[target_cell + ' ' + target_label] = {}\n",
    "        \n",
    "        for trace_cell, trace_dict in all_iGluSnFR_traces.items():\n",
    "            for trace_label, trace in trace_dict.items():\n",
    "                \n",
    "                iGluSnFR_loss = compute_iGluSnFR_loss(trace=trace, target=target, plot=True)\n",
    "                \n",
    "                all_iGluSnFR_losses[target_cell + ' ' + target_label][trace_cell + ' ' + trace_label] = iGluSnFR_loss"
   ]
  },
  {
   "cell_type": "code",
   "execution_count": null,
   "metadata": {},
   "outputs": [],
   "source": [
    "all_iGluSnFR_losses = pd.DataFrame(all_iGluSnFR_losses)"
   ]
  },
  {
   "cell_type": "code",
   "execution_count": null,
   "metadata": {},
   "outputs": [],
   "source": [
    "fig, ax = plt.subplots(1,1,figsize=(9,9))\n",
    "sns.heatmap(all_iGluSnFR_losses,annot=True, fmt='.3f', ax=ax)\n",
    "ax.axis('equal');"
   ]
  },
  {
   "cell_type": "code",
   "execution_count": null,
   "metadata": {},
   "outputs": [],
   "source": [
    "fig, ax = plt.subplots(1,1,figsize=(9,9))\n",
    "sns.heatmap(all_iGluSnFR_losses,annot=True, fmt='.2f', ax=ax)\n",
    "ax.axis('equal');"
   ]
  },
  {
   "cell_type": "code",
   "execution_count": null,
   "metadata": {},
   "outputs": [],
   "source": [
    "all_iGluSnFR_losses_asym = all_iGluSnFR_losses.copy()"
   ]
  },
  {
   "cell_type": "code",
   "execution_count": null,
   "metadata": {},
   "outputs": [],
   "source": [
    "all_iGluSnFR_losses_asym.iloc[:,:] = np.tril(all_iGluSnFR_losses) - np.triu(all_iGluSnFR_losses).T \\\n",
    "                                    + np.triu(all_iGluSnFR_losses) - np.tril(all_iGluSnFR_losses).T"
   ]
  },
  {
   "cell_type": "code",
   "execution_count": null,
   "metadata": {},
   "outputs": [],
   "source": [
    "fig, ax = plt.subplots(1,1,figsize=(9,9))\n",
    "sns.heatmap(all_iGluSnFR_losses_asym, annot=True, fmt='.3f', ax=ax)\n",
    "ax.axis('equal');"
   ]
  },
  {
   "cell_type": "markdown",
   "metadata": {},
   "source": [
    "# Export data"
   ]
  },
  {
   "cell_type": "code",
   "execution_count": null,
   "metadata": {},
   "outputs": [],
   "source": [
    "data_utils.make_dir('source_data')\n",
    "data_utils.save_var(all_iGluSnFR_losses, 'source_data/all_iGluSnFR_losses.pkl')\n",
    "all_iGluSnFR_losses.to_csv('source_data/all_iGluSnFR_losses.csv', float_format='%.6f')"
   ]
  },
  {
   "cell_type": "code",
   "execution_count": null,
   "metadata": {},
   "outputs": [],
   "source": [
    "cols = []\n",
    "for target_cell, target_dict in all_iGluSnFR_traces.items():\n",
    "    for target_label, target in target_dict.items():\n",
    "        print(target_cell, target_label, target.shape)\n",
    "        cols.append(target_cell + ' ' + target_label)\n",
    "        assert np.all(target['Time'].values[-model_output_time.size:] == model_output_time.values)"
   ]
  },
  {
   "cell_type": "code",
   "execution_count": null,
   "metadata": {},
   "outputs": [],
   "source": [
    "trace_data_exdf = pd.DataFrame(np.full((1984, 9), np.nan), columns=['Time/s']+cols)\n",
    "\n",
    "trace_data_exdf['Time/s'] = model_output_time\n",
    "\n",
    "for target_cell, target_dict in all_iGluSnFR_traces.items():\n",
    "    for target_label, target in target_dict.items():\n",
    "        print(target_cell, target_label, target.shape)\n",
    "        col = target_cell + ' ' + target_label\n",
    "        \n",
    "        trace_data_exdf[col] = norm_target(target)['mean'].values[-model_output_time.size:]\n",
    "        \n",
    "trace_data_exdf.to_csv('source_data/compared_iGluSnFR_traces.csv', float_format='%.6f', index=False)"
   ]
  },
  {
   "cell_type": "markdown",
   "metadata": {},
   "source": [
    "## Show exported data"
   ]
  },
  {
   "cell_type": "code",
   "execution_count": null,
   "metadata": {},
   "outputs": [],
   "source": [
    "trace_data_exdf = pd.read_csv('source_data/compared_iGluSnFR_traces.csv')\n",
    "trace_data_exdf.head()"
   ]
  },
  {
   "cell_type": "code",
   "execution_count": null,
   "metadata": {},
   "outputs": [],
   "source": [
    "fig, axs = plt.subplots(2,1,figsize=(12,5))\n",
    "trace_data_exdf.plot(x='Time/s', y=[col for col in trace_data_exdf.columns if 'OFF' in col], ax=axs[0])\n",
    "trace_data_exdf.plot(x='Time/s', y=[col for col in trace_data_exdf.columns if 'ON' in col], ax=axs[1])"
   ]
  },
  {
   "cell_type": "code",
   "execution_count": null,
   "metadata": {},
   "outputs": [],
   "source": []
  }
 ],
 "metadata": {
  "hide_input": false,
  "kernelspec": {
   "display_name": "Python 3",
   "language": "python",
   "name": "python3"
  },
  "language_info": {
   "codemirror_mode": {
    "name": "ipython",
    "version": 3
   },
   "file_extension": ".py",
   "mimetype": "text/x-python",
   "name": "python",
   "nbconvert_exporter": "python",
   "pygments_lexer": "ipython3",
   "version": "3.7.5"
  },
  "toc": {
   "base_numbering": 1,
   "nav_menu": {},
   "number_sections": true,
   "sideBar": true,
   "skip_h1_title": false,
   "title_cell": "Table of Contents",
   "title_sidebar": "Contents",
   "toc_cell": false,
   "toc_position": {
    "height": "calc(100% - 180px)",
    "left": "10px",
    "top": "150px",
    "width": "384px"
   },
   "toc_section_display": true,
   "toc_window_display": true
  },
  "varInspector": {
   "cols": {
    "lenName": 16,
    "lenType": 16,
    "lenVar": 40
   },
   "kernels_config": {
    "python": {
     "delete_cmd_postfix": "",
     "delete_cmd_prefix": "del ",
     "library": "var_list.py",
     "varRefreshCmd": "print(var_dic_list())"
    },
    "r": {
     "delete_cmd_postfix": ") ",
     "delete_cmd_prefix": "rm(",
     "library": "var_list.r",
     "varRefreshCmd": "cat(var_dic_list()) "
    }
   },
   "types_to_exclude": [
    "module",
    "function",
    "builtin_function_or_method",
    "instance",
    "_Feature"
   ],
   "window_display": false
  }
 },
 "nbformat": 4,
 "nbformat_minor": 2
}
