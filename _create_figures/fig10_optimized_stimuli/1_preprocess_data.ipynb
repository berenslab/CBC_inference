{
 "cells": [
  {
   "cell_type": "markdown",
   "metadata": {},
   "source": [
    "# Preprocess optimized stimulus data\n",
    "\n",
    "- [Define data to load](#Select-data)\n",
    "- [Load selected data](#Load-data)\n",
    "- [Create example stimulus for figure](#Example-stimulus)\n",
    "- [Store data to folder](#Save-data)\n",
    "- [Copy stimulated data with removed ion channels](#Get-RM-channels-data)"
   ]
  },
  {
   "cell_type": "markdown",
   "metadata": {},
   "source": [
    "# Imports"
   ]
  },
  {
   "cell_type": "code",
   "execution_count": null,
   "metadata": {},
   "outputs": [],
   "source": [
    "import pandas as pd\n",
    "import numpy as np\n",
    "from matplotlib import pyplot as plt"
   ]
  },
  {
   "cell_type": "code",
   "execution_count": null,
   "metadata": {},
   "outputs": [],
   "source": [
    "import os\n",
    "import sys"
   ]
  },
  {
   "cell_type": "code",
   "execution_count": null,
   "metadata": {},
   "outputs": [],
   "source": [
    "pythoncodepath = os.path.abspath(os.path.join('..', '..', '_pythoncode'))\n",
    "sys.path = [pythoncodepath] + sys.path\n",
    "import importhelper\n",
    "importhelper.addfolders2path(pythoncodepath)"
   ]
  },
  {
   "cell_type": "code",
   "execution_count": null,
   "metadata": {},
   "outputs": [],
   "source": [
    "import data_utils"
   ]
  },
  {
   "cell_type": "markdown",
   "metadata": {},
   "source": [
    "# Select data"
   ]
  },
  {
   "cell_type": "code",
   "execution_count": null,
   "metadata": {},
   "outputs": [],
   "source": [
    "base_folder = os.path.join('..', '..', 'step4_optimize_stimulus', 'optim_data')\n",
    "os.listdir(base_folder)"
   ]
  },
  {
   "cell_type": "code",
   "execution_count": null,
   "metadata": {},
   "outputs": [],
   "source": [
    "data_folder = os.path.join(base_folder, 'optimize_stimulus_submission2')\n",
    "os.listdir(data_folder)"
   ]
  },
  {
   "cell_type": "markdown",
   "metadata": {},
   "source": [
    "# Load data"
   ]
  },
  {
   "cell_type": "code",
   "execution_count": null,
   "metadata": {},
   "outputs": [],
   "source": [
    "rec_time = data_utils.load_var(os.path.join(data_folder, 'rec_time.pkl'))\n",
    "raw_stim_time = data_utils.load_var(os.path.join(data_folder, 'stim_time.pkl'))\n",
    "predur_stim = data_utils.load_var(os.path.join(data_folder, 'predur_stim.pkl'))\n",
    "\n",
    "idx_stim_onset = np.argmax(raw_stim_time >= predur_stim)\n",
    "stim_time = raw_stim_time[idx_stim_onset:] - raw_stim_time[idx_stim_onset]\n",
    "\n",
    "stimgen = data_utils.load_var(os.path.join(data_folder, 'stim_generator.pkl'))"
   ]
  },
  {
   "cell_type": "code",
   "execution_count": null,
   "metadata": {},
   "outputs": [],
   "source": [
    "cells = [('CBC3a', 'OFF'), ('CBC5o', 'ON')]\n",
    "cell_data = {celltype: {} for cell, celltype in cells}\n",
    "\n",
    "for cell, celltype in cells:\n",
    "    snpe_folder = os.path.join(data_folder, 'target_' + cell + '_snpe')\n",
    "    \n",
    "    dists_list = data_utils.load_var(os.path.join(snpe_folder, 'sample_distributions.pkl'))\n",
    "    cell_data[celltype]['prior'] = dists_list[0]\n",
    "    cell_data[celltype]['post_list'] = dists_list[1:]\n",
    "    \n",
    "    post_folder = os.path.join(data_folder, 'post_data_' + cell)\n",
    "    best_stimuli = data_utils.load_var(os.path.join(post_folder, 'best_stimuli.pkl'))\n",
    "    sampled_stimuli = data_utils.load_var(os.path.join(post_folder, 'post_sampled_stimuli.pkl'))\n",
    "    \n",
    "    cell_data[celltype]['best_stimuli'] = best_stimuli[:,idx_stim_onset:]    \n",
    "    cell_data[celltype]['post_sampled_stimuli'] = sampled_stimuli[:,idx_stim_onset:]\n",
    "    \n",
    "    cell_data[celltype]['rrps'] = data_utils.load_var(os.path.join(data_folder, 'retsim', f'{celltype}_rrps.pkl'))"
   ]
  },
  {
   "cell_type": "code",
   "execution_count": null,
   "metadata": {},
   "outputs": [],
   "source": [
    "import delfi_funcs\n",
    "delfi_optim = delfi_funcs.EmptyDELFI_Optimizer()"
   ]
  },
  {
   "cell_type": "code",
   "execution_count": null,
   "metadata": {},
   "outputs": [],
   "source": [
    "def load_samples(samples_folder):\n",
    "    sample_files = sorted(os.listdir(samples_folder))\n",
    "    print('All files:')\n",
    "    print(sample_files)\n",
    "    \n",
    "    sample_files = [os.path.join(samples_folder, sample_file) for sample_file in sample_files]\n",
    "    \n",
    "    samples, n_samples, d_sort_index = delfi_optim.load_samples(\n",
    "        files=sample_files, concat_traces=True, list_traces=False,\n",
    "        return_sort_idx=True, return_n_samples=True,\n",
    "        verbose=False\n",
    "    )\n",
    "    \n",
    "    return samples, d_sort_index, n_samples"
   ]
  },
  {
   "cell_type": "code",
   "execution_count": null,
   "metadata": {},
   "outputs": [],
   "source": [
    "for cell, celltype in cells:\n",
    "    samples, d_sort_index, n_samples = load_samples(os.path.join(data_folder, 'target_' + cell + '_samples'))\n",
    "    cell_data[celltype]['samples'] = samples\n",
    "    cell_data[celltype]['d_sort_index'] = d_sort_index"
   ]
  },
  {
   "cell_type": "markdown",
   "metadata": {},
   "source": [
    "# Example stimulus"
   ]
  },
  {
   "cell_type": "code",
   "execution_count": null,
   "metadata": {},
   "outputs": [],
   "source": [
    "stimgen_params = np.array([-0.5, -0.7, 0.3, 0.5])\n",
    "assert stimgen_params.size == stimgen.n_params, f'Define exactly {stimgen.n_params} params'"
   ]
  },
  {
   "cell_type": "code",
   "execution_count": null,
   "metadata": {},
   "outputs": [],
   "source": [
    "stimgen_stim = stimgen.create_stimulus(params=stimgen_params, plot=True, filename=None)"
   ]
  },
  {
   "cell_type": "code",
   "execution_count": null,
   "metadata": {},
   "outputs": [],
   "source": [
    "if stimgen.stim_mode == 'spline':\n",
    "    stimgen_stim, stim_anchor_points_time, stim_anchor_points_amp =\\\n",
    "        stimgen.create_stimulus_spline(params=stimgen_params, verbose=False)\n",
    "\n",
    "elif stimgen.stim_mode == 'charge neutral':\n",
    "    stimgen_stim, stim_anchor_points_time, stim_anchor_points_amp =\\\n",
    "        stimgen.create_stimulus_charge_neutral(params=stimgen_params, verbose=False, var_dur=False)\n",
    "\n",
    "elif stimgen.stim_mode == 'charge neutral var dur':\n",
    "    stimgen_stim, stim_anchor_points_time, stim_anchor_points_amp =\\\n",
    "        stimgen.create_stimulus_charge_neutral(params=stimgen_params, verbose=False, var_dur=True)"
   ]
  },
  {
   "cell_type": "code",
   "execution_count": null,
   "metadata": {},
   "outputs": [],
   "source": [
    "stim_idx_change = np.argwhere(((stimgen_stim >= 0).astype(int)[1:] - (stimgen_stim < 0).astype(int)[0:-1])==0).flatten()"
   ]
  },
  {
   "cell_type": "code",
   "execution_count": null,
   "metadata": {},
   "outputs": [],
   "source": [
    "if stimgen.normalize_stim:\n",
    "    factor = 1/np.max(np.abs(stimgen_stim))\n",
    "else:\n",
    "    factor = 1.\n",
    "\n",
    "stimgen_stim *= factor*stimgen.stim_mulitplier\n",
    "stim_anchor_points_amp *= factor*stimgen.stim_mulitplier"
   ]
  },
  {
   "cell_type": "code",
   "execution_count": null,
   "metadata": {},
   "outputs": [],
   "source": [
    "t0 = stimgen.stim_time[stimgen.idx_start_stim]"
   ]
  },
  {
   "cell_type": "code",
   "execution_count": null,
   "metadata": {},
   "outputs": [],
   "source": [
    "example_stim = {}\n",
    "example_stim['time'] = stimgen.stim_time[stimgen.idx_start_stim:stimgen.idx_stop_stim] - t0\n",
    "example_stim['anchor_time'] = stim_anchor_points_time - t0\n",
    "example_stim['anchor_points'] = stim_anchor_points_amp\n",
    "example_stim['stim'] = stimgen_stim[stimgen.idx_start_stim:stimgen.idx_stop_stim]\n",
    "example_stim['idx_change'] = stim_idx_change - stimgen.idx_start_stim"
   ]
  },
  {
   "cell_type": "code",
   "execution_count": null,
   "metadata": {},
   "outputs": [],
   "source": [
    "plt.plot(example_stim['time'], example_stim['stim'])\n",
    "plt.plot(example_stim['anchor_time'], example_stim['anchor_points'], 'x');"
   ]
  },
  {
   "cell_type": "markdown",
   "metadata": {},
   "source": [
    "# Save data"
   ]
  },
  {
   "cell_type": "code",
   "execution_count": null,
   "metadata": {},
   "outputs": [],
   "source": [
    "data_utils.make_dir('data')"
   ]
  },
  {
   "cell_type": "code",
   "execution_count": null,
   "metadata": {},
   "outputs": [],
   "source": [
    "data_utils.save_var(stim_time, os.path.join('data', 'stim_time.pkl'))\n",
    "data_utils.save_var(rec_time, os.path.join('data', 'rec_time.pkl'))"
   ]
  },
  {
   "cell_type": "code",
   "execution_count": null,
   "metadata": {},
   "outputs": [],
   "source": [
    "data_utils.save_var(cell_data, os.path.join('data', 'cell_data.pkl'))"
   ]
  },
  {
   "cell_type": "code",
   "execution_count": null,
   "metadata": {},
   "outputs": [],
   "source": [
    "data_utils.save_var(example_stim, os.path.join('data', 'example_stim.pkl'))"
   ]
  },
  {
   "cell_type": "markdown",
   "metadata": {},
   "source": [
    "# Get RM channels data"
   ]
  },
  {
   "cell_type": "code",
   "execution_count": null,
   "metadata": {},
   "outputs": [],
   "source": [
    "from shutil import copy\n",
    "\n",
    "data_utils.make_dir('removed_ion_channels')\n",
    "\n",
    "files = os.listdir(os.path.join(data_folder, 'removed_ion_channels'))\n",
    "\n",
    "for file in files:\n",
    "    copy(os.path.join(data_folder, 'removed_ion_channels', file),\n",
    "         os.path.join('removed_ion_channels', file))"
   ]
  }
 ],
 "metadata": {
  "hide_input": false,
  "kernelspec": {
   "display_name": "Python 3",
   "language": "python",
   "name": "python3"
  },
  "language_info": {
   "codemirror_mode": {
    "name": "ipython",
    "version": 3
   },
   "file_extension": ".py",
   "mimetype": "text/x-python",
   "name": "python",
   "nbconvert_exporter": "python",
   "pygments_lexer": "ipython3",
   "version": "3.7.5"
  },
  "toc": {
   "base_numbering": 1,
   "nav_menu": {},
   "number_sections": true,
   "sideBar": true,
   "skip_h1_title": false,
   "title_cell": "Table of Contents",
   "title_sidebar": "Contents",
   "toc_cell": false,
   "toc_position": {
    "height": "calc(100% - 180px)",
    "left": "10px",
    "top": "150px",
    "width": "384px"
   },
   "toc_section_display": true,
   "toc_window_display": true
  },
  "varInspector": {
   "cols": {
    "lenName": 16,
    "lenType": 16,
    "lenVar": 40
   },
   "kernels_config": {
    "python": {
     "delete_cmd_postfix": "",
     "delete_cmd_prefix": "del ",
     "library": "var_list.py",
     "varRefreshCmd": "print(var_dic_list())"
    },
    "r": {
     "delete_cmd_postfix": ") ",
     "delete_cmd_prefix": "rm(",
     "library": "var_list.r",
     "varRefreshCmd": "cat(var_dic_list()) "
    }
   },
   "types_to_exclude": [
    "module",
    "function",
    "builtin_function_or_method",
    "instance",
    "_Feature"
   ],
   "window_display": false
  }
 },
 "nbformat": 4,
 "nbformat_minor": 2
}
