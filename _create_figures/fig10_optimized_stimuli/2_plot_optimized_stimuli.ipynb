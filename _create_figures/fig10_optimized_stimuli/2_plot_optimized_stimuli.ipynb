{
 "cells": [
  {
   "cell_type": "markdown",
   "metadata": {},
   "source": [
    "# Imports"
   ]
  },
  {
   "cell_type": "code",
   "execution_count": null,
   "metadata": {},
   "outputs": [],
   "source": [
    "import pandas as pd\n",
    "import numpy as np\n",
    "from matplotlib import pyplot as plt"
   ]
  },
  {
   "cell_type": "code",
   "execution_count": null,
   "metadata": {},
   "outputs": [],
   "source": [
    "import os\n",
    "import sys"
   ]
  },
  {
   "cell_type": "code",
   "execution_count": null,
   "metadata": {},
   "outputs": [],
   "source": [
    "pythoncodepath = os.path.abspath(os.path.join('..', '..', '_pythoncode'))\n",
    "sys.path = [pythoncodepath] + sys.path\n",
    "import importhelper\n",
    "importhelper.addfolders2path(pythoncodepath)"
   ]
  },
  {
   "cell_type": "code",
   "execution_count": null,
   "metadata": {},
   "outputs": [],
   "source": [
    "import data_utils\n",
    "import plot_utils\n",
    "import interpolation_utils"
   ]
  },
  {
   "cell_type": "code",
   "execution_count": null,
   "metadata": {},
   "outputs": [],
   "source": [
    "plot_utils.set_rcParams()"
   ]
  },
  {
   "cell_type": "code",
   "execution_count": null,
   "metadata": {},
   "outputs": [],
   "source": [
    "fig_num = os.getcwd().split('/')[-1][3:5]\n",
    "print(fig_num)"
   ]
  },
  {
   "cell_type": "markdown",
   "metadata": {},
   "source": [
    "# Get data"
   ]
  },
  {
   "cell_type": "code",
   "execution_count": null,
   "metadata": {},
   "outputs": [],
   "source": [
    "cell_data = data_utils.load_var(os.path.join('data', 'cell_data.pkl'))\n",
    "stim_time = data_utils.load_var(os.path.join('data', 'stim_time.pkl'))\n",
    "rec_time = data_utils.load_var(os.path.join('data', 'rec_time.pkl'))"
   ]
  },
  {
   "cell_type": "code",
   "execution_count": null,
   "metadata": {},
   "outputs": [],
   "source": [
    "example_stim = data_utils.load_var(os.path.join('data', 'example_stim.pkl'))"
   ]
  },
  {
   "cell_type": "markdown",
   "metadata": {},
   "source": [
    "# Plot functions"
   ]
  },
  {
   "cell_type": "code",
   "execution_count": null,
   "metadata": {},
   "outputs": [],
   "source": [
    "def plot_uncertainty(time, data, ax, clip=True):\n",
    "    mu = np.mean(data, axis=0)\n",
    "    lb = np.mean(data, axis=0) - np.std(data, axis=0)\n",
    "    ub = np.mean(data, axis=0) + np.std(data, axis=0)\n",
    "        \n",
    "    ax.plot(time, mu, c='k', linestyle='--', alpha=0.5, label='mean', linewidth=0.3, clip_on=clip)\n",
    "    ax.fill_between(time, lb, ub, alpha=0.3, facecolor=\"k\", label='std', clip_on=clip, zorder=10)"
   ]
  },
  {
   "cell_type": "code",
   "execution_count": null,
   "metadata": {},
   "outputs": [],
   "source": [
    "colors = ['C' + str(i) for i in range(10)]\n",
    "lss = ['-', '--']*3"
   ]
  },
  {
   "cell_type": "markdown",
   "metadata": {},
   "source": [
    "## Plot optimized stimuli"
   ]
  },
  {
   "cell_type": "code",
   "execution_count": null,
   "metadata": {},
   "outputs": [],
   "source": [
    "def plot_stim(cell_type, ax, idxs=[0], showy=True, showx=True, color=None, rmbspine=True):\n",
    "        \n",
    "    for i, idx in enumerate(idxs):\n",
    "        \n",
    "        c = color or colors[i]\n",
    "        ls = lss[i]\n",
    "    \n",
    "        ax.plot(\n",
    "            1e3*stim_time, 1e6*cell_data[cell_type]['best_stimuli'][idx,:], c=c, ls=ls\n",
    "        )\n",
    "    \n",
    "    ax.spines['right'].set_visible(False)\n",
    "    ax.spines['top'].set_visible(False)\n",
    "    \n",
    "    if showy:\n",
    "        ax.set_ylabel(r'Current ($\\mu$A)')\n",
    "        \n",
    "    if showx:\n",
    "        ax.set_xlabel(r'Time (s)')\n",
    "        ax.spines[\"bottom\"].set_position((\"axes\", -0.1))\n",
    "    else:\n",
    "        if rmbspine:\n",
    "            ax.spines['bottom'].set_visible(False)\n",
    "            ax.set_xticks([])\n",
    "        \n",
    "    ax.set_ylim(-0.52, 0.52)"
   ]
  },
  {
   "cell_type": "code",
   "execution_count": null,
   "metadata": {},
   "outputs": [],
   "source": [
    "idxs_ON = [0,1]"
   ]
  },
  {
   "cell_type": "code",
   "execution_count": null,
   "metadata": {},
   "outputs": [],
   "source": [
    "plot_stim('ON', idxs=idxs_ON, ax=plt.subplot(111))"
   ]
  },
  {
   "cell_type": "code",
   "execution_count": null,
   "metadata": {},
   "outputs": [],
   "source": [
    "idxs_OFF = [0,1]"
   ]
  },
  {
   "cell_type": "code",
   "execution_count": null,
   "metadata": {},
   "outputs": [],
   "source": [
    "plot_stim('OFF', idxs=idxs_OFF, ax=plt.subplot(111))"
   ]
  },
  {
   "cell_type": "markdown",
   "metadata": {},
   "source": [
    "##### Export data"
   ]
  },
  {
   "cell_type": "code",
   "execution_count": null,
   "metadata": {},
   "outputs": [],
   "source": [
    "data_utils.make_dir('source_data')"
   ]
  },
  {
   "cell_type": "code",
   "execution_count": null,
   "metadata": {},
   "outputs": [],
   "source": [
    "stimuli_exdf = pd.DataFrame()\n",
    "stimuli_exdf['Time/ms'] = 1e3*stim_time\n",
    "\n",
    "for idx in idxs_OFF:\n",
    "    stimuli_exdf['OFF_Current' + str(idx+1) + '/uA'] = 1e6*cell_data['OFF']['best_stimuli'][idx,:]\n",
    "    \n",
    "for idx in idxs_ON:\n",
    "    stimuli_exdf['ON_Current' + str(idx+1) + '/uA'] = 1e6*cell_data['ON']['best_stimuli'][idx,:]\n",
    "\n",
    "stimuli_exdf.to_csv('source_data/Optimized_currents.csv', float_format='%.4f', index=False)\n",
    "\n",
    "stimuli_exdf = pd.read_csv('source_data/Optimized_currents.csv')\n",
    "stimuli_exdf.plot(x='Time/ms')"
   ]
  },
  {
   "cell_type": "markdown",
   "metadata": {},
   "source": [
    "## Plot stimulus example."
   ]
  },
  {
   "cell_type": "code",
   "execution_count": null,
   "metadata": {},
   "outputs": [],
   "source": [
    "p_N = example_stim['anchor_points'].size - 3"
   ]
  },
  {
   "cell_type": "code",
   "execution_count": null,
   "metadata": {},
   "outputs": [],
   "source": [
    "def plot_stim_param(ax, showy=True, showx=True):\n",
    "        \n",
    "    ax.plot(\n",
    "        1e3*example_stim['anchor_time'],\n",
    "        1e6*example_stim['anchor_points'],\n",
    "        marker='o', ls='None', c='k', ms='3', clip_on=False\n",
    "    )\n",
    "\n",
    "    for i, (x, y) in enumerate(zip(example_stim['anchor_time'], example_stim['anchor_points'])):\n",
    "        if i == 0 or i == p_N+2:\n",
    "            ax.text(1e3*x, 1e6*y, r'  $0$')\n",
    "        elif i == p_N+1:\n",
    "            ax.text(1e3*x, 1e6*y, r'  $p^*$')\n",
    "        else:\n",
    "            ax.text(1e3*x, 1e6*y, r'  $p_' + str(i)+ '$')\n",
    "    \n",
    "    ax.plot(1e3*example_stim['time'], 1e6*example_stim['stim'], color='dimgray', clip_on=False)\n",
    "    ax.fill_between(1e3*example_stim['time'], 1e6*example_stim['stim'], alpha=0.3, color='dimgray', clip_on=False, lw=0)\n",
    "    \n",
    "    ax.spines['right'].set_visible(False)\n",
    "    ax.spines['top'].set_visible(False)\n",
    "    \n",
    "    if showy:\n",
    "        ax.set_ylabel(r'Current ($\\mu$A)')\n",
    "        \n",
    "    else:\n",
    "        ax.spines['left'].set_visible(False)\n",
    "        \n",
    "    if showx:\n",
    "        ax.set_xlabel(r'Time (ms)')\n",
    "        ax.spines[\"bottom\"].set_position((\"axes\", -0.1))\n",
    "    else:\n",
    "        ax.spines['bottom'].set_visible(False)\n",
    "        ax.set_xticks([])\n",
    "        \n",
    "    ax.set_ylim(-0.5, 0.5)"
   ]
  },
  {
   "cell_type": "code",
   "execution_count": null,
   "metadata": {},
   "outputs": [],
   "source": [
    "plot_stim_param(ax=plt.subplot(111), showx=False)"
   ]
  },
  {
   "cell_type": "markdown",
   "metadata": {},
   "source": [
    "## Plot response"
   ]
  },
  {
   "cell_type": "code",
   "execution_count": null,
   "metadata": {},
   "outputs": [],
   "source": [
    "def get_response_sorted(cell_type_opt, cell_type_show):\n",
    "    \n",
    "    if cell_type_show == 'ON': cell_type_show = 'CBC5o'\n",
    "    if cell_type_show == 'OFF': cell_type_show = 'CBC3a'\n",
    "    \n",
    "    d_sort_idx = np.argsort(cell_data[cell_type_opt]['samples']['loss']['total'])\n",
    "    rates_sorted = cell_data[cell_type_opt]['samples'][cell_type_show]['rate'][d_sort_idx]\n",
    "    \n",
    "    return rates_sorted\n",
    "\n",
    "def plot_response(cell_type_opt, cell_type_show, ax, idxs=[0], showx=True, showy=True, cumrel=True):\n",
    "\n",
    "    rrps = cell_data[cell_type_show]['rrps']\n",
    "    rates_sorted = get_response_sorted(cell_type_opt, cell_type_show)\n",
    "    \n",
    "    if cumrel:\n",
    "        rates_sorted = np.cumsum(rates_sorted*np.mean(np.diff(rec_time)), axis=1) / rrps\n",
    "    \n",
    "    for i, idx in enumerate(idxs):\n",
    "        color = colors[i]\n",
    "        ls = lss[i]\n",
    "        \n",
    "        ax.plot(1e3*rec_time, np.mean(rates_sorted[idx,:], axis=-1), color=color, clip_on=False, ls=ls)\n",
    "        \n",
    "        ax.fill_between(\n",
    "            1e3*rec_time,\n",
    "            np.min(rates_sorted[idx,:], axis=-1),\n",
    "            np.max(rates_sorted[idx,:], axis=-1),\n",
    "            alpha=0.4, color=color, lw=0.0, clip_on=False,\n",
    "        )\n",
    "        \n",
    "    if showy:\n",
    "        if cumrel:\n",
    "            ax.set_ylabel(r'Cumulative' + '\\n' + 'release / $v^{max}_{RRP}$')\n",
    "            ax.set_yticks([0,1])\n",
    "        else:\n",
    "            ax.set_ylabel(r'Rate (ves./s)')\n",
    "    else:\n",
    "        ax.spines['left'].set_visible(False)\n",
    "        ax.set_yticks([])\n",
    "        \n",
    "    if showx:\n",
    "        ax.set_xlabel(r'Time (ms)')\n",
    "        ax.spines[\"bottom\"].set_position((\"axes\", -0.1))\n",
    "    else:\n",
    "        ax.spines['bottom'].set_visible(False)\n",
    "        ax.set_xticks([])\n",
    "        \n",
    "    ax.spines['right'].set_visible(False)\n",
    "    ax.spines['top'].set_visible(False)\n",
    "    \n",
    "    ax.set_ylim(0, rate_ylim)"
   ]
  },
  {
   "cell_type": "code",
   "execution_count": null,
   "metadata": {},
   "outputs": [],
   "source": [
    "rate_ylim = 1"
   ]
  },
  {
   "cell_type": "code",
   "execution_count": null,
   "metadata": {},
   "outputs": [],
   "source": [
    "plot_response('ON', 'ON', ax=plt.subplot(111), idxs=idxs_ON, showx=False, showy=True)"
   ]
  },
  {
   "cell_type": "markdown",
   "metadata": {},
   "source": [
    "##### Export data"
   ]
  },
  {
   "cell_type": "code",
   "execution_count": null,
   "metadata": {},
   "outputs": [],
   "source": [
    "for cell_type_opt in ['ON', 'OFF']:\n",
    "    if cell_type_opt == 'ON': stim_idxs = idxs_ON\n",
    "    if cell_type_opt == 'OFF': stim_idxs = idxs_OFF\n",
    "        \n",
    "    for stim_idx in stim_idxs:\n",
    "        for cell_type_show in ['ON', 'OFF']:\n",
    "            rates_sorted = get_response_sorted(cell_type_opt, cell_type_show)\n",
    "\n",
    "            response_exdf = pd.DataFrame()\n",
    "            response_exdf['Time/ms'] = 1e3*rec_time\n",
    "\n",
    "            for cell_idx in range(rates_sorted.shape[-1]):\n",
    "                response_exdf[cell_type_show + ' cell' + str(cell_idx+1) + ': Release/(ves/s)'] =\\\n",
    "                    rates_sorted[stim_idx,:,cell_idx]\n",
    "\n",
    "            filename = 'source_data/' + cell_type_opt + '_Current' + str(stim_idx+1) + '_' + cell_type_show + '_Release.csv'\n",
    "            print(filename)\n",
    "            response_exdf.to_csv(filename, float_format='%.4f', index=False)"
   ]
  },
  {
   "cell_type": "code",
   "execution_count": null,
   "metadata": {},
   "outputs": [],
   "source": [
    "for cell_type_opt in ['ON', 'OFF']:\n",
    "    if cell_type_opt == 'ON': stim_idxs = idxs_ON\n",
    "    if cell_type_opt == 'OFF': stim_idxs = idxs_OFF\n",
    "        \n",
    "    fig, axs = plt.subplots(1,4,figsize=(12,3), sharey=True)\n",
    "        \n",
    "    i = 0\n",
    "    for stim_idx in stim_idxs:\n",
    "        for cell_type_show in ['ON', 'OFF']:\n",
    "            filename = 'source_data/' + cell_type_opt + '_Current' + str(stim_idx+1) + '_' + cell_type_show + '_Release.csv'\n",
    "            response_exdf = pd.read_csv(filename)\n",
    "            axs[i].set_title(cell_type_opt + 'stim/response' + cell_type_show)\n",
    "            rrps = cell_data[cell_type_show]['rrps']\n",
    "            axs[i].plot(response_exdf['Time/ms'],\n",
    "                        np.cumsum(response_exdf.iloc[:,1:]*np.mean(np.diff(rec_time)), axis=0) / rrps)\n",
    "            i += 1\n",
    "    plt.show()"
   ]
  },
  {
   "cell_type": "code",
   "execution_count": null,
   "metadata": {},
   "outputs": [],
   "source": [
    "pd.DataFrame({'ON': cell_data['ON']['rrps'], 'OFF': cell_data['OFF']['rrps']},\n",
    "             index=['Cell'+str(i+1) for i in range(5)]).to_csv('source_data/RRP_sizes.csv', float_format=\"%.4f\")"
   ]
  },
  {
   "cell_type": "markdown",
   "metadata": {},
   "source": [
    "## Plot Vext"
   ]
  },
  {
   "cell_type": "code",
   "execution_count": null,
   "metadata": {},
   "outputs": [],
   "source": [
    "scale_factor = 1e6\n",
    "Vm_scale_factor = 1e3"
   ]
  },
  {
   "cell_type": "code",
   "execution_count": null,
   "metadata": {},
   "outputs": [],
   "source": [
    "def plot_Vext(ax, Vext_file, retina_h=105, ames_h=35, plot_r=None, el_r=None):\n",
    "    \n",
    "    Vext = pd.read_csv(Vext_file, comment=\"%\", header=None, names=['x', 'r', 'V'])\n",
    "    Vim  = interpolation_utils.interpolate_xyz2grid(Vext['x'], Vext['r'], Vext['V'])[2]\n",
    "    Vim  = np.concatenate([np.fliplr(Vim),Vim[:,1:]], axis=1)*Vm_scale_factor # Mirror.\n",
    "    \n",
    "    ax.axis('off')\n",
    "    \n",
    "    w = Vext['r'].max()*scale_factor\n",
    "    h = Vext['x'].max()*scale_factor\n",
    "    \n",
    "    heatmap = ax.imshow(\n",
    "        Vim, origin='lower', cmap='Reds', extent=(-w, w, 0, h),\n",
    "        vmin=0, interpolation='bicubic', vmax=100\n",
    "    )\n",
    "    \n",
    "    if el_r is not None:\n",
    "        ax.fill_between([-el_r, el_r], [-2,-2], [0, 0], color='k', lw=0, clip_on=False)\n",
    "    \n",
    "    ax.text(-plot_r+5, retina_h+35/2, 'Ames\\' medium', verticalalignment='center', c='gray')\n",
    "    ax.text(-plot_r+5, retina_h-35/2, 'Retina', verticalalignment='center', c='gray')\n",
    "    \n",
    "    ax.plot([30, 30], [25, 75], c='k')\n",
    "    ax.text(40, 50, r\"50 $\\mu m$\", va='center', ha='left')\n",
    "    \n",
    "    if plot_r is not None:\n",
    "        ax.set_xlim((-plot_r, plot_r))\n",
    "    else:\n",
    "        ax.set_xlim(-w, w)\n",
    "    ax.set_ylim(0, retina_h + ames_h)\n",
    "    \n",
    "    ax.axhline(retina_h, c='k', linestyle='--')        \n",
    "  \n",
    "    ytop = 27\n",
    "    ybot = 6\n",
    "    ax.plot([-28, -28], [ybot, ytop], c='dimgray')\n",
    "    ax.text(-32, ybot+(ytop-ybot)*0.5, r\"Dendrites\", va='center', ha='right')\n",
    "        \n",
    "    ytop = 65\n",
    "    ybot = 36\n",
    "    ax.plot([-28, -28], [ybot, ytop], c='dimgray')\n",
    "    ax.text(-32, ybot+(ytop-ybot)*0.5, r\"Axon\", va='center', ha='right')"
   ]
  },
  {
   "cell_type": "code",
   "execution_count": null,
   "metadata": {},
   "outputs": [],
   "source": [
    "def plot_comps(ax, comps_file, scale_comps):\n",
    "    \n",
    "    cell_comps = pd.read_csv(comps_file, names=['x', 'y', 'z'], delim_whitespace=True)\n",
    "    \n",
    "    ax.scatter(\n",
    "        cell_comps['x']*scale_factor, cell_comps['z']*scale_factor,\n",
    "        marker='o', color=\"k\", alpha=1, s=scale_comps, facecolor='white', zorder=20, lw=scale_comps/5\n",
    "    )\n",
    "    ax.scatter(\n",
    "        cell_comps['x'][0]*scale_factor, cell_comps['z'][0]*scale_factor,\n",
    "        marker='o', color=\"k\", alpha=1, s=scale_comps*4, facecolor='white', zorder=20, lw=scale_comps/5\n",
    "    )\n",
    "    \n",
    "    zsoma = cell_comps.loc[0]['z']\n",
    "    \n",
    "    relzs = cell_comps['z'].values - zsoma\n",
    "    \n",
    "    nextcomp1 = np.argmin(relzs + (relzs<=0)*1000)\n",
    "    nextcomp2 = np.argmax(relzs + (relzs>=0)*-1000)\n",
    "    \n",
    "    def plot_line(comp1, comp2):\n",
    "        ax.plot(\n",
    "            np.array([cell_comps['x'][comp1], cell_comps['x'][comp2]])*scale_factor,\n",
    "            np.array([cell_comps['z'][comp1], cell_comps['z'][comp2]])*scale_factor,\n",
    "            color=\"dimgray\", alpha=1, lw=scale_comps/2\n",
    "        )\n",
    "    \n",
    "    plot_line(comp1=0, comp2=nextcomp1)\n",
    "    plot_line(comp1=0, comp2=nextcomp2)"
   ]
  },
  {
   "cell_type": "code",
   "execution_count": null,
   "metadata": {},
   "outputs": [],
   "source": [
    "comps_file = os.path.join('..', '..', 'COMSOL2retsim_interface', 'comsol_input', 'global', 'ON.csv')\n",
    "cell_comps = pd.read_csv(comps_file, names=['x', 'y', 'z'], delim_whitespace=True)"
   ]
  },
  {
   "cell_type": "code",
   "execution_count": null,
   "metadata": {},
   "outputs": [],
   "source": [
    "def plot_Vext_and_comps(ax, cell, scale_comps=8, plot_r=105):\n",
    "\n",
    "    Vext_file = os.path.join('..', 'gen_Vext', 'Vext_simple.csv')\n",
    "    comps_file = os.path.join('..', '..', 'COMSOL2retsim_interface', 'comsol_input', 'global', f'{cell}.csv')\n",
    "\n",
    "    assert os.path.isfile(comps_file)\n",
    "\n",
    "    plot_Vext(ax, Vext_file, retina_h=105, plot_r=plot_r, el_r=15)\n",
    "    plot_comps(ax, comps_file, scale_comps=scale_comps)"
   ]
  },
  {
   "cell_type": "code",
   "execution_count": null,
   "metadata": {},
   "outputs": [],
   "source": [
    "fig, ax = plt.subplots(1,1,figsize=(3,2))\n",
    "plot_Vext_and_comps(ax=ax, cell='ON', scale_comps=2)"
   ]
  },
  {
   "cell_type": "markdown",
   "metadata": {},
   "source": [
    "# Make paper figure"
   ]
  },
  {
   "cell_type": "code",
   "execution_count": null,
   "metadata": {},
   "outputs": [],
   "source": [
    "fig, axs = plt.subplots(3,3, figsize=(5.6,2.7), gridspec_kw=dict(height_ratios=[1,1,1]))\n",
    "\n",
    "# Stimulus column.\n",
    "axs[0,0].set_title('A              ', loc='left', ha='right', fontweight=\"bold\")\n",
    "axs[1,0].set_title('C              ', loc='left', ha='right', fontweight=\"bold\")\n",
    "axs[2,0].set_title('E              ', loc='left', ha='right', fontweight=\"bold\")\n",
    "\n",
    "plot_stim_param(ax=axs[0,0], showx=False)\n",
    "plot_stim(ax=axs[1,0], cell_type='OFF', showx=False, idxs=idxs_OFF)\n",
    "plot_stim(ax=axs[2,0], cell_type='ON', idxs=idxs_ON)\n",
    "\n",
    "# Vext row.\n",
    "axs[0,1].set_title('B i            ', loc='left', ha='right', fontweight=\"bold\")\n",
    "axs[0,1].set_title('OFF', loc='center', ha='center')\n",
    "axs[0,1].axis('off')\n",
    "\n",
    "axs[0,2].set_title('B ii ', loc='left', ha='right', fontweight=\"bold\")\n",
    "axs[0,2].set_title('ON', loc='center', ha='center')\n",
    "axs[0,2].axis('off')\n",
    "\n",
    "# Response to OFF stimulus.\n",
    "rate_ylim = 1\n",
    "\n",
    "axs[1,1].set_title('D i            ', loc='left', ha='right', fontweight=\"bold\")\n",
    "plot_response(ax=axs[1,1], cell_type_opt='OFF', cell_type_show='OFF', showx=False, showy=True, idxs=idxs_OFF)\n",
    "\n",
    "axs[1,2].set_title('D ii ', loc='left', ha='right', fontweight=\"bold\")\n",
    "plot_response(ax=axs[1,2], cell_type_opt='OFF', cell_type_show='ON', showx=False, showy=False, idxs=idxs_OFF)\n",
    "\n",
    "# Response to ON stimulus.\n",
    "rate_ylim = 1\n",
    "\n",
    "axs[2,1].set_title('F i            ', loc='left', ha='right', fontweight=\"bold\")\n",
    "plot_response(ax=axs[2,1], cell_type_opt='ON', cell_type_show='OFF', showx=True, showy=True, idxs=idxs_ON)\n",
    "\n",
    "axs[2,2].set_title('F ii ', loc='left', ha='right', fontweight=\"bold\")\n",
    "plot_response(ax=axs[2,2], cell_type_opt='ON', cell_type_show='ON', showx=True, showy=False, idxs=idxs_ON)\n",
    "\n",
    "fig.align_ylabels(axs)\n",
    "plt.tight_layout(w_pad=-0.2, h_pad=0.1, rect=[-0.02,-0.03,1.02,1.04])\n",
    "\n",
    "for ax in axs[:,1]:\n",
    "    ax.set_position(np.array(ax.get_position().bounds) + [0.04, 0,0,0])\n",
    "\n",
    "# Plot Vext.\n",
    "plot_Vext_and_comps(ax=fig.add_axes(axs[0,1].get_position().bounds), cell='OFF', scale_comps=0.6, plot_r=150)\n",
    "plot_Vext_and_comps(ax=fig.add_axes(axs[0,2].get_position().bounds), cell='ON', scale_comps=0.6, plot_r=150)\n",
    "    \n",
    "plt.savefig(f'../_figures/fig{fig_num}_optimized_stimuli.pdf')\n",
    "plt.show()"
   ]
  },
  {
   "cell_type": "markdown",
   "metadata": {},
   "source": [
    "# Make appendix figure"
   ]
  },
  {
   "cell_type": "code",
   "execution_count": null,
   "metadata": {},
   "outputs": [],
   "source": [
    "os.listdir('removed_ion_channels')"
   ]
  },
  {
   "cell_type": "code",
   "execution_count": null,
   "metadata": {},
   "outputs": [],
   "source": [
    "cell_colors = ['darkgreen', 'steelblue']\n",
    "cell_lss = ['-', (0, (5,2))]"
   ]
  },
  {
   "cell_type": "code",
   "execution_count": null,
   "metadata": {},
   "outputs": [],
   "source": [
    "def extract_data_list(rec_type, rec_data_cell, cum_rate=True):\n",
    "\n",
    "    if rec_type == 'rate':\n",
    "        cols = [col for col in rec_data_cell[0]['Data'].columns if 'rate' in col]\n",
    "\n",
    "    elif rec_type == 'Vext':\n",
    "        cols_V = []\n",
    "        cols_Vm = []\n",
    "        for col in rec_data_cell[0]['Data'].columns:\n",
    "            if 'rate' in col:\n",
    "                node = int(col[col.find('(')+1:col.find(')')])\n",
    "                cols_V.append('V (' + str(node) + ')')\n",
    "                cols_Vm.append('Vm (' + str(node) + ')')\n",
    "\n",
    "    else:\n",
    "        cols = []\n",
    "        for col in rec_data_cell[0]['Data'].columns:\n",
    "            if 'rate' in col:\n",
    "                node = int(col[col.find('(')+1:col.find(')')])\n",
    "                cols.append(rec_type + ' (' + str(node) + ')')\n",
    "\n",
    "    cell_type = 'ON' if rec_data_cell[0]['cell'] == 'CBC5o' else 'OFF'\n",
    "        \n",
    "    if rec_type == 'Ca':\n",
    "        unit_factor = 1e6\n",
    "    elif 'V' in rec_type:\n",
    "        unit_factor = 1e3\n",
    "    else:\n",
    "        unit_factor = 1\n",
    "        \n",
    "    data_list = []\n",
    "        \n",
    "    for idx, rec_data in enumerate(rec_data_cell):\n",
    "        if rec_type == 'Vext':\n",
    "            data = rec_data['Data'].loc[:,cols_V].values - rec_data['Data'].loc[:,cols_Vm].values\n",
    "        else:\n",
    "            data = rec_data['Data'].loc[:,cols].values\n",
    "        \n",
    "        if rec_type == 'rate' and cum_rate:\n",
    "            data = np.cumsum(data, axis=0)*(rec_time[1] - rec_time[0]) / cell_data[cell_type]['rrps'][idx]\n",
    "            \n",
    "        data_list.append(data*unit_factor)\n",
    "        \n",
    "    return data_list, cell_type"
   ]
  },
  {
   "cell_type": "code",
   "execution_count": null,
   "metadata": {},
   "outputs": [],
   "source": [
    "N_param_sets = 5\n",
    "\n",
    "def plot_synapses_mean_and_uncertainty(ax, rec_data_stim, rec_type, rm_offset, mean_kw={\"lw\": 0.8}):\n",
    "    \n",
    "    assert len(rec_data_stim) == 2*N_param_sets\n",
    "    \n",
    "    for idx, rec_data_cell in enumerate([rec_data_stim[N_param_sets:], rec_data_stim[:N_param_sets]]):\n",
    "\n",
    "        color = cell_colors[idx]\n",
    "        ls = cell_lss[idx]\n",
    "        \n",
    "        data_list, cell_type = extract_data_list(rec_type, rec_data_cell)\n",
    "        \n",
    "        for idx, data in enumerate(data_list):         \n",
    "\n",
    "            mu = np.mean(data, axis=1)\n",
    "            if rm_offset: mu -= mu[0]\n",
    "\n",
    "            ax.plot(rec_time*1e3, mu, **mean_kw, color=color, ls=ls, clip_on=False, label=cell_type)\n",
    "            \n",
    "            if rec_type == 'Vext': break"
   ]
  },
  {
   "cell_type": "code",
   "execution_count": null,
   "metadata": {},
   "outputs": [],
   "source": [
    "ABC = 'ABCDEFGHIJK'\n",
    "\n",
    "def set_titles(ax_row, rowi):\n",
    "    ax_row[0].set_title(ABC[rowi] + '                  ', loc='left', fontweight=\"bold\", ha='right', va='top')"
   ]
  },
  {
   "cell_type": "code",
   "execution_count": null,
   "metadata": {},
   "outputs": [],
   "source": [
    "import seaborn as sns\n",
    "\n",
    "sbnx = 3\n",
    "sbny = 7\n",
    "\n",
    "height_ratios = np.full(sbny, 1)\n",
    "height_ratios[3] = 0.5\n",
    "\n",
    "fig, axs = plt.subplots(sbny, sbnx, figsize=(5.6,sbny*0.75), squeeze=False, sharey='row', sharex=True,\n",
    "                        gridspec_kw=dict(height_ratios=height_ratios))\n",
    "\n",
    "rowi = 0\n",
    "\n",
    "ax_row = axs[rowi, :]; set_titles(ax_row, rowi); rowi += 1;\n",
    "plot_stim('ON',  ax_row[0], idxs=[0], showy=True, showx=False, color='k', rmbspine=False)\n",
    "plot_stim('ON',  ax_row[1], idxs=[1], showy=False, showx=False, color='k', rmbspine=False)\n",
    "plot_stim('OFF', ax_row[2], idxs=[0], showy=False, showx=False, color='k', rmbspine=False)\n",
    "\n",
    "# All channels\n",
    "rec_data_modified = data_utils.load_var(os.path.join('removed_ion_channels', 'all_params.pkl'))[1]\n",
    "\n",
    "ax_row = axs[rowi, :]; set_titles(ax_row, rowi); rowi += 1;\n",
    "ax_row[0].set_ylabel(r'V$_\\mathrm{ex}$ (mV)')\n",
    "ax_row[0].set_ylim(-10, 10)\n",
    "plot_synapses_mean_and_uncertainty(ax_row[0], rec_data_modified[0], rec_type='Vext', rm_offset=False)\n",
    "plot_synapses_mean_and_uncertainty(ax_row[1], rec_data_modified[1], rec_type='Vext', rm_offset=False)\n",
    "plot_synapses_mean_and_uncertainty(ax_row[2], rec_data_modified[2], rec_type='Vext', rm_offset=False)\n",
    "\n",
    "ax_row[-1].legend(\n",
    "    handlelength=1.4,\n",
    "    loc='upper right', borderaxespad=0., labelspacing=0.1, frameon=False, #bbox_to_anchor=(0, 1)\n",
    ")\n",
    "\n",
    "ax_row = axs[rowi, :]; set_titles(ax_row, rowi); rowi += 1;\n",
    "ax_row[0].set_ylabel(r'$\\Delta$ V$_\\mathrm{m}$ (mV)')\n",
    "ax_row[0].set_ylim(-15, 15)\n",
    "plot_synapses_mean_and_uncertainty(ax_row[0], rec_data_modified[0], rec_type='Vm', rm_offset=True)\n",
    "plot_synapses_mean_and_uncertainty(ax_row[1], rec_data_modified[1], rec_type='Vm', rm_offset=True)\n",
    "plot_synapses_mean_and_uncertainty(ax_row[2], rec_data_modified[2], rec_type='Vm', rm_offset=True)\n",
    "\n",
    "# Some space.\n",
    "\n",
    "ax_row = axs[rowi, :]; rowi += 1;\n",
    "for ax in ax_row: ax.axis('off')\n",
    "\n",
    "ax_row = axs[rowi, :]; set_titles(ax_row, rowi-1); rowi += 1;\n",
    "ax_row[0].set_ylabel(r'Cumulative' + '\\n' + 'release / $v^{max}_{RRP}$')\n",
    "ax_row[0].set_yticks([0,1])\n",
    "ax_row[0].set_ylim([0,1.1])\n",
    "plot_synapses_mean_and_uncertainty(ax_row[0], rec_data_modified[0], rec_type='rate', rm_offset=True)\n",
    "plot_synapses_mean_and_uncertainty(ax_row[1], rec_data_modified[1], rec_type='rate', rm_offset=True)\n",
    "plot_synapses_mean_and_uncertainty(ax_row[2], rec_data_modified[2], rec_type='rate', rm_offset=True)\n",
    "\n",
    "# Without T-Type channel\n",
    "rec_data_modified = data_utils.load_var(os.path.join('removed_ion_channels', 'rm_T_at.pkl'))[1]\n",
    "\n",
    "ax_row = axs[rowi, :]; set_titles(ax_row, rowi-1); rowi += 1;\n",
    "ax_row[0].set_ylabel(r'Cumulative' + '\\n' + 'release / $v^{max}_{RRP}$')\n",
    "ax_row[0].set_yticks([0,1])\n",
    "ax_row[0].set_ylim([0,1.1])\n",
    "plot_synapses_mean_and_uncertainty(ax_row[0], rec_data_modified[0], rec_type='rate', rm_offset=True)\n",
    "plot_synapses_mean_and_uncertainty(ax_row[1], rec_data_modified[1], rec_type='rate', rm_offset=True)\n",
    "plot_synapses_mean_and_uncertainty(ax_row[2], rec_data_modified[2], rec_type='rate', rm_offset=True)\n",
    "\n",
    "# Without L-Type channel for OFF cell.\n",
    "rec_data_modified = data_utils.load_var(os.path.join('removed_ion_channels', 'rm_L_at.pkl'))[1]\n",
    "\n",
    "ax_row = axs[rowi, :]; set_titles(ax_row, rowi-1); rowi += 1;\n",
    "ax_row[0].set_ylabel(r'Cumulative' + '\\n' + 'release / $v^{max}_{RRP}$')\n",
    "ax_row[0].set_yticks([0,1])\n",
    "ax_row[0].set_ylim([0,1.1])\n",
    "plot_synapses_mean_and_uncertainty(ax_row[0], rec_data_modified[0], rec_type='rate', rm_offset=True)\n",
    "plot_synapses_mean_and_uncertainty(ax_row[1], rec_data_modified[1], rec_type='rate', rm_offset=True)\n",
    "plot_synapses_mean_and_uncertainty(ax_row[2], rec_data_modified[2], rec_type='rate', rm_offset=True)\n",
    "\n",
    "for ax in ax_row: ax.set_xlabel('Time (ms)')\n",
    "\n",
    "sns.despine()\n",
    "fig.align_ylabels()\n",
    "plt.tight_layout(h_pad=0.1)\n",
    "\n",
    "plt.savefig(f'../_figures_apx/figapx{fig_num}_optimized_stimuli_rm_channels.pdf')\n",
    "plt.show()"
   ]
  },
  {
   "cell_type": "markdown",
   "metadata": {},
   "source": [
    "##### Export"
   ]
  },
  {
   "cell_type": "code",
   "execution_count": null,
   "metadata": {},
   "outputs": [],
   "source": [
    "for cell_type_opt in ['ON', 'OFF']:\n",
    "    if cell_type_opt == 'ON':\n",
    "        stim_idxs = [0,1]\n",
    "    if cell_type_opt == 'OFF':\n",
    "        stim_idxs = [2]\n",
    "        \n",
    "    for ca_type in ['T', 'L']:\n",
    "        rec_data_modified = data_utils.load_var(os.path.join('removed_ion_channels', 'rm_' + ca_type + '_at.pkl'))[1]\n",
    "        \n",
    "        for stim_idx in stim_idxs:\n",
    "            response_exdf = pd.DataFrame()\n",
    "            response_exdf['Time/ms'] = 1e3*rec_time\n",
    "\n",
    "            rate_list, _ = extract_data_list(\n",
    "                'rate', rec_data_modified[stim_idx][5:], cum_rate=False)\n",
    "            \n",
    "            for cell_idx, rate in enumerate(rate_list):\n",
    "                response_exdf['OFF' + ' cell' + str(cell_idx+1) + ': Release/(ves./s)'] = rate.mean(axis=1)\n",
    "\n",
    "            filename = f'source_data/cell_type_opt_Current{stim_idx%2+1}_OFF_Release_rm_Ca_{ca_type}.csv'\n",
    "            print(filename)\n",
    "            response_exdf.to_csv(filename, float_format='%.4f', index=False)"
   ]
  },
  {
   "cell_type": "markdown",
   "metadata": {},
   "source": [
    "##### Test"
   ]
  },
  {
   "cell_type": "code",
   "execution_count": null,
   "metadata": {},
   "outputs": [],
   "source": [
    "for ca_type in ['T', 'L']:   \n",
    "    fig, axs = plt.subplots(1,3,figsize=(12,3), sharey=True, subplot_kw=dict(ylim=(0,1.2)))\n",
    "        \n",
    "    filenames = [filename for filename in os.listdir('source_data') if 'rm_Ca_'+ca_type in filename]\n",
    "        \n",
    "    for ax, filename in zip(axs, np.flip(filenames)):\n",
    "        response_exdf = pd.read_csv('source_data/' + filename)\n",
    "        ax.set_title(filename, fontsize=8)\n",
    "        ax.plot(response_exdf['Time/ms'],\n",
    "                np.cumsum(response_exdf.iloc[:,1:]*np.mean(np.diff(rec_time)), axis=0) / cell_data['OFF']['rrps'],\n",
    "                c='green')\n",
    "    plt.show()"
   ]
  },
  {
   "cell_type": "markdown",
   "metadata": {},
   "source": [
    "##### Export"
   ]
  },
  {
   "cell_type": "code",
   "execution_count": null,
   "metadata": {},
   "outputs": [],
   "source": [
    "rec_data_modified = data_utils.load_var(os.path.join('removed_ion_channels', 'all_params.pkl'))[1]\n",
    "\n",
    "for rec_data_stim, (stim_idx, cell_type_opt) in zip(rec_data_modified, [(0, 'ON'), (1, 'ON'), (0, 'OFF')]):\n",
    "    for cell_type_show in ['ON', 'OFF']:\n",
    "       \n",
    "        cell_idxs = (0,5) if cell_type_show == 'ON' else (5,10)\n",
    "\n",
    "        response_exdf = pd.DataFrame()\n",
    "        response_exdf['Time/ms'] = 1e3*rec_time\n",
    "\n",
    "        Vex_list, _ = extract_data_list(\n",
    "            'Vext', rec_data_stim[cell_idxs[0]:cell_idxs[1]])\n",
    "\n",
    "        for comp_idx, Vext in enumerate(Vex_list[0].T):\n",
    "            response_exdf[f'{cell_type_show} compartment{comp_idx+1}: Extracellular voltage/mV'] = Vext\n",
    "\n",
    "        Vm_list, _ = extract_data_list(\n",
    "            'Vm', rec_data_modified[stim_idx][cell_idxs[0]:cell_idxs[1]])\n",
    "\n",
    "        for cell_idx, Vm_cell in enumerate(Vm_list):\n",
    "            for comp_idx, Vm in enumerate(Vm_cell.T):\n",
    "                response_exdf[f'{cell_type_show} cell{cell_idx+1} compartment{comp_idx+1}: Membrane voltage/mV'] = Vext\n",
    "\n",
    "        filename = f'source_data/{cell_type_opt}_Current{stim_idx+1}_{cell_type_show}_Vext_and_Vm.csv'\n",
    "        print(filename)\n",
    "        response_exdf.to_csv(filename, float_format='%.4f', index=False)"
   ]
  },
  {
   "cell_type": "markdown",
   "metadata": {},
   "source": [
    "##### Test"
   ]
  },
  {
   "cell_type": "code",
   "execution_count": null,
   "metadata": {},
   "outputs": [],
   "source": [
    "fig, axs = plt.subplots(2,3,figsize=(12,3))\n",
    "\n",
    "for ax_col, (stim_idx, cell_type_opt) in zip(axs.T, [(0, 'ON'), (1, 'ON'), (0, 'OFF')]):   \n",
    "    for cell_type_show in ['ON', 'OFF']:\n",
    "\n",
    "        color = 'b' if cell_type_show == 'ON' else 'green'\n",
    "\n",
    "        filename = f'source_data/{cell_type_opt}_Current{stim_idx+1}_{cell_type_show}_Vext_and_Vm.csv'\n",
    "        \n",
    "        df = pd.read_csv(filename)\n",
    "        ax_col[0].plot(df['Time/ms'], df[[col for col in df.columns if 'Ex' in col]].mean(axis=1),\n",
    "                       c=color, label=cell_type_show)\n",
    "        ax_col[0].set_title(filename.split('/')[-1])\n",
    "        ax_col[0].legend()\n",
    "        \n",
    "        ax_col[1].plot(df['Time/ms'], df[[col for col in df.columns if 'Mem' in col]].mean(axis=1),\n",
    "                       c=color, label=cell_type_show)\n",
    "        ax_col[1].set_title(filename.split('/')[-1])\n",
    "        ax_col[1].legend()\n",
    "plt.tight_layout()"
   ]
  },
  {
   "cell_type": "code",
   "execution_count": null,
   "metadata": {},
   "outputs": [],
   "source": []
  }
 ],
 "metadata": {
  "hide_input": false,
  "kernelspec": {
   "display_name": "Python 3",
   "language": "python",
   "name": "python3"
  },
  "language_info": {
   "codemirror_mode": {
    "name": "ipython",
    "version": 3
   },
   "file_extension": ".py",
   "mimetype": "text/x-python",
   "name": "python",
   "nbconvert_exporter": "python",
   "pygments_lexer": "ipython3",
   "version": "3.7.5"
  },
  "toc": {
   "base_numbering": 1,
   "nav_menu": {},
   "number_sections": true,
   "sideBar": true,
   "skip_h1_title": false,
   "title_cell": "Table of Contents",
   "title_sidebar": "Contents",
   "toc_cell": false,
   "toc_position": {
    "height": "calc(100% - 180px)",
    "left": "10px",
    "top": "150px",
    "width": "349.047px"
   },
   "toc_section_display": true,
   "toc_window_display": true
  },
  "varInspector": {
   "cols": {
    "lenName": 16,
    "lenType": 16,
    "lenVar": 40
   },
   "kernels_config": {
    "python": {
     "delete_cmd_postfix": "",
     "delete_cmd_prefix": "del ",
     "library": "var_list.py",
     "varRefreshCmd": "print(var_dic_list())"
    },
    "r": {
     "delete_cmd_postfix": ") ",
     "delete_cmd_prefix": "rm(",
     "library": "var_list.r",
     "varRefreshCmd": "cat(var_dic_list()) "
    }
   },
   "types_to_exclude": [
    "module",
    "function",
    "builtin_function_or_method",
    "instance",
    "_Feature"
   ],
   "window_display": false
  }
 },
 "nbformat": 4,
 "nbformat_minor": 2
}
