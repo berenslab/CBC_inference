{
 "cells": [
  {
   "cell_type": "markdown",
   "metadata": {},
   "source": [
    "# Imports"
   ]
  },
  {
   "cell_type": "code",
   "execution_count": null,
   "metadata": {},
   "outputs": [],
   "source": [
    "import importlib\n",
    "import numpy as np\n",
    "from matplotlib import pyplot as plt\n",
    "from matplotlib import lines\n",
    "import os\n",
    "import sys\n",
    "import seaborn as sns"
   ]
  },
  {
   "cell_type": "code",
   "execution_count": null,
   "metadata": {},
   "outputs": [],
   "source": [
    "pythoncodepath = os.path.abspath(os.path.join('..', '..', '_pythoncode'))\n",
    "sys.path = [pythoncodepath] + sys.path\n",
    "\n",
    "import importhelper\n",
    "importhelper.addfolders2path(pythoncodepath)"
   ]
  },
  {
   "cell_type": "code",
   "execution_count": null,
   "metadata": {},
   "outputs": [],
   "source": [
    "import data_utils\n",
    "import plot_utils"
   ]
  },
  {
   "cell_type": "code",
   "execution_count": null,
   "metadata": {},
   "outputs": [],
   "source": [
    "plot_utils.set_rcParams()"
   ]
  },
  {
   "cell_type": "code",
   "execution_count": null,
   "metadata": {},
   "outputs": [],
   "source": [
    "fig_num = os.getcwd().split('/')[-1][3:5]\n",
    "print(fig_num)"
   ]
  },
  {
   "cell_type": "markdown",
   "metadata": {},
   "source": [
    "# Get data"
   ]
  },
  {
   "cell_type": "code",
   "execution_count": null,
   "metadata": {},
   "outputs": [],
   "source": [
    "cbc_optim_folder = os.path.join('..', '..', 'step2a_optimize_cbc', 'optim_data')"
   ]
  },
  {
   "cell_type": "code",
   "execution_count": null,
   "metadata": {},
   "outputs": [],
   "source": [
    "sorted(os.listdir(cbc_optim_folder))"
   ]
  },
  {
   "cell_type": "code",
   "execution_count": null,
   "metadata": {},
   "outputs": [],
   "source": [
    "cell2folder = {\n",
    "    'OFF':  os.path.join(cbc_optim_folder, 'optimize_OFF_submission2'),\n",
    "    'ON':   os.path.join(cbc_optim_folder, 'optimize_ON_submission2'),\n",
    "}"
   ]
  },
  {
   "cell_type": "code",
   "execution_count": null,
   "metadata": {},
   "outputs": [],
   "source": [
    "priors = {}\n",
    "posteriors = {}\n",
    "params = {}\n",
    "best_params = {}\n",
    "\n",
    "for cell, folder in cell2folder.items():\n",
    "    sample_distributions = data_utils.load_var(os.path.join(folder, 'snpe', 'sample_distributions.pkl'))\n",
    "        \n",
    "    priors[cell] = sample_distributions[0]\n",
    "    posteriors[cell] = sample_distributions[-1]\n",
    "    \n",
    "    params[cell] = data_utils.load_var(os.path.join(folder, 'params.pkl'))\n",
    "    \n",
    "    best_params[cell] = data_utils.load_var(os.path.join(folder, 'post_data', 'final_model_output.pkl'))['params']"
   ]
  },
  {
   "cell_type": "markdown",
   "metadata": {},
   "source": [
    "# Export data"
   ]
  },
  {
   "cell_type": "code",
   "execution_count": null,
   "metadata": {},
   "outputs": [],
   "source": [
    "import pandas as pd"
   ]
  },
  {
   "cell_type": "code",
   "execution_count": null,
   "metadata": {},
   "outputs": [],
   "source": [
    "data_utils.make_dir('source_data')"
   ]
  },
  {
   "cell_type": "code",
   "execution_count": null,
   "metadata": {},
   "outputs": [],
   "source": [
    "for cell in cell2folder.keys():\n",
    "    p_names_i = params[cell].p_names\n",
    "    p_range_i = np.asarray(list(params[cell].p_range.values()))\n",
    "    \n",
    "    bounds_df = pd.DataFrame({'a': p_range_i[:,0], 'b': p_range_i[:,0]}, index=p_names_i)\n",
    "    \n",
    "    best_df = pd.DataFrame(index=p_names_i)\n",
    "    best_df['normalized'] = params[cell].sim_params2opt_params(best_params[cell])\n",
    "    best_df['not normalized'] = list(best_params[cell].values())\n",
    "    \n",
    "    prior_mean_df = pd.DataFrame(priors[cell].mean, index=p_names_i, columns=['mean'])\n",
    "    prior_cov_df = pd.DataFrame(priors[cell].S, columns=p_names_i, index=p_names_i)\n",
    "    \n",
    "    post_mean_df = pd.DataFrame(posteriors[cell].mean, index=p_names_i, columns=['mean'])\n",
    "    post_cov_df = pd.DataFrame(posteriors[cell].S, columns=p_names_i, index=p_names_i)\n",
    "    \n",
    "    bounds_df.to_csv('source_data/' + cell + '_truncation_bounds.csv', float_format='%.3f')\n",
    "    \n",
    "    best_df.to_csv('source_data/' + cell + '_best_parameters.csv', float_format='%.6f')\n",
    "\n",
    "    prior_mean_df.to_csv('source_data/' + cell + '_prior_mean_normalized.csv', float_format='%.6f')\n",
    "    prior_cov_df.to_csv('source_data/' + cell + '_prior_covariance_normalized.csv', float_format='%.6f')\n",
    "\n",
    "    post_mean_df.to_csv('source_data/' + cell + '_posterior_mean_normalized.csv', float_format='%.6f')\n",
    "    post_cov_df.to_csv('source_data/' + cell + '_posterior_covariance_normalized.csv', float_format='%.6f')"
   ]
  },
  {
   "cell_type": "markdown",
   "metadata": {},
   "source": [
    "# Generate distrubtion plotter"
   ]
  },
  {
   "cell_type": "code",
   "execution_count": null,
   "metadata": {},
   "outputs": [],
   "source": [
    "import plot_sampling_dists\n",
    "importlib.reload(plot_sampling_dists);\n",
    "\n",
    "PPs = {}\n",
    "\n",
    "for cell in cell2folder.keys():\n",
    "    \n",
    "    print(cell)\n",
    "    \n",
    "    PP = plot_sampling_dists.SamplingDistPlotter(\n",
    "        params=params[cell],\n",
    "        prior=priors[cell],\n",
    "        posterior_list=[posteriors[cell]],\n",
    "    )\n",
    "    PP.set_bounds(lbs=priors[cell].lower, ubs=priors[cell].upper)\n",
    "    PP.plot_sampling_dists_1D(plot_peak_lines=False, figsize=(12,8), opt_x=True)\n",
    "    \n",
    "    PPs[cell] = PP"
   ]
  },
  {
   "cell_type": "markdown",
   "metadata": {},
   "source": [
    "# Get params names and units"
   ]
  },
  {
   "cell_type": "code",
   "execution_count": null,
   "metadata": {},
   "outputs": [],
   "source": [
    "all_p_names = list(np.unique(np.concatenate([params[cell].p_names for cell in ['ON', 'OFF']])))\n",
    "\n",
    "all_p_names"
   ]
  },
  {
   "cell_type": "markdown",
   "metadata": {},
   "source": [
    "## Merge parameters"
   ]
  },
  {
   "cell_type": "code",
   "execution_count": null,
   "metadata": {},
   "outputs": [],
   "source": [
    "mergeparam2param  = {\n",
    "    'cd_H_at': ['cd_H1_at', 'cd_H4_at'],\n",
    "    'cd_H_d':  ['cd_H1_d', 'cd_H4_d'],\n",
    "    'cd_H_s':  ['cd_H1_s', 'cd_H4_s'],\n",
    "}\n",
    "\n",
    "for mergeparam, params_i in mergeparam2param.items():\n",
    "    for param in params_i:\n",
    "        assert (param in all_p_names)"
   ]
  },
  {
   "cell_type": "markdown",
   "metadata": {},
   "source": [
    "## Units"
   ]
  },
  {
   "cell_type": "code",
   "execution_count": null,
   "metadata": {},
   "outputs": [],
   "source": [
    "units = {\n",
    "    'b_rrp':     r'(ves.)', \n",
    "    'bp_cm':     r'($\\mu$F cm$^{-2}$)',\n",
    "    'bp_gain':   r'(n.u.)',\n",
    "    'bp_rm':     r'(k$\\Omega$ cm$^{2}$)',\n",
    "    'bp_vrev':   r'(mV)',\n",
    "    'c_Kir_off': r'(mV)',\n",
    "    'c_Kv_off':  r'(mV)',\n",
    "    'c_Kv_taua': r'(n.u.)',\n",
    "    'c_L_off':   r'(mV)',\n",
    "    'c_L_taua':  r'(n.u.)',\n",
    "    'c_N_offh':  r'(mV)',\n",
    "    'c_N_offm':  r'(mV)',\n",
    "    'c_N_tau':   r'(n.u.)',\n",
    "    'c_T_off':   r'(mV)',\n",
    "    'c_T_taua':  r'(n.u.)',\n",
    "    'ca_PK':     r'($\\mu$M)',\n",
    "    'cd_H_at':   r'(mS cm$^{-2}$)',\n",
    "    'cd_H_d':    r'(mS cm$^{-2}$)',\n",
    "    'cd_H_s':    r'(mS cm$^{-2}$)',\n",
    "    'cd_Kir':    r'(mS cm$^{-2}$)',\n",
    "    'cd_Kv_a':   r'(mS cm$^{-2}$)',\n",
    "    'cd_Kv_d':   r'(mS cm$^{-2}$)',\n",
    "    'cd_Kv_pa':  r'(mS cm$^{-2}$)',\n",
    "    'cd_L_at':   r'(mS cm$^{-2}$)',\n",
    "    'cd_L_s':    r'(mS cm$^{-2}$)',\n",
    "    'cd_N':      r'(mS cm$^{-2}$)',\n",
    "    'cd_P_at':   r'($\\mu$S cm$^{-2}$)',\n",
    "    'cd_P_s':    r'($\\mu$S cm$^{-2}$)',\n",
    "    'cd_T_at':   r'(mS cm$^{-2}$)', \n",
    "    'cd_T_s':    r'(mS cm$^{-2}$)',\n",
    "    'r_tauc':    r'(n.u.)',\n",
    "    'syn_cc':    r'(mM)',\n",
    "}\n",
    "\n",
    "for param in units.keys():\n",
    "    assert (param in all_p_names) or (param in mergeparam2param.keys()), param"
   ]
  },
  {
   "cell_type": "markdown",
   "metadata": {},
   "source": [
    "## Renaming to latex space."
   ]
  },
  {
   "cell_type": "code",
   "execution_count": null,
   "metadata": {},
   "outputs": [],
   "source": [
    "renaming = {\n",
    "    'b_rrp':     r'$v^{max}_{RRP}$', \n",
    "    'bp_cm':     r'$C_m$',\n",
    "    'bp_gain':   r'$g_l$',\n",
    "    'bp_rm':     r'$R_m$',\n",
    "    'bp_vrev':   r'$V_r$',\n",
    "    'c_Kir_off': r'$\\Delta V_\\alpha(K_{ir})$',\n",
    "    'c_Kv_off':  r'$\\Delta V_\\alpha({K_V})$',\n",
    "    'c_Kv_taua': r'$\\tau_\\alpha({K_V})$',\n",
    "    'c_L_off':   r'$\\Delta V_\\alpha({Ca_L})$',\n",
    "    'c_L_taua':  r'$\\tau_\\alpha({Ca_L})$',\n",
    "    'c_N_offh':  r'$\\Delta V_\\alpha(Na_V)$',\n",
    "    'c_N_offm':  r'$\\Delta V_\\gamma(Na_V)$',\n",
    "    'c_N_tau':   r'$\\tau_{all}(Na_V)$',\n",
    "    'c_T_off':   r'$\\Delta V_\\alpha({Ca_T})$',\n",
    "    'c_T_taua':  r'$\\tau_\\alpha({Ca_T})$',\n",
    "    'ca_PK':     r'$Ca_{PK}$',\n",
    "    'cd_H_at':   r'${HCN\\,@\\,AT}$',\n",
    "    'cd_H_d':    r'${HCN\\,@\\,D}$',\n",
    "    'cd_H_s':    r'${HCN\\,@\\,S}$',\n",
    "    'cd_Kir':    r'${K_{ir}\\,@\\,S}$',\n",
    "    'cd_Kv_a':   r'${K_{v}\\,@\\,A}$',\n",
    "    'cd_Kv_d':   r'${K_{v}\\,@\\,D}$',\n",
    "    'cd_Kv_pa':  r'${K_{v}\\,@\\,PA}$',\n",
    "    'cd_L_at':   r'${Ca_{L}\\,@\\,AT}$',\n",
    "    'cd_L_s':    r'${Ca_{L}\\,@\\,S}$',\n",
    "    'cd_N':      r'${Na_{V}\\,@\\,DA}$',\n",
    "    'cd_P_at':   r'${Ca_{P}\\,@\\,AT}$',\n",
    "    'cd_P_s':    r'${Ca_{P}\\,@\\,S}$',\n",
    "    'cd_T_at':   r'${Ca_{T}\\,@\\,AT}$', \n",
    "    'cd_T_s':    r'${Ca_{T}\\,@\\,S}$',\n",
    "    'r_tauc':    r'$\\tau_\\alpha({Kainate})$',\n",
    "    'syn_cc':    r'$STC$',\n",
    "}\n",
    "\n",
    "for param in renaming.keys():\n",
    "    assert (param in all_p_names) or (param in mergeparam2param.keys()), param"
   ]
  },
  {
   "cell_type": "markdown",
   "metadata": {},
   "source": [
    "## Define order of parameters."
   ]
  },
  {
   "cell_type": "code",
   "execution_count": null,
   "metadata": {},
   "outputs": [],
   "source": [
    "p_names_sorted = [\n",
    "    'bp_rm',\n",
    "    'bp_vrev',\n",
    "    'bp_cm',\n",
    "    'r_tauc',\n",
    "    'bp_gain',\n",
    "    'b_rrp',\n",
    "    '_legend',\n",
    "\n",
    "    'cd_L_at',\n",
    "    'cd_L_s',\n",
    "    'cd_T_at',\n",
    "    'cd_T_s',    \n",
    "    'cd_P_at',\n",
    "    'cd_P_s',\n",
    "    'cd_Kir',\n",
    "\n",
    "    'cd_Kv_a',\n",
    "    'cd_Kv_d',\n",
    "    'cd_Kv_pa',\n",
    "    'cd_N',\n",
    "    'cd_H_at',\n",
    "    'cd_H_d',\n",
    "    'cd_H_s',\n",
    "\n",
    "    'c_L_off',\n",
    "    'c_T_off',\n",
    "    'c_Kir_off',\n",
    "    'c_L_taua',\n",
    "    'c_T_taua',\n",
    "    'c_Kv_taua',\n",
    "    'c_Kv_off',\n",
    "    \n",
    "    'c_N_offh',\n",
    "    'c_N_offm',\n",
    "    'c_N_tau',\n",
    "    \n",
    "    'ca_PK',\n",
    "]\n",
    "\n",
    "for param in p_names_sorted:\n",
    "    assert (param in all_p_names) or (param in mergeparam2param.keys()) or (param == '_legend'), param"
   ]
  },
  {
   "cell_type": "markdown",
   "metadata": {},
   "source": [
    "# Plotting functions"
   ]
  },
  {
   "cell_type": "code",
   "execution_count": null,
   "metadata": {},
   "outputs": [],
   "source": [
    "col_prior = {\n",
    "    'ON':  'darkgreen',\n",
    "    'OFF': 'darkblue',\n",
    "    'all': 'dimgray'\n",
    "}\n",
    "\n",
    "col_post  = {\n",
    "    'ON':  'darkgreen',\n",
    "    'OFF': 'steelblue'\n",
    "}\n",
    "\n",
    "ls_prior = ':'\n",
    "ls_post = '-'\n",
    "ls_best_params_lines = '-'"
   ]
  },
  {
   "cell_type": "code",
   "execution_count": null,
   "metadata": {},
   "outputs": [],
   "source": [
    "def plot_params(ax, param):\n",
    "    \n",
    "    ax.set_title(renaming[param])\n",
    "    ax.set_xlabel(units[param], labelpad=-3)\n",
    "    \n",
    "    plot_prior(ax, param)\n",
    "    plot_posteriors(ax, param)"
   ]
  },
  {
   "cell_type": "code",
   "execution_count": null,
   "metadata": {},
   "outputs": [],
   "source": [
    "xvals = np.linspace(-0.04,1.04,201)"
   ]
  },
  {
   "cell_type": "code",
   "execution_count": null,
   "metadata": {},
   "outputs": [],
   "source": [
    "def plot_prior(ax, param):\n",
    "    \n",
    "    yvals = {}\n",
    "    \n",
    "    for cell, PP in PPs.items():\n",
    "        param_idx = get_param_idx(param, p_names=PP.params.p_names)\n",
    "        if param_idx is not None:\n",
    "            yvals[cell] = PP.eval_1d_marginal(\n",
    "                dist=PP.prior, idx=param_idx, x=xvals,\n",
    "            )\n",
    "            \n",
    "    merge_prior = True\n",
    "    try:\n",
    "        assert len(yvals) <= 2\n",
    "        if len(yvals) == 2:\n",
    "            assert 'ON' in yvals\n",
    "            assert 'OFF' in yvals\n",
    "            assert np.allclose(yvals['ON'], yvals['OFF'])\n",
    "    except:\n",
    "        merge_prior = False\n",
    "    \n",
    "    if len(yvals) > 0:\n",
    "        if merge_prior:\n",
    "            ax.plot(xvals, yvals[list(yvals.keys())[0]], color=col_prior['all'], ls=ls_prior)\n",
    "        else:\n",
    "            for cell, yvals_cell in yvals.items():\n",
    "                ax.plot(xvals, yvals_cell, color=col_prior[cell], ls=ls_prior)"
   ]
  },
  {
   "cell_type": "code",
   "execution_count": null,
   "metadata": {},
   "outputs": [],
   "source": [
    "def plot_posteriors(ax, param):\n",
    "    \n",
    "    yvals = {}\n",
    "    \n",
    "    for cell, PP in PPs.items():\n",
    "        param_idx = get_param_idx(param, p_names=PP.params.p_names)\n",
    "        if param_idx is not None:\n",
    "            yvals[cell] = PP.eval_1d_marginal(\n",
    "                dist=PP.posterior_list[0], idx=param_idx, x=xvals,\n",
    "            )\n",
    "    \n",
    "    for cell, yvals_cell in yvals.items():\n",
    "        ax.plot(xvals, yvals_cell, color=col_post[cell], ls=ls_post)"
   ]
  },
  {
   "cell_type": "markdown",
   "metadata": {},
   "source": [
    "## Helper functions"
   ]
  },
  {
   "cell_type": "code",
   "execution_count": null,
   "metadata": {},
   "outputs": [],
   "source": [
    "def get_param_if_merged(param, p_names):\n",
    "    for param_i in mergeparam2param[param]:\n",
    "        if param_i in p_names:\n",
    "            return param_i\n",
    "    raise       "
   ]
  },
  {
   "cell_type": "code",
   "execution_count": null,
   "metadata": {},
   "outputs": [],
   "source": [
    "def get_param_idx(param, p_names):\n",
    "    if param in mergeparam2param.keys():\n",
    "        param = get_param_if_merged(param, p_names)\n",
    "                \n",
    "    if param in p_names:\n",
    "        param_idx = np.argmax(np.array(p_names)==param)\n",
    "    else:\n",
    "        param_idx = None\n",
    "        \n",
    "    return param_idx"
   ]
  },
  {
   "cell_type": "markdown",
   "metadata": {},
   "source": [
    "## Addtional plot functions"
   ]
  },
  {
   "cell_type": "code",
   "execution_count": null,
   "metadata": {},
   "outputs": [],
   "source": [
    "def plot_legend(ax):\n",
    "    prior_leg = lines.Line2D([], [], color=col_prior['all'], label='prior', linestyle=ls_prior)\n",
    "    post_legs = []\n",
    "    post_legs.append(lines.Line2D([],[],color=col_post['OFF'], label = 'post: OFF', linestyle=ls_post))\n",
    "    post_legs.append(lines.Line2D([],[],color=col_post['ON'], label = 'post: ON', linestyle=ls_post))\n",
    "    ax.legend(\n",
    "        handles=[prior_leg] + post_legs, handlelength=1.3,\n",
    "        loc='upper left', bbox_to_anchor=(0, 1), borderaxespad=0., labelspacing=0.1, frameon=False\n",
    "    )\n",
    "    ax.axis('off')"
   ]
  },
  {
   "cell_type": "code",
   "execution_count": null,
   "metadata": {},
   "outputs": [],
   "source": [
    "def add_xticks(ax, param):\n",
    "    \n",
    "    in_ON = param in params['ON'].p_names\n",
    "    in_OFF = param in params['OFF'].p_names\n",
    "    \n",
    "    if in_ON and not in_OFF:\n",
    "        p_range = params['ON'].p_range[param]\n",
    "    elif in_OFF and not in_ON:\n",
    "        p_range = params['OFF'].p_range[param]\n",
    "    elif in_ON and in_OFF:\n",
    "        p_range = params['ON'].p_range[param]\n",
    "        assert p_range == params['OFF'].p_range[param]\n",
    "    elif param in mergeparam2param.keys():\n",
    "        param_ON = get_param_if_merged(param, params['ON'].p_names)\n",
    "        param_OFF = get_param_if_merged(param, params['OFF'].p_names)\n",
    "        p_range = params['ON'].p_range[param_ON]\n",
    "        assert p_range == params['OFF'].p_range[param_OFF]\n",
    "    else:\n",
    "        p_range = [\"?\",\"?\"]\n",
    "    \n",
    "    ax.set_xticks([0,1])\n",
    "    ax.set_xticklabels(p_range)"
   ]
  },
  {
   "cell_type": "code",
   "execution_count": null,
   "metadata": {},
   "outputs": [],
   "source": [
    "def add_best_params(ax, param):\n",
    "    for cell, best_params_i in best_params.items():\n",
    "        \n",
    "        if param in mergeparam2param.keys():\n",
    "            plot_param = get_param_if_merged(param, params[cell].p_names)\n",
    "        else:\n",
    "            plot_param = param\n",
    "        \n",
    "        if plot_param in params[cell].p_names:\n",
    "            ax.axvline(\n",
    "                params[cell].sim_param2opt_param(best_params_i[plot_param], plot_param),\n",
    "                color=col_post[cell], ls=ls_best_params_lines, alpha=0.8\n",
    "            )"
   ]
  },
  {
   "cell_type": "markdown",
   "metadata": {},
   "source": [
    "# Make figure"
   ]
  },
  {
   "cell_type": "code",
   "execution_count": null,
   "metadata": {},
   "outputs": [],
   "source": [
    "nx_sb = 7\n",
    "ny_sb = 4"
   ]
  },
  {
   "cell_type": "code",
   "execution_count": null,
   "metadata": {},
   "outputs": [],
   "source": [
    "fig, axs = plt.subplots(ny_sb, nx_sb, figsize=(7.9,ny_sb*0.8), sharey=False)\n",
    "\n",
    "for ax, param in zip(axs.flatten(), p_names_sorted):\n",
    "    if param == '_legend':\n",
    "        plot_legend(ax)\n",
    "    else:\n",
    "        plot_params(ax, param)\n",
    "        \n",
    "    add_xticks(ax, param)\n",
    "    add_best_params(ax, param)\n",
    "\n",
    "sns.despine()\n",
    "    \n",
    "for ax in axs.flatten():\n",
    "    ax.set_ylim((ax.get_ylim()[0], ax.get_ylim()[1]*1.05))\n",
    "    ax.set_yticks([])\n",
    "    ax.spines['left'].set_visible(False)\n",
    "        \n",
    "plt.tight_layout(w_pad=1, rect=[0,-0.02,1,1.02], h_pad=0.3)\n",
    "\n",
    "plt.savefig(f'../_figures/fig{fig_num}_posteriors.pdf')\n",
    "plt.show()"
   ]
  },
  {
   "cell_type": "markdown",
   "metadata": {},
   "source": [
    "# Make supplement figure"
   ]
  },
  {
   "cell_type": "markdown",
   "metadata": {},
   "source": [
    "## 2D helper functions"
   ]
  },
  {
   "cell_type": "code",
   "execution_count": null,
   "metadata": {},
   "outputs": [],
   "source": [
    "from matplotlib import cm"
   ]
  },
  {
   "cell_type": "code",
   "execution_count": null,
   "metadata": {},
   "outputs": [],
   "source": [
    "xvals2d = np.linspace(0,1,401)"
   ]
  },
  {
   "cell_type": "code",
   "execution_count": null,
   "metadata": {},
   "outputs": [],
   "source": [
    "def plot_dist_2d(ax, param1, param2, cell, dist, cmap, levels=None):\n",
    "    \n",
    "    levels = levels.copy()\n",
    "    \n",
    "    param_idx1 = get_param_idx(param1, p_names=params[cell].p_names)\n",
    "    param_idx2 = get_param_idx(param2, p_names=params[cell].p_names)\n",
    "    if (param_idx1 is not None) and (param_idx2 is not None):\n",
    "        xx, yy, zz = PPs[cell].eval_2d_marginal(\n",
    "            dist=dist, idx1=param_idx1, idx2=param_idx2, x1=xvals2d, x2=xvals2d,\n",
    "        )\n",
    "\n",
    "        if not isinstance(levels, int):\n",
    "            levels *= np.max(zz)\n",
    "        \n",
    "        ax.contour(xx, yy, zz, cmap=cmap, vmin=0, vmax=np.max(zz), origin='lower', levels=levels)"
   ]
  },
  {
   "cell_type": "code",
   "execution_count": null,
   "metadata": {},
   "outputs": [],
   "source": [
    "def plot_prior_2d(ax, param1, param2, cell, levels=None):\n",
    "    plot_dist_2d(ax, param1, param2, cell, dist=PPs[cell].prior, cmap=cm.gray_r, levels=levels)"
   ]
  },
  {
   "cell_type": "code",
   "execution_count": null,
   "metadata": {},
   "outputs": [],
   "source": [
    "def plot_post_2d(ax, param1, param2, cell, levels=None):\n",
    "    plot_dist_2d(ax, param1, param2, cell, dist=PPs[cell].posterior_list[-1], cmap=cm.gist_heat_r, levels=levels)"
   ]
  },
  {
   "cell_type": "code",
   "execution_count": null,
   "metadata": {},
   "outputs": [],
   "source": [
    "def add_ticks(ax, param, cell, xaxis=True):\n",
    "    \n",
    "    param_idx = get_param_idx(param, p_names=params[cell].p_names)\n",
    "    p_range = params[cell].p_range[params[cell].p_names[param_idx]]\n",
    "    \n",
    "    if xaxis:\n",
    "        ax.set_xticks([0,1])\n",
    "        ax.set_xticklabels(p_range, rotation=90, ha='center')\n",
    "    else:\n",
    "        ax.set_yticks([0,1])\n",
    "        ax.set_yticklabels(p_range)\n",
    "        \n",
    "    ax.tick_params(length=0.0)"
   ]
  },
  {
   "cell_type": "code",
   "execution_count": null,
   "metadata": {},
   "outputs": [],
   "source": [
    "def plot_pair(ax, param1, param2, cell, xlabel=True, ylabel=True, levels=None):\n",
    "    plot_prior_2d(ax=ax, param1=param1,  param2=param2, cell=cell, levels=levels)\n",
    "    plot_post_2d(ax=ax, param1=param1,  param2=param2, cell=cell, levels=levels)\n",
    "    \n",
    "    param_idx1 = get_param_idx(param1, p_names=PPs[cell].params.p_names)\n",
    "    param_idx2 = get_param_idx(param2, p_names=PPs[cell].params.p_names)\n",
    "    \n",
    "    if xlabel: ax.set_xlabel(renaming[param1] + '\\n' + units[param1], rotation=90, ha='center', va='center', labelpad=30)\n",
    "    if ylabel: ax.set_ylabel(renaming[param2] + '\\n' + units[param2], rotation=0, ha='center', va='center', labelpad=30)\n",
    "    \n",
    "    ax.set_aspect('equal')\n",
    "    \n",
    "    add_ticks(ax, param1, cell, xaxis=True)\n",
    "    add_ticks(ax, param2, cell, xaxis=False)\n",
    "    \n",
    "    if not xlabel: ax.set_xticklabels([]) \n",
    "    if not ylabel: ax.set_yticklabels([]) "
   ]
  },
  {
   "cell_type": "code",
   "execution_count": null,
   "metadata": {},
   "outputs": [],
   "source": [
    "levels = np.arange(0.3, 1., 0.3)\n",
    "levels"
   ]
  },
  {
   "cell_type": "code",
   "execution_count": null,
   "metadata": {},
   "outputs": [],
   "source": [
    "ax = plt.subplot(111)\n",
    "plot_pair(ax, param1='bp_rm', param2='bp_vrev', cell='OFF', xlabel=True, levels=levels)"
   ]
  },
  {
   "cell_type": "code",
   "execution_count": null,
   "metadata": {},
   "outputs": [],
   "source": [
    "def plot_all_2d(p_names_sorted_2d, nparams2plot, cell, levels):\n",
    "\n",
    "    sbnx = nparams2plot-1\n",
    "    sbny = nparams2plot-1\n",
    "\n",
    "    fig, axs = plt.subplots(sbny, sbnx, figsize=(np.min([6.7, 1.5*sbnx]),np.min([6.7, 1.5*sbnx])), squeeze=False)\n",
    "\n",
    "    for idx1, param1 in enumerate(p_names_sorted_2d[:nparams2plot-1]):\n",
    "        for idx2, param2 in enumerate(p_names_sorted_2d[1:nparams2plot]):\n",
    "            ax = axs[idx2, idx1]\n",
    "            if idx1 <= idx2:\n",
    "                plot_pair(\n",
    "                    ax=ax, param1=param1, param2=param2, cell=cell,\n",
    "                    xlabel=(idx2+1==sbny), ylabel=(idx1==0), levels=levels\n",
    "                )\n",
    "            else:\n",
    "                ax.axis('off')\n",
    "\n",
    "    fig.align_ylabels(axs[:,0])\n",
    "\n",
    "    plt.tight_layout(h_pad=0.05, w_pad=0.05)\n",
    "    plt.savefig(f'../_figures_apx/figapx{fig_num}_2d_posterior'+ cell + '.pdf')"
   ]
  },
  {
   "cell_type": "markdown",
   "metadata": {},
   "source": [
    "## OFF"
   ]
  },
  {
   "cell_type": "code",
   "execution_count": null,
   "metadata": {},
   "outputs": [],
   "source": [
    "cell = 'OFF'\n",
    "\n",
    "p_names_sorted_2d = [\n",
    "    'bp_rm',\n",
    "    'bp_vrev',\n",
    "    'bp_cm',\n",
    "    'bp_gain',\n",
    "    'cd_L_at',\n",
    "    'cd_P_at',\n",
    "    'b_rrp',\n",
    "    'cd_H_at',\n",
    "    'cd_H_d',\n",
    "    'cd_H_s',\n",
    "    'cd_Kir',\n",
    "    'r_tauc',\n",
    "    'cd_T_at',\n",
    "    'cd_Kv_a',\n",
    "    'cd_Kv_d',\n",
    "    'cd_Kv_pa',\n",
    "    'cd_N',\n",
    "    'c_L_off',\n",
    "    'c_T_off',\n",
    "    'c_Kir_off',\n",
    "    'c_L_taua',\n",
    "    'c_T_taua',\n",
    "    'c_Kv_taua',\n",
    "    'c_Kv_off',\n",
    "    'c_N_offh',\n",
    "    'c_N_offm',\n",
    "    'c_N_tau',\n",
    "    'ca_PK',\n",
    "]\n",
    "\n",
    "plot_all_2d(p_names_sorted_2d=p_names_sorted_2d, nparams2plot=13, cell=cell, levels=levels)"
   ]
  },
  {
   "cell_type": "markdown",
   "metadata": {},
   "source": [
    "## ON"
   ]
  },
  {
   "cell_type": "code",
   "execution_count": null,
   "metadata": {},
   "outputs": [],
   "source": [
    "cell = 'ON'\n",
    "\n",
    "p_names_sorted_2d = [\n",
    "    'bp_rm',\n",
    "    'bp_vrev',\n",
    "    'bp_cm',\n",
    "    'bp_gain',\n",
    "    'cd_L_at',\n",
    "    'cd_P_at',\n",
    "    'b_rrp',\n",
    "    'cd_H_at',\n",
    "    'cd_H_d',\n",
    "    'cd_H_s',\n",
    "    'cd_Kir',\n",
    "    'cd_Kv_a',\n",
    "    'cd_Kv_d',\n",
    "    'cd_Kv_pa',\n",
    "    'cd_N',\n",
    "    'c_L_off',\n",
    "    'c_Kir_off',\n",
    "    'c_L_taua',\n",
    "    'c_T_taua',\n",
    "    'c_Kv_taua',\n",
    "    'c_Kv_off',\n",
    "    'c_N_offh',\n",
    "    'c_N_offm',\n",
    "    'c_N_tau',\n",
    "    'ca_PK',\n",
    "]\n",
    "\n",
    "plot_all_2d(p_names_sorted_2d=p_names_sorted_2d, nparams2plot=13, cell=cell, levels=levels)"
   ]
  },
  {
   "cell_type": "code",
   "execution_count": null,
   "metadata": {},
   "outputs": [],
   "source": []
  },
  {
   "cell_type": "code",
   "execution_count": null,
   "metadata": {},
   "outputs": [],
   "source": []
  }
 ],
 "metadata": {
  "hide_input": false,
  "kernelspec": {
   "display_name": "Python 3",
   "language": "python",
   "name": "python3"
  },
  "language_info": {
   "codemirror_mode": {
    "name": "ipython",
    "version": 3
   },
   "file_extension": ".py",
   "mimetype": "text/x-python",
   "name": "python",
   "nbconvert_exporter": "python",
   "pygments_lexer": "ipython3",
   "version": "3.7.5"
  },
  "toc": {
   "base_numbering": 1,
   "nav_menu": {},
   "number_sections": true,
   "sideBar": true,
   "skip_h1_title": false,
   "title_cell": "Table of Contents",
   "title_sidebar": "Contents",
   "toc_cell": false,
   "toc_position": {
    "height": "calc(100% - 180px)",
    "left": "10px",
    "top": "150px",
    "width": "384px"
   },
   "toc_section_display": true,
   "toc_window_display": true
  },
  "varInspector": {
   "cols": {
    "lenName": 16,
    "lenType": 16,
    "lenVar": 40
   },
   "kernels_config": {
    "python": {
     "delete_cmd_postfix": "",
     "delete_cmd_prefix": "del ",
     "library": "var_list.py",
     "varRefreshCmd": "print(var_dic_list())"
    },
    "r": {
     "delete_cmd_postfix": ") ",
     "delete_cmd_prefix": "rm(",
     "library": "var_list.r",
     "varRefreshCmd": "cat(var_dic_list()) "
    }
   },
   "types_to_exclude": [
    "module",
    "function",
    "builtin_function_or_method",
    "instance",
    "_Feature"
   ],
   "window_display": false
  }
 },
 "nbformat": 4,
 "nbformat_minor": 2
}
