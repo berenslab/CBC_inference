{
 "cells": [
  {
   "cell_type": "markdown",
   "metadata": {},
   "source": [
    "# Imports"
   ]
  },
  {
   "cell_type": "code",
   "execution_count": null,
   "metadata": {},
   "outputs": [],
   "source": [
    "import numpy as np\n",
    "import pandas as pd \n",
    "from matplotlib import pyplot as plt\n",
    "from PIL import Image\n",
    "\n",
    "import os\n",
    "import sys"
   ]
  },
  {
   "cell_type": "code",
   "execution_count": null,
   "metadata": {},
   "outputs": [],
   "source": [
    "pythoncodepath = os.path.abspath(os.path.join('..', '..', '_pythoncode'))\n",
    "sys.path = [pythoncodepath] + sys.path\n",
    "import importhelper\n",
    "importhelper.addfolders2path(pythoncodepath)"
   ]
  },
  {
   "cell_type": "code",
   "execution_count": null,
   "metadata": {},
   "outputs": [],
   "source": [
    "import interpolation_utils\n",
    "import plot_utils\n",
    "import data_utils"
   ]
  },
  {
   "cell_type": "code",
   "execution_count": null,
   "metadata": {},
   "outputs": [],
   "source": [
    "plot_utils.set_rcParams()"
   ]
  },
  {
   "cell_type": "code",
   "execution_count": null,
   "metadata": {},
   "outputs": [],
   "source": [
    "fig_num = os.getcwd().split('/')[-1][3:5]\n",
    "print(fig_num)"
   ]
  },
  {
   "cell_type": "code",
   "execution_count": null,
   "metadata": {},
   "outputs": [],
   "source": [
    "data_utils.make_dir('Figures')"
   ]
  },
  {
   "cell_type": "markdown",
   "metadata": {},
   "source": [
    "# Plot COMSOL structure"
   ]
  },
  {
   "cell_type": "code",
   "execution_count": null,
   "metadata": {},
   "outputs": [],
   "source": [
    "comsol_structure = Image.open(os.path.join('Images', 'comsol_structure.png'))"
   ]
  },
  {
   "cell_type": "code",
   "execution_count": null,
   "metadata": {},
   "outputs": [],
   "source": [
    "def plot_comsol_structure(ax):\n",
    "    \n",
    "    ax.imshow(comsol_structure, extent=(0,100,0,100))\n",
    "    \n",
    "    ax.axis('off')\n",
    "    ax.axis('equal')\n",
    "    ax.text(3, 55, 'Ames\\' medium:',\n",
    "            horizontalalignment='left', verticalalignment='center')\n",
    "    ax.text(3, 45, r'$\\epsilon_{ames}$, $\\sigma_{ames}$',\n",
    "            horizontalalignment='left', verticalalignment='center')\n",
    "    \n",
    "    ax.text(3, 15, 'Retina: ' + r'$\\epsilon_{retina}$, $\\sigma_{retina}$',\n",
    "            horizontalalignment='left', verticalalignment='center')\n",
    "    \n",
    "    ax.set_xlim((0, 110))\n",
    "    ax.set_ylim((-7, 107))\n",
    "    \n",
    "    ax.text(100, 55, r'$h_{ames}$', verticalalignment='center')\n",
    "    ax.text(100, 15, r'$h_{retina}$', verticalalignment='center')\n",
    "    \n",
    "    ax.text(5, -3, r'$r_{electrode}$', verticalalignment='center')\n",
    "    ax.text(50, 102, r'$r_{retina}$', verticalalignment='center', horizontalalignment='center')\n",
    "\n",
    "plot_comsol_structure(ax=plt.subplot(111))"
   ]
  },
  {
   "cell_type": "markdown",
   "metadata": {},
   "source": [
    "# Plot Vext"
   ]
  },
  {
   "cell_type": "code",
   "execution_count": null,
   "metadata": {},
   "outputs": [],
   "source": [
    "scale_factor = 1e6\n",
    "Vm_scale_factor = 1e3"
   ]
  },
  {
   "cell_type": "code",
   "execution_count": null,
   "metadata": {},
   "outputs": [],
   "source": [
    "def plot_Vext(ax, Vext_file, retina_h=105, ames_h=35, plot_r=None, el_r=None):\n",
    "    \n",
    "    Vext = pd.read_csv(Vext_file, comment=\"%\", header=None, names=['x', 'r', 'V'])\n",
    "    Vim  = interpolation_utils.interpolate_xyz2grid(Vext['x'], Vext['r'], Vext['V'])[2]\n",
    "    # Mirror.\n",
    "    Vim  = np.concatenate([np.fliplr(Vim),Vim[:,1:]], axis=1)*Vm_scale_factor\n",
    "    \n",
    "    ax.axis('off')\n",
    "    \n",
    "    w = Vext['r'].max()*scale_factor\n",
    "    h = Vext['x'].max()*scale_factor\n",
    "    \n",
    "    heatmap = ax.imshow(\n",
    "        Vim, origin='lower', cmap='Reds', extent=(-w, w, 0, h),\n",
    "        vmin=0, interpolation='bicubic', vmax=100\n",
    "    )\n",
    "    \n",
    "    if el_r is not None:\n",
    "        ax.fill_between([-el_r, el_r], [-2,-2], [0, 0], color='k', lw=0, clip_on=False)\n",
    "    \n",
    "    ax.text(-plot_r+5, retina_h+35/2, 'Ames\\' medium', verticalalignment='center')\n",
    "    ax.text(-plot_r+5, retina_h-35/2, 'Retina', verticalalignment='center')\n",
    "    \n",
    "    ax.plot([30, 30], [25, 75], c='k')\n",
    "    ax.text(33, 50, r\"50 $\\mu m$\", verticalalignment='center')\n",
    "    \n",
    "    if plot_r is not None:\n",
    "        ax.set_xlim((-plot_r, plot_r))\n",
    "    else:\n",
    "        ax.set_xlim(-w, w)\n",
    "    ax.set_ylim(0, retina_h + ames_h)\n",
    "    \n",
    "    # make colorbar.\n",
    "    from mpl_toolkits.axes_grid1 import make_axes_locatable\n",
    "    cax = make_axes_locatable(ax).append_axes(\"right\", size=\"4%\", pad=0.05)\n",
    "    \n",
    "    cb = plt.colorbar(heatmap, ax=ax, cax=cax, use_gridspec=True)\n",
    "    cb.set_label(r'Voltage (mV)')   \n",
    "    \n",
    "    ax.axhline(retina_h, c='k', linestyle='--')"
   ]
  },
  {
   "cell_type": "code",
   "execution_count": null,
   "metadata": {},
   "outputs": [],
   "source": [
    "def plot_comps(ax, comps_file, scale_comps):\n",
    "    \n",
    "    cell_comps = pd.read_csv(comps_file, names=['x', 'y', 'z'], delim_whitespace=True)\n",
    "    \n",
    "    ax.scatter(\n",
    "        cell_comps['x']*scale_factor, cell_comps['z']*scale_factor,\n",
    "        marker='o', color=\"k\", alpha=1, s=scale_comps, facecolor='white', zorder=20, lw=scale_comps/7\n",
    "    )\n",
    "    ax.scatter(\n",
    "        cell_comps['x'][0]*scale_factor, cell_comps['z'][0]*scale_factor,\n",
    "        marker='o', color=\"k\", alpha=1, s=scale_comps*4, facecolor='white', zorder=20, lw=scale_comps/7\n",
    "    )\n",
    "    \n",
    "    neighbor_comps = get_neighbor_comps(cell_comps)\n",
    "    \n",
    "    for comp1 in range(cell_comps.shape[0]):\n",
    "        x1 = cell_comps.iloc[comp1,:]['x']\n",
    "        y1 = cell_comps.iloc[comp1,:]['y']\n",
    "        z1 = cell_comps.iloc[comp1,:]['z']\n",
    "        \n",
    "        x2 = cell_comps.iloc[neighbor_comps[comp1],:]['x']\n",
    "        y2 = cell_comps.iloc[neighbor_comps[comp1],:]['y']\n",
    "        z2 = cell_comps.iloc[neighbor_comps[comp1],:]['z']\n",
    "        \n",
    "        ax.plot(\n",
    "            np.array([x1, x2])*scale_factor, np.array([z1, z2])*scale_factor,\n",
    "            color=\"dimgray\", alpha=1, lw=scale_comps/4\n",
    "        )"
   ]
  },
  {
   "cell_type": "code",
   "execution_count": null,
   "metadata": {},
   "outputs": [],
   "source": [
    "def get_neighbor_comps(cell_comps):\n",
    "    neighbor_comps = {}\n",
    "    \n",
    "    for comp1 in range(cell_comps.shape[0]):\n",
    "        x1 = cell_comps.iloc[comp1,:]['x']\n",
    "        y1 = cell_comps.iloc[comp1,:]['y']\n",
    "        z1 = cell_comps.iloc[comp1,:]['z']\n",
    "        \n",
    "        d_min = 1000\n",
    "        \n",
    "        comp_d_min = None\n",
    "            \n",
    "        for comp2 in range(cell_comps.shape[0]):\n",
    "            x2 = cell_comps.iloc[comp2,:]['x']\n",
    "            y2 = cell_comps.iloc[comp2,:]['y']\n",
    "            z2 = cell_comps.iloc[comp2,:]['z']\n",
    "                \n",
    "            if z1 < 6e-5 and z1 > 1.6e-5:\n",
    "                if z2 > z1:\n",
    "                    d12 = 5*(x1-x2)**2 + (y1-y2)**2 + (z1-z2)**2\n",
    "                else:\n",
    "                    d12 = 1000\n",
    "                \n",
    "            else:\n",
    "                d12 = (x1-x2)**2 + (y1-y2)**2 + (z1-z2)**2\n",
    "                \n",
    "            if (d12 < d_min) and (comp1 != comp2):\n",
    "                d_min      = d12\n",
    "                comp_d_min = comp2\n",
    "                \n",
    "        if comp_d_min is not None:\n",
    "            neighbor_comps[comp1] = comp_d_min\n",
    "            \n",
    "    return neighbor_comps"
   ]
  },
  {
   "cell_type": "code",
   "execution_count": null,
   "metadata": {},
   "outputs": [],
   "source": [
    "def plot_Vext_and_comps(ax, scale_comps=5):\n",
    "\n",
    "    Vext_file = os.path.join('..', 'Vext', 'Vext_simple.csv')\n",
    "    comps_file = os.path.join('..', '..', 'COMSOL2retsim_interface', 'comsol_input', 'global', 'ON.csv')\n",
    "\n",
    "    assert os.path.isfile(comps_file)\n",
    "\n",
    "    plot_Vext(ax, Vext_file, retina_h=105, plot_r=85, el_r=15)\n",
    "    plot_comps(ax, comps_file, scale_comps=scale_comps)\n",
    "\n",
    "plt.figure(1,(3,3))\n",
    "ax = plt.subplot(111)\n",
    "plot_Vext_and_comps(ax, scale_comps=5)"
   ]
  },
  {
   "cell_type": "code",
   "execution_count": null,
   "metadata": {},
   "outputs": [],
   "source": [
    "def plot_mesh(ax):\n",
    "    ax.imshow(Image.open(os.path.join('Images', 'mesh.png')))\n",
    "    ax.axis('off')\n",
    "    ax.axis('equal')"
   ]
  },
  {
   "cell_type": "code",
   "execution_count": null,
   "metadata": {},
   "outputs": [],
   "source": [
    "def plot_setup(ax):\n",
    "    ax.imshow(Image.open(os.path.join('Images', 'ams_setup.png')))\n",
    "    \n",
    "    \n",
    "    ax.text(70, 370, 'Ames\\' medium', va='center', ha='left')\n",
    "    ax.text(70, 480, 'Retina', va='center', ha='left')\n",
    "    ax.text(70, 600, 'Micro-electrode array', va='center', ha='left')\n",
    "    ax.text(410, 70, 'Flex MEA', va='center', ha='left')\n",
    "    ax.text(1130, 230, 'Ag/AgCl', va='center', ha='right')\n",
    "    ax.text(1330, 780, 'Ground', va='top', ha='right')\n",
    "    \n",
    "    ax.axis('off')\n",
    "    ax.axis('equal')"
   ]
  },
  {
   "cell_type": "code",
   "execution_count": null,
   "metadata": {},
   "outputs": [],
   "source": [
    "# Load images.\n",
    "plot_mesh(plt.subplot(121))\n",
    "plot_setup(plt.subplot(122))"
   ]
  },
  {
   "cell_type": "markdown",
   "metadata": {},
   "source": [
    "# Make figure"
   ]
  },
  {
   "cell_type": "code",
   "execution_count": null,
   "metadata": {},
   "outputs": [],
   "source": [
    "fig = plt.figure(figsize=(5.6, 1.5))\n",
    "\n",
    "# Axis ratios.\n",
    "sb_ny = 3\n",
    "sb_nx = 12\n",
    "\n",
    "ysb1=0.7\n",
    "xsyb=0.3\n",
    "\n",
    "# Plot.\n",
    "ax1 = fig.add_axes((0.01,0.0,0.27,0.8))\n",
    "plot_setup(ax1)\n",
    "\n",
    "ax2 = fig.add_axes((xsyb,0.0,0.47-xsyb,0.85))\n",
    "plot_mesh(ax2)\n",
    "\n",
    "ax3 = fig.add_axes((0.48,0.0,0.20,0.9))\n",
    "plot_comsol_structure(ax3)\n",
    "\n",
    "ax4 = fig.add_axes((0.715,0.05,0.215,0.85))\n",
    "plot_Vext_and_comps(ax4, scale_comps=4)\n",
    "\n",
    "# Plot titles.\n",
    "for ax, abc in zip([ax1, ax2, ax3, ax4], [\"A\", \"B\", \"C\", \"D\"]):\n",
    "    ax = fig.add_axes((ax.get_position().bounds[0],0.75,0.1,0.1))\n",
    "    ax.axis('off')\n",
    "    ax.set_title(abc, loc='left', fontweight='bold', va='top', ha='left')\n",
    "    \n",
    "plt.savefig(f'../_figures/fig{fig_num}_Vext_explainatory.pdf', dpi=600)\n",
    "plt.savefig(\"Figures/Vext_explainatory.png\", dpi=600)\n",
    "plt.show()"
   ]
  },
  {
   "cell_type": "code",
   "execution_count": null,
   "metadata": {},
   "outputs": [],
   "source": [
    "# Good?\n",
    "plt.imshow(Image.open(\"Figures/Vext_explainatory.png\"))"
   ]
  },
  {
   "cell_type": "code",
   "execution_count": null,
   "metadata": {},
   "outputs": [],
   "source": []
  },
  {
   "cell_type": "code",
   "execution_count": null,
   "metadata": {},
   "outputs": [],
   "source": []
  }
 ],
 "metadata": {
  "hide_input": false,
  "kernelspec": {
   "display_name": "Python 3",
   "language": "python",
   "name": "python3"
  },
  "language_info": {
   "codemirror_mode": {
    "name": "ipython",
    "version": 3
   },
   "file_extension": ".py",
   "mimetype": "text/x-python",
   "name": "python",
   "nbconvert_exporter": "python",
   "pygments_lexer": "ipython3",
   "version": "3.7.5"
  },
  "toc": {
   "base_numbering": 1,
   "nav_menu": {},
   "number_sections": true,
   "sideBar": true,
   "skip_h1_title": false,
   "title_cell": "Table of Contents",
   "title_sidebar": "Contents",
   "toc_cell": false,
   "toc_position": {
    "height": "calc(100% - 180px)",
    "left": "10px",
    "top": "150px",
    "width": "349.091px"
   },
   "toc_section_display": true,
   "toc_window_display": true
  },
  "varInspector": {
   "cols": {
    "lenName": 16,
    "lenType": 16,
    "lenVar": 40
   },
   "kernels_config": {
    "python": {
     "delete_cmd_postfix": "",
     "delete_cmd_prefix": "del ",
     "library": "var_list.py",
     "varRefreshCmd": "print(var_dic_list())"
    },
    "r": {
     "delete_cmd_postfix": ") ",
     "delete_cmd_prefix": "rm(",
     "library": "var_list.r",
     "varRefreshCmd": "cat(var_dic_list()) "
    }
   },
   "types_to_exclude": [
    "module",
    "function",
    "builtin_function_or_method",
    "instance",
    "_Feature"
   ],
   "window_display": false
  }
 },
 "nbformat": 4,
 "nbformat_minor": 2
}
