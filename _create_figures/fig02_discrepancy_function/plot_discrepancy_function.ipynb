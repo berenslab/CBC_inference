{
 "cells": [
  {
   "cell_type": "markdown",
   "metadata": {},
   "source": [
    "# Plot Discrepancy function for the cell models"
   ]
  },
  {
   "cell_type": "code",
   "execution_count": null,
   "metadata": {},
   "outputs": [],
   "source": [
    "import importlib\n",
    "import numpy as np\n",
    "import pandas as pd\n",
    "from matplotlib import pyplot as plt\n",
    "\n",
    "import os\n",
    "import sys"
   ]
  },
  {
   "cell_type": "code",
   "execution_count": null,
   "metadata": {},
   "outputs": [],
   "source": [
    "pythoncodepath = os.path.abspath(os.path.join('..', '..', '_pythoncode'))\n",
    "sys.path = [pythoncodepath] + sys.path\n",
    "import importhelper\n",
    "importhelper.addfolders2path(pythoncodepath)"
   ]
  },
  {
   "cell_type": "code",
   "execution_count": null,
   "metadata": {},
   "outputs": [],
   "source": [
    "import data_utils\n",
    "import plot_utils"
   ]
  },
  {
   "cell_type": "code",
   "execution_count": null,
   "metadata": {},
   "outputs": [],
   "source": [
    "plot_utils.set_rcParams()"
   ]
  },
  {
   "cell_type": "code",
   "execution_count": null,
   "metadata": {},
   "outputs": [],
   "source": [
    "fig_num = os.getcwd().split('/')[-1][3:5]\n",
    "print(fig_num)"
   ]
  },
  {
   "cell_type": "markdown",
   "metadata": {},
   "source": [
    "# Get loss functions."
   ]
  },
  {
   "cell_type": "code",
   "execution_count": null,
   "metadata": {},
   "outputs": [],
   "source": [
    "cone_optim_folder = os.path.join('..', '..', 'step1a_optimize_cones', 'optim_data')\n",
    "cbc_optim_folder = os.path.join('..', '..', 'step2a_optimize_cbc', 'optim_data')"
   ]
  },
  {
   "cell_type": "code",
   "execution_count": null,
   "metadata": {},
   "outputs": [],
   "source": [
    "os.listdir(cone_optim_folder)"
   ]
  },
  {
   "cell_type": "code",
   "execution_count": null,
   "metadata": {},
   "outputs": [],
   "source": [
    "os.listdir(cbc_optim_folder)"
   ]
  },
  {
   "cell_type": "code",
   "execution_count": null,
   "metadata": {},
   "outputs": [],
   "source": [
    "cell2folder = {\n",
    "    'Cone': os.path.join(cone_optim_folder, 'optimize_cone_submission2'),\n",
    "    'OFF':  os.path.join(cbc_optim_folder, 'optimize_OFF_submission2'),\n",
    "    'ON':   os.path.join(cbc_optim_folder, 'optimize_ON_submission2'),\n",
    "}"
   ]
  },
  {
   "cell_type": "code",
   "execution_count": null,
   "metadata": {},
   "outputs": [],
   "source": [
    "cell_losses = {}\n",
    "\n",
    "for cell, folder in cell2folder.items():\n",
    "    cell_losses[cell] = data_utils.load_var(os.path.join(folder, 'loss.pkl'))"
   ]
  },
  {
   "cell_type": "markdown",
   "metadata": {},
   "source": [
    "## Sumarize bounds for all cells."
   ]
  },
  {
   "cell_type": "code",
   "execution_count": null,
   "metadata": {},
   "outputs": [],
   "source": [
    "# Get bounds.\n",
    "all_loss_rngs = {}\n",
    "\n",
    "for cell, cell_loss in cell_losses.items():\n",
    "    for loss_name, loss_dict in cell_loss.loss_params.items():\n",
    "        if 'good' in loss_dict.keys():\n",
    "            if loss_name not in all_loss_rngs.keys():\n",
    "                all_loss_rngs[loss_name] = {'good': [], 'acceptable': []}\n",
    "                \n",
    "            good = list(loss_dict['good'])\n",
    "            acceptable = list(loss_dict['acceptable'])\n",
    "                \n",
    "            good = [v if v is not None else np.nan for v in good]\n",
    "            acceptable = [v if v is not None else np.nan for v in acceptable]\n",
    "                \n",
    "            all_loss_rngs[loss_name]['good'].append(good)\n",
    "            all_loss_rngs[loss_name]['acceptable'].append(acceptable)\n",
    "            \n",
    "all_loss_rngs"
   ]
  },
  {
   "cell_type": "markdown",
   "metadata": {},
   "source": [
    "### Derive bounds"
   ]
  },
  {
   "cell_type": "code",
   "execution_count": null,
   "metadata": {},
   "outputs": [],
   "source": [
    "# Summarize bounds.\n",
    "loss_rngs = {}\n",
    "\n",
    "for loss_name, loss_bounds in all_loss_rngs.items():\n",
    "\n",
    "    lbs = np.asarray(loss_bounds['acceptable'])[:,0]\n",
    "    ubs = np.asarray(loss_bounds['acceptable'])[:,1]\n",
    "    \n",
    "    if np.any(~np.isnan(lbs)):\n",
    "        lb = np.nanmin(lbs)\n",
    "    else:\n",
    "        lb = None\n",
    "    \n",
    "    if np.any(~np.isnan(ubs)):\n",
    "        ub = np.nanmax(ubs)\n",
    "    else:\n",
    "        ub = None\n",
    "        \n",
    "    loss_rngs[loss_name] = [lb, ub]"
   ]
  },
  {
   "cell_type": "code",
   "execution_count": null,
   "metadata": {},
   "outputs": [],
   "source": [
    "loss_rngs"
   ]
  },
  {
   "cell_type": "code",
   "execution_count": null,
   "metadata": {},
   "outputs": [],
   "source": [
    "ylims = {}\n",
    "for loss_name, loss_rng in loss_rngs.items():\n",
    "    lb = 0 if loss_rng[0] is None else -1 \n",
    "    ub = 0 if loss_rng[1] is None else +1 \n",
    "    ylims[loss_name] = (lb, ub)\n",
    "    \n",
    "ylims"
   ]
  },
  {
   "cell_type": "markdown",
   "metadata": {},
   "source": [
    "### Manually correct"
   ]
  },
  {
   "cell_type": "code",
   "execution_count": null,
   "metadata": {},
   "outputs": [],
   "source": [
    "loss_rngs['rate_rest'][1] = 110\n",
    "loss_rngs['rate_rel_range'][1] = 110\n",
    "loss_rngs['Vm_low'][1] = -0.05\n",
    "loss_rngs['Vm_low'][0] = -0.12\n",
    "loss_rngs['Vm_rest'][1] = -0.01\n",
    "loss_rngs['Vm_rest'][0] = -0.09\n",
    "loss_rngs['Vm_high'][0] = -0.04\n",
    "loss_rngs['Vm_high'][1] = 0.01\n",
    "loss_rngs['Vm_rel_range'][1] = 0.05"
   ]
  },
  {
   "cell_type": "code",
   "execution_count": null,
   "metadata": {},
   "outputs": [],
   "source": [
    "loss_rngs"
   ]
  },
  {
   "cell_type": "markdown",
   "metadata": {},
   "source": [
    "# Evaluate"
   ]
  },
  {
   "cell_type": "code",
   "execution_count": null,
   "metadata": {},
   "outputs": [],
   "source": [
    "loss_evals = {}\n",
    "\n",
    "for cell, cell_loss in cell_losses.items():\n",
    "    \n",
    "    for loss_name, loss_dict in cell_loss.loss_params.items():\n",
    "        \n",
    "        if loss_name in loss_rngs:\n",
    "            \n",
    "            xvals = np.linspace(loss_rngs[loss_name][0], loss_rngs[loss_name][1], 1000)\n",
    "            \n",
    "            if loss_name not in loss_evals.keys():\n",
    "                loss_evals[loss_name] = {}\n",
    "                loss_evals[loss_name]['xvals'] = xvals.copy()\n",
    "                if 'Vm' in loss_name: loss_evals[loss_name]['xvals'] *= 1e3 \n",
    "            \n",
    "            yvals = np.empty(xvals.size)\n",
    "            \n",
    "            for i, x in enumerate(xvals):\n",
    "                yvals[i] = cell_loss.loss_value_in_range(\n",
    "                    value=x, good=loss_dict['good'], acceptable=loss_dict['acceptable']\n",
    "                )\n",
    "                \n",
    "            loss_evals[loss_name][cell] = yvals"
   ]
  },
  {
   "cell_type": "markdown",
   "metadata": {},
   "source": [
    "## Make simple plot."
   ]
  },
  {
   "cell_type": "code",
   "execution_count": null,
   "metadata": {},
   "outputs": [],
   "source": [
    "fig, axs = plt.subplots(len(loss_evals), 1,\n",
    "    figsize=(5, 0.8*len(loss_evals)), sharey=True, subplot_kw=dict(ylim=(-1.1, 1.1)))\n",
    "for ax, (loss_name, loss_eval) in zip(axs, loss_evals.items()):\n",
    "    ax.set_title(loss_name)\n",
    "    for cell in cell2folder.keys():\n",
    "        ax.plot(loss_eval['xvals'], loss_eval[cell], label=cell)\n",
    "\n",
    "axs[0].legend()\n",
    "plt.tight_layout()"
   ]
  },
  {
   "cell_type": "markdown",
   "metadata": {},
   "source": [
    "# Paper figure"
   ]
  },
  {
   "cell_type": "code",
   "execution_count": null,
   "metadata": {},
   "outputs": [],
   "source": [
    "titles = {\n",
    "    'rate_rest': r'$\\delta_{Rate}^{Rest}$',\n",
    "    'rate_rel_range': r'$\\delta_{Rate}^\\Delta$',\n",
    "    'Vm_rest': r'$\\delta_{V}^{Rest}$',\n",
    "    'Vm_rel_range': r'$\\delta_{V}^\\Delta$',\n",
    "    'Vm_low': r'$\\delta_{V}^{min}$',\n",
    "    'Vm_high': r'$\\delta_{V}^{max}$',\n",
    "}"
   ]
  },
  {
   "cell_type": "code",
   "execution_count": null,
   "metadata": {},
   "outputs": [],
   "source": [
    "xlabels = {\n",
    "    'rate_rest': r'Release rate (ves./s)',\n",
    "    'rate_rel_range': r'Release rate (ves./s)',\n",
    "    'Vm_rest': r'Membrane potential (mV)',\n",
    "    'Vm_rel_range': r'Membrane potential (mV)',\n",
    "    'Vm_low': r'Membrane potential (mV)',\n",
    "    'Vm_high': r'Membrane potential (mV)',\n",
    "}"
   ]
  },
  {
   "cell_type": "code",
   "execution_count": null,
   "metadata": {},
   "outputs": [],
   "source": [
    "colors = {'Cone': 'firebrick', 'OFF': 'steelblue', 'ON': 'darkgreen'}\n",
    "linestyles = {'Cone': '--', 'OFF': '-', 'ON': ':'}\n",
    "lws = {'Cone': 1.5, 'OFF': 1.5, 'ON': 2}"
   ]
  },
  {
   "cell_type": "code",
   "execution_count": null,
   "metadata": {},
   "outputs": [],
   "source": [
    "import seaborn as sns\n",
    "\n",
    "fig, axs = plt.subplots(3, 2, figsize=(5.6, 2.7))\n",
    "\n",
    "for ax, (loss_name, loss_eval) in zip(axs.flatten(), loss_evals.items()):\n",
    "    ax.set_title(titles[loss_name])\n",
    "    for cell in cell2folder.keys():\n",
    "        ax.plot(loss_eval['xvals'], loss_eval[cell], label=cell,\n",
    "                lw=lws[cell], color=colors[cell], ls=linestyles[cell],\n",
    "                clip_on=False)\n",
    "    ax.set_ylim(ylims[loss_name])\n",
    "    ax.set_yticks(np.unique(list(ylims[loss_name]) + [0]))\n",
    "    ax.set_ylabel('Discrepancy', verticalalignment='center', labelpad=10)\n",
    "    ax.set_xlabel(xlabels[loss_name])\n",
    "\n",
    "sns.despine()\n",
    "\n",
    "plt.tight_layout(h_pad=0.5, rect=[0, -0.04, 1, 1.04])\n",
    "axs[1, 0].legend(loc='upper left', bbox_to_anchor=(0.01, 1.7),\n",
    "                 frameon=False, borderpad=0.0, labelspacing=0.1)\n",
    "plt.savefig(f'../_figures/fig{fig_num}_discrepancy_function.pdf')\n",
    "plt.show()"
   ]
  },
  {
   "cell_type": "code",
   "execution_count": null,
   "metadata": {},
   "outputs": [],
   "source": []
  }
 ],
 "metadata": {
  "hide_input": false,
  "kernelspec": {
   "display_name": "Python 3",
   "language": "python",
   "name": "python3"
  },
  "language_info": {
   "codemirror_mode": {
    "name": "ipython",
    "version": 3
   },
   "file_extension": ".py",
   "mimetype": "text/x-python",
   "name": "python",
   "nbconvert_exporter": "python",
   "pygments_lexer": "ipython3",
   "version": "3.7.5"
  },
  "toc": {
   "base_numbering": 1,
   "nav_menu": {},
   "number_sections": true,
   "sideBar": true,
   "skip_h1_title": false,
   "title_cell": "Table of Contents",
   "title_sidebar": "Contents",
   "toc_cell": false,
   "toc_position": {
    "height": "calc(100% - 180px)",
    "left": "10px",
    "top": "150px",
    "width": "384px"
   },
   "toc_section_display": true,
   "toc_window_display": true
  },
  "varInspector": {
   "cols": {
    "lenName": 16,
    "lenType": 16,
    "lenVar": 40
   },
   "kernels_config": {
    "python": {
     "delete_cmd_postfix": "",
     "delete_cmd_prefix": "del ",
     "library": "var_list.py",
     "varRefreshCmd": "print(var_dic_list())"
    },
    "r": {
     "delete_cmd_postfix": ") ",
     "delete_cmd_prefix": "rm(",
     "library": "var_list.r",
     "varRefreshCmd": "cat(var_dic_list()) "
    }
   },
   "types_to_exclude": [
    "module",
    "function",
    "builtin_function_or_method",
    "instance",
    "_Feature"
   ],
   "window_display": false
  }
 },
 "nbformat": 4,
 "nbformat_minor": 2
}
