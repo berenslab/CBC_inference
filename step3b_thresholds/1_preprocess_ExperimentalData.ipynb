{
 "cells": [
  {
   "cell_type": "markdown",
   "metadata": {},
   "source": [
    "# Preprocess currents for simulations"
   ]
  },
  {
   "cell_type": "code",
   "execution_count": null,
   "metadata": {},
   "outputs": [],
   "source": [
    "import numpy as np\n",
    "import pandas as pd\n",
    "from matplotlib import pyplot as plt\n",
    "\n",
    "import os\n",
    "import sys"
   ]
  },
  {
   "cell_type": "code",
   "execution_count": null,
   "metadata": {},
   "outputs": [],
   "source": [
    "pythoncodepath = os.path.abspath(os.path.join('..', '_pythoncode'))\n",
    "sys.path = [pythoncodepath] + sys.path\n",
    "import importhelper\n",
    "importhelper.addfolders2path(pythoncodepath)"
   ]
  },
  {
   "cell_type": "code",
   "execution_count": null,
   "metadata": {},
   "outputs": [],
   "source": [
    "import data_utils"
   ]
  },
  {
   "cell_type": "markdown",
   "metadata": {},
   "source": [
    "# Read Currents and create current density files."
   ]
  },
  {
   "cell_type": "code",
   "execution_count": null,
   "metadata": {},
   "outputs": [],
   "source": [
    "data_utils.make_dir(\"PreprocessedData\")"
   ]
  },
  {
   "cell_type": "markdown",
   "metadata": {},
   "source": [
    "## Global parameters"
   ]
  },
  {
   "cell_type": "code",
   "execution_count": null,
   "metadata": {},
   "outputs": [],
   "source": [
    "# Parameters to correct units.\n",
    "A_elec = np.pi * (15e-6)**2\n",
    "ee_elec = 70e-6\n",
    "\n",
    "Areas = {}\n",
    "\n",
    "Areas['1x1'] = A_elec\n",
    "for A in [2,4,8,10,16,20]:\n",
    "    AxA = str(A) + 'x' + str(A)\n",
    "    Areas[AxA] = (ee_elec * A)**2\n",
    "    \n",
    "for A in [1,2,4,8,10,16,20]:\n",
    "    AxA = str(A) + 'x' + str(A)\n",
    "    print(AxA + \":\\t {:.0f} um²\".format(1e12*Areas[AxA]))"
   ]
  },
  {
   "cell_type": "markdown",
   "metadata": {},
   "source": [
    "## Read and preprocess data."
   ]
  },
  {
   "cell_type": "code",
   "execution_count": null,
   "metadata": {},
   "outputs": [],
   "source": [
    "# Input file.\n",
    "I = {} # Current\n",
    "J = {} # Current density\n",
    "Q = {} # Charge\n",
    "X = {} # Charge density\n",
    "\n",
    "for A in [1,2,4,8,10,16,20]:\n",
    "    AxA = str(A) + 'x' + str(A)\n",
    "\n",
    "    # Read currents.\n",
    "    input_file = os.path.join('ExperimentalData', AxA + '-biphasische stimualtionsstrom.dat')\n",
    "    \n",
    "    # Create table.\n",
    "    current_table         = pd.read_csv(input_file, sep='\\t')\n",
    "    current_table['ms']   = current_table*1e-3\n",
    "    current_table.columns = ['Time [s]'] + ['I' + str(i) + ' [A]' for i in range(current_table.columns.size-1)]     \n",
    "    I[AxA] = current_table\n",
    "    \n",
    "    dt = np.mean(current_table['Time [s]'].values[1:] - current_table['Time [s]'].values[:-1])\n",
    "    \n",
    "    # Compute charge.\n",
    "    Q[AxA] = {}\n",
    "    for i in range(len(current_table.columns[1:])):\n",
    "        idx_on = 0#np.where(current_table['Time [s]'] >= 3e-3)[0][0]\n",
    "        idx_off = -1#np.where(current_table['Time [s]'] >= 5e-3)[0][0]\n",
    "        \n",
    "        Q[AxA]['I'+str(i)] = np.mean(np.clip(current_table['I'+str(i)+' [A]'], 0, None)) * current_table['Time [s]'].max()\n",
    "    \n",
    "    # Compute current density.\n",
    "    current_density_table = current_table.copy()\n",
    "    current_density_table.iloc[:,1:] /= Areas[AxA]\n",
    "    current_density_table.columns = ['Time [s]'] + ['J' + str(i) + ' [A/m^2]' for i in range(current_density_table.columns.size-1)]\n",
    "    J[AxA] = current_density_table\n",
    "        \n",
    "    \n",
    "    # Compute charge density.\n",
    "    X[AxA] = {}\n",
    "    for i in range(len(current_table.columns[1:])):\n",
    "        X[AxA]['I'+str(i)] = Q[AxA]['I'+str(i)] / Areas[AxA]\n",
    "        \n",
    "data_utils.save_var(I, os.path.join('PreprocessedData', 'from_raw_I.pkl'))\n",
    "#data_utils.save_var(J, os.path.join('PreprocessedData', 'from_raw_J.pkl'))\n",
    "#data_utils.save_var(Q, os.path.join('PreprocessedData', 'from_raw_Q.pkl'))\n",
    "data_utils.save_var(X, os.path.join('PreprocessedData', 'from_raw_X.pkl'))"
   ]
  },
  {
   "cell_type": "markdown",
   "metadata": {},
   "source": [
    "# Plot"
   ]
  },
  {
   "cell_type": "code",
   "execution_count": null,
   "metadata": {},
   "outputs": [],
   "source": [
    "# Plot\n",
    "plt.figure(1, figsize = (14, 14))\n",
    "\n",
    "idx=1\n",
    "for AxA in ['1x1','2x2','4x4','8x8','10x10','16x16','20x20']:\n",
    "    plt.subplot(3,3,idx)\n",
    "    plt.title(AxA)\n",
    "    plt.xlabel('Time [s]')\n",
    "    plt.ylabel('I [uA]')\n",
    "    c = 1\n",
    "    for i in I[AxA].columns[1:]:\n",
    "        plt.plot(I[AxA]['Time [s]'], I[AxA][i]*1e6)\n",
    "        c+=1\n",
    "    plt.legend(I[AxA].columns[1:])\n",
    "    idx+=1\n",
    "plt.tight_layout()\n",
    "plt.show()"
   ]
  },
  {
   "cell_type": "markdown",
   "metadata": {},
   "source": [
    "# Save current densities\n",
    "\n",
    "Current files will be used in COMSOL to simulate the currents"
   ]
  },
  {
   "cell_type": "code",
   "execution_count": null,
   "metadata": {},
   "outputs": [],
   "source": [
    "A_list = ['1x1', '2x2','4x4','10x10']"
   ]
  },
  {
   "cell_type": "code",
   "execution_count": null,
   "metadata": {},
   "outputs": [],
   "source": [
    "# Save currents to files.\n",
    "for AxA in A_list: \n",
    "    current = I[AxA].iloc[:,1:].values.T.flatten()\n",
    "    time = np.tile(I[AxA]['Time [s]'], I[AxA].shape[1]-1)\n",
    "    gain = np.repeat(np.arange(I[AxA].shape[1]-1), I[AxA].shape[0])\n",
    "    \n",
    "    comsol_stimfile = pd.DataFrame(np.stack([time, gain, current]).T)\n",
    "                     \n",
    "    filename = str(AxA) + '/I_stim.txt'\n",
    "    comsol_stimfile.to_csv(filename, index=False, header=None)"
   ]
  },
  {
   "cell_type": "code",
   "execution_count": null,
   "metadata": {},
   "outputs": [],
   "source": []
  }
 ],
 "metadata": {
  "hide_input": false,
  "kernelspec": {
   "display_name": "Python 3",
   "language": "python",
   "name": "python3"
  },
  "language_info": {
   "codemirror_mode": {
    "name": "ipython",
    "version": 3
   },
   "file_extension": ".py",
   "mimetype": "text/x-python",
   "name": "python",
   "nbconvert_exporter": "python",
   "pygments_lexer": "ipython3",
   "version": "3.7.5"
  },
  "toc": {
   "base_numbering": 1,
   "nav_menu": {},
   "number_sections": true,
   "sideBar": true,
   "skip_h1_title": false,
   "title_cell": "Table of Contents",
   "title_sidebar": "Contents",
   "toc_cell": false,
   "toc_position": {
    "height": "calc(100% - 180px)",
    "left": "10px",
    "top": "150px",
    "width": "384px"
   },
   "toc_section_display": true,
   "toc_window_display": true
  },
  "varInspector": {
   "cols": {
    "lenName": 16,
    "lenType": 16,
    "lenVar": 40
   },
   "kernels_config": {
    "python": {
     "delete_cmd_postfix": "",
     "delete_cmd_prefix": "del ",
     "library": "var_list.py",
     "varRefreshCmd": "print(var_dic_list())"
    },
    "r": {
     "delete_cmd_postfix": ") ",
     "delete_cmd_prefix": "rm(",
     "library": "var_list.r",
     "varRefreshCmd": "cat(var_dic_list()) "
    }
   },
   "types_to_exclude": [
    "module",
    "function",
    "builtin_function_or_method",
    "instance",
    "_Feature"
   ],
   "window_display": false
  }
 },
 "nbformat": 4,
 "nbformat_minor": 2
}
