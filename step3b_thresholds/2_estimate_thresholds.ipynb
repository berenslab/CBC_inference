{
 "cells": [
  {
   "cell_type": "markdown",
   "metadata": {},
   "source": [
    "# Simulate biphasic current pulses on CBCs\n",
    "\n",
    "Use experimentally recorded currents in COMSOL to generate voltages."
   ]
  },
  {
   "cell_type": "markdown",
   "metadata": {},
   "source": [
    "## <font color='red'> Select mode: run_all  / load_only / test</font>\n",
    "\n",
    "- *run_all*\n",
    "    - Stimulate all cells, takes a while.\n",
    "- *load_only*\n",
    "    - Will simulate anything new.\n",
    "- *test*\n",
    "     - Stimulate all cells, takes a while."
   ]
  },
  {
   "cell_type": "code",
   "execution_count": null,
   "metadata": {},
   "outputs": [],
   "source": [
    "#simulation_mode = 'test'\n",
    "#simulation_mode = 'run_all'\n",
    "simulation_mode = 'load_only'"
   ]
  },
  {
   "cell_type": "markdown",
   "metadata": {},
   "source": [
    "# Imports"
   ]
  },
  {
   "cell_type": "code",
   "execution_count": null,
   "metadata": {},
   "outputs": [],
   "source": [
    "import importlib\n",
    "import pandas as pd\n",
    "import numpy as np\n",
    "from matplotlib import pyplot as plt\n",
    "import warnings\n",
    "from multiprocessing import Pool\n",
    "import itertools\n",
    "\n",
    "import os\n",
    "import sys"
   ]
  },
  {
   "cell_type": "code",
   "execution_count": null,
   "metadata": {},
   "outputs": [],
   "source": [
    "pythoncodepath = os.path.abspath(os.path.join('..', '_pythoncode'))\n",
    "sys.path = [pythoncodepath] + sys.path\n",
    "import importhelper\n",
    "importhelper.addfolders2path(pythoncodepath)"
   ]
  },
  {
   "cell_type": "code",
   "execution_count": null,
   "metadata": {},
   "outputs": [],
   "source": [
    "import data_utils\n",
    "import comsol_utils"
   ]
  },
  {
   "cell_type": "markdown",
   "metadata": {},
   "source": [
    "# Create Cell and stimulate"
   ]
  },
  {
   "cell_type": "code",
   "execution_count": null,
   "metadata": {},
   "outputs": [],
   "source": [
    "t_rng  = (0, 0.04)\n",
    "predur = 20.\n",
    "rec_predur = 0.02"
   ]
  },
  {
   "cell_type": "markdown",
   "metadata": {},
   "source": [
    "## Select optimized cells"
   ]
  },
  {
   "cell_type": "code",
   "execution_count": null,
   "metadata": {},
   "outputs": [],
   "source": [
    "cbc_folder = os.path.join('..', 'step2a_optimize_cbc', )\n",
    "\n",
    "cell2folder = {\n",
    "    'ON': os.path.join(cbc_folder, 'optim_data', 'optimize_ON_submission2'),\n",
    "    'OFF': os.path.join(cbc_folder, 'optim_data', 'optimize_OFF_submission2'),\n",
    "}"
   ]
  },
  {
   "cell_type": "markdown",
   "metadata": {},
   "source": [
    "## Create cells\n"
   ]
  },
  {
   "cell_type": "code",
   "execution_count": null,
   "metadata": {},
   "outputs": [],
   "source": [
    "import retsim_cells\n",
    "importlib.reload(retsim_cells)\n",
    "\n",
    "kwargs = dict(\n",
    "    stim_type='Vext',\n",
    "    make_cones=False,\n",
    "    t_rng=t_rng,\n",
    "    predur=predur,\n",
    "    expt_base_file=os.path.join(\n",
    "        cbc_folder, 'retsim_files', 'expt_CBC_base.cc'),\n",
    "    nval_file='nval_optimize_CBCs.n',\n",
    "    retsim_path=os.path.abspath(os.path.join(\n",
    "        '..', 'NeuronC', 'models', 'retsim')) + '/'\n",
    ")\n",
    "\n",
    "# Create cells.\n",
    "ON_cell = retsim_cells.CBC(\n",
    "    bp_type='CBC5o',\n",
    "    expt_file='Vext_thresholds_ON',\n",
    "    bp_densfile='dens_CBC5o_optimize_ON.n',\n",
    "    chanparams_file='chanparams_CBC5o_optimize_ON.n',\n",
    "    compfile='rd_ON.csv',\n",
    "    comsol_compfile='rd_ON.csv',\n",
    "    retsim_stim_file_base='Vext_thresholds_ON_rd',\n",
    "    **kwargs\n",
    ")\n",
    "\n",
    "OFF_cell = retsim_cells.CBC(\n",
    "    bp_type='CBC3a',\n",
    "    expt_file='Vext_thresholds_OFF',\n",
    "    bp_densfile='dens_CBC3a_optimize_OFF.n',\n",
    "    chanparams_file='chanparams_CBC3a_optimize_OFF.n',\n",
    "    compfile='rd_OFF.csv',\n",
    "    comsol_compfile='rd_OFF.csv',\n",
    "    retsim_stim_file_base='Vext_thresholds_OFF_rd',\n",
    "    **kwargs\n",
    ")\n",
    "\n",
    "cells = [ON_cell, OFF_cell]"
   ]
  },
  {
   "cell_type": "code",
   "execution_count": null,
   "metadata": {},
   "outputs": [],
   "source": [
    "def reset_cells():\n",
    "    for cell in cells:\n",
    "        cell.rec_type = 'optimize'\n",
    "        cell.set_n_cones = 0\n",
    "\n",
    "        cell.sim_dt  = 1e-6\n",
    "        cell.syn_dt  = 1e-6\n",
    "        cell.rec_dt  = 1e-5\n",
    "        cell.stim_dt = 1e-5\n",
    "        \n",
    "        cell.update_t_rng(t_rng)\n",
    "        cell.predur = predur\n",
    "        \n",
    "reset_cells()"
   ]
  },
  {
   "cell_type": "markdown",
   "metadata": {},
   "source": [
    "## Set parameters"
   ]
  },
  {
   "cell_type": "markdown",
   "metadata": {},
   "source": [
    "### Defaults and units"
   ]
  },
  {
   "cell_type": "code",
   "execution_count": null,
   "metadata": {},
   "outputs": [],
   "source": [
    "for cell, cell_name in zip([ON_cell, OFF_cell], ['ON', 'OFF']):\n",
    "\n",
    "    cell.params_default = data_utils.load_var(os.path.join(cell2folder[cell_name], 'cell_params_default.pkl'))\n",
    "    cell.params_unit = data_utils.load_var(os.path.join(cell2folder[cell_name], 'cell_params_unit.pkl'))\n",
    "    \n",
    "    cell.params_default.update(data_utils.load_var(os.path.join(cell2folder[cell_name], 'final_cpl_dict.pkl')))\n",
    "    cell.params_default['set_tempcel'] = 33.5"
   ]
  },
  {
   "cell_type": "markdown",
   "metadata": {},
   "source": [
    "### Optimized parameters"
   ]
  },
  {
   "cell_type": "code",
   "execution_count": null,
   "metadata": {},
   "outputs": [],
   "source": [
    "N_param_sets = 5\n",
    "\n",
    "cell2params_list = []\n",
    "\n",
    "for cell in cells:\n",
    "    optim_folder = cell2folder['OFF' if cell.is_OFF_bp else 'ON']\n",
    "    samples = data_utils.load_var(os.path.join(optim_folder, 'post_data', 'post_model_output_list.pkl'))\n",
    "    d_sort_idxs = np.argsort([sample['loss']['total'] for sample in samples])\n",
    "    cell2params_list.append([samples[idx]['params'] for idx in d_sort_idxs[:N_param_sets]])"
   ]
  },
  {
   "cell_type": "markdown",
   "metadata": {},
   "source": [
    "### Prepare cells"
   ]
  },
  {
   "cell_type": "code",
   "execution_count": null,
   "metadata": {},
   "outputs": [],
   "source": [
    "# Create c++ files.\n",
    "ON_cell.create_retsim_expt_file(verbose=False, on2cone_nodes=[])\n",
    "OFF_cell.create_retsim_expt_file(verbose=False, off2cone_nodes=[])\n",
    "# Compile c++ files.\n",
    "!(cd {cell.retsim_path} && make)"
   ]
  },
  {
   "cell_type": "code",
   "execution_count": null,
   "metadata": {},
   "outputs": [],
   "source": [
    "ON_cell.set_rot(mxrot=-90, myrot=0)\n",
    "ON_im = ON_cell.init_retsim(verbose=False, print_comps=True, update=True)\n",
    "\n",
    "OFF_cell.set_rot(mxrot=-90, myrot=60)\n",
    "OFF_im = OFF_cell.init_retsim(verbose=False, print_comps=True, update=True)\n",
    "\n",
    "# Plot.\n",
    "fig, axs = plt.subplots(1,2,figsize=(14, 8))\n",
    "axs[0].imshow(ON_im)\n",
    "axs[1].imshow(OFF_im)\n",
    "for ax in axs: ax.axis('off')\n",
    "plt.show()"
   ]
  },
  {
   "cell_type": "markdown",
   "metadata": {},
   "source": [
    "# EQ files"
   ]
  },
  {
   "cell_type": "code",
   "execution_count": null,
   "metadata": {},
   "outputs": [],
   "source": [
    "def set_zero_stim(cell):\n",
    "    time = np.unique(np.array([0, t_rng[0], t_rng[1]]))\n",
    "    zero_stim = {'Time': time}\n",
    "    zero_stim.update({'C'+str(i): np.zeros(time.size) for i in range(cell.n_bc_comps)})\n",
    "    cell.set_stim(pd.DataFrame(zero_stim))\n",
    "    cell.create_retsim_stim_file(stim_idx=0)"
   ]
  },
  {
   "cell_type": "code",
   "execution_count": null,
   "metadata": {},
   "outputs": [],
   "source": [
    "def run_cell_with_params(cell, sim_params, verbose=False):\n",
    "    return cell.run(sim_params=sim_params, reset_retsim_stim=False, stim_idx=0, plot=False, verbose=verbose)[0]"
   ]
  },
  {
   "cell_type": "markdown",
   "metadata": {},
   "source": [
    "## Set EQ filenames"
   ]
  },
  {
   "cell_type": "code",
   "execution_count": null,
   "metadata": {},
   "outputs": [],
   "source": [
    "for cell, cell_params in zip(cells, cell2params_list):\n",
    "    for i, cell_params_i in enumerate(cell_params):\n",
    "        cell_params_i['eqfile'] = cell.bp_type + '_thresh_params_idx_'+ str(i) + '.eq'"
   ]
  },
  {
   "cell_type": "markdown",
   "metadata": {},
   "source": [
    "## Create EQ files"
   ]
  },
  {
   "cell_type": "code",
   "execution_count": null,
   "metadata": {},
   "outputs": [],
   "source": [
    "allow_skip_eqs = True # Skip if they exist.\n",
    "\n",
    "all_eqs_exist = True\n",
    "for cell, cell_params in zip(cells, cell2params_list):\n",
    "    for i, cell_params_i in enumerate(cell_params):\n",
    "        if cell_params_i['eqfile'] not in os.listdir(cell.retsim_path):\n",
    "            all_eqs_exist = False\n",
    "            break\n",
    "\n",
    "if (not allow_skip_eqs) or (not all_eqs_exist):\n",
    "    reset_cells()\n",
    "\n",
    "    for cell in cells:\n",
    "        cell.params_default['run_predur_only'] = 0\n",
    "        cell.params_default['load_eq'] = 0\n",
    "        cell.params_default['save_eq'] = 1\n",
    "        cell.params_default['rec_predur'] = rec_predur\n",
    "\n",
    "        set_zero_stim(cell)\n",
    "\n",
    "    parallel_params_list = []\n",
    "    for cell, cell_params in zip(cells, cell2params_list):\n",
    "        for cell_params_i in cell_params:\n",
    "            parallel_params_list.append((cell, cell_params_i, True))\n",
    "\n",
    "    with Pool(processes=20) as pool:\n",
    "        eq_rec_data_list = pool.starmap(run_cell_with_params, parallel_params_list);\n",
    "else:\n",
    "    eq_rec_data_list is None"
   ]
  },
  {
   "cell_type": "markdown",
   "metadata": {},
   "source": [
    "## Set to load EQ and test\n",
    "\n",
    "Never skip this, it is relatively fast and a good sanity check."
   ]
  },
  {
   "cell_type": "code",
   "execution_count": null,
   "metadata": {},
   "outputs": [],
   "source": [
    "reset_cells()\n",
    "\n",
    "for cell in cells:\n",
    "    cell.rec_type = 'optimize'\n",
    "    cell.params_default['run_predur_only'] = 0\n",
    "    cell.params_default['save_eq'] = 0\n",
    "    cell.params_default['load_eq'] = 1\n",
    "    cell.params_default['rec_predur'] = rec_predur\n",
    "    \n",
    "    set_zero_stim(cell)\n",
    "    \n",
    "parallel_params_list = []\n",
    "for cell, cell_params in zip(cells, cell2params_list):\n",
    "    for cell_params_i in cell_params:\n",
    "        parallel_params_list.append((cell, cell_params_i, True))\n",
    "        \n",
    "with Pool(processes=20) as pool:\n",
    "    load_eq_rec_data_list = pool.starmap(run_cell_with_params, parallel_params_list);"
   ]
  },
  {
   "cell_type": "code",
   "execution_count": null,
   "metadata": {},
   "outputs": [],
   "source": [
    "import plot_eq_samples\n",
    "importlib.reload(plot_eq_samples);\n",
    "\n",
    "if eq_rec_data_list: plot_eq_samples.plot_eq_rec_data(eq_rec_data_list, parallel_params_list)\n",
    "plot_eq_samples.plot_eq_rec_data(load_eq_rec_data_list, parallel_params_list)"
   ]
  },
  {
   "cell_type": "markdown",
   "metadata": {},
   "source": [
    "# Select simulation parameters"
   ]
  },
  {
   "cell_type": "code",
   "execution_count": null,
   "metadata": {},
   "outputs": [],
   "source": [
    "#simulation_mode = 'test'\n",
    "#simulation_mode = 'run_all'\n",
    "simulation_mode = 'load_only'"
   ]
  },
  {
   "cell_type": "code",
   "execution_count": null,
   "metadata": {},
   "outputs": [],
   "source": [
    "if simulation_mode == 'test':\n",
    "    AxA_list = ['2x2'] # Electrode configurations\n",
    "    prefixs = ['ON', 'OFF'] # Prefixes for ON and OFF\n",
    "    j_list = np.array([0,1,2,3,5,8,10]) # Current indices.\n",
    "else:\n",
    "    AxA_list = ['1x1', '2x2', '4x4', '10x10'] # Electrode configurations\n",
    "    prefixs = ['ON', 'OFF'] # Prefixes for ON and OFF\n",
    "    j_list = np.arange(0,17) # Current indices."
   ]
  },
  {
   "cell_type": "markdown",
   "metadata": {},
   "source": [
    "## Create xy-positions to simulate"
   ]
  },
  {
   "cell_type": "code",
   "execution_count": null,
   "metadata": {},
   "outputs": [],
   "source": [
    "comsol_zo = 30\n",
    "\n",
    "dx_list = [0, 70, 140, 210, 280, 500]\n",
    "dy_list = np.zeros(len(dx_list))\n",
    "\n",
    "N_cells = len(dx_list)\n",
    "\n",
    "dxdy_list = np.stack([dx_list, dy_list]).T\n",
    "\n",
    "# Plot cell positions.\n",
    "plt.figure(1,(3,3))\n",
    "plt.plot(dxdy_list[:,0], dxdy_list[:,1], '*')\n",
    "plt.show()"
   ]
  },
  {
   "cell_type": "markdown",
   "metadata": {},
   "source": [
    "# COMSOL"
   ]
  },
  {
   "cell_type": "code",
   "execution_count": null,
   "metadata": {},
   "outputs": [],
   "source": [
    "# Prepare output folders.\n",
    "for prefix in prefixs:\n",
    "    for AxA in AxA_list:\n",
    "        data_utils.make_dir(os.path.join(AxA, 'comsol_Vext', prefix))"
   ]
  },
  {
   "cell_type": "markdown",
   "metadata": {},
   "source": [
    "## Create compartment files for COMSOL"
   ]
  },
  {
   "cell_type": "code",
   "execution_count": null,
   "metadata": {},
   "outputs": [],
   "source": [
    "data_utils.clean_folder('Neurons', force=True)"
   ]
  },
  {
   "cell_type": "code",
   "execution_count": null,
   "metadata": {},
   "outputs": [],
   "source": [
    "import comsol_comp_utils\n",
    "importlib.reload(comsol_comp_utils)\n",
    "\n",
    "for cell in cells:\n",
    "\n",
    "    print(cell.bp_type)\n",
    "    prefix = 'OFF' if cell.is_OFF_bp else 'ON'\n",
    "    for dxdy in dxdy_list:\n",
    "        \n",
    "        cell.comsol_compfile = prefix +'_dx' + str(dxdy[0]) + '_dy' + str(dxdy[1]) + '.n';\n",
    "        \n",
    "        print('\\t', cell.comsol_compfile)\n",
    "        \n",
    "        comsol_comp_utils.center_xy_region(cell=cell, region='R1')\n",
    "        comsol_comp_utils.create_comsol_comp_file(\n",
    "            cell=cell, z_soma=30, verbose=False, x0=dxdy[0], y0=dxdy[1],\n",
    "            copy_to_comsol=False\n",
    "        )"
   ]
  },
  {
   "cell_type": "markdown",
   "metadata": {},
   "source": [
    "## Get COMSOL output\n",
    "\n",
    "- The notebook creates a single file containing all compartment positions of a single cell.\n",
    "- The user then has to run COMSOL manually.  $\\Rightarrow$ **COMSOL is required.**\n",
    "- The notebook reads the COMSOL output and moves the data somewhere else.\n",
    "\n",
    "If you don't have COMSOL or don't want to run it, skip this step.\n",
    "\n",
    "Otherwise you will have to do this step twice, once for both cells. Do the following:\n",
    "\n",
    "- Select a cell by setting cell to ON_cell or OFF_cell in this script. (see script below)\n",
    "- Open and run the COMSOL files for all NxN configurations you want to have.\n",
    "- Copy the output and save it for the cell with the script below.\n",
    "- Repeat for other cell."
   ]
  },
  {
   "cell_type": "code",
   "execution_count": null,
   "metadata": {},
   "outputs": [],
   "source": [
    "# Select a cell by setting cell to ON_cell or OFF_cell.\n",
    "\n",
    "#cell = OFF_cell\n",
    "cell = ON_cell"
   ]
  },
  {
   "cell_type": "markdown",
   "metadata": {},
   "source": [
    "###### Create single morphology file for COMSOL"
   ]
  },
  {
   "cell_type": "code",
   "execution_count": null,
   "metadata": {},
   "outputs": [],
   "source": [
    "from shutil import move\n",
    "\n",
    "prefix = 'OFF' if cell.is_OFF_bp else 'ON'\n",
    "    \n",
    "# Add all cells to one for COMSOL.\n",
    "cells_morph = []\n",
    "\n",
    "for dxdy in dxdy_list:\n",
    "    cell_morph = pd.read_csv(\n",
    "        'Neurons/' + prefix + '_dx' + str(dxdy[0]) + '_dy' + str(dxdy[1]) + '.n',\\\n",
    "        delim_whitespace=True, names=['x', 'y', 'z']\n",
    "    )\n",
    "\n",
    "    assert cell_morph.shape[0] == cell.n_bc_comps + cell.n_cone_comps\n",
    "    cells_morph = cells_morph + [cell_morph]\n",
    "\n",
    "n_cells = len(cells_morph) \n",
    "\n",
    "cells_morph = pd.concat(cells_morph, axis=0, ignore_index=True)\n",
    "\n",
    "cells_morph.to_csv('_all_neurons.csv', index=None, header=None)"
   ]
  },
  {
   "cell_type": "markdown",
   "metadata": {},
   "source": [
    "##### <font color='red'> Open COMSOL files and extract Vext. </font>"
   ]
  },
  {
   "cell_type": "code",
   "execution_count": null,
   "metadata": {},
   "outputs": [],
   "source": [
    "input('Confirm that COMSOL outputs are up to data.')"
   ]
  },
  {
   "cell_type": "markdown",
   "metadata": {},
   "source": [
    "##### Move all files to cell specific folder"
   ]
  },
  {
   "cell_type": "code",
   "execution_count": null,
   "metadata": {},
   "outputs": [],
   "source": [
    "# Copy the output and save it for the cell.\n",
    "for AxA in AxA_list:\n",
    "    print(AxA)\n",
    "    \n",
    "    Vext_files = [Vext_file for Vext_file in os.listdir(AxA + '/comsol_Vext/') if Vext_file[0:4] == 'Vext']\n",
    "    print(Vext_files)\n",
    "\n",
    "    for Vext_file in Vext_files:\n",
    "        src_file = AxA + '/comsol_Vext/' + Vext_file\n",
    "        trg_file = AxA + '/comsol_Vext/'+ prefix + '/' + Vext_file\n",
    "        move(src_file, trg_file)\n",
    "        \n",
    "    print()"
   ]
  },
  {
   "cell_type": "markdown",
   "metadata": {},
   "source": [
    "##### <font color='red'>Repeat for other cell.</font>"
   ]
  },
  {
   "cell_type": "code",
   "execution_count": null,
   "metadata": {},
   "outputs": [],
   "source": [
    "input('Confirm Vext for both cells was extracted.')"
   ]
  },
  {
   "cell_type": "markdown",
   "metadata": {},
   "source": [
    "# Make retsim stimuli\n",
    "\n",
    "The [last step](#COMSOL) created extracellular voltages $V_{ex}$ for every compartment in COMSOL.\n",
    "If you skipped it you can also use the precomputed $V_{ex}$ values.\n",
    "\n",
    "This step, translates $V_{ex}$ into retsim stimuli."
   ]
  },
  {
   "cell_type": "code",
   "execution_count": null,
   "metadata": {},
   "outputs": [],
   "source": [
    "# Prepare output folders and make clean.\n",
    "for prefix, AxA, j in itertools.product(['OFF', 'ON'], AxA_list, j_list):\n",
    "    outputfolder = os.path.join(AxA, 'comsol_Vext', prefix, 'j' + str(j))\n",
    "    data_utils.make_dir(outputfolder)\n",
    "    data_utils.clean_folder(outputfolder, verbose=False, force=True)"
   ]
  },
  {
   "cell_type": "code",
   "execution_count": null,
   "metadata": {},
   "outputs": [],
   "source": [
    "def make_stimuli_for_single_cells(AxA, j, prefix, n_comps): \n",
    "    outputfolder = os.path.join(AxA, 'comsol_Vext', prefix, 'j' + str(j))\n",
    "    \n",
    "    # Read COMSOL file.\n",
    "    inputfile = os.path.join(AxA, 'comsol_Vext', prefix, 'Vext_k_' + str(j) + '.csv')\n",
    "    Vext_cells_raw = comsol_utils.comsol2dataframe(inputfile)\n",
    "    time = Vext_cells_raw['Time'].values\n",
    "    n_cells = int(Vext_cells_raw.shape[1] / n_comps)\n",
    "    \n",
    "    # Sanity checks.\n",
    "    assert n_cells == N_cells\n",
    "    assert n_cells*n_comps == (Vext_cells_raw.shape[1]-1)\n",
    "    \n",
    "    # Split file for every cell.\n",
    "    Vext_cells = []\n",
    "    for cell_i in range(n_cells):\n",
    "        Vext_cell = Vext_cells_raw.iloc[:,1+cell_i*n_comps:1+(cell_i+1)*n_comps]\n",
    "        Vext_cell = pd.concat(\n",
    "            [\n",
    "                pd.DataFrame(np.zeros((1,n_comps)), columns=Vext_cell.columns),\n",
    "                Vext_cell,\n",
    "                pd.DataFrame(np.zeros((2,n_comps)), columns=Vext_cell.columns),\n",
    "            ],\n",
    "            ignore_index=True\n",
    "        )\n",
    "        \n",
    "        assert time.max()+rec_predur < t_rng[1]\n",
    "        \n",
    "        Vext_cell.insert(0, 'Time', np.concatenate([np.append(0, time+rec_predur), [time.max()+1e-3+rec_predur, t_rng[1]]]))\n",
    "        Vext_cells += [Vext_cell]\n",
    "            \n",
    "    # Save to file.\n",
    "    for cell_i, Vext_cell in enumerate(Vext_cells):\n",
    "        dxdy = dxdy_list[cell_i]\n",
    "        filename = 'dx' + str(int(dxdy[0])) + '_dy' + str(int(dxdy[1])) + '.stim'\n",
    "        Vext_cell.to_csv(os.path.join(outputfolder, filename), index=False, sep=',')"
   ]
  },
  {
   "cell_type": "code",
   "execution_count": null,
   "metadata": {},
   "outputs": [],
   "source": [
    "for cell, AxA, j in itertools.product(cells, AxA_list, j_list):\n",
    "    prefix = 'OFF' if cell.is_OFF_bp else 'ON'\n",
    "    print(prefix, AxA, ('j'+str(j)).ljust(3), end='\\t')\n",
    "    make_stimuli_for_single_cells(AxA, j, prefix, n_comps=cell.n_bc_comps)"
   ]
  },
  {
   "cell_type": "markdown",
   "metadata": {},
   "source": [
    "# Run experiment"
   ]
  },
  {
   "cell_type": "code",
   "execution_count": null,
   "metadata": {},
   "outputs": [],
   "source": [
    "input('Confirm that retsim stimuli are up to data. Please press enter.')"
   ]
  },
  {
   "cell_type": "code",
   "execution_count": null,
   "metadata": {},
   "outputs": [],
   "source": [
    "if simulation_mode == 'test':\n",
    "    run_AxA_list = ['2x2']\n",
    "    run_j_list = np.array([0,1,2,3,5,8,10])\n",
    "else:\n",
    "    run_AxA_list = ['1x1', '2x2', '4x4', '10x10']\n",
    "    run_j_list = [0,1,2,3,4,5,6,8,12]"
   ]
  },
  {
   "cell_type": "markdown",
   "metadata": {},
   "source": [
    "## Helper functions"
   ]
  },
  {
   "cell_type": "code",
   "execution_count": null,
   "metadata": {},
   "outputs": [],
   "source": [
    "def set_cell_stims(cell, AxA, j):\n",
    "    prefix = 'OFF' if cell.is_OFF_bp else 'ON' \n",
    "    stim_files = [f'{AxA}/comsol_Vext/{prefix}/j{j}/dx{int(dxdy[0])}_dy{int(dxdy[1])}.stim'\n",
    "                  for dxdy in dxdy_list]    \n",
    "    cell.set_stim([pd.read_csv(stim_file) for stim_file in stim_files]);"
   ]
  },
  {
   "cell_type": "code",
   "execution_count": null,
   "metadata": {},
   "outputs": [],
   "source": [
    "def run(cell, cell_params, AxA, j, rec_type='optimize'):\n",
    "    print('\\tRunning for ' + AxA + ' with j' + str(j))\n",
    "    \n",
    "    set_cell_stims(cell, AxA, j)\n",
    "    \n",
    "    sim_list_list = []\n",
    "    for cell_params_i in cell_params:        \n",
    "        print({k: \"{:.1g}\".format(v) if isinstance(v, float) else v for k, v in cell_params_i.items()})\n",
    "        \n",
    "        cell.params_default.update(cell_params_i)\n",
    "        sim_list_list.append(cell.run_parallel_stimuli(n_parallel=N_cells+2))\n",
    "    \n",
    "    return sim_list_list"
   ]
  },
  {
   "cell_type": "markdown",
   "metadata": {},
   "source": [
    "## Plot stimuli"
   ]
  },
  {
   "cell_type": "code",
   "execution_count": null,
   "metadata": {},
   "outputs": [],
   "source": [
    "def plot_stim(cell, AxA, j, ax=None):\n",
    "    if ax is None: fig, ax = plt.subplots(1,1,figsize=(12,1))\n",
    "    ax.set_title(AxA + '   j' + str(j))\n",
    "    \n",
    "    for stim_idx, stim in enumerate(cell.stim):\n",
    "        ax.plot(1e3*stim['Time'], 1e3*stim.iloc[:,1::10].mean(axis=1))\n",
    "        \n",
    "    ax.set_xlabel('Time [ms]')\n",
    "    ax.set_ylabel('Vext [mV]')\n",
    "    plt.show()"
   ]
  },
  {
   "cell_type": "code",
   "execution_count": null,
   "metadata": {},
   "outputs": [],
   "source": [
    "for AxA, j in itertools.product(run_AxA_list, run_j_list):\n",
    "    set_cell_stims(cell=ON_cell, AxA=AxA, j=j)\n",
    "    plot_stim(cell=ON_cell, AxA=AxA, j=j, ax=None)"
   ]
  },
  {
   "cell_type": "markdown",
   "metadata": {},
   "source": [
    "## Run"
   ]
  },
  {
   "cell_type": "code",
   "execution_count": null,
   "metadata": {},
   "outputs": [],
   "source": [
    "overwrite_bc_data = (simulation_mode != 'load_only')\n",
    "bc_folder = 'bc_data_submission2' if (simulation_mode == 'load_only') else 'bc_data'\n",
    "data_utils.make_dir(bc_folder)\n",
    "print('Folder:', bc_folder, '  --> Gen new data:', allow_overwriting_bc_data)"
   ]
  },
  {
   "cell_type": "code",
   "execution_count": null,
   "metadata": {},
   "outputs": [],
   "source": [
    "dxdy_list_filename = f'{bc_folder}/dxdy_list.pkl'\n",
    "if os.path.isfile(dxdy_list_filename) and not overwrite_bc_data:\n",
    "    np.all(data_utils.load_var(dxdy_list_filename) == dxdy_list)\n",
    "else:\n",
    "    data_utils.save_var(dxdy_list, dxdy_list_filename)"
   ]
  },
  {
   "cell_type": "code",
   "execution_count": null,
   "metadata": {},
   "outputs": [],
   "source": [
    "run_j_list_filename = f'{bc_folder}/run_j_list.pkl'\n",
    "if os.path.isfile(run_j_list_filename) and not overwrite_bc_data:\n",
    "    assert np.all(data_utils.load_var(run_j_list_filename) == run_j_list)\n",
    "else:\n",
    "    data_utils.save_var(run_j_list, run_j_list_filename)"
   ]
  },
  {
   "cell_type": "code",
   "execution_count": null,
   "metadata": {},
   "outputs": [],
   "source": [
    "for cell, cell_params in zip(cells, cell2params_list):\n",
    "    prefix = 'OFF' if cell.is_OFF_bp else 'ON'    \n",
    "    \n",
    "    for AxA in run_AxA_list:\n",
    "        filename = f'{bc_folder}/sim_{prefix}_{AxA}.pkl'\n",
    "        print(filename)\n",
    "        \n",
    "        if os.path.isfile(filename) and not(overwrite_bc_data):\n",
    "            print('File already exists. Will not be overwritten.')\n",
    "            sim_list = data_utils.load_var(filename)\n",
    "            assert len(sim_list) == len(run_j_list)\n",
    "            assert np.all([len(sim_list_i) == N_param_sets for sim_list_i in sim_list])\n",
    "            assert np.all([[len(sim_list_ii) == len(dxdy_list) for sim_list_ii in sim_list_i]\n",
    "                           for sim_list_i in sim_list])\n",
    "        else:\n",
    "            sim_list = [run(cell=cell, cell_params=cell_params, AxA=AxA, j=j) for j in run_j_list]\n",
    "            data_utils.save_var(sim_list, filename)\n",
    "            \n",
    "        del sim_list\n",
    "            \n",
    "        print()"
   ]
  },
  {
   "cell_type": "markdown",
   "metadata": {},
   "source": [
    "# Export meta data"
   ]
  },
  {
   "cell_type": "code",
   "execution_count": null,
   "metadata": {},
   "outputs": [],
   "source": [
    "ON_cell_params = cell2params_list[np.argwhere(np.asarray(cells)==ON_cell).flat[0]]\n",
    "OFF_cell_params = cell2params_list[np.argwhere(np.asarray(cells)==OFF_cell).flat[0]]\n",
    "\n",
    "ON_rrps = np.asarray([ON_params_i['b_rrp'] for ON_params_i in ON_cell_params ])\n",
    "OFF_rrps = np.asarray([OFF_params_i['b_rrp'] for OFF_params_i in OFF_cell_params])\n",
    "\n",
    "data_utils.save_var(ON_rrps, f'{bc_folder}/ON_rrps.pkl')\n",
    "data_utils.save_var(OFF_rrps, f'{bc_folder}/OFF_rrps.pkl')"
   ]
  }
 ],
 "metadata": {
  "hide_input": false,
  "kernelspec": {
   "display_name": "Python 3",
   "language": "python",
   "name": "python3"
  },
  "language_info": {
   "codemirror_mode": {
    "name": "ipython",
    "version": 3
   },
   "file_extension": ".py",
   "mimetype": "text/x-python",
   "name": "python",
   "nbconvert_exporter": "python",
   "pygments_lexer": "ipython3",
   "version": "3.7.5"
  },
  "toc": {
   "base_numbering": 1,
   "nav_menu": {},
   "number_sections": true,
   "sideBar": true,
   "skip_h1_title": false,
   "title_cell": "Table of Contents",
   "title_sidebar": "Contents",
   "toc_cell": false,
   "toc_position": {
    "height": "calc(100% - 180px)",
    "left": "10px",
    "top": "150px",
    "width": "383.969px"
   },
   "toc_section_display": true,
   "toc_window_display": true
  },
  "varInspector": {
   "cols": {
    "lenName": 16,
    "lenType": 16,
    "lenVar": 40
   },
   "kernels_config": {
    "python": {
     "delete_cmd_postfix": "",
     "delete_cmd_prefix": "del ",
     "library": "var_list.py",
     "varRefreshCmd": "print(var_dic_list())"
    },
    "r": {
     "delete_cmd_postfix": ") ",
     "delete_cmd_prefix": "rm(",
     "library": "var_list.r",
     "varRefreshCmd": "cat(var_dic_list()) "
    }
   },
   "types_to_exclude": [
    "module",
    "function",
    "builtin_function_or_method",
    "instance",
    "_Feature"
   ],
   "window_display": false
  }
 },
 "nbformat": 4,
 "nbformat_minor": 2
}
