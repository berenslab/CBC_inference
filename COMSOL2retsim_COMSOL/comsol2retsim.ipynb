{
 "cells": [
  {
   "cell_type": "code",
   "execution_count": null,
   "metadata": {},
   "outputs": [],
   "source": [
    "import numpy as np\n",
    "import os\n",
    "from shutil import copyfile\n",
    "from time import sleep\n",
    "from matplotlib import pyplot as plt"
   ]
  },
  {
   "cell_type": "code",
   "execution_count": null,
   "metadata": {},
   "outputs": [],
   "source": [
    "import subprocess\n",
    "\n",
    "# Check if COMSOL is in path.\n",
    "assert 'COMSOL' in subprocess.check_output(\"echo %PATH%\".split(), shell=True).decode(), 'COMSOL is not in path'"
   ]
  },
  {
   "cell_type": "code",
   "execution_count": null,
   "metadata": {},
   "outputs": [],
   "source": [
    "folder = 'Z:/berens/project_bipolarcells/COMSOL2retsim/'"
   ]
  },
  {
   "cell_type": "markdown",
   "metadata": {},
   "source": [
    "# <font color='red'> ... ensure this folder is also set in you comsol file.</font>\n",
    "\n",
    "Check:\n",
    "- Input files, e.g. tmax (parameters) but also currents\n",
    "- Output file, e.g. export, or data point selection of compartment"
   ]
  },
  {
   "cell_type": "code",
   "execution_count": null,
   "metadata": {},
   "outputs": [],
   "source": [
    "# Get batch size.\n",
    "def get_batch_size(verbose=True):\n",
    "    with open(folder + 'interface/' + '_batch_size') as file:\n",
    "        batch_size = int(file.read())\n",
    "    if verbose: print('batch_size = ' + str(batch_size))\n",
    "    return batch_size"
   ]
  },
  {
   "cell_type": "code",
   "execution_count": null,
   "metadata": {},
   "outputs": [],
   "source": [
    "# Get suffix and predix of samples.\n",
    "def get_sample_prefix_and_suffix(verbose=True):\n",
    "    with open(folder + 'interface/' + '_samples_prefix') as file:\n",
    "        prefix = file.read()\n",
    "        \n",
    "    with open(folder + 'interface/' + '_samples_suffix') as file:\n",
    "        suffix = file.read()\n",
    "        \n",
    "    if verbose: print('sample_prefix = ' + prefix + '; sample_suffix = ' + suffix)\n",
    "        \n",
    "    return prefix, suffix"
   ]
  },
  {
   "cell_type": "code",
   "execution_count": null,
   "metadata": {},
   "outputs": [],
   "source": [
    "# Get all samples that have prefix and sort them.\n",
    "def get_samples(prefix, suffix, verbose=True):\n",
    "\n",
    "    # Load all files in samples folder.\n",
    "    files = os.listdir(folder + 'comsol_input/samples/')\n",
    "    \n",
    "    # Get them unsorted, and only consider files with valid prefix.\n",
    "    sample_files_unsorted = {}\n",
    "    for file in files:\n",
    "        assert file.count('.') == 1, 'must have exactly one dot'\n",
    "        if file[:len(prefix)] == prefix:\n",
    "            sample_idx = int(file[len(prefix):file.find(suffix)])\n",
    "            sample_files_unsorted[sample_idx] = file\n",
    "        else:\n",
    "            if verbose:\n",
    "                print(file + ' in samples but different prefix')\n",
    "            \n",
    "    # Sort files.\n",
    "    sample_files = {}\n",
    "    for sample_idx in sorted(list(sample_files_unsorted.keys())):\n",
    "        sample_files[sample_idx] = sample_files_unsorted[sample_idx]\n",
    "        \n",
    "    return sample_files"
   ]
  },
  {
   "cell_type": "code",
   "execution_count": null,
   "metadata": {},
   "outputs": [],
   "source": [
    "def write_to_file(data, file):\n",
    "    \n",
    "    with open(file, 'w+') as f:\n",
    "        f.write(str(data))"
   ]
  },
  {
   "cell_type": "code",
   "execution_count": null,
   "metadata": {},
   "outputs": [],
   "source": [
    "def set_input_not_ready(verbose=True):\n",
    "    file = folder + 'interface/' + '_input_ready'\n",
    "    if os.path.isfile(file): os.remove(file)\n",
    "\n",
    "def wait_for_ready_input(verbose=True):\n",
    "    if verbose: print('Waiting for input ... ')\n",
    "        \n",
    "    while (True):\n",
    "        if '_input_ready' in os.listdir(folder + 'interface/'):\n",
    "            sleep(0.1)\n",
    "            set_input_not_ready()\n",
    "            break\n",
    "        sleep(0.1)\n",
    "            \n",
    "    if verbose: print('Ready!')"
   ]
  },
  {
   "cell_type": "code",
   "execution_count": null,
   "metadata": {},
   "outputs": [],
   "source": [
    "def set_comsol_idle(verbose=True):\n",
    "    write_to_file(1, folder + 'interface/' + '_comsol_idle')\n",
    "        \n",
    "def set_comsol_not_idle(verbose=True):\n",
    "    write_to_file(0, folder + 'interface/' + '_comsol_idle')"
   ]
  },
  {
   "cell_type": "code",
   "execution_count": null,
   "metadata": {},
   "outputs": [],
   "source": [
    "def set_output_ready(verbose=True):\n",
    "    write_to_file(1, folder + 'interface/' + '_output_ready')\n",
    "        \n",
    "def set_output_not_ready(verbose=True):\n",
    "    file = folder + 'interface/' + '_output_ready'\n",
    "    if os.path.isfile(file): os.remove(file)"
   ]
  },
  {
   "cell_type": "code",
   "execution_count": null,
   "metadata": {},
   "outputs": [],
   "source": [
    "# Copy a batch of sample to batch folder where comsol will pick them.\n",
    "def input_samples2batch(sample_idxs, verbose=True):\n",
    "    \n",
    "    sample_idxs = np.asarray(sample_idxs)\n",
    "    assert sample_idxs.size <= batch_size\n",
    "    \n",
    "    samples_folder = folder + 'comsol_input/samples/'\n",
    "    batch_folder   = folder + 'comsol_input/batch/'\n",
    "    \n",
    "    # Copy files.\n",
    "    for batch_idx, sample_idx in enumerate(sample_idxs):\n",
    "        sample_file = sample_files[sample_idx]\n",
    "        batch_file  = sample_prefix + str(batch_idx) + sample_suffix\n",
    "    \n",
    "        copyfile(samples_folder + sample_file, batch_folder + batch_file)\n",
    "        if verbose: print('\\tbatch/' + batch_file + ' \\t--> ' + 'samples/' + sample_file)\n",
    "        \n",
    "    # Copy last file several times if batch is otherwise not full.\n",
    "    # Outputs will be ignored.\n",
    "    if sample_idxs.size < batch_size:\n",
    "        for batch_idx in np.arange(sample_idxs.size, batch_size):\n",
    "            batch_file = sample_prefix + str(batch_idx) + sample_suffix\n",
    "            copyfile(samples_folder + sample_file, batch_folder + batch_file)"
   ]
  },
  {
   "cell_type": "code",
   "execution_count": null,
   "metadata": {},
   "outputs": [],
   "source": [
    "# Remove all files in input batch.\n",
    "def clean_output_batch():\n",
    "    files = os.listdir(folder + 'comsol_output/batch/')\n",
    "    for file in files:\n",
    "        os.remove(folder + 'comsol_output/batch/' + file)\n",
    "    sleep(0.01)"
   ]
  },
  {
   "cell_type": "code",
   "execution_count": null,
   "metadata": {},
   "outputs": [],
   "source": [
    "# Remove all files in input batch.\n",
    "def clean_output_samples():\n",
    "    files = os.listdir(folder + 'comsol_output/samples/')\n",
    "    for file in files:\n",
    "        os.remove(folder + 'comsol_output/samples/' + file)\n",
    "    sleep(0.01)"
   ]
  },
  {
   "cell_type": "code",
   "execution_count": null,
   "metadata": {},
   "outputs": [],
   "source": [
    "from os.path import isfile\n",
    "\n",
    "# Run COMSOL, everything should be ready by then.\n",
    "def run_comsol(verbose=True):\n",
    "    with open(folder + 'interface/'+ '_comsol_filename') as file:\n",
    "        comsol_filename = 'comsol_models/' + file.read()\n",
    "        \n",
    "    assert isfile(comsol_filename), 'comsol models does not exist'\n",
    "        \n",
    "    cmd = \"comsolbatch -inputfile \" + comsol_filename\n",
    "    if verbose: print('Calling ' + cmd)\n",
    "    try:\n",
    "        subprocess.call(cmd.split(), shell=True, stderr=subprocess.STDOUT)\n",
    "    except subprocess.CalledProcessError as e:\n",
    "        raise RuntimeError(\"command '{}' return with error (code {}): {}\".format(e.cmd, e.returncode, e.output))"
   ]
  },
  {
   "cell_type": "code",
   "execution_count": null,
   "metadata": {},
   "outputs": [],
   "source": [
    "# Remove all files in input batch.\n",
    "def clean_input_batch():\n",
    "    files = os.listdir(folder + 'comsol_input/batch/')\n",
    "    for file in files:\n",
    "        os.remove(folder + 'comsol_input/batch/' + file)\n",
    "    sleep(0.01)"
   ]
  },
  {
   "cell_type": "code",
   "execution_count": null,
   "metadata": {},
   "outputs": [],
   "source": [
    "def output_batch2samples(sample_idxs, verbose=True):\n",
    "    sample_idxs = np.asarray(sample_idxs)\n",
    "    assert sample_idxs.size <= batch_size\n",
    "\n",
    "    batch_files = sorted(os.listdir(folder + 'comsol_output/batch/'))\n",
    "    \n",
    "    assert len(batch_files) % batch_size == 0\n",
    "    n_file_types = int(len(batch_files) / batch_size)\n",
    "    file_type_prefixes = []\n",
    "    file_type_suffixes = []\n",
    "    \n",
    "    # Get prefixes and suffixes of file types.\n",
    "    for file_type_idx in range(n_file_types):\n",
    "        \n",
    "        # Get filename.\n",
    "        file = batch_files[file_type_idx*batch_size]\n",
    "        \n",
    "        # Get prefix.\n",
    "        file_type_prefix = file[:file.find('_idx')]\n",
    "        file_type_prefixes.append(file_type_prefix)\n",
    "        \n",
    "        # Get suffix.\n",
    "        file_type_suffix = file[file.find('.'):]\n",
    "        file_type_suffixes.append(file_type_suffix)\n",
    "        \n",
    "    # Copy files from batch to samples.\n",
    "    batch_folder = folder + 'comsol_output/batch/'\n",
    "    samples_folder = folder + 'comsol_output/samples/'\n",
    "    \n",
    "    for file_type_idx in range(n_file_types):\n",
    "        \n",
    "        # Get suffix and prefix.\n",
    "        file_type_prefix = file_type_prefixes[file_type_idx]\n",
    "        file_type_suffix = file_type_suffixes[file_type_idx]\n",
    "        \n",
    "        # Copy files.\n",
    "        for batch_idx, sample_idx in enumerate(sample_idxs):\n",
    "            batch_file  = file_type_prefix + '_idx_' + str(batch_idx) + file_type_suffix\n",
    "            sample_file = file_type_prefix + '_idx_' + str(sample_idx) + file_type_suffix\n",
    "            copyfile(batch_folder + batch_file, samples_folder + sample_file)\n",
    "            if verbose: print('\\tbatch/' + batch_file + ' \\t--> ' + 'samples/' + sample_file)\n",
    "                "
   ]
  },
  {
   "cell_type": "code",
   "execution_count": null,
   "metadata": {},
   "outputs": [],
   "source": [
    "while True:\n",
    "    # Set COMSOL idle.\n",
    "    set_comsol_idle()\n",
    "    # Wait for go signal.\n",
    "    wait_for_ready_input()\n",
    "    # Received go signal, set output is not ready.\n",
    "    set_output_not_ready()\n",
    "    # Delete old output.\n",
    "    clean_output_samples()\n",
    "    \n",
    "    # Get prefix and suffix of samples.\n",
    "    sample_prefix, sample_suffix = get_sample_prefix_and_suffix(verbose=False)\n",
    "    # Get all sample files (use prefix and suffix)\n",
    "    sample_files = get_samples(prefix=sample_prefix, suffix=sample_suffix, verbose=True)\n",
    "    \n",
    "    # Get batch size.\n",
    "    batch_size = get_batch_size(verbose=False)\n",
    "    \n",
    "    # Arange samples to batches with batch size.\n",
    "    sample_idxs_all = list(sample_files.keys())\n",
    "    sample_idxs_batches =\\\n",
    "        [sample_idxs_all[i*batch_size:(i+1)*batch_size] for i in range(int(np.ceil(len(sample_idxs_all) / batch_size)))]\n",
    "    \n",
    "    # Run in batches.\n",
    "    for sample_idxs in sample_idxs_batches:\n",
    "        # Get samples into input batch folder.\n",
    "        input_samples2batch(sample_idxs=sample_idxs)\n",
    "        # Clean output batch folder.\n",
    "        clean_output_batch()\n",
    "        \n",
    "        # Run Comsol. As long Comsol runs, it is not idle.\n",
    "        set_comsol_not_idle()\n",
    "        #input()\n",
    "        run_comsol()\n",
    "        set_comsol_idle()\n",
    "        \n",
    "        # Copy output batch to samples.\n",
    "        output_batch2samples(sample_idxs=sample_idxs)\n",
    "        \n",
    "        # Clean input batch.\n",
    "        clean_input_batch()\n",
    "        # Clean output batch.\n",
    "        clean_output_batch()\n",
    "    \n",
    "    # After all samples are computed, set output ready.\n",
    "    sleep(0.2)\n",
    "    set_output_ready()"
   ]
  },
  {
   "cell_type": "code",
   "execution_count": null,
   "metadata": {},
   "outputs": [],
   "source": []
  },
  {
   "cell_type": "code",
   "execution_count": null,
   "metadata": {},
   "outputs": [],
   "source": []
  }
 ],
 "metadata": {
  "kernelspec": {
   "display_name": "Python 3",
   "language": "python",
   "name": "python3"
  },
  "language_info": {
   "codemirror_mode": {
    "name": "ipython",
    "version": 3
   },
   "file_extension": ".py",
   "mimetype": "text/x-python",
   "name": "python",
   "nbconvert_exporter": "python",
   "pygments_lexer": "ipython3",
   "version": "3.7.1"
  }
 },
 "nbformat": 4,
 "nbformat_minor": 2
}
