{
 "cells": [
  {
   "cell_type": "markdown",
   "metadata": {},
   "source": [
    "# Optimize stimuli to target OFF and ON CBCs\n",
    "\n",
    "- [Create cells](#Cells)\n",
    "- [Create equilibrium files for the cells that can be loaded](#Equilibrium-(EQ)-files)\n",
    "- [Prepare them for optimization](#Prepare-optimization)\n",
    "- [Genereate prior samples for both cells as targets](#Pior-samples)\n",
    "- [Optimize for both cell types](#Optimize-for-specific-BC)\n",
    "- [Remove ion channels and test response](#Test-why-cells-respond-differently)"
   ]
  },
  {
   "cell_type": "markdown",
   "metadata": {},
   "source": [
    "## Select mode: full_inference  / load_only / test\n",
    "\n",
    "- *full_inference*\n",
    "    - Runs the whole inference. $\\Rightarrow$ **COMSOL is required.**\n",
    "    - Takes a long time\n",
    "- *load_only*\n",
    "    - Will not generate new samples, but loads the data generated for the paper.\n",
    "- *test*\n",
    "    - Runs the whole inference, but with fewer samples. $\\Rightarrow$ **COMSOL is required.**\n",
    "    - Illustrates how the inference works, without spending to much CPU power and time.\n",
    "    - However, it might lead to problems, because too few samples are generated leading to bad inference.\n",
    "    - Don't use these results in subsequent steps."
   ]
  },
  {
   "cell_type": "code",
   "execution_count": null,
   "metadata": {},
   "outputs": [],
   "source": [
    "#inference_mode = 'test'\n",
    "#inference_mode = 'full_inference'\n",
    "inference_mode = 'load_only'"
   ]
  },
  {
   "cell_type": "markdown",
   "metadata": {},
   "source": [
    "# Imports"
   ]
  },
  {
   "cell_type": "code",
   "execution_count": null,
   "metadata": {},
   "outputs": [],
   "source": [
    "import importlib\n",
    "import pandas as pd\n",
    "import numpy as np\n",
    "from matplotlib import pyplot as plt\n",
    "from multiprocessing import Pool"
   ]
  },
  {
   "cell_type": "code",
   "execution_count": null,
   "metadata": {},
   "outputs": [],
   "source": [
    "import os\n",
    "import sys"
   ]
  },
  {
   "cell_type": "code",
   "execution_count": null,
   "metadata": {},
   "outputs": [],
   "source": [
    "pythoncodepath = os.path.abspath(os.path.join('..', '_pythoncode'))\n",
    "sys.path = [pythoncodepath] + sys.path\n",
    "import importhelper\n",
    "importhelper.addfolders2path(pythoncodepath)"
   ]
  },
  {
   "cell_type": "code",
   "execution_count": null,
   "metadata": {},
   "outputs": [],
   "source": [
    "import data_utils"
   ]
  },
  {
   "cell_type": "code",
   "execution_count": null,
   "metadata": {},
   "outputs": [],
   "source": [
    "import optimize_stimulus_utils as utils\n",
    "importlib.reload(utils);"
   ]
  },
  {
   "cell_type": "markdown",
   "metadata": {},
   "source": [
    "# Cells"
   ]
  },
  {
   "cell_type": "code",
   "execution_count": null,
   "metadata": {},
   "outputs": [],
   "source": [
    "predur = 20. # Note that this is only run once during initialization.\n",
    "\n",
    "predur_stim = 0.02\n",
    "stimdur = 0.04\n",
    "postdur_stim = 0.02\n",
    "\n",
    "t_rng = (0, predur_stim+stimdur+postdur_stim)\n",
    "\n",
    "rec_dur = t_rng[1] - predur_stim"
   ]
  },
  {
   "cell_type": "code",
   "execution_count": null,
   "metadata": {},
   "outputs": [],
   "source": [
    "import retsim_cells\n",
    "importlib.reload(retsim_cells)\n",
    "\n",
    "cbc_folder = os.path.join('..', 'step2a_optimize_cbc')\n",
    "\n",
    "kwargs = dict(\n",
    "    stim_type='Vext',\n",
    "    make_cones=False,\n",
    "    predur=predur,\n",
    "    nval_file='nval_optimize_CBCs.n',\n",
    "    expt_base_file=os.path.join(\n",
    "        cbc_folder, 'retsim_files', 'expt_CBC_base.cc'),\n",
    "    retsim_path=os.path.abspath(os.path.join(\n",
    "        '..', 'NeuronC', 'models', 'retsim')) + '/'\n",
    ")\n",
    "\n",
    "# Create ON cell.\n",
    "ON_cell = retsim_cells.CBC(\n",
    "    bp_type='CBC5o',\n",
    "    expt_file='optimize_stimulus_ON',\n",
    "    comsol_compfile='ON_BC_optimize_stimulation.csv',\n",
    "    retsim_stim_file_base='ON_BC_stimulus_optimize_stimulation',\n",
    "    bp_densfile='dens_CBC5o_optimize_ON.n',\n",
    "    chanparams_file='chanparams_CBC5o_optimize_ON.n',\n",
    "    **kwargs,\n",
    ")\n",
    "\n",
    "# Create OFF cell.\n",
    "OFF_cell = retsim_cells.CBC(\n",
    "    bp_type='CBC3a',\n",
    "    expt_file='optimize_stimulus_OFF',\n",
    "    comsol_compfile='OFF_BC_optimize_stimulation.csv',\n",
    "    retsim_stim_file_base='OFF_BC_stimulus_optimize_stimulation',\n",
    "    bp_densfile='dens_CBC3a_optimize_OFF.n',\n",
    "    chanparams_file='chanparams_CBC3a_optimize_OFF.n',\n",
    "    **kwargs,\n",
    ")\n",
    "\n",
    "cells = [ON_cell, OFF_cell]"
   ]
  },
  {
   "cell_type": "code",
   "execution_count": null,
   "metadata": {},
   "outputs": [],
   "source": [
    "def reset_cells():\n",
    "    for cell in cells:\n",
    "        cell.rec_type = 'optimize'\n",
    "        cell.set_n_cones = 0\n",
    "\n",
    "        cell.sim_dt  = 1e-5\n",
    "        cell.syn_dt  = 1e-5\n",
    "        cell.rec_dt  = 1e-5\n",
    "        cell.stim_dt = 1e-4\n",
    "        \n",
    "        cell.update_t_rng(t_rng)\n",
    "        cell.predur = predur\n",
    "        \n",
    "reset_cells()"
   ]
  },
  {
   "cell_type": "markdown",
   "metadata": {},
   "source": [
    "## Prepare cells"
   ]
  },
  {
   "cell_type": "code",
   "execution_count": null,
   "metadata": {},
   "outputs": [],
   "source": [
    "for cell in cells: cell.create_retsim_expt_file(verbose=True) # Create c++ files."
   ]
  },
  {
   "cell_type": "code",
   "execution_count": null,
   "metadata": {},
   "outputs": [],
   "source": [
    "!(cd {cell.retsim_path} && make) # Compile c++ files."
   ]
  },
  {
   "cell_type": "markdown",
   "metadata": {},
   "source": [
    "## Parameters"
   ]
  },
  {
   "cell_type": "code",
   "execution_count": null,
   "metadata": {},
   "outputs": [],
   "source": [
    "cell2folder = {\n",
    "    'ON': os.path.join(cbc_folder, 'optim_data', 'optimize_ON_submission2'),\n",
    "    'OFF': os.path.join(cbc_folder, 'optim_data', 'optimize_OFF_submission2'),\n",
    "}"
   ]
  },
  {
   "cell_type": "markdown",
   "metadata": {},
   "source": [
    "### Defaults and units"
   ]
  },
  {
   "cell_type": "code",
   "execution_count": null,
   "metadata": {},
   "outputs": [],
   "source": [
    "for cell, cell_name in zip([ON_cell, OFF_cell], ['ON', 'OFF']):\n",
    "    cell.params_default = data_utils.load_var(os.path.join(cell2folder[cell_name], 'cell_params_default.pkl'))\n",
    "    cell.params_unit = data_utils.load_var(os.path.join(cell2folder[cell_name], 'cell_params_unit.pkl'))\n",
    "    cell.params_default.update(data_utils.load_var(os.path.join(cell2folder[cell_name], 'final_cpl_dict.pkl')))"
   ]
  },
  {
   "cell_type": "markdown",
   "metadata": {},
   "source": [
    "### Posterior parameters"
   ]
  },
  {
   "cell_type": "code",
   "execution_count": null,
   "metadata": {},
   "outputs": [],
   "source": [
    "N_param_sets = 5\n",
    "\n",
    "cell2params_list = []\n",
    "\n",
    "for cell in cells:\n",
    "    optim_folder = cell2folder['OFF' if cell.is_OFF_bp else 'ON']\n",
    "    samples = data_utils.load_var(os.path.join(optim_folder, 'post_data', 'post_model_output_list.pkl'))\n",
    "    d_sort_idxs = np.argsort([sample['loss']['total'] for sample in samples])\n",
    "    cell2params_list.append([samples[idx]['params'] for idx in d_sort_idxs[:N_param_sets]])"
   ]
  },
  {
   "cell_type": "code",
   "execution_count": null,
   "metadata": {},
   "outputs": [],
   "source": [
    "ON_cell_params = cell2params_list[np.argwhere(np.asarray(cells)==ON_cell).flat[0]]\n",
    "OFF_cell_params = cell2params_list[np.argwhere(np.asarray(cells)==OFF_cell).flat[0]]\n",
    "\n",
    "ON_rrps = np.asarray([ON_params_i['b_rrp'] for ON_params_i in ON_cell_params])\n",
    "OFF_rrps = np.asarray([OFF_params_i['b_rrp'] for OFF_params_i in OFF_cell_params])"
   ]
  },
  {
   "cell_type": "code",
   "execution_count": null,
   "metadata": {},
   "outputs": [],
   "source": [
    "cell2maxrelease = {\n",
    "    'CBC5o': ON_rrps + rec_dur*8,\n",
    "    'CBC3a': OFF_rrps + rec_dur*8,\n",
    "}"
   ]
  },
  {
   "cell_type": "markdown",
   "metadata": {},
   "source": [
    "## Compartments"
   ]
  },
  {
   "cell_type": "code",
   "execution_count": null,
   "metadata": {},
   "outputs": [],
   "source": [
    "ON_cell.set_rot(mxrot=-90, myrot=0)\n",
    "ON_im = ON_cell.init_retsim(verbose=False, print_comps=True, update=True)\n",
    "\n",
    "OFF_cell.set_rot(mxrot=-90, myrot=60)\n",
    "OFF_im = OFF_cell.init_retsim(verbose=False, print_comps=True, update=True)\n",
    "\n",
    "# Plot.\n",
    "fig, axs = plt.subplots(1,2,figsize=(14, 8))\n",
    "axs[0].imshow(ON_im)\n",
    "axs[1].imshow(OFF_im)\n",
    "for ax in axs: ax.axis('off')\n",
    "plt.show()"
   ]
  },
  {
   "cell_type": "markdown",
   "metadata": {},
   "source": [
    "# Equilibrium (EQ) files"
   ]
  },
  {
   "cell_type": "code",
   "execution_count": null,
   "metadata": {},
   "outputs": [],
   "source": [
    "def set_zero_stim(cell):\n",
    "    zero_stim = {'Time': np.array([0, 10])}\n",
    "    zero_stim.update({'C'+str(i): np.array([0, 0]) for i in range(cell.n_bc_comps)})\n",
    "    cell.set_stim(pd.DataFrame(zero_stim))\n",
    "    cell.create_retsim_stim_file(stim_idx=0)"
   ]
  },
  {
   "cell_type": "code",
   "execution_count": null,
   "metadata": {},
   "outputs": [],
   "source": [
    "def run_cell_with_params(cell, sim_params, verbose=False):\n",
    "    return cell.run(sim_params=sim_params, reset_retsim_stim=False, stim_idx=0, plot=False, verbose=verbose)[0]"
   ]
  },
  {
   "cell_type": "markdown",
   "metadata": {},
   "source": [
    "## Set names"
   ]
  },
  {
   "cell_type": "code",
   "execution_count": null,
   "metadata": {},
   "outputs": [],
   "source": [
    "for cell, cell_params in zip(cells, cell2params_list):\n",
    "    for i, cell_params_i in enumerate(cell_params):\n",
    "        cell_params_i['eqfile'] = cell.bp_type + '_optimize_stim_pidx_'+ str(i) + '.eq'"
   ]
  },
  {
   "cell_type": "markdown",
   "metadata": {},
   "source": [
    "## Create"
   ]
  },
  {
   "cell_type": "code",
   "execution_count": null,
   "metadata": {},
   "outputs": [],
   "source": [
    "def prepare_cells_create_eq(predur=None):\n",
    "    reset_cells()\n",
    "    \n",
    "    if predur is not None:\n",
    "        for cell in cells: cell.predur = predur\n",
    "    \n",
    "    for cell in cells:\n",
    "        cell.params_default['run_predur_only'] = 0\n",
    "        cell.params_default['load_eq'] = 0\n",
    "        cell.params_default['save_eq'] = 1\n",
    "        \n",
    "        set_zero_stim(cell)"
   ]
  },
  {
   "cell_type": "code",
   "execution_count": null,
   "metadata": {},
   "outputs": [],
   "source": [
    "allow_skip_eqs = True # Skip if they exist.\n",
    "\n",
    "all_eqs_exist = True\n",
    "for cell, cell_params in zip(cells, cell2params_list):\n",
    "    for i, cell_params_i in enumerate(cell_params):\n",
    "        if cell_params_i['eqfile'] not in os.listdir(cell.retsim_path):\n",
    "            all_eqs_exist = False\n",
    "            print(cell_params_i['eqfile'], 'and maybe others dont exist')\n",
    "            break"
   ]
  },
  {
   "cell_type": "code",
   "execution_count": null,
   "metadata": {},
   "outputs": [],
   "source": [
    "if (not allow_skip_eqs) or (not all_eqs_exist):\n",
    "    prepare_cells_create_eq()\n",
    "\n",
    "    parallel_params_list = []\n",
    "    for cell, cell_params in zip(cells, cell2params_list):\n",
    "        for cell_params_i in cell_params:\n",
    "            parallel_params_list.append((cell, cell_params_i, True))\n",
    "\n",
    "    with Pool(processes=20) as pool:\n",
    "        eq_rec_data_list = pool.starmap(run_cell_with_params, parallel_params_list);\n",
    "else:\n",
    "    eq_rec_data_list is None"
   ]
  },
  {
   "cell_type": "markdown",
   "metadata": {},
   "source": [
    "## Load"
   ]
  },
  {
   "cell_type": "code",
   "execution_count": null,
   "metadata": {},
   "outputs": [],
   "source": [
    "def prepare_cells_load_eq(post_load_predur=0.5):\n",
    "    reset_cells()\n",
    "\n",
    "    for cell in cells:\n",
    "        cell.params_default['run_predur_only'] = 0\n",
    "        cell.params_default['save_eq'] = 0\n",
    "        cell.params_default['load_eq'] = 1\n",
    "        cell.params_default['post_load_predur'] = post_load_predur\n",
    "        cell.params_default['rec_predur'] = predur_stim\n",
    "        cell.params_default['post_load_predur_timinc'] = 1e-4\n",
    "\n",
    "        set_zero_stim(cell)"
   ]
  },
  {
   "cell_type": "code",
   "execution_count": null,
   "metadata": {},
   "outputs": [],
   "source": [
    "prepare_cells_load_eq()\n",
    "    \n",
    "parallel_params_list = []\n",
    "for cell, cell_params in zip(cells, cell2params_list):\n",
    "    for cell_params_i in cell_params:\n",
    "        parallel_params_list.append((cell, cell_params_i, True))\n",
    "        \n",
    "with Pool(processes=20) as pool:\n",
    "    load_eq_rec_data_list = pool.starmap(run_cell_with_params, parallel_params_list);"
   ]
  },
  {
   "cell_type": "code",
   "execution_count": null,
   "metadata": {},
   "outputs": [],
   "source": [
    "import plot_eq_samples\n",
    "importlib.reload(plot_eq_samples);\n",
    "\n",
    "if eq_rec_data_list: plot_eq_samples.plot_eq_rec_data(eq_rec_data_list, parallel_params_list)\n",
    "plot_eq_samples.plot_eq_rec_data(load_eq_rec_data_list, parallel_params_list)"
   ]
  },
  {
   "cell_type": "markdown",
   "metadata": {},
   "source": [
    "# Prepare optimization\n",
    "\n",
    "This and the following steps require the software COMSOL.\n",
    "\n",
    "Do the following if you want to run the code below:\n",
    "\n",
    "- Copy the folder *COMSOL2retsim_COMSOL* to a machine that can run COMSOL.\n",
    "- Open the COMSOL file \n",
    "- Run the notebook *comsol2retsim.ipynb* in this folder.\n",
    "- Make sure that this notebook, and *comsol2retsim.ipynb*, and COMSOL have read and write permissions for the folder *COMSOL2retsim_interface*, since this folder is the inferace. They communicate by writing and reading files to this folder.\n",
    "\n",
    "If you can run COMSOL and SNPE/retsim on the same machine, this might seem a little cumbersome, but it you should still work."
   ]
  },
  {
   "cell_type": "code",
   "execution_count": null,
   "metadata": {},
   "outputs": [],
   "source": [
    "n_params_stim = 4\n",
    "normalize_stim = True\n",
    "spline_mode = 'cubic'"
   ]
  },
  {
   "cell_type": "code",
   "execution_count": null,
   "metadata": {},
   "outputs": [],
   "source": [
    "if inference_mode == 'load_only':\n",
    "    output_folder = 'optimize_stimulus_submission2'\n",
    "elif inference_mode in ['test', 'full_inference']:\n",
    "    output_folder = 'optimize_stimulus'\n",
    "else:\n",
    "    raise NotImplementedError()"
   ]
  },
  {
   "cell_type": "markdown",
   "metadata": {},
   "source": [
    "## Parameters and optimizer"
   ]
  },
  {
   "cell_type": "code",
   "execution_count": null,
   "metadata": {},
   "outputs": [],
   "source": [
    "from param_funcs import DummyParameters\n",
    "params = DummyParameters(n_params_stim)"
   ]
  },
  {
   "cell_type": "code",
   "execution_count": null,
   "metadata": {},
   "outputs": [],
   "source": [
    "import optimize_stimulus_protocols\n",
    "importlib.reload(optimize_stimulus_protocols)\n",
    "\n",
    "optim = optimize_stimulus_protocols.OptimizerStimulusMultiParams(\n",
    "    cells=cells, cell_params_list=cell2params_list,\n",
    "    t_rng=t_rng, params=params,\n",
    "    comsol_filename=\"single_flat_2D_rd.mph\",\n",
    "    comsol_batch_size=4,\n",
    "    comsol_samples_prefix='stimulus',\n",
    "    comsol_samples_suffix='.csv',\n",
    "    comsol_global_parameters={'tmax': t_rng[1]},\n",
    "    n_parallel=30, n_reps=1,\n",
    "    predur_stim=predur_stim,\n",
    "    output_folder=output_folder,\n",
    "    set_comsol2retsim_folder=os.path.abspath('COMSOL2retsim_interface') # Ensure this is the right folder to the interface.\n",
    ")"
   ]
  },
  {
   "cell_type": "code",
   "execution_count": null,
   "metadata": {},
   "outputs": [],
   "source": [
    "import comsol_comp_utils\n",
    "importlib.reload(comsol_comp_utils)\n",
    "\n",
    "for cell in optim.cells:\n",
    "    comsol_comp_utils.center_xy_region(cell=cell, region='R1')\n",
    "    comsol_comp_utils.create_comsol_comp_file(cell=cell, z_soma=30, verbose=True)"
   ]
  },
  {
   "cell_type": "code",
   "execution_count": null,
   "metadata": {},
   "outputs": [],
   "source": [
    "class dummy_loss():\n",
    "    def calc_loss(self, rec_data_dict, verbose=False):\n",
    "        return {'f0': 0.0, 'f1': 0.0, 'total': 0.0}\n",
    "\n",
    "optim.set_loss(dummy_loss())"
   ]
  },
  {
   "cell_type": "markdown",
   "metadata": {},
   "source": [
    "## Stimulus"
   ]
  },
  {
   "cell_type": "code",
   "execution_count": null,
   "metadata": {},
   "outputs": [],
   "source": [
    "import stim_funcs\n",
    "importlib.reload(stim_funcs)\n",
    "\n",
    "stim_generator = stim_funcs.StimulusGenerator(\n",
    "    stim_time=optim.stim_time, n_params=n_params_stim,\n",
    "    stim_mode='charge neutral',\n",
    "    predur=predur_stim, postdur=postdur_stim,\n",
    "    stim_mulitplier=0.5e-6, normalize_stim=normalize_stim, spline_mode=spline_mode,\n",
    ")\n",
    "\n",
    "optim.set_stim_generator(stim_generator)\n",
    "data_utils.save_var(stim_generator, os.path.join('optim_data', optim.output_folder, 'stim_generator.pkl'))"
   ]
  },
  {
   "cell_type": "code",
   "execution_count": null,
   "metadata": {},
   "outputs": [],
   "source": [
    "optim.init_rec_data(allow_loading=(inference_mode=='load_only'),\n",
    "                    force_loading=False, verbose=True, eq_exists=True)"
   ]
  },
  {
   "cell_type": "code",
   "execution_count": null,
   "metadata": {},
   "outputs": [],
   "source": [
    "optim.plot_init_rec_data()"
   ]
  },
  {
   "cell_type": "markdown",
   "metadata": {},
   "source": [
    "## Prior"
   ]
  },
  {
   "cell_type": "code",
   "execution_count": null,
   "metadata": {},
   "outputs": [],
   "source": [
    "from delfi import distribution\n",
    "\n",
    "mean = np.full(n_params_stim, 0)\n",
    "std  = np.full(n_params_stim, 0.3)\n",
    "\n",
    "prior = distribution.Gaussian(m=np.array(mean), S=np.diag(np.array(std)**2))"
   ]
  },
  {
   "cell_type": "code",
   "execution_count": null,
   "metadata": {},
   "outputs": [],
   "source": [
    "import plot_sampling_dists\n",
    "importlib.reload(plot_sampling_dists);\n",
    "\n",
    "PP = plot_sampling_dists.SamplingDistPlotter(\n",
    "    params=params, prior=prior, posterior_list=[],\n",
    "    lbs=np.full(params.p_N, -1.5), ubs=np.full(params.p_N, 1.5)\n",
    ")\n",
    "PP.plot_sampling_dists_1D(plot_peak_lines=False, figsize=(12,8), opt_x=False)"
   ]
  },
  {
   "cell_type": "markdown",
   "metadata": {},
   "source": [
    "# Tests"
   ]
  },
  {
   "cell_type": "code",
   "execution_count": null,
   "metadata": {},
   "outputs": [],
   "source": [
    "test_params_list = [prior.gen(1).flatten() for _ in range(4)]"
   ]
  },
  {
   "cell_type": "code",
   "execution_count": null,
   "metadata": {},
   "outputs": [],
   "source": [
    "for params_i in test_params_list:\n",
    "    stim_generator.create_stimulus(params=params_i, plot=True);"
   ]
  },
  {
   "cell_type": "code",
   "execution_count": null,
   "metadata": {},
   "outputs": [],
   "source": [
    "if inference_mode != 'load_only':\n",
    "    model_output_list = optim.run_parallel(params_list=test_params_list, verbose=True)"
   ]
  },
  {
   "cell_type": "code",
   "execution_count": null,
   "metadata": {},
   "outputs": [],
   "source": [
    "if inference_mode != 'load_only':\n",
    "    N_stims = len(model_output_list)\n",
    "    N_cell_params = len(optim.cell_params_list[0])\n",
    "\n",
    "    fig, axs = plt.subplots(N_stims, 3, figsize=(12,N_stims*1.4), sharex='col', sharey='col')\n",
    "\n",
    "    for idx, model_output in enumerate(model_output_list):\n",
    "        axs[idx,0].set_ylabel('I (uA)')\n",
    "        for rrps in optim.cells:\n",
    "            axs[idx,0].plot(\n",
    "                optim.stim_time,\n",
    "                optim.stim_generator.create_stimulus(params=model_output['params'])*1e6,\n",
    "                c='darkred'\n",
    "            )\n",
    "\n",
    "        axs[idx,0].set_title('Loss = {:.2f}'.format(model_output['loss']['total']))\n",
    "        for cell_idx, cell in enumerate(optim.cells):\n",
    "            axs[0,1+cell_idx].set_title(cell.bp_type + ' rate')\n",
    "            axs[idx,1+cell_idx].plot(\n",
    "                optim.rec_data[cell.bp_type]['Time'], model_output[cell.bp_type]['rate'][0,:,:],\n",
    "            )\n",
    "            axs[idx,1+cell_idx].legend(\n",
    "                [f\"{(mrate*rec_dur)/maxrelease:.3f}\" for mrate, maxrelease in\\\n",
    "                     zip(np.mean(model_output[cell.bp_type]['rate'][0,:,:], axis=0), cell2maxrelease[cell.bp_type])],\n",
    "                fontsize=8, loc='upper right'\n",
    "            )\n",
    "\n",
    "    plt.tight_layout()"
   ]
  },
  {
   "cell_type": "markdown",
   "metadata": {},
   "source": [
    "# Prior samples"
   ]
  },
  {
   "cell_type": "code",
   "execution_count": null,
   "metadata": {},
   "outputs": [],
   "source": [
    "from os import environ\n",
    "environ[\"MKL_THREADING_LAYER\"] = \"GNU\"\n",
    "\n",
    "import gpu_test\n",
    "assert gpu_test.run(verbose=False)"
   ]
  },
  {
   "cell_type": "code",
   "execution_count": null,
   "metadata": {},
   "outputs": [],
   "source": [
    "import delfi_funcs\n",
    "importlib.reload(delfi_funcs); \n",
    "\n",
    "delfi_optim_prior = delfi_funcs.DELFI_Optimizer(\n",
    "    optim=optim, prior=prior, n_parallel=20,\n",
    "    gen_minibatch=4, scalar_loss=True,\n",
    "    post_as_truncated_normal=False,\n",
    "    samples_folder='prior_samples',\n",
    "    backups_folder='prior_backups',\n",
    "    snpe_folder='prior_snpe',\n",
    ")\n",
    "\n",
    "if inference_mode != 'load_only':\n",
    "\n",
    "    delfi_optim_prior.init_SNPE(\n",
    "        verbose                 = False,\n",
    "        pseudo_obs_dim          = 0,\n",
    "        pseudo_obs_n            = 1,\n",
    "        kernel_bandwidth        = 0.25,\n",
    "        kernel_bandwidth_perc   = 20,\n",
    "        kernel_bandwidth_min    = 1,\n",
    "        pseudo_obs_use_all_data = False,\n",
    "        n_components            = 1,\n",
    "    )    \n",
    "\n",
    "    delfi_optim_prior.run_SNPE(\n",
    "        max_duration_minutes  = 60*24,\n",
    "        max_rounds            = 1,\n",
    "        n_samples_per_round   = 400,\n",
    "        continue_optimization = False,\n",
    "        load_init_tds         = False,\n",
    "    )"
   ]
  },
  {
   "cell_type": "code",
   "execution_count": null,
   "metadata": {},
   "outputs": [],
   "source": [
    "data_utils.save_var(ON_rrps, os.path.join(delfi_optim_prior.retsim_folder, 'ON_rrps.pkl'))\n",
    "data_utils.save_var(OFF_rrps, os.path.join(delfi_optim_prior.retsim_folder, 'OFF_rrps.pkl'))"
   ]
  },
  {
   "cell_type": "markdown",
   "metadata": {},
   "source": [
    "# Optimize for specific BC\n",
    "\n",
    "- Select cell target\n",
    "- [Define loss function](#Loss)\n",
    "    - [Update prior samples loss with that loss function](#Update-loss-of-prior-samples)\n",
    "- [Run inference](#Inference)\n",
    "- [Show results](#Inference-results)\n",
    "- [Export data for figure](#Export-data)\n",
    "- **Repeat these steps for other cell**"
   ]
  },
  {
   "cell_type": "code",
   "execution_count": null,
   "metadata": {},
   "outputs": [],
   "source": [
    "# Select target\n",
    "\n",
    "cell_target = 'CBC5o'\n",
    "#cell_target = 'CBC3a'"
   ]
  },
  {
   "cell_type": "markdown",
   "metadata": {},
   "source": [
    "## Loss"
   ]
  },
  {
   "cell_type": "code",
   "execution_count": null,
   "metadata": {},
   "outputs": [],
   "source": [
    "import loss_funcs_stimulus\n",
    "importlib.reload(loss_funcs_stimulus);\n",
    "\n",
    "loss = loss_funcs_stimulus.LossOptimizeStimulationMultiParams(\n",
    "    init_rec_data=optim.rec_data, cell_target=cell_target, mode='maxrelbase',\n",
    "    p=1, maxrel=cell2maxrelease\n",
    ")\n",
    "optim.set_loss(loss)"
   ]
  },
  {
   "cell_type": "markdown",
   "metadata": {},
   "source": [
    "### Update loss of prior samples"
   ]
  },
  {
   "cell_type": "code",
   "execution_count": null,
   "metadata": {},
   "outputs": [],
   "source": [
    "initial_samples = data_utils.load_var(os.path.join(delfi_optim_prior.samples_folder, 'delfi_samples_r0.pkl'))\n",
    "initial_samples['loss']['total'].size"
   ]
  },
  {
   "cell_type": "code",
   "execution_count": null,
   "metadata": {},
   "outputs": [],
   "source": [
    "def get_rec_data_i(i, samples):\n",
    "    return {cell: {'rate': np.expand_dims(samples[cell]['rate'][i,:,:], 0),\n",
    "                   'Vm':   np.expand_dims(samples[cell]['Vm'][i,:,:], 0)} for cell in loss.cells}"
   ]
  },
  {
   "cell_type": "code",
   "execution_count": null,
   "metadata": {},
   "outputs": [],
   "source": [
    "loss.calc_loss(get_rec_data_i(i=4, samples=initial_samples))"
   ]
  },
  {
   "cell_type": "code",
   "execution_count": null,
   "metadata": {},
   "outputs": [],
   "source": [
    "updated_initial_samples = initial_samples.copy()\n",
    "\n",
    "for smp_idx in range(initial_samples['loss']['total'].size):\n",
    "    updated_loss = loss.calc_loss(get_rec_data_i(i=smp_idx, samples=initial_samples))\n",
    "    \n",
    "    for key, value in updated_loss.items():\n",
    "        updated_initial_samples['loss'][key][smp_idx] = value"
   ]
  },
  {
   "cell_type": "markdown",
   "metadata": {},
   "source": [
    "## Inference"
   ]
  },
  {
   "cell_type": "code",
   "execution_count": null,
   "metadata": {},
   "outputs": [],
   "source": [
    "delfi_optim = delfi_funcs.DELFI_Optimizer(\n",
    "    optim=optim, prior=prior, n_parallel=20,\n",
    "    gen_minibatch=4, scalar_loss=True,\n",
    "    post_as_truncated_normal=False,\n",
    "    samples_folder=f'target_{cell_target}_samples',\n",
    "    backups_folder=f'target_{cell_target}_backups',\n",
    "    snpe_folder=f'target_{cell_target}_snpe',\n",
    ")"
   ]
  },
  {
   "cell_type": "code",
   "execution_count": null,
   "metadata": {},
   "outputs": [],
   "source": [
    "data_utils.save_var(updated_initial_samples,\n",
    "                    os.path.join(delfi_optim.samples_folder, 'delfi_samples_r0.pkl'))"
   ]
  },
  {
   "cell_type": "markdown",
   "metadata": {},
   "source": [
    "### Plot prior samples"
   ]
  },
  {
   "cell_type": "code",
   "execution_count": null,
   "metadata": {},
   "outputs": [],
   "source": [
    "samples, n_samples, d_sort_index = delfi_optim.load_samples(\n",
    "    files=[os.listdir(delfi_optim.samples_folder)[0]],\n",
    "    concat_traces=True, list_traces=False, return_sort_idx=True,\n",
    "    return_n_samples=True, verbose=True\n",
    ")\n",
    "\n",
    "d_min_idx = d_sort_index[0]\n",
    "print('\\nd_min = {:.5f}'.format(samples['loss']['total'][d_min_idx]))"
   ]
  },
  {
   "cell_type": "code",
   "execution_count": null,
   "metadata": {},
   "outputs": [],
   "source": [
    "utils.plot_samples(optim, samples, d_sort_index, cell_target, plot_best_n=10, plot_worst_n=10)"
   ]
  },
  {
   "cell_type": "markdown",
   "metadata": {},
   "source": [
    "### SNPE"
   ]
  },
  {
   "cell_type": "code",
   "execution_count": null,
   "metadata": {},
   "outputs": [],
   "source": [
    "if inference_mode != 'load_only':\n",
    "\n",
    "    if not(continue_optimization or only_load_data):\n",
    "        delfi_optim.init_SNPE(\n",
    "            verbose                 = False,\n",
    "            pseudo_obs_dim          = 0,\n",
    "            pseudo_obs_n            = 1,\n",
    "            kernel_bandwidth        = 0.25,\n",
    "            kernel_bandwidth_perc   = 20,\n",
    "            pseudo_obs_use_all_data = False,\n",
    "            n_components            = 2,\n",
    "        )\n",
    "\n",
    "    delfi_optim.nn_epochs    = 200\n",
    "    delfi_optim.nn_minibatch = 20\n",
    "\n",
    "    if not only_load_data:\n",
    "        delfi_optim.run_SNPE(\n",
    "            max_duration_minutes  = 60*24,\n",
    "            max_rounds            = 2,\n",
    "            n_samples_per_round   = 100,\n",
    "            continue_optimization = continue_optimization,\n",
    "            load_init_tds         = load_init_tds,\n",
    "        )"
   ]
  },
  {
   "cell_type": "markdown",
   "metadata": {},
   "source": [
    "## Inference results"
   ]
  },
  {
   "cell_type": "code",
   "execution_count": null,
   "metadata": {},
   "outputs": [],
   "source": [
    "# Load data.\n",
    "inf_snpes            = data_utils.load_var(os.path.join(delfi_optim.snpe_folder, 'inf_snpes.pkl'))\n",
    "sample_distributions = data_utils.load_var(os.path.join(delfi_optim.snpe_folder, 'sample_distributions.pkl'))\n",
    "logs                 = data_utils.load_var(os.path.join(delfi_optim.snpe_folder, 'logs.pkl'))\n",
    "pseudo_obs           = data_utils.load_var(os.path.join(delfi_optim.snpe_folder, 'pseudo_obs.pkl'))\n",
    "kernel_bandwidths    = data_utils.load_var(os.path.join(delfi_optim.snpe_folder, 'kernel_bandwidths.pkl'))\n",
    "\n",
    "# Split prior and posteriors.\n",
    "prior, posteriors = sample_distributions[0], sample_distributions[1:]"
   ]
  },
  {
   "cell_type": "code",
   "execution_count": null,
   "metadata": {},
   "outputs": [],
   "source": [
    "import plot_obs_and_bw\n",
    "importlib.reload(plot_obs_and_bw)\n",
    "\n",
    "plot_obs_and_bw.plot(pseudo_obs, kernel_bandwidths)\n",
    "plot_obs_and_bw.plot_logs(logs)"
   ]
  },
  {
   "cell_type": "markdown",
   "metadata": {},
   "source": [
    "### Load samples"
   ]
  },
  {
   "cell_type": "code",
   "execution_count": null,
   "metadata": {},
   "outputs": [],
   "source": [
    "samples, n_samples, d_sort_index = delfi_optim.load_samples(\n",
    "    concat_traces=True, list_traces=False, return_sort_idx=True,\n",
    "    return_n_samples=True, verbose=True\n",
    ")\n",
    "\n",
    "d_min_idx = d_sort_index[0]\n",
    "print('\\nd_min = {:.5f}'.format(samples['loss']['total'][d_min_idx]))"
   ]
  },
  {
   "cell_type": "code",
   "execution_count": null,
   "metadata": {},
   "outputs": [],
   "source": [
    "utils.plot_samples(optim, samples, d_sort_index, cell_target, plot_best_n=6, plot_worst_n=2)"
   ]
  },
  {
   "cell_type": "markdown",
   "metadata": {},
   "source": [
    "### Plot posterior"
   ]
  },
  {
   "cell_type": "code",
   "execution_count": null,
   "metadata": {},
   "outputs": [],
   "source": [
    "import plot_sampling_dists\n",
    "importlib.reload(plot_sampling_dists);\n",
    "\n",
    "PP = plot_sampling_dists.SamplingDistPlotter(\n",
    "    params=optim.params, prior=delfi_optim.prior, posterior_list=posteriors,\n",
    "    lbs=np.full(n_params_stim, -2), ubs=np.full(n_params_stim, 2)\n",
    ")\n",
    "\n",
    "PP.plot_sampling_dists_1D(\n",
    "    params=None, plot_peak_lines=False, figsize=(12,8), opt_x=True\n",
    ")"
   ]
  },
  {
   "cell_type": "code",
   "execution_count": null,
   "metadata": {},
   "outputs": [],
   "source": [
    "PP.plot_correlation()"
   ]
  },
  {
   "cell_type": "markdown",
   "metadata": {},
   "source": [
    "## Export data"
   ]
  },
  {
   "cell_type": "code",
   "execution_count": null,
   "metadata": {},
   "outputs": [],
   "source": [
    "post_folder = os.path.join(delfi_optim.general_folder, f'post_data_{cell_target}')\n",
    "data_utils.make_dir(post_folder)\n",
    "post_folder"
   ]
  },
  {
   "cell_type": "markdown",
   "metadata": {},
   "source": [
    "### Posterior data"
   ]
  },
  {
   "cell_type": "markdown",
   "metadata": {},
   "source": [
    "##### Samples from posterior"
   ]
  },
  {
   "cell_type": "code",
   "execution_count": null,
   "metadata": {},
   "outputs": [],
   "source": [
    "post_params = posteriors[-1].gen(100)\n",
    "post_stimuli = np.full((post_params.shape[0], optim.stim_time.size), np.nan)\n",
    "\n",
    "for i, post_params_i in enumerate(post_params):\n",
    "    if i %10 == 0: print(i, end=', ')        \n",
    "    post_stimuli[i,:] = stim_generator.create_stimulus(params=post_params_i)"
   ]
  },
  {
   "cell_type": "code",
   "execution_count": null,
   "metadata": {},
   "outputs": [],
   "source": [
    "fig, axs = plt.subplots(1,2,figsize=(12,3))\n",
    "axs[0].plot(optim.stim_time, np.mean(post_stimuli, axis=0))\n",
    "axs[0].fill_between(\n",
    "    optim.stim_time,\n",
    "    np.mean(post_stimuli, axis=0)-np.std(post_stimuli, axis=0),\n",
    "    np.mean(post_stimuli, axis=0)+np.std(post_stimuli, axis=0),\n",
    "    alpha=0.3\n",
    ")\n",
    "\n",
    "axs[1].plot(optim.stim_time, post_stimuli[:20,:].T)\n",
    "\n",
    "plt.show()"
   ]
  },
  {
   "cell_type": "code",
   "execution_count": null,
   "metadata": {},
   "outputs": [],
   "source": [
    "data_utils.save_var(post_stimuli, os.path.join(post_folder, 'post_sampled_stimuli.pkl'))"
   ]
  },
  {
   "cell_type": "markdown",
   "metadata": {},
   "source": [
    "### General data"
   ]
  },
  {
   "cell_type": "code",
   "execution_count": null,
   "metadata": {},
   "outputs": [],
   "source": [
    "rec_time = optim.rec_data[optim.cells[0].bp_type]['Time']\n",
    "rec_time -= rec_time[0]"
   ]
  },
  {
   "cell_type": "code",
   "execution_count": null,
   "metadata": {},
   "outputs": [],
   "source": [
    "data_utils.save_var(optim.stim_time, os.path.join(delfi_optim.general_folder, 'stim_time.pkl'))\n",
    "data_utils.save_var(rec_time, os.path.join(delfi_optim.general_folder, 'rec_time.pkl'))\n",
    "data_utils.save_var(predur_stim, os.path.join(delfi_optim.general_folder, 'predur_stim.pkl'))"
   ]
  },
  {
   "cell_type": "code",
   "execution_count": null,
   "metadata": {},
   "outputs": [],
   "source": [
    "print(delfi_optim.general_folder)"
   ]
  },
  {
   "cell_type": "markdown",
   "metadata": {},
   "source": [
    "### Best samples"
   ]
  },
  {
   "cell_type": "code",
   "execution_count": null,
   "metadata": {},
   "outputs": [],
   "source": [
    "n_best_export = 100\n",
    "\n",
    "best_stimuli_params = np.full((n_best_export, n_params_stim), np.nan)\n",
    "best_stimuli = np.full((n_best_export, optim.stim_time.size), np.nan)\n",
    "\n",
    "for i in range(n_best_export):\n",
    "    best_stimuli_params[i,:] = samples['params'][d_sort_index[i]]\n",
    "    best_stimuli[i,:] = stim_generator.create_stimulus(params=samples['params'][d_sort_index[i]])\n",
    "    \n",
    "data_utils.save_var(best_stimuli_params, os.path.join(post_folder, 'best_stimuli_params.pkl'))\n",
    "data_utils.save_var(best_stimuli, os.path.join(post_folder, 'best_stimuli.pkl'))"
   ]
  },
  {
   "cell_type": "markdown",
   "metadata": {},
   "source": [
    " #####  **$\\Rightarrow$ Repeat for other cell!**"
   ]
  },
  {
   "cell_type": "markdown",
   "metadata": {},
   "source": [
    "# Test why cells respond differently"
   ]
  },
  {
   "cell_type": "code",
   "execution_count": null,
   "metadata": {},
   "outputs": [],
   "source": [
    "rec_time = optim.rec_data[optim.cells[0].bp_type]['Time']\n",
    "rec_time -= rec_time[0]"
   ]
  },
  {
   "cell_type": "code",
   "execution_count": null,
   "metadata": {},
   "outputs": [],
   "source": [
    "cell2best_stimuli = {}\n",
    "for cell in cells:\n",
    "    post_folder = os.path.join('optim_data', optim.output_folder, 'post_data_' + cell.bp_type)\n",
    "    cell2best_stimuli[cell.bp_type] = data_utils.load_var(os.path.join(post_folder, 'best_stimuli_params.pkl'))"
   ]
  },
  {
   "cell_type": "code",
   "execution_count": null,
   "metadata": {},
   "outputs": [],
   "source": [
    "stim_params_list  = [cell2best_stimuli['CBC5o'][0], cell2best_stimuli['CBC5o'][1],\n",
    "                     cell2best_stimuli['CBC3a'][0], cell2best_stimuli['CBC3a'][1]]"
   ]
  },
  {
   "cell_type": "code",
   "execution_count": null,
   "metadata": {},
   "outputs": [],
   "source": [
    "for params in stim_params_list:\n",
    "    plt.plot(optim.stim_time, stim_generator.create_stimulus(params)*1e6)\n",
    "plt.ylabel(r'Current ($\\mu A$)');"
   ]
  },
  {
   "cell_type": "code",
   "execution_count": null,
   "metadata": {},
   "outputs": [],
   "source": [
    "from copy import deepcopy\n",
    "\n",
    "test_optim = deepcopy(optim)\n",
    "cells = test_optim.cells\n",
    "\n",
    "test_optim.DEBUG = True\n",
    "test_optim.raw_data_labels = []"
   ]
  },
  {
   "cell_type": "code",
   "execution_count": null,
   "metadata": {},
   "outputs": [],
   "source": [
    "rm_ch_folder = os.path.join('optim_data', test_optim.output_folder, 'removed_ion_channels')\n",
    "data_utils.make_dir(rm_ch_folder)"
   ]
  },
  {
   "cell_type": "markdown",
   "metadata": {},
   "source": [
    "## Generate reference solutions"
   ]
  },
  {
   "cell_type": "code",
   "execution_count": null,
   "metadata": {},
   "outputs": [],
   "source": [
    "# Create stimuli\n",
    "if inference_mode == 'load_only':\n",
    "    cell2stims = data_utils.load_var(os.path.join(rm_ch_folder, 'cell2stims.pkl'))\n",
    "else:\n",
    "    test_optim.set_comsol_input(stim_params_list)\n",
    "    test_optim.run_comsol(verbose=True)\n",
    "    test_optim.get_comsol_output(n_stimuli=len(stim_params_list))\n",
    "    \n",
    "    cell2stims = {cell.bp_type: deepcopy(cell.stim) for cell in test_optim.cells}\n",
    "    data_utils.save_var(cell2stims, os.path.join(rm_ch_folder, 'cell2stims.pkl'))\n",
    "    \n",
    "# Set stimuli\n",
    "for cell in test_optim.cells:\n",
    "    cell.set_stim(cell2stims[cell.bp_type])"
   ]
  },
  {
   "cell_type": "code",
   "execution_count": null,
   "metadata": {},
   "outputs": [],
   "source": [
    "if inference_mode != 'load_only':\n",
    "    test_optim.cell_params_list = deepcopy(optim.cell_params_list)\n",
    "    test_optim.rec_type = 'heatmap_vm'\n",
    "    ref_rec_data_list_vm = test_optim.run_parallel(\n",
    "        params_list=stim_params_list, verbose=True, skip_comsol=True)\n",
    "    data_utils.save_var(ref_rec_data_list_vm, os.path.join(rm_ch_folder, 'ref_rec_data_list_vm.pkl'))\n",
    "else:\n",
    "    ref_rec_data_list_vm = data_utils.load_var(os.path.join(rm_ch_folder, 'ref_rec_data_list_vm.pkl'))"
   ]
  },
  {
   "cell_type": "code",
   "execution_count": null,
   "metadata": {},
   "outputs": [],
   "source": [
    "utils.plot_Vm_of_z(rec_time, ref_rec_data_list_vm, ON_cell, OFF_cell, sharey=True, rm_offset=True)"
   ]
  },
  {
   "cell_type": "code",
   "execution_count": null,
   "metadata": {},
   "outputs": [],
   "source": [
    "if inference_mode != 'load_only':\n",
    "    test_optim.rec_type = 'synapses'\n",
    "    ref_rec_data_list = test_optim.run_parallel(\n",
    "        params_list=stim_params_list, verbose=True, skip_comsol=True)\n",
    "    data_utils.save_var(ref_rec_data_list, os.path.join(rm_ch_folder, 'ref_rec_data_list.pkl'))\n",
    "else:\n",
    "    ref_rec_data_list = data_utils.load_var(os.path.join(rm_ch_folder, 'ref_rec_data_list.pkl'))"
   ]
  },
  {
   "cell_type": "code",
   "execution_count": null,
   "metadata": {},
   "outputs": [],
   "source": [
    "utils.plot_synapses(rec_time, ref_rec_data_list, rec_type='Vext', sharey='row', rm_offset=True)"
   ]
  },
  {
   "cell_type": "code",
   "execution_count": null,
   "metadata": {},
   "outputs": [],
   "source": [
    "utils.plot_synapses(rec_time, ref_rec_data_list, rec_type='Vm', sharey='row', rm_offset=True)"
   ]
  },
  {
   "cell_type": "code",
   "execution_count": null,
   "metadata": {},
   "outputs": [],
   "source": [
    "utils.plot_synapses(rec_time, ref_rec_data_list, rec_type='Ca', sharey=True, rm_offset=True)"
   ]
  },
  {
   "cell_type": "markdown",
   "metadata": {},
   "source": [
    "## Remove ion channels"
   ]
  },
  {
   "cell_type": "code",
   "execution_count": null,
   "metadata": {},
   "outputs": [],
   "source": [
    "def set_eq_files(k, v):\n",
    "    if k == 'eqfile': return 'modified_' + v    \n",
    "    else: return v\n",
    "\n",
    "test_optim.cell_params_list =\\\n",
    "    [[{k: set_eq_files(k, v) for k, v in params.items()} for params in p_list] for p_list in cell2params_list]"
   ]
  },
  {
   "cell_type": "code",
   "execution_count": null,
   "metadata": {},
   "outputs": [],
   "source": [
    "import plot_eq_samples\n",
    "importlib.reload(plot_eq_samples);\n",
    "\n",
    "def create_and_test_eq_fils(modified_cell_params, predur=20, post_load_predur=2):\n",
    "    prepare_cells_create_eq(predur=predur)\n",
    "\n",
    "    parallel_params_list = []\n",
    "    for cell, cell_params in zip(test_optim.cells, modified_cell_params):\n",
    "        for cell_params_i in cell_params:\n",
    "            parallel_params_list.append((cell, cell_params_i, False))\n",
    "\n",
    "    with Pool(processes=20) as pool:\n",
    "        pool.starmap(run_cell_with_params, parallel_params_list);\n",
    "        \n",
    "    prepare_cells_load_eq(post_load_predur=post_load_predur)\n",
    "    \n",
    "    parallel_params_list = []\n",
    "    for cell, cell_params in zip(test_optim.cells, modified_cell_params):\n",
    "        for cell_params_i in cell_params:\n",
    "            parallel_params_list.append((cell, cell_params_i, False))\n",
    "\n",
    "    with Pool(processes=20) as pool:\n",
    "        modified_load_eq_rec_data_list = pool.starmap(run_cell_with_params, parallel_params_list);\n",
    "        \n",
    "    plot_eq_samples.plot_eq_rec_data(load_eq_rec_data_list, parallel_params_list)\n",
    "    plot_eq_samples.plot_eq_rec_data(modified_load_eq_rec_data_list, parallel_params_list)"
   ]
  },
  {
   "cell_type": "code",
   "execution_count": null,
   "metadata": {},
   "outputs": [],
   "source": [
    "def stimulate(modified_cell_params):\n",
    "    test_optim.cell_params_list = modified_cell_params\n",
    "    test_optim.rec_type = 'synapses'\n",
    "    for cell in test_optim.cells:\n",
    "        cell.set_stim(cell2stims[cell.bp_type])\n",
    "    return test_optim.run_parallel(params_list=stim_params_list, verbose=True, skip_comsol=True)"
   ]
  },
  {
   "cell_type": "markdown",
   "metadata": {},
   "source": [
    "### All channels"
   ]
  },
  {
   "cell_type": "code",
   "execution_count": null,
   "metadata": {},
   "outputs": [],
   "source": [
    "if inference_mode != 'load_only':\n",
    "    modified_cell_params = deepcopy(cell2params_list)\n",
    "    create_and_test_eq_fils(modified_cell_params, predur=20, post_load_predur=0.5)\n",
    "    modified_rec_data_list = stimulate(modified_cell_params)\n",
    "\n",
    "    data_utils.save_var((modified_cell_params, modified_rec_data_list),\n",
    "                        os.path.join(rm_ch_folder, 'all_params.pkl'))\n",
    "    \n",
    "else:\n",
    "    modified_cell_params, modified_rec_data_list =\\\n",
    "        data_utils.load_var(os.path.join(rm_ch_folder, 'all_params.pkl'))"
   ]
  },
  {
   "cell_type": "code",
   "execution_count": null,
   "metadata": {},
   "outputs": [],
   "source": [
    "utils.plot_synapses(rec_time, ref_rec_data_list, modified_rec_data_list, rec_type='Vm', sharey='row', rm_offset=True)\n",
    "utils.plot_synapses(rec_time, ref_rec_data_list, modified_rec_data_list, rec_type='rate')\n",
    "utils.plot_synapses(rec_time, ref_rec_data_list, modified_rec_data_list, rec_type='Ca', sharey='row', rm_offset=True)"
   ]
  },
  {
   "cell_type": "markdown",
   "metadata": {},
   "source": [
    "### L-Type from OFF-AT"
   ]
  },
  {
   "cell_type": "code",
   "execution_count": null,
   "metadata": {},
   "outputs": [],
   "source": [
    "def get_removed_L_at_OFF_list():\n",
    "    \n",
    "    def modify_params(params_dict):\n",
    "        \n",
    "        params_dict = params_dict.copy()\n",
    "        \n",
    "        if 'cd_T_at' in params_dict.keys():\n",
    "            params_dict['cd_L_at'] = 0.0\n",
    "            \n",
    "        return params_dict\n",
    "    \n",
    "    return [[modify_params(params) for params in p_list] for p_list in cell2params_list]"
   ]
  },
  {
   "cell_type": "code",
   "execution_count": null,
   "metadata": {},
   "outputs": [],
   "source": [
    "if inference_mode != 'load_only':\n",
    "    modified_cell_params = get_removed_L_at_OFF_list()\n",
    "    create_and_test_eq_fils(modified_cell_params, predur=20, post_load_predur=0.5)\n",
    "    modified_rec_data_list = stimulate(modified_cell_params)\n",
    "\n",
    "    data_utils.save_var((modified_cell_params, modified_rec_data_list),\n",
    "                        os.path.join(rm_ch_folder, 'rm_L_at.pkl'))\n",
    "    \n",
    "else:\n",
    "    modified_cell_params, modified_rec_data_list =\\\n",
    "        data_utils.load_var(os.path.join(rm_ch_folder, 'rm_L_at.pkl'))"
   ]
  },
  {
   "cell_type": "code",
   "execution_count": null,
   "metadata": {},
   "outputs": [],
   "source": [
    "utils.plot_synapses(rec_time, ref_rec_data_list, modified_rec_data_list, rec_type='Vm', sharey='row', rm_offset=True)\n",
    "utils.plot_synapses(rec_time, ref_rec_data_list, modified_rec_data_list, rec_type='rate')\n",
    "utils.plot_synapses(rec_time, ref_rec_data_list, modified_rec_data_list, rec_type='Ca', sharey='row', rm_offset=True)"
   ]
  },
  {
   "cell_type": "markdown",
   "metadata": {},
   "source": [
    "### Ca from AT"
   ]
  },
  {
   "cell_type": "code",
   "execution_count": null,
   "metadata": {},
   "outputs": [],
   "source": [
    "def get_removed_Ca_at_list():\n",
    "    \n",
    "    def modify_param(k, v):\n",
    "        if 'cd_T_at' in k:\n",
    "            return 0.0\n",
    "        if 'cd_L_at' in k:\n",
    "            return 0.0\n",
    "        if 'cd_P_at' in k:\n",
    "            return 0.0\n",
    "        return v\n",
    "    \n",
    "    return [[{k: modify_param(k, v) for k, v in params.items()} for params in p_list] for p_list in cell2params_list]"
   ]
  },
  {
   "cell_type": "code",
   "execution_count": null,
   "metadata": {},
   "outputs": [],
   "source": [
    "if inference_mode != 'load_only':\n",
    "    modified_cell_params = get_removed_Ca_at_list()\n",
    "    create_and_test_eq_fils(modified_cell_params, predur=20, post_load_predur=0.5)\n",
    "    modified_rec_data_list = stimulate(modified_cell_params)\n",
    "    data_utils.save_var((modified_cell_params, modified_rec_data_list),\n",
    "                        os.path.join(rm_ch_folder, 'rm_Ca_at.pkl'))\n",
    "    \n",
    "else:\n",
    "    modified_cell_params, modified_rec_data_list =\\\n",
    "        data_utils.load_var(os.path.join(rm_ch_folder, 'rm_Ca_at.pkl'))"
   ]
  },
  {
   "cell_type": "code",
   "execution_count": null,
   "metadata": {},
   "outputs": [],
   "source": [
    "utils.plot_synapses(rec_time, ref_rec_data_list, modified_rec_data_list, rec_type='Vm', sharey='row', rm_offset=True)"
   ]
  },
  {
   "cell_type": "markdown",
   "metadata": {},
   "source": [
    "### T-Type from AT"
   ]
  },
  {
   "cell_type": "code",
   "execution_count": null,
   "metadata": {},
   "outputs": [],
   "source": [
    "def get_removed_T_at_list():\n",
    "    \n",
    "    def modify_param(k, v):\n",
    "        if 'cd_T_at' in k:\n",
    "            return 0.0\n",
    "        return v\n",
    "    \n",
    "    return [[{k: modify_param(k, v) for k, v in params.items()} for params in p_list] for p_list in cell2params_list]"
   ]
  },
  {
   "cell_type": "code",
   "execution_count": null,
   "metadata": {},
   "outputs": [],
   "source": [
    "if inference_mode != 'load_only':\n",
    "    modified_cell_params = get_removed_T_at_list()\n",
    "    create_and_test_eq_fils(modified_cell_params, predur=20, post_load_predur=0.5)\n",
    "    modified_rec_data_list = stimulate(modified_cell_params)\n",
    "\n",
    "    data_utils.save_var((modified_cell_params, modified_rec_data_list),\n",
    "                        os.path.join(rm_ch_folder, 'rm_T_at.pkl'))\n",
    "    \n",
    "else:\n",
    "    modified_cell_params, modified_rec_data_list =\\\n",
    "        data_utils.load_var(os.path.join(rm_ch_folder, 'rm_T_at.pkl'))"
   ]
  },
  {
   "cell_type": "code",
   "execution_count": null,
   "metadata": {},
   "outputs": [],
   "source": [
    "utils.plot_synapses(rec_time, ref_rec_data_list, modified_rec_data_list, rec_type='Vm', sharey='row', rm_offset=True)\n",
    "utils.plot_synapses(rec_time, ref_rec_data_list, modified_rec_data_list, rec_type='rate')\n",
    "utils.plot_synapses(rec_time, ref_rec_data_list, modified_rec_data_list, rec_type='Ca', sharey='row', rm_offset=True)"
   ]
  },
  {
   "cell_type": "markdown",
   "metadata": {},
   "source": [
    "### Channels not important for light response"
   ]
  },
  {
   "cell_type": "code",
   "execution_count": null,
   "metadata": {},
   "outputs": [],
   "source": [
    "def get_removed_CaS_list():\n",
    "    \n",
    "    def modify_param(k, v):\n",
    "        if k in ['cd_L_s', 'cd_T_s', 'cd_P_s']:\n",
    "            return 0.0\n",
    "        return v\n",
    "    \n",
    "    return [[{k: modify_param(k, v) for k, v in params.items()} for params in p_list] for p_list in cell2params_list]"
   ]
  },
  {
   "cell_type": "code",
   "execution_count": null,
   "metadata": {},
   "outputs": [],
   "source": [
    "if inference_mode != 'load_only':\n",
    "    modified_cell_params = get_removed_CaS_list()\n",
    "    create_and_test_eq_fils(modified_cell_params, predur=20, post_load_predur=0.5)\n",
    "    modified_rec_data_list = stimulate(modified_cell_params)\n",
    "\n",
    "    data_utils.save_var((modified_cell_params, modified_rec_data_list),\n",
    "                        os.path.join(rm_ch_folder, 'rm_CaS.pkl'))\n",
    "    \n",
    "else:\n",
    "    modified_cell_params, modified_rec_data_list =\\\n",
    "        data_utils.load_var(os.path.join(rm_ch_folder, 'rm_CaS.pkl'))"
   ]
  },
  {
   "cell_type": "code",
   "execution_count": null,
   "metadata": {},
   "outputs": [],
   "source": [
    "utils.plot_synapses(rec_time, ref_rec_data_list, modified_rec_data_list, rec_type='Vm', sharey='row', rm_offset=True)\n",
    "utils.plot_synapses(rec_time, ref_rec_data_list, modified_rec_data_list, rec_type='rate')\n",
    "utils.plot_synapses(rec_time, ref_rec_data_list, modified_rec_data_list, rec_type='Ca', sharey='row', rm_offset=True)"
   ]
  },
  {
   "cell_type": "code",
   "execution_count": null,
   "metadata": {},
   "outputs": [],
   "source": [
    "def get_removed_CaS_and_N_list():\n",
    "    \n",
    "    def modify_param(k, v):\n",
    "        if k in ['cd_L_s', 'cd_T_s', 'cd_P_s', 'cd_N']:\n",
    "            return 0.0\n",
    "        return v\n",
    "    \n",
    "    return [[{k: modify_param(k, v) for k, v in params.items()} for params in p_list] for p_list in cell2params_list]"
   ]
  },
  {
   "cell_type": "code",
   "execution_count": null,
   "metadata": {},
   "outputs": [],
   "source": [
    "if inference_mode != 'load_only':\n",
    "    modified_cell_params = get_removed_CaS_and_N_list()\n",
    "    create_and_test_eq_fils(modified_cell_params, predur=20, post_load_predur=0.5)\n",
    "    modified_rec_data_list = stimulate(modified_cell_params)\n",
    "\n",
    "    data_utils.save_var((modified_cell_params, modified_rec_data_list),\n",
    "                        os.path.join(rm_ch_folder, 'rm_CaS_and_N.pkl'))\n",
    "    \n",
    "else:\n",
    "    modified_cell_params, modified_rec_data_list =\\\n",
    "        data_utils.load_var(os.path.join(rm_ch_folder, 'rm_CaS_and_N.pkl'))"
   ]
  },
  {
   "cell_type": "code",
   "execution_count": null,
   "metadata": {},
   "outputs": [],
   "source": [
    "utils.plot_synapses(rec_time, ref_rec_data_list, modified_rec_data_list, rec_type='Vm', sharey='row', rm_offset=True)\n",
    "utils.plot_synapses(rec_time, ref_rec_data_list, modified_rec_data_list, rec_type='rate')\n",
    "utils.plot_synapses(rec_time, ref_rec_data_list, modified_rec_data_list, rec_type='Ca', sharey='row', rm_offset=True)"
   ]
  },
  {
   "cell_type": "markdown",
   "metadata": {},
   "source": [
    "### Passive"
   ]
  },
  {
   "cell_type": "code",
   "execution_count": null,
   "metadata": {},
   "outputs": [],
   "source": [
    "def get_passive_list():\n",
    "    \n",
    "    def modify_param(k, v):\n",
    "        if k == 'eqfile':\n",
    "            return 'passive' + v    \n",
    "        if ('cd_' in k) and (k not in ['cd_L_at', 'cd_T_at', 'cd_P_at']):\n",
    "            return 0.0\n",
    "        return v\n",
    "    \n",
    "    return [[{k: modify_param(k, v) for k, v in params.items()} for params in p_list] for p_list in cell2params_list]"
   ]
  },
  {
   "cell_type": "code",
   "execution_count": null,
   "metadata": {},
   "outputs": [],
   "source": [
    "if inference_mode != 'load_only':\n",
    "    modified_cell_params = get_passive_list()\n",
    "    create_and_test_eq_fils(modified_cell_params, predur=30, post_load_predur=1)\n",
    "    modified_rec_data_list = stimulate(modified_cell_params)\n",
    "\n",
    "    data_utils.save_var((modified_cell_params, modified_rec_data_list),\n",
    "                        os.path.join(rm_ch_folder, 'passive.pkl'))\n",
    "    \n",
    "else:\n",
    "    modified_cell_params, modified_rec_data_list =\\\n",
    "        data_utils.load_var(os.path.join(rm_ch_folder, 'passive.pkl'))"
   ]
  },
  {
   "cell_type": "code",
   "execution_count": null,
   "metadata": {},
   "outputs": [],
   "source": [
    "utils.plot_synapses(rec_time, ref_rec_data_list, modified_rec_data_list, rec_type='Vm', sharey='row', rm_offset=True)\n",
    "utils.plot_synapses(rec_time, ref_rec_data_list, modified_rec_data_list, rec_type='rate')\n",
    "utils.plot_synapses(rec_time, ref_rec_data_list, modified_rec_data_list, rec_type='Ca', sharey='row', rm_offset=True)"
   ]
  },
  {
   "cell_type": "code",
   "execution_count": null,
   "metadata": {},
   "outputs": [],
   "source": []
  },
  {
   "cell_type": "code",
   "execution_count": null,
   "metadata": {},
   "outputs": [],
   "source": []
  }
 ],
 "metadata": {
  "hide_input": false,
  "kernelspec": {
   "display_name": "Python 3",
   "language": "python",
   "name": "python3"
  },
  "language_info": {
   "codemirror_mode": {
    "name": "ipython",
    "version": 3
   },
   "file_extension": ".py",
   "mimetype": "text/x-python",
   "name": "python",
   "nbconvert_exporter": "python",
   "pygments_lexer": "ipython3",
   "version": "3.7.5"
  },
  "toc": {
   "base_numbering": 1,
   "nav_menu": {},
   "number_sections": true,
   "sideBar": true,
   "skip_h1_title": false,
   "title_cell": "Table of Contents",
   "title_sidebar": "Contents",
   "toc_cell": false,
   "toc_position": {
    "height": "calc(100% - 180px)",
    "left": "10px",
    "top": "150px",
    "width": "384px"
   },
   "toc_section_display": true,
   "toc_window_display": true
  },
  "varInspector": {
   "cols": {
    "lenName": 16,
    "lenType": 16,
    "lenVar": 40
   },
   "kernels_config": {
    "python": {
     "delete_cmd_postfix": "",
     "delete_cmd_prefix": "del ",
     "library": "var_list.py",
     "varRefreshCmd": "print(var_dic_list())"
    },
    "r": {
     "delete_cmd_postfix": ") ",
     "delete_cmd_prefix": "rm(",
     "library": "var_list.r",
     "varRefreshCmd": "cat(var_dic_list()) "
    }
   },
   "types_to_exclude": [
    "module",
    "function",
    "builtin_function_or_method",
    "instance",
    "_Feature"
   ],
   "window_display": false
  }
 },
 "nbformat": 4,
 "nbformat_minor": 2
}
