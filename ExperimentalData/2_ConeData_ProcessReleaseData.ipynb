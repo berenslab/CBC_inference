{
 "cells": [
  {
   "cell_type": "markdown",
   "metadata": {},
   "source": [
    "# Read cone data and create Target"
   ]
  },
  {
   "cell_type": "code",
   "execution_count": null,
   "metadata": {},
   "outputs": [],
   "source": [
    "import numpy as np\n",
    "from matplotlib import pyplot as plt\n",
    "import pandas as pd\n",
    "import h5py"
   ]
  },
  {
   "cell_type": "code",
   "execution_count": null,
   "metadata": {},
   "outputs": [],
   "source": [
    "import os\n",
    "import sys"
   ]
  },
  {
   "cell_type": "code",
   "execution_count": null,
   "metadata": {},
   "outputs": [],
   "source": [
    "pythoncodepath = os.path.abspath(os.path.join('..', '_pythoncode'))\n",
    "sys.path = [pythoncodepath] + sys.path\n",
    "import importhelper\n",
    "importhelper.addfolders2path(pythoncodepath)"
   ]
  },
  {
   "cell_type": "code",
   "execution_count": null,
   "metadata": {},
   "outputs": [],
   "source": [
    "import math_utils\n",
    "import data_utils"
   ]
  },
  {
   "cell_type": "markdown",
   "metadata": {},
   "source": [
    "# Get Cone Release"
   ]
  },
  {
   "cell_type": "code",
   "execution_count": null,
   "metadata": {},
   "outputs": [],
   "source": [
    "# Load Ground Truth data.\n",
    "RawData_file = os.path.join('RawData', 'ConeData_ReleaseData.h5')\n",
    "with h5py.File(RawData_file, 'r') as RawData:    \n",
    "\n",
    "    dict_data = {}\n",
    "    for k, v in RawData.items():\n",
    "        print(k)\n",
    "        dict_data[k] = np.array(v)\n",
    "        print(dict_data[k].shape)"
   ]
  },
  {
   "cell_type": "code",
   "execution_count": null,
   "metadata": {},
   "outputs": [],
   "source": [
    "# Data to dicts.\n",
    "cone0 = {}\n",
    "cone0['mean']   = dict_data['Averages0'][:,0]\n",
    "cone0['traces'] = dict_data['Snippets0'][:,:,0]\n",
    "cone0['time']   = dict_data['SnippetsTimes0'][:,:,0]\n",
    "\n",
    "print(cone0['mean'].shape, cone0['traces'].shape, cone0['time'].shape)\n",
    "\n",
    "cone1 = {}\n",
    "cone1['mean']   = dict_data['Averages0'][:,1]\n",
    "cone1['traces'] = dict_data['Snippets0'][:,:,1]\n",
    "cone1['time']   = dict_data['SnippetsTimes0'][:,:,1]\n",
    "\n",
    "\n",
    "print(cone1['mean'].shape, cone1['traces'].shape, cone1['time'].shape)"
   ]
  },
  {
   "cell_type": "code",
   "execution_count": null,
   "metadata": {},
   "outputs": [],
   "source": [
    "def plot_cone_date(cone_data):\n",
    "    fig, axs = plt.subplots(2,1,figsize=(15,8))\n",
    "    axs[0].plot(cone_data['time']-cone_data['time'][0,:], cone_data['traces'], c='k', lw=0.3)\n",
    "    axs[0].plot(\n",
    "        cone_data['time'][:,0]-cone_data['time'][0,0],\n",
    "        np.mean(cone_data['traces'], axis=1), c='b', lw=1\n",
    "    )\n",
    "    axs[0].fill_between(\n",
    "        cone_data['time'][:,0]-cone_data['time'][0,0],\n",
    "        np.mean(cone_data['traces'], axis=1) - np.std(cone_data['traces'], axis=1),\n",
    "        np.mean(cone_data['traces'], axis=1) + np.std(cone_data['traces'], axis=1),\n",
    "        color='r', alpha=0.5\n",
    "    )\n",
    "    axs[1].plot(\n",
    "        cone_data['time'][:,0]-cone_data['time'][0,0],\n",
    "        np.mean(cone_data['traces'], axis=1), c='b', lw=1\n",
    "    )\n",
    "    axs[1].plot(\n",
    "        cone_data['time'][:,0]-cone_data['time'][0,0], cone_data['mean'], 'r--', lw=1\n",
    "    )"
   ]
  },
  {
   "cell_type": "code",
   "execution_count": null,
   "metadata": {},
   "outputs": [],
   "source": [
    "plot_cone_date(cone0)"
   ]
  },
  {
   "cell_type": "code",
   "execution_count": null,
   "metadata": {},
   "outputs": [],
   "source": [
    "plot_cone_date(cone1)"
   ]
  },
  {
   "cell_type": "code",
   "execution_count": null,
   "metadata": {},
   "outputs": [],
   "source": [
    "cones = [cone0, cone1]"
   ]
  },
  {
   "cell_type": "code",
   "execution_count": null,
   "metadata": {},
   "outputs": [],
   "source": [
    "# Get minium and maximum range according to time points.\n",
    "t_rng = [np.max(cone['time'][:,idx]) - np.min(cone['time'][:,idx]) for cone in cones for idx in range(cone['time'].shape[1])]\n",
    "print(np.min(t_rng), np.max(t_rng), np.max(t_rng)-np.min(t_rng))"
   ]
  },
  {
   "cell_type": "code",
   "execution_count": null,
   "metadata": {},
   "outputs": [],
   "source": [
    "# Set release time.\n",
    "t_release = np.linspace(0.016, 33.032, cone0['mean'].shape[0])\n",
    "t_release"
   ]
  },
  {
   "cell_type": "markdown",
   "metadata": {},
   "source": [
    "# Load stimulus"
   ]
  },
  {
   "cell_type": "code",
   "execution_count": null,
   "metadata": {},
   "outputs": [],
   "source": [
    "# Save.\n",
    "stim_file = os.path.join('PreprocessedData', 'ConeData_stimulus_time_and_amp_corrected.csv')\n",
    "cone_data_amp_and_time_corrected = pd.read_csv(stim_file)"
   ]
  },
  {
   "cell_type": "code",
   "execution_count": null,
   "metadata": {},
   "outputs": [],
   "source": [
    "def plot_stim_vs_response(cone_data):\n",
    "    xlims = [(4.6, 5.8), (1.5, 2.5), (7.5, 8.5), (29.5, 30.5)]\n",
    "    fig, axs = plt.subplots(len(xlims),1,figsize=(15,len(xlims)*4))\n",
    "    for ax, xlim in zip(axs, xlims):\n",
    "        ax.set_title('Cone 0')\n",
    "        for idx in range(cone_data['time'].shape[1]):\n",
    "            ax.plot(t_release, cone_data['traces'][:,idx], alpha=0.3, c='k')\n",
    "        ax.plot(t_release, np.mean(cone_data['traces'][:,:], axis=1), alpha=1, c='r')\n",
    "        ax.set_xlim(xlim)\n",
    "        ax.set_ylim(-2.6, 1.3)\n",
    "        \n",
    "        ax2 = ax.twinx()\n",
    "        ax2.plot(cone_data_amp_and_time_corrected['Time'], cone_data_amp_and_time_corrected['Stim'], c='b')\n",
    "        ax2.set_ylim(-0.1,1.1)"
   ]
  },
  {
   "cell_type": "code",
   "execution_count": null,
   "metadata": {},
   "outputs": [],
   "source": [
    "plot_stim_vs_response(cone0)"
   ]
  },
  {
   "cell_type": "code",
   "execution_count": null,
   "metadata": {},
   "outputs": [],
   "source": [
    "plot_stim_vs_response(cone1)"
   ]
  },
  {
   "cell_type": "markdown",
   "metadata": {},
   "source": [
    "## Align cones"
   ]
  },
  {
   "cell_type": "code",
   "execution_count": null,
   "metadata": {},
   "outputs": [],
   "source": [
    "from scipy.optimize import minimize\n",
    "\n",
    "norm_mean0 = math_utils.normalize(cone0['mean'])\n",
    "norm_mean1 = math_utils.normalize(cone1['mean'])"
   ]
  },
  {
   "cell_type": "code",
   "execution_count": null,
   "metadata": {},
   "outputs": [],
   "source": [
    "# Optimization helper functions.\n",
    "def trace_loss(trace, target):\n",
    "    '''Mean Squared Error between a trace and a target trace.\n",
    "    '''\n",
    "    return np.mean((trace - target)**2)\n",
    "\n",
    "def lin_trans(params, trace):\n",
    "    '''Linear transformation of a trace.\n",
    "    '''\n",
    "    assert params.size == 2\n",
    "    return params[0]+params[1]*trace\n",
    "\n",
    "def lin_trans_loss(params, trace, target):\n",
    "    '''Performs linear transformation and computes the loss.\n",
    "    '''\n",
    "    return trace_loss(lin_trans(params, trace), target)\n",
    "  \n",
    "def best_lin_trans(trace, target):\n",
    "    '''Find best linear transformation to get smallest loss. \n",
    "    '''\n",
    "\n",
    "    # Optimize parameters.\n",
    "    n_iter = 100\n",
    "    losses = np.ones(n_iter)*np.inf\n",
    "    best_params = np.zeros((n_iter,2))\n",
    "    \n",
    "    for i in range(n_iter):\n",
    "        x_opt = minimize(lin_trans_loss, x0=[np.random.normal(0,1), np.random.normal(1,1)],\\\n",
    "                         args=(trace, target), method='SLSQP', bounds=((-1,1), (-1,1)))\n",
    "        losses[i] = x_opt.fun\n",
    "        best_params[i,:] = x_opt.x\n",
    "    \n",
    "    # Extract best result. Normalize loss.\n",
    "    best_it = np.nanargmin(losses)\n",
    "    best_loss = losses[best_it]\n",
    "      \n",
    "    best_trace = lin_trans(best_params[best_it, :], trace)\n",
    "    \n",
    "    print(best_params[best_it, :])\n",
    "    \n",
    "    return best_trace, best_loss"
   ]
  },
  {
   "cell_type": "code",
   "execution_count": null,
   "metadata": {},
   "outputs": [],
   "source": [
    "# Optimize.\n",
    "np.random.seed(45687556)\n",
    "\n",
    "norm_mean0_shifted, best_loss = best_lin_trans(norm_mean0, target=norm_mean1)\n",
    "print(best_loss)\n",
    "\n",
    "norm_mean = 0.5*(norm_mean1 + norm_mean0_shifted)"
   ]
  },
  {
   "cell_type": "code",
   "execution_count": null,
   "metadata": {},
   "outputs": [],
   "source": [
    "# Plot.\n",
    "plt.figure(figsize=(15,2))\n",
    "plt.plot(t_release, norm_mean1, label='norm cone 1')\n",
    "plt.plot(t_release, norm_mean0_shifted, label='norm cone 0 aligned')\n",
    "plt.plot(t_release, norm_mean, label='norm mean')\n",
    "plt.legend()\n",
    "plt.show()"
   ]
  },
  {
   "cell_type": "code",
   "execution_count": null,
   "metadata": {},
   "outputs": [],
   "source": [
    "# Create DataFrame.\n",
    "cone_data_release = pd.DataFrame({'Time': t_release, 'mean': math_utils.normalize(norm_mean)})"
   ]
  },
  {
   "cell_type": "code",
   "execution_count": null,
   "metadata": {},
   "outputs": [],
   "source": [
    "# Plot raw trace.\n",
    "plt.figure(figsize=(15,6))\n",
    "plt.plot(cone_data_release['Time'], cone_data_release['mean'])\n",
    "plt.show()"
   ]
  },
  {
   "cell_type": "code",
   "execution_count": null,
   "metadata": {},
   "outputs": [],
   "source": [
    "# Save.\n",
    "release_file = os.path.join('PreprocessedData', 'ConeData_ReleaseMeanData.csv')\n",
    "cone_data_release.to_csv(release_file, index=False)"
   ]
  },
  {
   "cell_type": "markdown",
   "metadata": {},
   "source": [
    "# Export data"
   ]
  },
  {
   "cell_type": "code",
   "execution_count": null,
   "metadata": {},
   "outputs": [],
   "source": [
    "cone_df_export = pd.DataFrame(\n",
    "    np.vstack([cone_data_release['Time'], cone0['traces'].T, cone1['traces'].T]).T,\n",
    "    columns=['Time'] + ['Cone1_rec'+str(i+1) for i in range(5)] + ['Cone2_rec'+str(i+1) for i in range(5)]\n",
    ")\n",
    "\n",
    "cone_df_export['Cone1_mean'] = cone0['mean']\n",
    "cone_df_export['Cone2_mean'] = cone1['mean']\n",
    "\n",
    "cone_df_export['Cone1_mean_aligned'] = norm_mean0_shifted\n",
    "cone_df_export['Cone2_mean_aligned'] = norm_mean1\n",
    "cone_df_export['Cones_mean_of_means'] = norm_mean\n",
    "\n",
    "assert np.allclose(cone_df_export.loc[:,['Cone1_rec'+str(i+1) for i in range(5)]].mean(axis=1),\n",
    "                   cone_df_export.loc[:,'Cone1_mean'], atol=1e-4, rtol=1e-4)"
   ]
  },
  {
   "cell_type": "code",
   "execution_count": null,
   "metadata": {},
   "outputs": [],
   "source": [
    "cone_df_export.head()"
   ]
  },
  {
   "cell_type": "code",
   "execution_count": null,
   "metadata": {},
   "outputs": [],
   "source": [
    "fig, axs = plt.subplots(1,2,figsize=(12,3))\n",
    "axs[0].plot(cone_df_export['Cone1_mean'], c='r', alpha=0.3)\n",
    "axs[1].plot(cone_df_export['Cone2_mean'], c='b', alpha=0.3)\n",
    "\n",
    "axs[0].twinx().plot(cone_df_export['Cone1_mean_aligned'], c='r', ls='--')\n",
    "axs[1].twinx().plot(cone_df_export['Cone2_mean_aligned'], c='b', ls='--')"
   ]
  },
  {
   "cell_type": "code",
   "execution_count": null,
   "metadata": {},
   "outputs": [],
   "source": [
    "plt.plot(0.5*(cone_df_export['Cone1_mean_aligned'] + cone_df_export['Cone2_mean_aligned']))\n",
    "plt.plot(cone_df_export['Cones_mean_of_means'], ls=':')"
   ]
  },
  {
   "cell_type": "code",
   "execution_count": null,
   "metadata": {},
   "outputs": [],
   "source": [
    "data_utils.save_var(cone_df_export, 'PreprocessedData/iGluSnFR_traces_Cones.pkl')"
   ]
  },
  {
   "cell_type": "code",
   "execution_count": null,
   "metadata": {},
   "outputs": [],
   "source": []
  }
 ],
 "metadata": {
  "kernelspec": {
   "display_name": "Python 3",
   "language": "python",
   "name": "python3"
  },
  "language_info": {
   "codemirror_mode": {
    "name": "ipython",
    "version": 3
   },
   "file_extension": ".py",
   "mimetype": "text/x-python",
   "name": "python",
   "nbconvert_exporter": "python",
   "pygments_lexer": "ipython3",
   "version": "3.7.5"
  },
  "toc": {
   "base_numbering": 1,
   "nav_menu": {},
   "number_sections": true,
   "sideBar": true,
   "skip_h1_title": false,
   "title_cell": "Table of Contents",
   "title_sidebar": "Contents",
   "toc_cell": false,
   "toc_position": {},
   "toc_section_display": true,
   "toc_window_display": true
  },
  "varInspector": {
   "cols": {
    "lenName": 16,
    "lenType": 16,
    "lenVar": 40
   },
   "kernels_config": {
    "python": {
     "delete_cmd_postfix": "",
     "delete_cmd_prefix": "del ",
     "library": "var_list.py",
     "varRefreshCmd": "print(var_dic_list())"
    },
    "r": {
     "delete_cmd_postfix": ") ",
     "delete_cmd_prefix": "rm(",
     "library": "var_list.r",
     "varRefreshCmd": "cat(var_dic_list()) "
    }
   },
   "types_to_exclude": [
    "module",
    "function",
    "builtin_function_or_method",
    "instance",
    "_Feature"
   ],
   "window_display": false
  }
 },
 "nbformat": 4,
 "nbformat_minor": 2
}
